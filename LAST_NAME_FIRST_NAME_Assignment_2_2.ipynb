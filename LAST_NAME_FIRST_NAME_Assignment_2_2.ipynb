{
  "nbformat": 4,
  "nbformat_minor": 0,
  "metadata": {
    "colab": {
      "name": "LAST_NAME-FIRST_NAME-Assignment-2-2.ipynb",
      "provenance": [],
      "collapsed_sections": []
    },
    "kernelspec": {
      "name": "python3",
      "display_name": "Python 3"
    }
  },
  "cells": [
    {
      "cell_type": "code",
      "metadata": {
        "id": "4Pgcm7as3nKq",
        "colab_type": "code",
        "colab": {}
      },
      "source": [
        "# Load libraries\n",
        "import numpy as np\n",
        "from keras.datasets import reuters\n",
        "from keras.utils.np_utils import to_categorical\n",
        "from keras.preprocessing.text import Tokenizer\n",
        "from keras import models\n",
        "from keras import layers\n",
        "import tensorflow as tf\n",
        "from tensorflow import keras\n",
        "# Set random seed\n",
        "np.random.seed(44)"
      ],
      "execution_count": 0,
      "outputs": []
    },
    {
      "cell_type": "code",
      "metadata": {
        "id": "xt3LVAuCUVOf",
        "colab_type": "code",
        "colab": {
          "base_uri": "https://localhost:8080/",
          "height": 51
        },
        "outputId": "9c1281a4-dd46-4543-bf5d-98909ed88dbd"
      },
      "source": [
        "# load data\n",
        "(train_data, train_labels), (test_data, test_labels) = reuters.load_data(num_words=10000)\n",
        "# Convert feature data to a one-hot encoded feature matrix\n",
        "tokenizer = Tokenizer(num_words=10000)\n",
        "train_features = tokenizer.sequences_to_matrix(train_data, mode='binary')\n",
        "test_features = tokenizer.sequences_to_matrix(test_data, mode='binary')\n",
        "\n",
        "# One-hot encode target vector to create a target matrix\n",
        "train_target = to_categorical(train_labels)\n",
        "test_target = to_categorical(test_labels)"
      ],
      "execution_count": 3,
      "outputs": [
        {
          "output_type": "stream",
          "text": [
            "Downloading data from https://s3.amazonaws.com/text-datasets/reuters.npz\n",
            "2113536/2110848 [==============================] - 0s 0us/step\n"
          ],
          "name": "stdout"
        }
      ]
    },
    {
      "cell_type": "markdown",
      "metadata": {
        "id": "1VjE1EcUVZCO",
        "colab_type": "text"
      },
      "source": [
        "# Consider different number of hidden layers"
      ]
    },
    {
      "cell_type": "code",
      "metadata": {
        "id": "GcS6wPhTUc00",
        "colab_type": "code",
        "colab": {}
      },
      "source": [
        "# 1 hidden\n",
        "net1 = models.Sequential()\n",
        "\n",
        "# Add fully connected layer with a ReLU activation function\n",
        "net1.add(layers.Dense(units=100, activation='relu', input_shape=(10000,)))\n",
        "\n",
        "# Add fully connected layer with a softmax activation function\n",
        "net1.add(layers.Dense(units=46, activation='softmax'))"
      ],
      "execution_count": 0,
      "outputs": []
    },
    {
      "cell_type": "code",
      "metadata": {
        "id": "PtFLOKJgUczF",
        "colab_type": "code",
        "colab": {}
      },
      "source": [
        "# 2 hidden\n",
        "net2 = models.Sequential()\n",
        "\n",
        "# Add 2 fully connected layers with a ReLU activation function\n",
        "net2.add(layers.Dense(units=100, activation='relu', input_shape=(10000,)))\n",
        "net2.add(layers.Dense(units=100, activation='relu', input_shape=(10000,)))\n",
        "\n",
        "# Add fully connected layer with a softmax activation function\n",
        "net2.add(layers.Dense(units=46, activation='softmax'))"
      ],
      "execution_count": 0,
      "outputs": []
    },
    {
      "cell_type": "code",
      "metadata": {
        "id": "1XvvTiFoUcvc",
        "colab_type": "code",
        "colab": {}
      },
      "source": [
        "# 3 hidden\n",
        "net3 = models.Sequential()\n",
        "\n",
        "# Add 3 fully connected layers with a ReLU activation function\n",
        "net3.add(layers.Dense(units=100, activation='relu', input_shape=(10000,)))\n",
        "net3.add(layers.Dense(units=100, activation='relu', input_shape=(10000,)))\n",
        "net3.add(layers.Dense(units=100, activation='relu', input_shape=(10000,)))\n",
        "\n",
        "# Add fully connected layer with a softmax activation function\n",
        "net3.add(layers.Dense(units=46, activation='softmax'))"
      ],
      "execution_count": 0,
      "outputs": []
    },
    {
      "cell_type": "code",
      "metadata": {
        "id": "slvxHf0EUcuD",
        "colab_type": "code",
        "colab": {}
      },
      "source": [
        "# 4 hidden\n",
        "net4 = models.Sequential()\n",
        "\n",
        "# Add 4 fully connected layers with a ReLU activation function\n",
        "net4.add(layers.Dense(units=100, activation='relu', input_shape=(10000,)))\n",
        "net4.add(layers.Dense(units=100, activation='relu', input_shape=(10000,)))\n",
        "net4.add(layers.Dense(units=100, activation='relu', input_shape=(10000,)))\n",
        "net4.add(layers.Dense(units=100, activation='relu', input_shape=(10000,)))\n",
        "\n",
        "# Add fully connected layer with a softmax activation function\n",
        "net4.add(layers.Dense(units=46, activation='softmax'))"
      ],
      "execution_count": 0,
      "outputs": []
    },
    {
      "cell_type": "code",
      "metadata": {
        "id": "uRsURKHMUcqn",
        "colab_type": "code",
        "colab": {}
      },
      "source": [
        "# 5 hidden\n",
        "net5 = models.Sequential()\n",
        "\n",
        "# Add 5 fully connected layers with a ReLU activation function\n",
        "net5.add(layers.Dense(units=100, activation='relu', input_shape=(10000,)))\n",
        "net5.add(layers.Dense(units=100, activation='relu', input_shape=(10000,)))\n",
        "net5.add(layers.Dense(units=100, activation='relu', input_shape=(10000,)))\n",
        "net5.add(layers.Dense(units=100, activation='relu', input_shape=(10000,)))\n",
        "net5.add(layers.Dense(units=100, activation='relu', input_shape=(10000,)))\n",
        "\n",
        "# Add fully connected layer with a softmax activation function\n",
        "net5.add(layers.Dense(units=46, activation='softmax'))"
      ],
      "execution_count": 0,
      "outputs": []
    },
    {
      "cell_type": "code",
      "metadata": {
        "id": "_RLt-VF4UcnG",
        "colab_type": "code",
        "colab": {}
      },
      "source": [
        "net1.compile(loss='categorical_crossentropy', # Cross-entropy\n",
        "                optimizer='rmsprop', # Root Mean Square Propagation\n",
        "                metrics=['accuracy']) # Accuracy performance metric\n",
        "\n",
        "net2.compile(loss='categorical_crossentropy', # Cross-entropy\n",
        "                optimizer='rmsprop', # Root Mean Square Propagation\n",
        "                metrics=['accuracy']) # Accuracy performance metric\n",
        "        \n",
        "net3.compile(loss='categorical_crossentropy', # Cross-entropy\n",
        "                optimizer='rmsprop', # Root Mean Square Propagation\n",
        "                metrics=['accuracy']) # Accuracy performance metric\n",
        "\n",
        "net4.compile(loss='categorical_crossentropy', # Cross-entropy\n",
        "                optimizer='rmsprop', # Root Mean Square Propagation\n",
        "                metrics=['accuracy']) # Accuracy performance metric\n",
        "\n",
        "net5.compile(loss='categorical_crossentropy', # Cross-entropy\n",
        "                optimizer='rmsprop', # Root Mean Square Propagation\n",
        "                metrics=['accuracy']) # Accuracy performance metric"
      ],
      "execution_count": 0,
      "outputs": []
    },
    {
      "cell_type": "code",
      "metadata": {
        "id": "EHX0xITZUcmF",
        "colab_type": "code",
        "outputId": "dd415df7-0e1d-48e8-a958-c12c4ea8ce39",
        "colab": {
          "base_uri": "https://localhost:8080/",
          "height": 136
        }
      },
      "source": [
        "# Train neural network\n",
        "history1 = net1.fit(train_features, # Features\n",
        "                      train_target, # Target vector\n",
        "                      epochs=3, # Three epochs\n",
        "                      verbose=1, # short output\n",
        "                      batch_size=100, # Number of observations per batch\n",
        "                      validation_data=(test_features, test_target)) # Data to use for evaluation"
      ],
      "execution_count": 0,
      "outputs": [
        {
          "output_type": "stream",
          "text": [
            "Train on 8982 samples, validate on 2246 samples\n",
            "Epoch 1/3\n",
            "8982/8982 [==============================] - 2s 253us/step - loss: 0.1787 - accuracy: 0.9511 - val_loss: 1.0154 - val_accuracy: 0.8032\n",
            "Epoch 2/3\n",
            "8982/8982 [==============================] - 2s 257us/step - loss: 0.1616 - accuracy: 0.9522 - val_loss: 1.0383 - val_accuracy: 0.8045\n",
            "Epoch 3/3\n",
            "8982/8982 [==============================] - 2s 256us/step - loss: 0.1510 - accuracy: 0.9541 - val_loss: 1.1364 - val_accuracy: 0.7983\n"
          ],
          "name": "stdout"
        }
      ]
    },
    {
      "cell_type": "code",
      "metadata": {
        "id": "Rm9EtFiSUckF",
        "colab_type": "code",
        "outputId": "4d9ae9f4-96cc-4c28-a842-bb65eca6af6e",
        "colab": {
          "base_uri": "https://localhost:8080/",
          "height": 136
        }
      },
      "source": [
        "history2 = net2.fit(train_features,\n",
        "                      train_target,\n",
        "                      epochs=3, \n",
        "                      verbose=1,\n",
        "                      batch_size=100, \n",
        "                      validation_data=(test_features, test_target)) "
      ],
      "execution_count": 0,
      "outputs": [
        {
          "output_type": "stream",
          "text": [
            "Train on 8982 samples, validate on 2246 samples\n",
            "Epoch 1/3\n",
            "8982/8982 [==============================] - 2s 253us/step - loss: 1.5012 - accuracy: 0.6848 - val_loss: 1.0875 - val_accuracy: 0.7524\n",
            "Epoch 2/3\n",
            "8982/8982 [==============================] - 2s 247us/step - loss: 0.7415 - accuracy: 0.8427 - val_loss: 0.9289 - val_accuracy: 0.7885\n",
            "Epoch 3/3\n",
            "8982/8982 [==============================] - 2s 247us/step - loss: 0.4466 - accuracy: 0.9041 - val_loss: 0.9050 - val_accuracy: 0.8050\n"
          ],
          "name": "stdout"
        }
      ]
    },
    {
      "cell_type": "code",
      "metadata": {
        "id": "_9iWhRivUcgG",
        "colab_type": "code",
        "outputId": "0f774ca0-1378-456f-b2e5-7e123ef8f6e9",
        "colab": {
          "base_uri": "https://localhost:8080/",
          "height": 136
        }
      },
      "source": [
        "history3 = net3.fit(train_features,\n",
        "                      train_target,\n",
        "                      epochs=3, \n",
        "                      verbose=1,\n",
        "                      batch_size=100, \n",
        "                      validation_data=(test_features, test_target)) "
      ],
      "execution_count": 0,
      "outputs": [
        {
          "output_type": "stream",
          "text": [
            "Train on 8982 samples, validate on 2246 samples\n",
            "Epoch 1/3\n",
            "8982/8982 [==============================] - 2s 261us/step - loss: 1.5454 - accuracy: 0.6572 - val_loss: 1.2104 - val_accuracy: 0.7182\n",
            "Epoch 2/3\n",
            "8982/8982 [==============================] - 2s 251us/step - loss: 0.8055 - accuracy: 0.8183 - val_loss: 0.9571 - val_accuracy: 0.7867\n",
            "Epoch 3/3\n",
            "8982/8982 [==============================] - 2s 248us/step - loss: 0.4858 - accuracy: 0.8912 - val_loss: 0.9419 - val_accuracy: 0.8014\n"
          ],
          "name": "stdout"
        }
      ]
    },
    {
      "cell_type": "code",
      "metadata": {
        "id": "bdwziZbtUcdG",
        "colab_type": "code",
        "outputId": "cda921c6-4bd8-4811-8e67-0c3e64a66c96",
        "colab": {
          "base_uri": "https://localhost:8080/",
          "height": 136
        }
      },
      "source": [
        "history4 = net4.fit(train_features,\n",
        "                      train_target,\n",
        "                      epochs=3, \n",
        "                      verbose=1,\n",
        "                      batch_size=100, \n",
        "                      validation_data=(test_features, test_target)) "
      ],
      "execution_count": 0,
      "outputs": [
        {
          "output_type": "stream",
          "text": [
            "Train on 8982 samples, validate on 2246 samples\n",
            "Epoch 1/3\n",
            "8982/8982 [==============================] - 2s 260us/step - loss: 1.5702 - accuracy: 0.6477 - val_loss: 1.1643 - val_accuracy: 0.7337\n",
            "Epoch 2/3\n",
            "8982/8982 [==============================] - 2s 251us/step - loss: 0.8312 - accuracy: 0.8059 - val_loss: 0.9960 - val_accuracy: 0.7756\n",
            "Epoch 3/3\n",
            "8982/8982 [==============================] - 2s 254us/step - loss: 0.5104 - accuracy: 0.8781 - val_loss: 1.0412 - val_accuracy: 0.7792\n"
          ],
          "name": "stdout"
        }
      ]
    },
    {
      "cell_type": "code",
      "metadata": {
        "id": "l8xUPY8QUcaY",
        "colab_type": "code",
        "outputId": "0c9b8467-2c37-43e7-96af-0b887132f1fb",
        "colab": {
          "base_uri": "https://localhost:8080/",
          "height": 136
        }
      },
      "source": [
        "history5 = net5.fit(train_features,\n",
        "                      train_target,\n",
        "                      epochs=3, \n",
        "                      verbose=1,\n",
        "                      batch_size=100, \n",
        "                      validation_data=(test_features, test_target)) "
      ],
      "execution_count": 0,
      "outputs": [
        {
          "output_type": "stream",
          "text": [
            "Train on 8982 samples, validate on 2246 samples\n",
            "Epoch 1/3\n",
            "8982/8982 [==============================] - 2s 270us/step - loss: 1.6221 - accuracy: 0.6193 - val_loss: 1.2378 - val_accuracy: 0.7110\n",
            "Epoch 2/3\n",
            "8982/8982 [==============================] - 2s 256us/step - loss: 0.9270 - accuracy: 0.7791 - val_loss: 1.1017 - val_accuracy: 0.7600\n",
            "Epoch 3/3\n",
            "8982/8982 [==============================] - 2s 258us/step - loss: 0.5994 - accuracy: 0.8595 - val_loss: 1.0983 - val_accuracy: 0.7743\n"
          ],
          "name": "stdout"
        }
      ]
    },
    {
      "cell_type": "markdown",
      "metadata": {
        "id": "-nWLTVdcXtZk",
        "colab_type": "text"
      },
      "source": [
        "## shallow net with 2 hidden layers performs the best"
      ]
    },
    {
      "cell_type": "markdown",
      "metadata": {
        "id": "1uWHR77QYIZm",
        "colab_type": "text"
      },
      "source": [
        "# Consider different number of units per hidden layer"
      ]
    },
    {
      "cell_type": "code",
      "metadata": {
        "id": "kdLHNsgeUcXV",
        "colab_type": "code",
        "colab": {}
      },
      "source": [
        "net100 = models.Sequential()\n",
        "net100.add(layers.Dense(units=100, activation='relu', input_shape=(10000,)))\n",
        "net100.add(layers.Dense(units=100, activation='relu', input_shape=(10000,)))\n",
        "net100.add(layers.Dense(units=46, activation='softmax'))\n",
        "\n",
        "net200 = models.Sequential()\n",
        "net200.add(layers.Dense(units=200, activation='relu', input_shape=(10000,)))\n",
        "net200.add(layers.Dense(units=200, activation='relu', input_shape=(10000,)))\n",
        "net200.add(layers.Dense(units=46, activation='softmax'))\n",
        "\n",
        "net300 = models.Sequential()\n",
        "net300.add(layers.Dense(units=300, activation='relu', input_shape=(10000,)))\n",
        "net300.add(layers.Dense(units=300, activation='relu', input_shape=(10000,)))\n",
        "net300.add(layers.Dense(units=46, activation='softmax'))\n",
        "\n",
        "net400 = models.Sequential()\n",
        "net400.add(layers.Dense(units=400, activation='relu', input_shape=(10000,)))\n",
        "net400.add(layers.Dense(units=400, activation='relu', input_shape=(10000,)))\n",
        "net400.add(layers.Dense(units=46, activation='softmax'))\n",
        "\n",
        "net500 = models.Sequential()\n",
        "net500.add(layers.Dense(units=500, activation='relu', input_shape=(10000,)))\n",
        "net500.add(layers.Dense(units=500, activation='relu', input_shape=(10000,)))\n",
        "net500.add(layers.Dense(units=46, activation='softmax'))\n",
        "\n",
        "net100200 = models.Sequential()\n",
        "net100200.add(layers.Dense(units=200, activation='relu', input_shape=(10000,)))\n",
        "net100200.add(layers.Dense(units=200, activation='relu', input_shape=(10000,)))\n",
        "net100200.add(layers.Dense(units=46, activation='softmax'))"
      ],
      "execution_count": 0,
      "outputs": []
    },
    {
      "cell_type": "code",
      "metadata": {
        "id": "XwXqbB7OX6zx",
        "colab_type": "code",
        "colab": {}
      },
      "source": [
        "net100.compile(loss='categorical_crossentropy', # Cross-entropy\n",
        "                optimizer='rmsprop', # Root Mean Square Propagation\n",
        "                metrics=['accuracy']) # Accuracy performance metric\n",
        "\n",
        "net200.compile(loss='categorical_crossentropy', # Cross-entropy\n",
        "                optimizer='rmsprop', # Root Mean Square Propagation\n",
        "                metrics=['accuracy']) # Accuracy performance metric\n",
        "        \n",
        "net300.compile(loss='categorical_crossentropy', # Cross-entropy\n",
        "                optimizer='rmsprop', # Root Mean Square Propagation\n",
        "                metrics=['accuracy']) # Accuracy performance metric\n",
        "\n",
        "net400.compile(loss='categorical_crossentropy', # Cross-entropy\n",
        "                optimizer='rmsprop', # Root Mean Square Propagation\n",
        "                metrics=['accuracy']) # Accuracy performance metric\n",
        "\n",
        "net500.compile(loss='categorical_crossentropy', # Cross-entropy\n",
        "                optimizer='rmsprop', # Root Mean Square Propagation\n",
        "                metrics=['accuracy']) # Accuracy performance metric\n",
        "      \n",
        "net100200.compile(loss='categorical_crossentropy', # Cross-entropy\n",
        "                optimizer='rmsprop', # Root Mean Square Propagation\n",
        "                metrics=['accuracy']) # Accuracy performance metric"
      ],
      "execution_count": 0,
      "outputs": []
    },
    {
      "cell_type": "code",
      "metadata": {
        "id": "QeB-s9p_X6wI",
        "colab_type": "code",
        "outputId": "26ed40b4-954a-4fb1-814a-63121cdf703c",
        "colab": {
          "base_uri": "https://localhost:8080/",
          "height": 136
        }
      },
      "source": [
        "history100 = net100.fit(train_features, \n",
        "                      train_target,\n",
        "                      epochs=3, \n",
        "                      verbose=1,\n",
        "                      batch_size=100, \n",
        "                      validation_data=(test_features, test_target)) "
      ],
      "execution_count": 0,
      "outputs": [
        {
          "output_type": "stream",
          "text": [
            "Train on 8982 samples, validate on 2246 samples\n",
            "Epoch 1/3\n",
            "8982/8982 [==============================] - 2s 251us/step - loss: 0.3062 - accuracy: 0.9320 - val_loss: 0.9144 - val_accuracy: 0.8041\n",
            "Epoch 2/3\n",
            "8982/8982 [==============================] - 2s 246us/step - loss: 0.2323 - accuracy: 0.9441 - val_loss: 1.0108 - val_accuracy: 0.8019\n",
            "Epoch 3/3\n",
            "8982/8982 [==============================] - 2s 249us/step - loss: 0.2033 - accuracy: 0.9463 - val_loss: 1.0270 - val_accuracy: 0.8010\n"
          ],
          "name": "stdout"
        }
      ]
    },
    {
      "cell_type": "code",
      "metadata": {
        "id": "-j36f689X6tv",
        "colab_type": "code",
        "outputId": "0b7bc6f7-feca-47f8-e56f-83c0c21324a7",
        "colab": {
          "base_uri": "https://localhost:8080/",
          "height": 136
        }
      },
      "source": [
        "history200 = net200.fit(train_features, \n",
        "                      train_target,\n",
        "                      epochs=3, \n",
        "                      verbose=1,\n",
        "                      batch_size=100, \n",
        "                      validation_data=(test_features, test_target)) "
      ],
      "execution_count": 0,
      "outputs": [
        {
          "output_type": "stream",
          "text": [
            "Train on 8982 samples, validate on 2246 samples\n",
            "Epoch 1/3\n",
            "8982/8982 [==============================] - 4s 411us/step - loss: 1.3747 - accuracy: 0.6978 - val_loss: 1.0250 - val_accuracy: 0.7654\n",
            "Epoch 2/3\n",
            "8982/8982 [==============================] - 4s 406us/step - loss: 0.6078 - accuracy: 0.8705 - val_loss: 0.8974 - val_accuracy: 0.8032\n",
            "Epoch 3/3\n",
            "8982/8982 [==============================] - 4s 402us/step - loss: 0.3438 - accuracy: 0.9257 - val_loss: 0.8991 - val_accuracy: 0.8077\n"
          ],
          "name": "stdout"
        }
      ]
    },
    {
      "cell_type": "code",
      "metadata": {
        "id": "6d2ROoN3X6rn",
        "colab_type": "code",
        "outputId": "971d8209-326a-4a4b-c801-06e9d4a5cf72",
        "colab": {
          "base_uri": "https://localhost:8080/",
          "height": 136
        }
      },
      "source": [
        "history300 = net300.fit(train_features, \n",
        "                      train_target,\n",
        "                      epochs=3, \n",
        "                      verbose=1,\n",
        "                      batch_size=100, \n",
        "                      validation_data=(test_features, test_target)) "
      ],
      "execution_count": 0,
      "outputs": [
        {
          "output_type": "stream",
          "text": [
            "Train on 8982 samples, validate on 2246 samples\n",
            "Epoch 1/3\n",
            "8982/8982 [==============================] - 5s 593us/step - loss: 1.2876 - accuracy: 0.7144 - val_loss: 0.9499 - val_accuracy: 0.7805\n",
            "Epoch 2/3\n",
            "8982/8982 [==============================] - 5s 583us/step - loss: 0.5451 - accuracy: 0.8778 - val_loss: 0.8826 - val_accuracy: 0.8014\n",
            "Epoch 3/3\n",
            "8982/8982 [==============================] - 5s 579us/step - loss: 0.3050 - accuracy: 0.9311 - val_loss: 0.9368 - val_accuracy: 0.8094\n"
          ],
          "name": "stdout"
        }
      ]
    },
    {
      "cell_type": "code",
      "metadata": {
        "id": "pdyVhEFcX6pJ",
        "colab_type": "code",
        "outputId": "fa877051-cf15-4cff-8461-3305a15f9f3a",
        "colab": {
          "base_uri": "https://localhost:8080/",
          "height": 136
        }
      },
      "source": [
        "history400 = net400.fit(train_features, \n",
        "                      train_target,\n",
        "                      epochs=3, \n",
        "                      verbose=1,\n",
        "                      batch_size=100, \n",
        "                      validation_data=(test_features, test_target)) "
      ],
      "execution_count": 0,
      "outputs": [
        {
          "output_type": "stream",
          "text": [
            "Train on 8982 samples, validate on 2246 samples\n",
            "Epoch 1/3\n",
            "8982/8982 [==============================] - 7s 742us/step - loss: 1.2853 - accuracy: 0.7122 - val_loss: 0.9434 - val_accuracy: 0.7792\n",
            "Epoch 2/3\n",
            "8982/8982 [==============================] - 7s 729us/step - loss: 0.5151 - accuracy: 0.8833 - val_loss: 0.9124 - val_accuracy: 0.7965\n",
            "Epoch 3/3\n",
            "8982/8982 [==============================] - 7s 725us/step - loss: 0.2940 - accuracy: 0.9343 - val_loss: 0.9898 - val_accuracy: 0.7961\n"
          ],
          "name": "stdout"
        }
      ]
    },
    {
      "cell_type": "code",
      "metadata": {
        "id": "ObdVnvM4X6m7",
        "colab_type": "code",
        "outputId": "85273b67-a7d3-488d-90ae-2a20219b4099",
        "colab": {
          "base_uri": "https://localhost:8080/",
          "height": 136
        }
      },
      "source": [
        "history500 = net500.fit(train_features, \n",
        "                      train_target,\n",
        "                      epochs=3, \n",
        "                      verbose=1,\n",
        "                      batch_size=100, \n",
        "                      validation_data=(test_features, test_target)) "
      ],
      "execution_count": 0,
      "outputs": [
        {
          "output_type": "stream",
          "text": [
            "Train on 8982 samples, validate on 2246 samples\n",
            "Epoch 1/3\n",
            "8982/8982 [==============================] - 8s 918us/step - loss: 1.2581 - accuracy: 0.7149 - val_loss: 0.9069 - val_accuracy: 0.7898\n",
            "Epoch 2/3\n",
            "8982/8982 [==============================] - 8s 906us/step - loss: 0.5025 - accuracy: 0.8842 - val_loss: 0.8781 - val_accuracy: 0.8063\n",
            "Epoch 3/3\n",
            "8982/8982 [==============================] - 8s 906us/step - loss: 0.2767 - accuracy: 0.9353 - val_loss: 0.9739 - val_accuracy: 0.8063\n"
          ],
          "name": "stdout"
        }
      ]
    },
    {
      "cell_type": "code",
      "metadata": {
        "id": "FH70P8uyX6jk",
        "colab_type": "code",
        "outputId": "65bd5791-c40a-4afb-8bf7-7232ebebb3c6",
        "colab": {
          "base_uri": "https://localhost:8080/",
          "height": 136
        }
      },
      "source": [
        "history100200 = net100200.fit(train_features, \n",
        "                      train_target,\n",
        "                      epochs=3, \n",
        "                      verbose=1,\n",
        "                      batch_size=100, \n",
        "                      validation_data=(test_features, test_target)) "
      ],
      "execution_count": 0,
      "outputs": [
        {
          "output_type": "stream",
          "text": [
            "Train on 8982 samples, validate on 2246 samples\n",
            "Epoch 1/3\n",
            "8982/8982 [==============================] - 4s 406us/step - loss: 1.3409 - accuracy: 0.7049 - val_loss: 1.0404 - val_accuracy: 0.7649\n",
            "Epoch 2/3\n",
            "8982/8982 [==============================] - 4s 395us/step - loss: 0.6057 - accuracy: 0.8668 - val_loss: 0.9734 - val_accuracy: 0.7765\n",
            "Epoch 3/3\n",
            "8982/8982 [==============================] - 4s 395us/step - loss: 0.3403 - accuracy: 0.9251 - val_loss: 0.9112 - val_accuracy: 0.8010\n"
          ],
          "name": "stdout"
        }
      ]
    },
    {
      "cell_type": "markdown",
      "metadata": {
        "id": "cga8y2YzZwSv",
        "colab_type": "text"
      },
      "source": [
        "## shallow net with 2 hidden layers and 300 units per layer performs the best"
      ]
    },
    {
      "cell_type": "markdown",
      "metadata": {
        "id": "bqRWk8amZ98e",
        "colab_type": "text"
      },
      "source": [
        "# Consider different number of epochs"
      ]
    },
    {
      "cell_type": "code",
      "metadata": {
        "id": "zP0gD96DX6iP",
        "colab_type": "code",
        "outputId": "6917529a-9be1-4e66-caad-dc7accf12b83",
        "colab": {
          "base_uri": "https://localhost:8080/",
          "height": 1000
        }
      },
      "source": [
        "for ep in [3, 10, 20, 30, 40]:\n",
        "    print(f'num of epochs: {ep}')\n",
        "    print('_'*50)\n",
        "    history = net300.fit(train_features, \n",
        "                      train_target,\n",
        "                      epochs=ep, \n",
        "                      verbose=1,\n",
        "                      batch_size=100, \n",
        "                      validation_data=(test_features, test_target))\n",
        "    print('Accuracy: ', np.array(history.history['accuracy']).mean())\n",
        "    print('Accuracy val: ', np.array(history.history['val_accuracy']).mean())\n",
        "    print('_'*50)\n"
      ],
      "execution_count": 0,
      "outputs": [
        {
          "output_type": "stream",
          "text": [
            "num of epochs: 3\n",
            "__________________________________________________\n",
            "Train on 8982 samples, validate on 2246 samples\n",
            "Epoch 1/3\n",
            "8982/8982 [==============================] - 5s 562us/step - loss: 0.2220 - accuracy: 0.9450 - val_loss: 0.9970 - val_accuracy: 0.8041\n",
            "Epoch 2/3\n",
            "8982/8982 [==============================] - 5s 555us/step - loss: 0.1839 - accuracy: 0.9492 - val_loss: 1.1364 - val_accuracy: 0.8014\n",
            "Epoch 3/3\n",
            "8982/8982 [==============================] - 5s 567us/step - loss: 0.1614 - accuracy: 0.9516 - val_loss: 1.2242 - val_accuracy: 0.7983\n",
            "Accuracy:  0.94860095\n",
            "Accuracy val:  0.8012763261795044\n",
            "__________________________________________________\n",
            "num of epochs: 10\n",
            "__________________________________________________\n",
            "Train on 8982 samples, validate on 2246 samples\n",
            "Epoch 1/10\n",
            "8982/8982 [==============================] - 5s 564us/step - loss: 0.1416 - accuracy: 0.9523 - val_loss: 1.3695 - val_accuracy: 0.7992\n",
            "Epoch 2/10\n",
            "8982/8982 [==============================] - 5s 569us/step - loss: 0.1296 - accuracy: 0.9525 - val_loss: 1.4365 - val_accuracy: 0.7894\n",
            "Epoch 3/10\n",
            "8982/8982 [==============================] - 5s 592us/step - loss: 0.1195 - accuracy: 0.9523 - val_loss: 1.6060 - val_accuracy: 0.7988\n",
            "Epoch 4/10\n",
            "8982/8982 [==============================] - 5s 591us/step - loss: 0.1085 - accuracy: 0.9535 - val_loss: 1.8401 - val_accuracy: 0.7832\n",
            "Epoch 5/10\n",
            "8982/8982 [==============================] - 5s 582us/step - loss: 0.1018 - accuracy: 0.9534 - val_loss: 1.8999 - val_accuracy: 0.7903\n",
            "Epoch 6/10\n",
            "8982/8982 [==============================] - 5s 591us/step - loss: 0.0978 - accuracy: 0.9544 - val_loss: 2.0141 - val_accuracy: 0.7921\n",
            "Epoch 7/10\n",
            "8982/8982 [==============================] - 5s 585us/step - loss: 0.0896 - accuracy: 0.9554 - val_loss: 2.2468 - val_accuracy: 0.7854\n",
            "Epoch 8/10\n",
            "8982/8982 [==============================] - 5s 576us/step - loss: 0.0881 - accuracy: 0.9544 - val_loss: 2.3622 - val_accuracy: 0.7921\n",
            "Epoch 9/10\n",
            "8982/8982 [==============================] - 5s 566us/step - loss: 0.0830 - accuracy: 0.9546 - val_loss: 2.5665 - val_accuracy: 0.7783\n",
            "Epoch 10/10\n",
            "8982/8982 [==============================] - 5s 556us/step - loss: 0.0798 - accuracy: 0.9545 - val_loss: 2.7027 - val_accuracy: 0.7898\n",
            "Accuracy:  0.9537074\n",
            "Accuracy val:  0.7898486256599426\n",
            "__________________________________________________\n",
            "num of epochs: 20\n",
            "__________________________________________________\n",
            "Train on 8982 samples, validate on 2246 samples\n",
            "Epoch 1/20\n",
            "8982/8982 [==============================] - 5s 559us/step - loss: 0.0804 - accuracy: 0.9565 - val_loss: 2.8239 - val_accuracy: 0.7854\n",
            "Epoch 2/20\n",
            "8982/8982 [==============================] - 5s 564us/step - loss: 0.0785 - accuracy: 0.9562 - val_loss: 3.0053 - val_accuracy: 0.7854\n",
            "Epoch 3/20\n",
            "8982/8982 [==============================] - 5s 568us/step - loss: 0.0742 - accuracy: 0.9551 - val_loss: 3.2255 - val_accuracy: 0.7858\n",
            "Epoch 4/20\n",
            "8982/8982 [==============================] - 5s 582us/step - loss: 0.0785 - accuracy: 0.9559 - val_loss: 3.5910 - val_accuracy: 0.7885\n",
            "Epoch 5/20\n",
            "8982/8982 [==============================] - 5s 599us/step - loss: 0.0759 - accuracy: 0.9565 - val_loss: 3.2581 - val_accuracy: 0.7854\n",
            "Epoch 6/20\n",
            "8982/8982 [==============================] - 5s 593us/step - loss: 0.0702 - accuracy: 0.9540 - val_loss: 3.4917 - val_accuracy: 0.7858\n",
            "Epoch 7/20\n",
            "8982/8982 [==============================] - 5s 592us/step - loss: 0.0730 - accuracy: 0.9570 - val_loss: 3.7620 - val_accuracy: 0.7796\n",
            "Epoch 8/20\n",
            "8982/8982 [==============================] - 5s 597us/step - loss: 0.0707 - accuracy: 0.9572 - val_loss: 3.4728 - val_accuracy: 0.7858\n",
            "Epoch 9/20\n",
            "8982/8982 [==============================] - 5s 584us/step - loss: 0.0733 - accuracy: 0.9559 - val_loss: 3.9927 - val_accuracy: 0.7747\n",
            "Epoch 10/20\n",
            "8982/8982 [==============================] - 5s 591us/step - loss: 0.0681 - accuracy: 0.9590 - val_loss: 4.0063 - val_accuracy: 0.7805\n",
            "Epoch 11/20\n",
            "8982/8982 [==============================] - 5s 593us/step - loss: 0.0708 - accuracy: 0.9571 - val_loss: 4.5611 - val_accuracy: 0.7836\n",
            "Epoch 12/20\n",
            "8982/8982 [==============================] - 5s 591us/step - loss: 0.0738 - accuracy: 0.9554 - val_loss: 4.2508 - val_accuracy: 0.7845\n",
            "Epoch 13/20\n",
            "8982/8982 [==============================] - 5s 586us/step - loss: 0.0710 - accuracy: 0.9576 - val_loss: 4.3507 - val_accuracy: 0.7818\n",
            "Epoch 14/20\n",
            "8982/8982 [==============================] - 5s 568us/step - loss: 0.0691 - accuracy: 0.9566 - val_loss: 4.3641 - val_accuracy: 0.7818\n",
            "Epoch 15/20\n",
            "8982/8982 [==============================] - 5s 557us/step - loss: 0.0732 - accuracy: 0.9566 - val_loss: 4.6772 - val_accuracy: 0.7832\n",
            "Epoch 16/20\n",
            "8982/8982 [==============================] - 5s 562us/step - loss: 0.0708 - accuracy: 0.9571 - val_loss: 4.6848 - val_accuracy: 0.7809\n",
            "Epoch 17/20\n",
            "8982/8982 [==============================] - 5s 553us/step - loss: 0.0672 - accuracy: 0.9587 - val_loss: 4.6613 - val_accuracy: 0.7814\n",
            "Epoch 18/20\n",
            "8982/8982 [==============================] - 5s 560us/step - loss: 0.0681 - accuracy: 0.9562 - val_loss: 4.5821 - val_accuracy: 0.7832\n",
            "Epoch 19/20\n",
            "8982/8982 [==============================] - 5s 556us/step - loss: 0.0692 - accuracy: 0.9584 - val_loss: 5.1395 - val_accuracy: 0.7814\n",
            "Epoch 20/20\n",
            "8982/8982 [==============================] - 5s 557us/step - loss: 0.0680 - accuracy: 0.9584 - val_loss: 5.0594 - val_accuracy: 0.7814\n",
            "Accuracy:  0.95677453\n",
            "Accuracy val:  0.7830142498016357\n",
            "__________________________________________________\n",
            "num of epochs: 30\n",
            "__________________________________________________\n",
            "Train on 8982 samples, validate on 2246 samples\n",
            "Epoch 1/30\n",
            "8982/8982 [==============================] - 5s 557us/step - loss: 0.0683 - accuracy: 0.9587 - val_loss: 5.4041 - val_accuracy: 0.7850\n",
            "Epoch 2/30\n",
            "8982/8982 [==============================] - 5s 559us/step - loss: 0.0710 - accuracy: 0.9572 - val_loss: 5.0797 - val_accuracy: 0.7760\n",
            "Epoch 3/30\n",
            "8982/8982 [==============================] - 5s 564us/step - loss: 0.0655 - accuracy: 0.9589 - val_loss: 5.4834 - val_accuracy: 0.7756\n",
            "Epoch 4/30\n",
            "8982/8982 [==============================] - 5s 558us/step - loss: 0.0688 - accuracy: 0.9589 - val_loss: 5.4846 - val_accuracy: 0.7716\n",
            "Epoch 5/30\n",
            "8982/8982 [==============================] - 5s 559us/step - loss: 0.0644 - accuracy: 0.9589 - val_loss: 5.7489 - val_accuracy: 0.7769\n",
            "Epoch 6/30\n",
            "8982/8982 [==============================] - 5s 562us/step - loss: 0.0688 - accuracy: 0.9585 - val_loss: 6.0584 - val_accuracy: 0.7671\n",
            "Epoch 7/30\n",
            "8982/8982 [==============================] - 5s 570us/step - loss: 0.0763 - accuracy: 0.9585 - val_loss: 5.7438 - val_accuracy: 0.7720\n",
            "Epoch 8/30\n",
            "8982/8982 [==============================] - 5s 591us/step - loss: 0.0634 - accuracy: 0.9587 - val_loss: 6.7446 - val_accuracy: 0.7685\n",
            "Epoch 9/30\n",
            "8982/8982 [==============================] - 5s 585us/step - loss: 0.0667 - accuracy: 0.9579 - val_loss: 6.0408 - val_accuracy: 0.7747\n",
            "Epoch 10/30\n",
            "8982/8982 [==============================] - 5s 593us/step - loss: 0.0719 - accuracy: 0.9590 - val_loss: 5.8589 - val_accuracy: 0.7680\n",
            "Epoch 11/30\n",
            "8982/8982 [==============================] - 5s 594us/step - loss: 0.0627 - accuracy: 0.9590 - val_loss: 6.8058 - val_accuracy: 0.7707\n",
            "Epoch 12/30\n",
            "8982/8982 [==============================] - 5s 590us/step - loss: 0.0660 - accuracy: 0.9590 - val_loss: 6.5612 - val_accuracy: 0.7720\n",
            "Epoch 13/30\n",
            "8982/8982 [==============================] - 5s 573us/step - loss: 0.0656 - accuracy: 0.9591 - val_loss: 6.8539 - val_accuracy: 0.7689\n",
            "Epoch 14/30\n",
            "8982/8982 [==============================] - 5s 562us/step - loss: 0.0667 - accuracy: 0.9595 - val_loss: 7.1088 - val_accuracy: 0.7663\n",
            "Epoch 15/30\n",
            "8982/8982 [==============================] - 5s 581us/step - loss: 0.0706 - accuracy: 0.9580 - val_loss: 7.6654 - val_accuracy: 0.7711\n",
            "Epoch 16/30\n",
            "8982/8982 [==============================] - 5s 574us/step - loss: 0.0682 - accuracy: 0.9595 - val_loss: 7.1610 - val_accuracy: 0.7667\n",
            "Epoch 17/30\n",
            "8982/8982 [==============================] - 5s 557us/step - loss: 0.0638 - accuracy: 0.9578 - val_loss: 8.5942 - val_accuracy: 0.7658\n",
            "Epoch 18/30\n",
            "8982/8982 [==============================] - 5s 564us/step - loss: 0.0787 - accuracy: 0.9577 - val_loss: 7.7537 - val_accuracy: 0.7685\n",
            "Epoch 19/30\n",
            "8982/8982 [==============================] - 5s 560us/step - loss: 0.0632 - accuracy: 0.9587 - val_loss: 8.3883 - val_accuracy: 0.7658\n",
            "Epoch 20/30\n",
            "8982/8982 [==============================] - 5s 574us/step - loss: 0.0653 - accuracy: 0.9595 - val_loss: 8.3777 - val_accuracy: 0.7631\n",
            "Epoch 21/30\n",
            "8982/8982 [==============================] - 5s 566us/step - loss: 0.0694 - accuracy: 0.9587 - val_loss: 7.6497 - val_accuracy: 0.7689\n",
            "Epoch 22/30\n",
            "8982/8982 [==============================] - 5s 568us/step - loss: 0.0671 - accuracy: 0.9600 - val_loss: 7.5853 - val_accuracy: 0.7622\n",
            "Epoch 23/30\n",
            "8982/8982 [==============================] - 5s 569us/step - loss: 0.0683 - accuracy: 0.9580 - val_loss: 8.1374 - val_accuracy: 0.7654\n",
            "Epoch 24/30\n",
            "8982/8982 [==============================] - 5s 582us/step - loss: 0.0685 - accuracy: 0.9589 - val_loss: 8.1347 - val_accuracy: 0.7640\n",
            "Epoch 25/30\n",
            "8982/8982 [==============================] - 5s 604us/step - loss: 0.0899 - accuracy: 0.9608 - val_loss: 8.1645 - val_accuracy: 0.7573\n",
            "Epoch 26/30\n",
            "8982/8982 [==============================] - 5s 596us/step - loss: 0.0627 - accuracy: 0.9609 - val_loss: 9.2538 - val_accuracy: 0.7569\n",
            "Epoch 27/30\n",
            "8982/8982 [==============================] - 5s 597us/step - loss: 0.0700 - accuracy: 0.9596 - val_loss: 8.5297 - val_accuracy: 0.7551\n",
            "Epoch 28/30\n",
            "8982/8982 [==============================] - 5s 593us/step - loss: 0.0731 - accuracy: 0.9594 - val_loss: 9.1640 - val_accuracy: 0.7529\n",
            "Epoch 29/30\n",
            "8982/8982 [==============================] - 5s 597us/step - loss: 0.0647 - accuracy: 0.9586 - val_loss: 9.3347 - val_accuracy: 0.7582\n",
            "Epoch 30/30\n",
            "8982/8982 [==============================] - 5s 584us/step - loss: 0.0717 - accuracy: 0.9594 - val_loss: 9.3324 - val_accuracy: 0.7471\n",
            "Accuracy:  0.95891416\n",
            "Accuracy val:  0.7667557140191396\n",
            "__________________________________________________\n",
            "num of epochs: 40\n",
            "__________________________________________________\n",
            "Train on 8982 samples, validate on 2246 samples\n",
            "Epoch 1/40\n",
            "8982/8982 [==============================] - 5s 588us/step - loss: 0.0849 - accuracy: 0.9593 - val_loss: 9.2933 - val_accuracy: 0.7631\n",
            "Epoch 2/40\n",
            "8982/8982 [==============================] - 5s 588us/step - loss: 0.0798 - accuracy: 0.9599 - val_loss: 9.6550 - val_accuracy: 0.7502\n",
            "Epoch 3/40\n",
            "8982/8982 [==============================] - 5s 598us/step - loss: 0.0658 - accuracy: 0.9588 - val_loss: 10.1013 - val_accuracy: 0.7529\n",
            "Epoch 4/40\n",
            "8982/8982 [==============================] - 5s 585us/step - loss: 0.0723 - accuracy: 0.9579 - val_loss: 10.5021 - val_accuracy: 0.7520\n",
            "Epoch 5/40\n",
            "8982/8982 [==============================] - 5s 576us/step - loss: 0.0737 - accuracy: 0.9581 - val_loss: 10.5877 - val_accuracy: 0.7520\n",
            "Epoch 6/40\n",
            "8982/8982 [==============================] - 5s 581us/step - loss: 0.0628 - accuracy: 0.9613 - val_loss: 10.1496 - val_accuracy: 0.7507\n",
            "Epoch 7/40\n",
            "8982/8982 [==============================] - 5s 598us/step - loss: 0.0705 - accuracy: 0.9598 - val_loss: 10.1073 - val_accuracy: 0.7409\n",
            "Epoch 8/40\n",
            "8982/8982 [==============================] - 5s 587us/step - loss: 0.0643 - accuracy: 0.9587 - val_loss: 11.2013 - val_accuracy: 0.7551\n",
            "Epoch 9/40\n",
            "8982/8982 [==============================] - 5s 595us/step - loss: 0.0844 - accuracy: 0.9599 - val_loss: 10.8476 - val_accuracy: 0.7409\n",
            "Epoch 10/40\n",
            "8982/8982 [==============================] - 5s 581us/step - loss: 0.0676 - accuracy: 0.9596 - val_loss: 11.6946 - val_accuracy: 0.7467\n",
            "Epoch 11/40\n",
            "8982/8982 [==============================] - 5s 592us/step - loss: 0.0837 - accuracy: 0.9611 - val_loss: 10.5549 - val_accuracy: 0.7489\n",
            "Epoch 12/40\n",
            "8982/8982 [==============================] - 5s 564us/step - loss: 0.0641 - accuracy: 0.9597 - val_loss: 11.0454 - val_accuracy: 0.7471\n",
            "Epoch 13/40\n",
            "8982/8982 [==============================] - 5s 566us/step - loss: 0.0689 - accuracy: 0.9600 - val_loss: 12.1582 - val_accuracy: 0.7337\n",
            "Epoch 14/40\n",
            "8982/8982 [==============================] - 5s 562us/step - loss: 0.0796 - accuracy: 0.9604 - val_loss: 11.4861 - val_accuracy: 0.7378\n",
            "Epoch 15/40\n",
            "8982/8982 [==============================] - 5s 569us/step - loss: 0.0670 - accuracy: 0.9606 - val_loss: 11.3581 - val_accuracy: 0.7458\n",
            "Epoch 16/40\n",
            "8982/8982 [==============================] - 5s 560us/step - loss: 0.0681 - accuracy: 0.9601 - val_loss: 12.5798 - val_accuracy: 0.7324\n",
            "Epoch 17/40\n",
            "8982/8982 [==============================] - 5s 565us/step - loss: 0.0747 - accuracy: 0.9599 - val_loss: 13.0619 - val_accuracy: 0.7391\n",
            "Epoch 18/40\n",
            "8982/8982 [==============================] - 5s 560us/step - loss: 0.0971 - accuracy: 0.9595 - val_loss: 11.8791 - val_accuracy: 0.7311\n",
            "Epoch 19/40\n",
            "8982/8982 [==============================] - 5s 565us/step - loss: 0.0679 - accuracy: 0.9584 - val_loss: 13.3654 - val_accuracy: 0.7493\n",
            "Epoch 20/40\n",
            "8982/8982 [==============================] - 5s 557us/step - loss: 0.0689 - accuracy: 0.9572 - val_loss: 12.7617 - val_accuracy: 0.7373\n",
            "Epoch 21/40\n",
            "8982/8982 [==============================] - 5s 564us/step - loss: 0.0663 - accuracy: 0.9594 - val_loss: 13.6540 - val_accuracy: 0.7498\n",
            "Epoch 22/40\n",
            "8982/8982 [==============================] - 5s 556us/step - loss: 0.1029 - accuracy: 0.9606 - val_loss: 12.7991 - val_accuracy: 0.7329\n",
            "Epoch 23/40\n",
            "8982/8982 [==============================] - 5s 563us/step - loss: 0.0670 - accuracy: 0.9591 - val_loss: 13.7823 - val_accuracy: 0.7444\n",
            "Epoch 24/40\n",
            "8982/8982 [==============================] - 5s 565us/step - loss: 0.0754 - accuracy: 0.9609 - val_loss: 13.0703 - val_accuracy: 0.7391\n",
            "Epoch 25/40\n",
            "8982/8982 [==============================] - 5s 568us/step - loss: 0.0670 - accuracy: 0.9608 - val_loss: 14.0125 - val_accuracy: 0.7373\n",
            "Epoch 26/40\n",
            "8982/8982 [==============================] - 5s 564us/step - loss: 0.0778 - accuracy: 0.9595 - val_loss: 14.4966 - val_accuracy: 0.7262\n",
            "Epoch 27/40\n",
            "8982/8982 [==============================] - 5s 563us/step - loss: 0.0672 - accuracy: 0.9604 - val_loss: 14.3948 - val_accuracy: 0.7177\n",
            "Epoch 28/40\n",
            "8982/8982 [==============================] - 5s 564us/step - loss: 0.0860 - accuracy: 0.9604 - val_loss: 13.5927 - val_accuracy: 0.7333\n",
            "Epoch 29/40\n",
            "8982/8982 [==============================] - 5s 566us/step - loss: 0.0672 - accuracy: 0.9616 - val_loss: 14.8170 - val_accuracy: 0.7262\n",
            "Epoch 30/40\n",
            "8982/8982 [==============================] - 5s 564us/step - loss: 0.1012 - accuracy: 0.9600 - val_loss: 16.3023 - val_accuracy: 0.7235\n",
            "Epoch 31/40\n",
            "8982/8982 [==============================] - 5s 565us/step - loss: 0.0680 - accuracy: 0.9603 - val_loss: 15.3896 - val_accuracy: 0.7222\n",
            "Epoch 32/40\n",
            "8982/8982 [==============================] - 5s 554us/step - loss: 0.0655 - accuracy: 0.9611 - val_loss: 16.4024 - val_accuracy: 0.7271\n",
            "Epoch 33/40\n",
            "8982/8982 [==============================] - 5s 557us/step - loss: 0.0799 - accuracy: 0.9591 - val_loss: 16.1264 - val_accuracy: 0.7168\n",
            "Epoch 34/40\n",
            "8982/8982 [==============================] - 5s 558us/step - loss: 0.0759 - accuracy: 0.9597 - val_loss: 15.5469 - val_accuracy: 0.7146\n",
            "Epoch 35/40\n",
            "8982/8982 [==============================] - 5s 554us/step - loss: 0.0852 - accuracy: 0.9599 - val_loss: 15.9880 - val_accuracy: 0.7226\n",
            "Epoch 36/40\n",
            "8982/8982 [==============================] - 5s 557us/step - loss: 0.0666 - accuracy: 0.9609 - val_loss: 16.5952 - val_accuracy: 0.7133\n",
            "Epoch 37/40\n",
            "8982/8982 [==============================] - 5s 558us/step - loss: 0.0671 - accuracy: 0.9618 - val_loss: 16.9363 - val_accuracy: 0.7213\n",
            "Epoch 38/40\n",
            "8982/8982 [==============================] - 5s 559us/step - loss: 0.0730 - accuracy: 0.9606 - val_loss: 16.7118 - val_accuracy: 0.7168\n",
            "Epoch 39/40\n",
            "8982/8982 [==============================] - 5s 555us/step - loss: 0.1202 - accuracy: 0.9590 - val_loss: 16.1974 - val_accuracy: 0.7044\n",
            "Epoch 40/40\n",
            "8982/8982 [==============================] - 5s 553us/step - loss: 0.0730 - accuracy: 0.9603 - val_loss: 16.0921 - val_accuracy: 0.6906\n",
            "Accuracy:  0.9598921\n",
            "Accuracy val:  0.7346727505326272\n",
            "__________________________________________________\n"
          ],
          "name": "stdout"
        }
      ]
    },
    {
      "cell_type": "markdown",
      "metadata": {
        "id": "Uh5_fPcFdrCZ",
        "colab_type": "text"
      },
      "source": [
        "# Finally we get the best model: 2 hidden layers, 300 units per layer, 3 epochs to train. the best accuracy 0.81"
      ]
    },
    {
      "cell_type": "markdown",
      "metadata": {
        "id": "4XBl-wtjelgR",
        "colab_type": "text"
      },
      "source": [
        "# Consider different batch sizes"
      ]
    },
    {
      "cell_type": "code",
      "metadata": {
        "id": "oaC09K-vX6ee",
        "colab_type": "code",
        "outputId": "1f353858-6fec-4ac1-ffff-f7fa2537bc30",
        "colab": {
          "base_uri": "https://localhost:8080/",
          "height": 1000
        }
      },
      "source": [
        "loss = []\n",
        "loss_val = []\n",
        "for bsize in [16, 32, 64, 128, 256, 512]:\n",
        "    print(f'batch size: {bsize}')\n",
        "    print('_'*50)\n",
        "    history = net300.fit(train_features, \n",
        "                      train_target,\n",
        "                      epochs=3, \n",
        "                      verbose=1,\n",
        "                      batch_size=bsize, \n",
        "                      validation_data=(test_features, test_target))\n",
        "    loss.append(np.array(history.history['loss']).mean())\n",
        "    loss_val.append(np.array(history.history['val_loss']).mean())\n",
        "    print('Loss: ', np.array(history.history['loss']).mean())\n",
        "    print('Loss val: ', np.array(history.history['val_loss']).mean())\n",
        "    print('_'*50)"
      ],
      "execution_count": 0,
      "outputs": [
        {
          "output_type": "stream",
          "text": [
            "batch size: 16\n",
            "__________________________________________________\n",
            "Train on 8982 samples, validate on 2246 samples\n",
            "Epoch 1/3\n",
            "8982/8982 [==============================] - 21s 2ms/step - loss: 0.0969 - accuracy: 0.9615 - val_loss: 24.9863 - val_accuracy: 0.6932\n",
            "Epoch 2/3\n",
            "8982/8982 [==============================] - 20s 2ms/step - loss: 0.1808 - accuracy: 0.9604 - val_loss: 24.4766 - val_accuracy: 0.6870\n",
            "Epoch 3/3\n",
            "8982/8982 [==============================] - 20s 2ms/step - loss: 0.1277 - accuracy: 0.9607 - val_loss: 24.9549 - val_accuracy: 0.7119\n",
            "Loss:  0.1351121360283479\n",
            "Loss val:  24.80592831336769\n",
            "__________________________________________________\n",
            "batch size: 32\n",
            "__________________________________________________\n",
            "Train on 8982 samples, validate on 2246 samples\n",
            "Epoch 1/3\n",
            "8982/8982 [==============================] - 10s 1ms/step - loss: 0.1239 - accuracy: 0.9605 - val_loss: 24.5799 - val_accuracy: 0.6866\n",
            "Epoch 2/3\n",
            "8982/8982 [==============================] - 10s 1ms/step - loss: 0.1005 - accuracy: 0.9621 - val_loss: 27.2295 - val_accuracy: 0.6687\n",
            "Epoch 3/3\n",
            "8982/8982 [==============================] - 10s 1ms/step - loss: 0.1214 - accuracy: 0.9619 - val_loss: 24.1321 - val_accuracy: 0.6834\n",
            "Loss:  0.1152912547603789\n",
            "Loss val:  25.31381204256356\n",
            "__________________________________________________\n",
            "batch size: 64\n",
            "__________________________________________________\n",
            "Train on 8982 samples, validate on 2246 samples\n",
            "Epoch 1/3\n",
            "8982/8982 [==============================] - 6s 716us/step - loss: 0.1170 - accuracy: 0.9604 - val_loss: 24.1317 - val_accuracy: 0.6932\n",
            "Epoch 2/3\n",
            "8982/8982 [==============================] - 6s 709us/step - loss: 0.0862 - accuracy: 0.9635 - val_loss: 24.3067 - val_accuracy: 0.6901\n",
            "Epoch 3/3\n",
            "8982/8982 [==============================] - 6s 716us/step - loss: 0.0832 - accuracy: 0.9615 - val_loss: 25.9895 - val_accuracy: 0.6670\n",
            "Loss:  0.09547893341233955\n",
            "Loss val:  24.809292791858557\n",
            "__________________________________________________\n",
            "batch size: 128\n",
            "__________________________________________________\n",
            "Train on 8982 samples, validate on 2246 samples\n",
            "Epoch 1/3\n",
            "8982/8982 [==============================] - 4s 497us/step - loss: 0.0817 - accuracy: 0.9627 - val_loss: 25.9994 - val_accuracy: 0.6883\n",
            "Epoch 2/3\n",
            "8982/8982 [==============================] - 5s 508us/step - loss: 0.0688 - accuracy: 0.9629 - val_loss: 25.2367 - val_accuracy: 0.6768\n",
            "Epoch 3/3\n",
            "8982/8982 [==============================] - 5s 508us/step - loss: 0.0667 - accuracy: 0.9611 - val_loss: 25.6927 - val_accuracy: 0.6665\n",
            "Loss:  0.07240790576168532\n",
            "Loss val:  25.6429401979704\n",
            "__________________________________________________\n",
            "batch size: 256\n",
            "__________________________________________________\n",
            "Train on 8982 samples, validate on 2246 samples\n",
            "Epoch 1/3\n",
            "8982/8982 [==============================] - 4s 402us/step - loss: 0.0674 - accuracy: 0.9610 - val_loss: 26.4661 - val_accuracy: 0.6549\n",
            "Epoch 2/3\n",
            "8982/8982 [==============================] - 4s 397us/step - loss: 0.0640 - accuracy: 0.9606 - val_loss: 27.4433 - val_accuracy: 0.6656\n",
            "Epoch 3/3\n",
            "8982/8982 [==============================] - 4s 398us/step - loss: 0.1028 - accuracy: 0.9597 - val_loss: 24.5988 - val_accuracy: 0.6514\n",
            "Loss:  0.0780654756768991\n",
            "Loss val:  26.16939664191328\n",
            "__________________________________________________\n",
            "batch size: 512\n",
            "__________________________________________________\n",
            "Train on 8982 samples, validate on 2246 samples\n",
            "Epoch 1/3\n",
            "8982/8982 [==============================] - 3s 347us/step - loss: 0.0591 - accuracy: 0.9642 - val_loss: 25.5972 - val_accuracy: 0.6679\n",
            "Epoch 2/3\n",
            "8982/8982 [==============================] - 3s 343us/step - loss: 0.0549 - accuracy: 0.9619 - val_loss: 25.7059 - val_accuracy: 0.6705\n",
            "Epoch 3/3\n",
            "8982/8982 [==============================] - 3s 344us/step - loss: 0.0542 - accuracy: 0.9617 - val_loss: 25.9053 - val_accuracy: 0.6625\n",
            "Loss:  0.056078498533973974\n",
            "Loss val:  25.73613650921227\n",
            "__________________________________________________\n"
          ],
          "name": "stdout"
        }
      ]
    },
    {
      "cell_type": "code",
      "metadata": {
        "id": "o597VJseX6cr",
        "colab_type": "code",
        "outputId": "a32495fc-3aa9-4436-8076-8a05751c3f13",
        "colab": {
          "base_uri": "https://localhost:8080/",
          "height": 279
        }
      },
      "source": [
        "import matplotlib.pyplot as plt\n",
        "\n",
        "plt.plot([16, 32, 64, 128, 256, 512], loss)\n",
        "plt.xlabel('batch size')\n",
        "plt.ylabel('loss');"
      ],
      "execution_count": 0,
      "outputs": [
        {
          "output_type": "display_data",
          "data": {
            "image/png": "[encoded data removed]",
            "text/plain": [
              "<Figure size 432x288 with 1 Axes>"
            ]
          },
          "metadata": {
            "tags": [],
            "needs_background": "light"
          }
        }
      ]
    },
    {
      "cell_type": "code",
      "metadata": {
        "id": "FIfg-6BiX6Za",
        "colab_type": "code",
        "outputId": "410dc8af-35fa-4b29-89bb-01117fda0872",
        "colab": {
          "base_uri": "https://localhost:8080/",
          "height": 279
        }
      },
      "source": [
        "plt.plot([16, 32, 64, 128, 256, 512], loss_val)\n",
        "plt.xlabel('batch size')\n",
        "plt.ylabel('loss_val');"
      ],
      "execution_count": 0,
      "outputs": [
        {
          "output_type": "display_data",
          "data": {
            "image/png": "[encoded data removed]",
            "text/plain": [
              "<Figure size 432x288 with 1 Axes>"
            ]
          },
          "metadata": {
            "tags": [],
            "needs_background": "light"
          }
        }
      ]
    },
    {
      "cell_type": "markdown",
      "metadata": {
        "id": "mv-XphNdmZlU",
        "colab_type": "text"
      },
      "source": [
        "## higher batch sizes leads to higher asymptotic val loss"
      ]
    },
    {
      "cell_type": "markdown",
      "metadata": {
        "id": "_QaTzoaxHI7K",
        "colab_type": "text"
      },
      "source": [
        "# different regularization options (e.g. L2 and dropout)"
      ]
    },
    {
      "cell_type": "code",
      "metadata": {
        "id": "Xj8TcxMNHKoK",
        "colab_type": "code",
        "colab": {
          "base_uri": "https://localhost:8080/",
          "height": 374
        },
        "outputId": "a6a79078-4179-499d-a1c7-568e73f37ad6"
      },
      "source": [
        "# consider default l1 regularization\n",
        "net_l1 = models.Sequential()\n",
        "net_l1.add(layers.Dense(units=300, activation='relu', input_shape=(10000,), kernel_regularizer='l1'))\n",
        "net_l1.add(layers.Dense(units=300, activation='relu', input_shape=(10000,), kernel_regularizer='l1'))\n",
        "net_l1.add(layers.Dense(units=46, activation='softmax'))\n",
        "\n",
        "net_l1.compile(loss='categorical_crossentropy',\n",
        "                optimizer='rmsprop',\n",
        "                metrics=['accuracy']) \n",
        "\n",
        "\n",
        "history_l1_default = net_l1.fit(train_features, \n",
        "                      train_target,\n",
        "                      epochs=10, \n",
        "                      verbose=1,\n",
        "                      batch_size=100, \n",
        "                      validation_data=(test_features, test_target))\n"
      ],
      "execution_count": 5,
      "outputs": [
        {
          "output_type": "stream",
          "text": [
            "Train on 8982 samples, validate on 2246 samples\n",
            "Epoch 1/10\n",
            "8982/8982 [==============================] - 6s 712us/step - loss: 48.7210 - accuracy: 0.3692 - val_loss: 17.6749 - val_accuracy: 0.4893\n",
            "Epoch 2/10\n",
            "8982/8982 [==============================] - 6s 692us/step - loss: 16.7635 - accuracy: 0.4994 - val_loss: 16.4289 - val_accuracy: 0.4996\n",
            "Epoch 3/10\n",
            "8982/8982 [==============================] - 6s 695us/step - loss: 16.5166 - accuracy: 0.5118 - val_loss: 16.3822 - val_accuracy: 0.5249\n",
            "Epoch 4/10\n",
            "8982/8982 [==============================] - 6s 693us/step - loss: 16.4521 - accuracy: 0.5262 - val_loss: 16.3260 - val_accuracy: 0.5543\n",
            "Epoch 5/10\n",
            "8982/8982 [==============================] - 6s 694us/step - loss: 16.3977 - accuracy: 0.5563 - val_loss: 16.2737 - val_accuracy: 0.5646\n",
            "Epoch 6/10\n",
            "8982/8982 [==============================] - 6s 689us/step - loss: 16.3531 - accuracy: 0.5684 - val_loss: 16.2513 - val_accuracy: 0.5730\n",
            "Epoch 7/10\n",
            "8982/8982 [==============================] - 6s 690us/step - loss: 16.3265 - accuracy: 0.5725 - val_loss: 16.2186 - val_accuracy: 0.5757\n",
            "Epoch 8/10\n",
            "8982/8982 [==============================] - 6s 694us/step - loss: 16.3049 - accuracy: 0.5766 - val_loss: 16.2165 - val_accuracy: 0.5766\n",
            "Epoch 9/10\n",
            "8982/8982 [==============================] - 6s 691us/step - loss: 16.2922 - accuracy: 0.5790 - val_loss: 16.2088 - val_accuracy: 0.5828\n",
            "Epoch 10/10\n",
            "8982/8982 [==============================] - 6s 681us/step - loss: 16.2787 - accuracy: 0.5812 - val_loss: 16.1876 - val_accuracy: 0.5788\n"
          ],
          "name": "stdout"
        }
      ]
    },
    {
      "cell_type": "markdown",
      "metadata": {
        "id": "J6ZLiLjWJ6hq",
        "colab_type": "text"
      },
      "source": [
        "## weak model performance, but we reduced owerfitting"
      ]
    },
    {
      "cell_type": "code",
      "metadata": {
        "id": "KJBa7hclHLcL",
        "colab_type": "code",
        "colab": {
          "base_uri": "https://localhost:8080/",
          "height": 374
        },
        "outputId": "af3f77e3-c301-4303-97b5-184d34b5b570"
      },
      "source": [
        "# non default l1, try different parameters\n",
        "net_l1 = models.Sequential()\n",
        "net_l1.add(layers.Dense(units=300, activation='relu', input_shape=(10000,), kernel_regularizer=keras.regularizers.l1(0.01)))\n",
        "net_l1.add(layers.Dense(units=300, activation='relu', input_shape=(10000,), kernel_regularizer=keras.regularizers.l1(0.01)))\n",
        "net_l1.add(layers.Dense(units=46, activation='softmax'))\n",
        "\n",
        "net_l1.compile(loss='categorical_crossentropy',\n",
        "                optimizer='rmsprop',\n",
        "                metrics=['accuracy']) \n",
        "\n",
        "\n",
        "history_l1 = net_l1.fit(train_features, \n",
        "                      train_target,\n",
        "                      epochs=10, \n",
        "                      verbose=1,\n",
        "                      batch_size=100, \n",
        "                      validation_data=(test_features, test_target))\n"
      ],
      "execution_count": 8,
      "outputs": [
        {
          "output_type": "stream",
          "text": [
            "Train on 8982 samples, validate on 2246 samples\n",
            "Epoch 1/10\n",
            "8982/8982 [==============================] - 6s 693us/step - loss: 48.6659 - accuracy: 0.3805 - val_loss: 17.6452 - val_accuracy: 0.5098\n",
            "Epoch 2/10\n",
            "8982/8982 [==============================] - 6s 681us/step - loss: 16.6187 - accuracy: 0.5089 - val_loss: 16.2332 - val_accuracy: 0.5223\n",
            "Epoch 3/10\n",
            "8982/8982 [==============================] - 6s 684us/step - loss: 16.3214 - accuracy: 0.5216 - val_loss: 16.1968 - val_accuracy: 0.5227\n",
            "Epoch 4/10\n",
            "8982/8982 [==============================] - 6s 680us/step - loss: 16.2916 - accuracy: 0.5328 - val_loss: 16.1770 - val_accuracy: 0.5668\n",
            "Epoch 5/10\n",
            "8982/8982 [==============================] - 6s 689us/step - loss: 16.2554 - accuracy: 0.5611 - val_loss: 16.1271 - val_accuracy: 0.5726\n",
            "Epoch 6/10\n",
            "8982/8982 [==============================] - 6s 674us/step - loss: 16.2139 - accuracy: 0.5703 - val_loss: 16.1055 - val_accuracy: 0.5708\n",
            "Epoch 7/10\n",
            "8982/8982 [==============================] - 6s 681us/step - loss: 16.1959 - accuracy: 0.5738 - val_loss: 16.1149 - val_accuracy: 0.5677\n",
            "Epoch 8/10\n",
            "8982/8982 [==============================] - 6s 683us/step - loss: 16.1908 - accuracy: 0.5748 - val_loss: 16.0954 - val_accuracy: 0.5766\n",
            "Epoch 9/10\n",
            "8982/8982 [==============================] - 6s 670us/step - loss: 16.1783 - accuracy: 0.5785 - val_loss: 16.0729 - val_accuracy: 0.5819\n",
            "Epoch 10/10\n",
            "8982/8982 [==============================] - 6s 671us/step - loss: 16.1595 - accuracy: 0.5821 - val_loss: 16.0632 - val_accuracy: 0.5801\n"
          ],
          "name": "stdout"
        }
      ]
    },
    {
      "cell_type": "markdown",
      "metadata": {
        "id": "LcrWLw5JKE-R",
        "colab_type": "text"
      },
      "source": [
        "## model still acts the same, try l2 regularization"
      ]
    },
    {
      "cell_type": "code",
      "metadata": {
        "id": "jb1CoJGTHLad",
        "colab_type": "code",
        "colab": {
          "base_uri": "https://localhost:8080/",
          "height": 374
        },
        "outputId": "8d38bb29-a791-448f-9409-07372a929b78"
      },
      "source": [
        "# default l2\n",
        "net_l2 = models.Sequential()\n",
        "net_l2.add(layers.Dense(units=300, activation='relu', input_shape=(10000,), kernel_regularizer='l2'))\n",
        "net_l2.add(layers.Dense(units=300, activation='relu', input_shape=(10000,), kernel_regularizer='l2'))\n",
        "net_l2.add(layers.Dense(units=46, activation='softmax'))\n",
        "\n",
        "net_l2.compile(loss='categorical_crossentropy',\n",
        "                optimizer='rmsprop',\n",
        "                metrics=['accuracy']) \n",
        "\n",
        "\n",
        "history_l2_default = net_l2.fit(train_features, \n",
        "                      train_target,\n",
        "                      epochs=10, \n",
        "                      verbose=1,\n",
        "                      batch_size=100, \n",
        "                      validation_data=(test_features, test_target))"
      ],
      "execution_count": 9,
      "outputs": [
        {
          "output_type": "stream",
          "text": [
            "Train on 8982 samples, validate on 2246 samples\n",
            "Epoch 1/10\n",
            "8982/8982 [==============================] - 6s 670us/step - loss: 3.2601 - accuracy: 0.6602 - val_loss: 1.9385 - val_accuracy: 0.7213\n",
            "Epoch 2/10\n",
            "8982/8982 [==============================] - 6s 644us/step - loss: 1.6879 - accuracy: 0.7400 - val_loss: 1.6870 - val_accuracy: 0.7026\n",
            "Epoch 3/10\n",
            "8982/8982 [==============================] - 6s 642us/step - loss: 1.4996 - accuracy: 0.7590 - val_loss: 1.5193 - val_accuracy: 0.7413\n",
            "Epoch 4/10\n",
            "8982/8982 [==============================] - 6s 646us/step - loss: 1.4158 - accuracy: 0.7685 - val_loss: 1.4896 - val_accuracy: 0.7502\n",
            "Epoch 5/10\n",
            "8982/8982 [==============================] - 6s 641us/step - loss: 1.3672 - accuracy: 0.7739 - val_loss: 1.4658 - val_accuracy: 0.7311\n",
            "Epoch 6/10\n",
            "8982/8982 [==============================] - 6s 651us/step - loss: 1.3135 - accuracy: 0.7808 - val_loss: 1.4309 - val_accuracy: 0.7480\n",
            "Epoch 7/10\n",
            "8982/8982 [==============================] - 6s 648us/step - loss: 1.2625 - accuracy: 0.7918 - val_loss: 1.3823 - val_accuracy: 0.7591\n",
            "Epoch 8/10\n",
            "8982/8982 [==============================] - 6s 645us/step - loss: 1.2207 - accuracy: 0.7987 - val_loss: 1.3992 - val_accuracy: 0.7582\n",
            "Epoch 9/10\n",
            "8982/8982 [==============================] - 6s 634us/step - loss: 1.1848 - accuracy: 0.8043 - val_loss: 1.3451 - val_accuracy: 0.7578\n",
            "Epoch 10/10\n",
            "8982/8982 [==============================] - 6s 640us/step - loss: 1.1522 - accuracy: 0.8079 - val_loss: 1.3299 - val_accuracy: 0.7703\n"
          ],
          "name": "stdout"
        }
      ]
    },
    {
      "cell_type": "markdown",
      "metadata": {
        "id": "u7ABtJTdKhCs",
        "colab_type": "text"
      },
      "source": [
        "## l2 works much better and still reduce overfitting"
      ]
    },
    {
      "cell_type": "code",
      "metadata": {
        "id": "yNZ2kwQpHLWw",
        "colab_type": "code",
        "colab": {
          "base_uri": "https://localhost:8080/",
          "height": 374
        },
        "outputId": "170e0503-6848-4878-d3fe-19b0dd75504a"
      },
      "source": [
        "# try non default l2\n",
        "net_l2 = models.Sequential()\n",
        "net_l2.add(layers.Dense(units=300, activation='relu', input_shape=(10000,), kernel_regularizer=keras.regularizers.l2(0.01)))\n",
        "net_l2.add(layers.Dense(units=300, activation='relu', input_shape=(10000,), kernel_regularizer=keras.regularizers.l2(0.01)))\n",
        "net_l2.add(layers.Dense(units=46, activation='softmax'))\n",
        "\n",
        "net_l2.compile(loss='categorical_crossentropy',\n",
        "                optimizer='rmsprop',\n",
        "                metrics=['accuracy']) \n",
        "\n",
        "\n",
        "history_l2 = net_l2.fit(train_features, \n",
        "                      train_target,\n",
        "                      epochs=10, \n",
        "                      verbose=1,\n",
        "                      batch_size=100, \n",
        "                      validation_data=(test_features, test_target))"
      ],
      "execution_count": 14,
      "outputs": [
        {
          "output_type": "stream",
          "text": [
            "Train on 8982 samples, validate on 2246 samples\n",
            "Epoch 1/10\n",
            "8982/8982 [==============================] - 6s 672us/step - loss: 3.2220 - accuracy: 0.6618 - val_loss: 1.9600 - val_accuracy: 0.7088\n",
            "Epoch 2/10\n",
            "8982/8982 [==============================] - 6s 662us/step - loss: 1.6873 - accuracy: 0.7393 - val_loss: 1.6525 - val_accuracy: 0.7346\n",
            "Epoch 3/10\n",
            "8982/8982 [==============================] - 6s 653us/step - loss: 1.4946 - accuracy: 0.7575 - val_loss: 1.5580 - val_accuracy: 0.7324\n",
            "Epoch 4/10\n",
            "8982/8982 [==============================] - 6s 650us/step - loss: 1.4058 - accuracy: 0.7711 - val_loss: 1.4868 - val_accuracy: 0.7458\n",
            "Epoch 5/10\n",
            "8982/8982 [==============================] - 6s 648us/step - loss: 1.3471 - accuracy: 0.7794 - val_loss: 1.4647 - val_accuracy: 0.7386\n",
            "Epoch 6/10\n",
            "8982/8982 [==============================] - 6s 646us/step - loss: 1.3011 - accuracy: 0.7870 - val_loss: 1.4373 - val_accuracy: 0.7573\n",
            "Epoch 7/10\n",
            "8982/8982 [==============================] - 6s 654us/step - loss: 1.2537 - accuracy: 0.7940 - val_loss: 1.3789 - val_accuracy: 0.7524\n",
            "Epoch 8/10\n",
            "8982/8982 [==============================] - 6s 653us/step - loss: 1.2175 - accuracy: 0.8013 - val_loss: 1.3542 - val_accuracy: 0.7578\n",
            "Epoch 9/10\n",
            "8982/8982 [==============================] - 6s 648us/step - loss: 1.1738 - accuracy: 0.8064 - val_loss: 1.3273 - val_accuracy: 0.7658\n",
            "Epoch 10/10\n",
            "8982/8982 [==============================] - 6s 652us/step - loss: 1.1359 - accuracy: 0.8142 - val_loss: 1.3332 - val_accuracy: 0.7600\n"
          ],
          "name": "stdout"
        }
      ]
    },
    {
      "cell_type": "markdown",
      "metadata": {
        "id": "7k-TgNAhLifA",
        "colab_type": "text"
      },
      "source": [
        "## experiment with dropout"
      ]
    },
    {
      "cell_type": "code",
      "metadata": {
        "id": "eQDyTu_rHLVJ",
        "colab_type": "code",
        "colab": {
          "base_uri": "https://localhost:8080/",
          "height": 374
        },
        "outputId": "a9a66bbb-dc20-4f1c-e4e5-9224171fe1e0"
      },
      "source": [
        "# dropout 0.25\n",
        "net_drop = models.Sequential()\n",
        "net_drop.add(layers.Dense(units=300, activation='relu', input_shape=(10000,)))\n",
        "net_drop.add(layers.Dense(units=300, activation='relu', input_shape=(10000,)))\n",
        "net_drop.add(layers.Dropout(0.25))\n",
        "net_drop.add(layers.Dense(units=46, activation='softmax'))\n",
        "\n",
        "net_drop.compile(loss='categorical_crossentropy',\n",
        "                optimizer='rmsprop',\n",
        "                metrics=['accuracy']) \n",
        "\n",
        "\n",
        "history_drop = net_drop.fit(train_features, \n",
        "                      train_target,\n",
        "                      epochs=10, \n",
        "                      verbose=1,\n",
        "                      batch_size=100, \n",
        "                      validation_data=(test_features, test_target))"
      ],
      "execution_count": 15,
      "outputs": [
        {
          "output_type": "stream",
          "text": [
            "Train on 8982 samples, validate on 2246 samples\n",
            "Epoch 1/10\n",
            "8982/8982 [==============================] - 5s 582us/step - loss: 1.3485 - accuracy: 0.7005 - val_loss: 1.0017 - val_accuracy: 0.7658\n",
            "Epoch 2/10\n",
            "8982/8982 [==============================] - 5s 563us/step - loss: 0.6190 - accuracy: 0.8641 - val_loss: 0.9018 - val_accuracy: 0.7988\n",
            "Epoch 3/10\n",
            "8982/8982 [==============================] - 5s 563us/step - loss: 0.3486 - accuracy: 0.9225 - val_loss: 0.9139 - val_accuracy: 0.8126\n",
            "Epoch 4/10\n",
            "8982/8982 [==============================] - 5s 570us/step - loss: 0.2443 - accuracy: 0.9413 - val_loss: 1.0662 - val_accuracy: 0.8014\n",
            "Epoch 5/10\n",
            "8982/8982 [==============================] - 5s 564us/step - loss: 0.1982 - accuracy: 0.9471 - val_loss: 1.1126 - val_accuracy: 0.7983\n",
            "Epoch 6/10\n",
            "8982/8982 [==============================] - 5s 558us/step - loss: 0.1686 - accuracy: 0.9491 - val_loss: 1.3014 - val_accuracy: 0.7939\n",
            "Epoch 7/10\n",
            "8982/8982 [==============================] - 5s 568us/step - loss: 0.1543 - accuracy: 0.9510 - val_loss: 1.4093 - val_accuracy: 0.7845\n",
            "Epoch 8/10\n",
            "8982/8982 [==============================] - 5s 568us/step - loss: 0.1396 - accuracy: 0.9525 - val_loss: 1.4461 - val_accuracy: 0.8010\n",
            "Epoch 9/10\n",
            "8982/8982 [==============================] - 5s 561us/step - loss: 0.1263 - accuracy: 0.9531 - val_loss: 1.5094 - val_accuracy: 0.7943\n",
            "Epoch 10/10\n",
            "8982/8982 [==============================] - 5s 564us/step - loss: 0.1198 - accuracy: 0.9526 - val_loss: 1.6548 - val_accuracy: 0.7988\n"
          ],
          "name": "stdout"
        }
      ]
    },
    {
      "cell_type": "code",
      "metadata": {
        "id": "xKdzlogWHLTg",
        "colab_type": "code",
        "colab": {
          "base_uri": "https://localhost:8080/",
          "height": 374
        },
        "outputId": "a53240d3-b6ee-4009-f6c9-4bcccd662cf4"
      },
      "source": [
        "# dropout 0.5\n",
        "net_drop = models.Sequential()\n",
        "net_drop.add(layers.Dense(units=300, activation='relu', input_shape=(10000,)))\n",
        "net_drop.add(layers.Dense(units=300, activation='relu', input_shape=(10000,)))\n",
        "net_drop.add(layers.Dropout(0.5))\n",
        "net_drop.add(layers.Dense(units=46, activation='softmax'))\n",
        "\n",
        "net_drop.compile(loss='categorical_crossentropy',\n",
        "                optimizer='rmsprop',\n",
        "                metrics=['accuracy']) \n",
        "\n",
        "\n",
        "history_drop = net_drop.fit(train_features, \n",
        "                      train_target,\n",
        "                      epochs=10, \n",
        "                      verbose=1,\n",
        "                      batch_size=100, \n",
        "                      validation_data=(test_features, test_target))"
      ],
      "execution_count": 16,
      "outputs": [
        {
          "output_type": "stream",
          "text": [
            "Train on 8982 samples, validate on 2246 samples\n",
            "Epoch 1/10\n",
            "8982/8982 [==============================] - 5s 572us/step - loss: 1.4447 - accuracy: 0.6780 - val_loss: 1.0548 - val_accuracy: 0.7578\n",
            "Epoch 2/10\n",
            "8982/8982 [==============================] - 5s 561us/step - loss: 0.7329 - accuracy: 0.8321 - val_loss: 0.9314 - val_accuracy: 0.7867\n",
            "Epoch 3/10\n",
            "8982/8982 [==============================] - 5s 559us/step - loss: 0.4463 - accuracy: 0.8958 - val_loss: 0.9146 - val_accuracy: 0.8037\n",
            "Epoch 4/10\n",
            "8982/8982 [==============================] - 5s 557us/step - loss: 0.3020 - accuracy: 0.9284 - val_loss: 1.0050 - val_accuracy: 0.7996\n",
            "Epoch 5/10\n",
            "8982/8982 [==============================] - 5s 554us/step - loss: 0.2280 - accuracy: 0.9417 - val_loss: 1.1187 - val_accuracy: 0.8023\n",
            "Epoch 6/10\n",
            "8982/8982 [==============================] - 5s 561us/step - loss: 0.1943 - accuracy: 0.9487 - val_loss: 1.2580 - val_accuracy: 0.7952\n",
            "Epoch 7/10\n",
            "8982/8982 [==============================] - 5s 548us/step - loss: 0.1709 - accuracy: 0.9516 - val_loss: 1.3357 - val_accuracy: 0.7943\n",
            "Epoch 8/10\n",
            "8982/8982 [==============================] - 5s 563us/step - loss: 0.1536 - accuracy: 0.9522 - val_loss: 1.5261 - val_accuracy: 0.7952\n",
            "Epoch 9/10\n",
            "8982/8982 [==============================] - 5s 559us/step - loss: 0.1452 - accuracy: 0.9520 - val_loss: 1.6008 - val_accuracy: 0.7939\n",
            "Epoch 10/10\n",
            "8982/8982 [==============================] - 5s 558us/step - loss: 0.1325 - accuracy: 0.9548 - val_loss: 1.7298 - val_accuracy: 0.7934\n"
          ],
          "name": "stdout"
        }
      ]
    },
    {
      "cell_type": "markdown",
      "metadata": {
        "id": "MFJ1arIuMZZF",
        "colab_type": "text"
      },
      "source": [
        "## regularization using dropout performs slightly better than l1 and l2"
      ]
    }
  ]
}