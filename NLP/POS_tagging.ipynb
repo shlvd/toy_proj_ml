{
  "nbformat": 4,
  "nbformat_minor": 0,
  "metadata": {
    "colab": {
      "name": "POS_tagging.ipynb",
      "provenance": []
    },
    "kernelspec": {
      "name": "python3",
      "display_name": "Python 3"
    }
  },
  "cells": [
    {
      "cell_type": "code",
      "metadata": {
        "id": "CaO5ar-cdosI",
        "colab_type": "code",
        "colab": {
          "base_uri": "https://localhost:8080/",
          "height": 102
        },
        "outputId": "4548731e-9cac-4beb-a558-94ab95450797"
      },
      "source": [
        "import nltk\n",
        "nltk.download('brown')\n",
        "nltk.download('universal_tagset')"
      ],
      "execution_count": 1,
      "outputs": [
        {
          "output_type": "stream",
          "text": [
            "[nltk_data] Downloading package brown to /root/nltk_data...\n",
            "[nltk_data]   Unzipping corpora/brown.zip.\n",
            "[nltk_data] Downloading package universal_tagset to /root/nltk_data...\n",
            "[nltk_data]   Unzipping taggers/universal_tagset.zip.\n"
          ],
          "name": "stdout"
        },
        {
          "output_type": "execute_result",
          "data": {
            "text/plain": [
              "True"
            ]
          },
          "metadata": {
            "tags": []
          },
          "execution_count": 1
        }
      ]
    },
    {
      "cell_type": "markdown",
      "metadata": {
        "id": "gkcUh2AB1yaK",
        "colab_type": "text"
      },
      "source": [
        "## English Tagger"
      ]
    },
    {
      "cell_type": "code",
      "metadata": {
        "id": "mV5ZPOfYeQ-T",
        "colab_type": "code",
        "colab": {}
      },
      "source": [
        "# load brown corpus with words labeled using the Universal POS Tagset\n",
        "from nltk.corpus import brown\n",
        "data = brown.tagged_sents(tagset='universal')"
      ],
      "execution_count": 0,
      "outputs": []
    },
    {
      "cell_type": "code",
      "metadata": {
        "id": "HmtdGchNeQzM",
        "colab_type": "code",
        "colab": {}
      },
      "source": [
        "# split corpus into train and test sets\n",
        "size = int(len(data) * 0.9)\n",
        "eng_train = data[:size]\n",
        "eng_test = data[size:]"
      ],
      "execution_count": 0,
      "outputs": []
    },
    {
      "cell_type": "code",
      "metadata": {
        "id": "LucFC8dTeQpK",
        "colab_type": "code",
        "colab": {
          "base_uri": "https://localhost:8080/",
          "height": 34
        },
        "outputId": "26b18c8a-60a1-4a10-da10-20970994cf0b"
      },
      "source": [
        "# train a 2-gram tagger combined with a 1-gram backoff tagger on train\n",
        "eng_uni_tagger = nltk.UnigramTagger(eng_train)\n",
        "eng_bi_tagger = nltk.BigramTagger(eng_train, backoff=eng_uni_tagger)\n",
        "# accuracy on test\n",
        "eng_bi_tagger.evaluate(eng_test)"
      ],
      "execution_count": 37,
      "outputs": [
        {
          "output_type": "execute_result",
          "data": {
            "text/plain": [
              "0.9245510362314285"
            ]
          },
          "metadata": {
            "tags": []
          },
          "execution_count": 37
        }
      ]
    },
    {
      "cell_type": "markdown",
      "metadata": {
        "id": "0oaKz7_315Gw",
        "colab_type": "text"
      },
      "source": [
        "## Spanish Tagger"
      ]
    },
    {
      "cell_type": "code",
      "metadata": {
        "id": "CyBEkOiQeQmp",
        "colab_type": "code",
        "colab": {}
      },
      "source": [
        "# function that loads data for the spanish tagger\n",
        "def load_data(file):\n",
        "    data = []\n",
        "    with open(file) as f:\n",
        "        for line in f:\n",
        "            data.append(line)\n",
        "    return data    "
      ],
      "execution_count": 0,
      "outputs": []
    },
    {
      "cell_type": "code",
      "metadata": {
        "id": "8edn8CtRwpYp",
        "colab_type": "code",
        "colab": {}
      },
      "source": [
        "# load data\n",
        "es_train_raw = load_data('es.train')\n",
        "es_test_raw = load_data('es.test')"
      ],
      "execution_count": 0,
      "outputs": []
    },
    {
      "cell_type": "code",
      "metadata": {
        "id": "JHINr9WqeQfF",
        "colab_type": "code",
        "colab": {}
      },
      "source": [
        "# function that convert spanish data to the right format\n",
        "def preprocess_raw(raw_list):\n",
        "    clean_data = []\n",
        "    # loop through each sentence\n",
        "    for sent in raw_list:\n",
        "        # split sentence into tokens word_#_POS\n",
        "        tokens = sent.split()\n",
        "        sentence_pos = []\n",
        "        for token in tokens:\n",
        "            #split each token and convert to tuple (word, POS)\n",
        "            sentence_pos.append(tuple(token.split('_#_')))\n",
        "        clean_data.append(sentence_pos)\n",
        "    return clean_data"
      ],
      "execution_count": 0,
      "outputs": []
    },
    {
      "cell_type": "code",
      "metadata": {
        "id": "bwHU5wedxu4j",
        "colab_type": "code",
        "colab": {}
      },
      "source": [
        "#convert spanish data to the right format\n",
        "es_train = preprocess_raw(es_train_raw)\n",
        "es_test = preprocess_raw(es_test_raw)"
      ],
      "execution_count": 0,
      "outputs": []
    },
    {
      "cell_type": "code",
      "metadata": {
        "id": "SOolzlAiyC1N",
        "colab_type": "code",
        "colab": {
          "base_uri": "https://localhost:8080/",
          "height": 34
        },
        "outputId": "2798e95d-233b-44ba-f6d3-cb05afd29037"
      },
      "source": [
        "# train a 2-gram tagger combined with a 1-gram backoff tagger on train\n",
        "es_uni_tagger = nltk.UnigramTagger(es_train)\n",
        "es_bi_tagger = nltk.BigramTagger(es_train, backoff=es_uni_tagger)\n",
        "# accuracy on test\n",
        "es_bi_tagger.evaluate(es_test)"
      ],
      "execution_count": 38,
      "outputs": [
        {
          "output_type": "execute_result",
          "data": {
            "text/plain": [
              "0.8742616033755274"
            ]
          },
          "metadata": {
            "tags": []
          },
          "execution_count": 38
        }
      ]
    }
  ]
}