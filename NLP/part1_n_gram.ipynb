{
  "nbformat": 4,
  "nbformat_minor": 0,
  "metadata": {
    "colab": {
      "name": "part1_n_gram.ipynb",
      "provenance": [],
      "collapsed_sections": []
    },
    "kernelspec": {
      "name": "python3",
      "display_name": "Python 3"
    }
  },
  "cells": [
    {
      "cell_type": "code",
      "metadata": {
        "id": "wVVQ7gRRDMs2",
        "colab_type": "code",
        "colab": {}
      },
      "source": [
        "# import numpy library\n",
        "import numpy as np\n",
        "import random"
      ],
      "execution_count": 0,
      "outputs": []
    },
    {
      "cell_type": "code",
      "metadata": {
        "id": "1wTlA5l7DNq8",
        "colab_type": "code",
        "outputId": "a9154277-050a-487d-ff30-afaa140c26a3",
        "colab": {
          "base_uri": "https://localhost:8080/",
          "height": 71
        }
      },
      "source": [
        "import os\n",
        "# list of our sonnet files \n",
        "# NOTE!!! to run this code on your local machine replace variable PATH below to your local sonnets folder path\n",
        "PATH = '/content/sonnets/'\n",
        "files = os.listdir(PATH)\n",
        "print(files)\n",
        "# ensure that we have 154 sonnets\n",
        "print(len(files))"
      ],
      "execution_count": 3,
      "outputs": [
        {
          "output_type": "stream",
          "text": [
            "['11.txt', '106.txt', '109.txt', '66.txt', '15.txt', '126.txt', '103.txt', '12.txt', '134.txt', '14.txt', '56.txt', '131.txt', '47.txt', '23.txt', '144.txt', '96.txt', '30.txt', '107.txt', '153.txt', '152.txt', '137.txt', '150.txt', '40.txt', '9.txt', '19.txt', '90.txt', '146.txt', '95.txt', '133.txt', '110.txt', '132.txt', '16.txt', '21.txt', '94.txt', '117.txt', '38.txt', '148.txt', '140.txt', '48.txt', '32.txt', '83.txt', '46.txt', '49.txt', '88.txt', '123.txt', '122.txt', '28.txt', '93.txt', '33.txt', '121.txt', '115.txt', '57.txt', '35.txt', '41.txt', '1.txt', '136.txt', '51.txt', '124.txt', '102.txt', '76.txt', '85.txt', '69.txt', '114.txt', '31.txt', '84.txt', '20.txt', '71.txt', '26.txt', '3.txt', '53.txt', '89.txt', '127.txt', '74.txt', '138.txt', '58.txt', '63.txt', '108.txt', '97.txt', '141.txt', '68.txt', '143.txt', '81.txt', '125.txt', '154.txt', '10.txt', '59.txt', '50.txt', '87.txt', '52.txt', '34.txt', '39.txt', '6.txt', '99.txt', '54.txt', '129.txt', '128.txt', '104.txt', '130.txt', '149.txt', '135.txt', '29.txt', '64.txt', '4.txt', '79.txt', '43.txt', '100.txt', '7.txt', '151.txt', '8.txt', '139.txt', '17.txt', '77.txt', '5.txt', '18.txt', '92.txt', '44.txt', '13.txt', '61.txt', '111.txt', '73.txt', '36.txt', '112.txt', '67.txt', '78.txt', '75.txt', '62.txt', '118.txt', '70.txt', '145.txt', '55.txt', '25.txt', '42.txt', '101.txt', '113.txt', '37.txt', '45.txt', '105.txt', '86.txt', '80.txt', '22.txt', '120.txt', '116.txt', '119.txt', '82.txt', '98.txt', '60.txt', '24.txt', '65.txt', '27.txt', '142.txt', '147.txt', '91.txt', '2.txt', '72.txt']\n",
            "154\n"
          ],
          "name": "stdout"
        }
      ]
    },
    {
      "cell_type": "code",
      "metadata": {
        "id": "2isYh-752jbK",
        "colab_type": "code",
        "colab": {}
      },
      "source": [
        "# list of all lines\n",
        "corpus = []\n",
        "#loop through all sonnets\n",
        "for file in files:\n",
        "    #open file\n",
        "    with open(PATH + file) as f:\n",
        "        #append each line to corpus\n",
        "        for line in f: \n",
        "            #we use rstrip() to get rid of '\\n' in the end of each line\n",
        "            corpus.append(line.rstrip())"
      ],
      "execution_count": 0,
      "outputs": []
    },
    {
      "cell_type": "code",
      "metadata": {
        "id": "R_oAnDfh2jYa",
        "colab_type": "code",
        "outputId": "b3f5030e-bf69-46a4-9afd-8aff02f82677",
        "colab": {
          "base_uri": "https://localhost:8080/",
          "height": 34
        }
      },
      "source": [
        "#ensure that we have 152 * 14 + 15 + 12 = 2155 lines \n",
        "len(corpus)"
      ],
      "execution_count": 5,
      "outputs": [
        {
          "output_type": "execute_result",
          "data": {
            "text/plain": [
              "2155"
            ]
          },
          "metadata": {
            "tags": []
          },
          "execution_count": 5
        }
      ]
    },
    {
      "cell_type": "code",
      "metadata": {
        "id": "lbDdZh6p2jS4",
        "colab_type": "code",
        "colab": {}
      },
      "source": [
        "# function that creates n-grams and counts their occurences in sonnets\n",
        "def n_gram(corpus, n):\n",
        "    # list to store ngrams\n",
        "    n_grams = []\n",
        "    # dict to store n-gram : count pairs\n",
        "    n_grams_count = {}\n",
        "    # loop through corpus\n",
        "    for line in corpus:\n",
        "        # pad each line  \n",
        "        tokens =  ['<s>'] * (n-1) + line.split(' ') + ['</s>']\n",
        "        # create n-gram and append it to list\n",
        "        for i in range(len(tokens) - n + 1):\n",
        "            n_grams.append(tokens[i:i+n])\n",
        "            # count n-grams\n",
        "            if tuple(tokens[i:i+n]) in n_grams_count:\n",
        "                n_grams_count[tuple(tokens[i:i+n])] += 1\n",
        "            else:\n",
        "                n_grams_count[tuple(tokens[i:i+n])] = 1       \n",
        "    return n_grams, n_grams_count  "
      ],
      "execution_count": 0,
      "outputs": []
    },
    {
      "cell_type": "code",
      "metadata": {
        "id": "7ya6YgI4o_UI",
        "colab_type": "code",
        "colab": {}
      },
      "source": [
        "#function that generates random line\n",
        "def random_sentence(n):\n",
        "    chain = []\n",
        "    # create n-grams and count them\n",
        "    n_grams, n_grams_count = n_gram(corpus, n)\n",
        "    # generate start n-gram\n",
        "    start = random.choices(list(n_grams_count.keys()), list(n_grams_count.values()))\n",
        "    # if it doesn't start with ('<s>',)*(n - 1), generate n-grams until it starts with ('<s>',)*(n - 1)\n",
        "    while start[0][:n-1] != ('<s>',)*(n - 1):\n",
        "        start = random.choices(list(n_grams_count.keys()), list(n_grams_count.values()))\n",
        "    chain.append(list(start[0]))\n",
        "    # generate futrther n-grams up to the end\n",
        "    while chain[-1][-1] != '</s>':\n",
        "        next = random.choices(list(n_grams_count.keys()), list(n_grams_count.values()))\n",
        "        while list(next[0][:n-1]) != chain[-1][-(n-1):]:\n",
        "            next = random.choices(list(n_grams_count.keys()), list(n_grams_count.values()))\n",
        "        chain.append(list(next[0]))\n",
        "    return chain    "
      ],
      "execution_count": 0,
      "outputs": []
    },
    {
      "cell_type": "code",
      "metadata": {
        "id": "EgKSctTLNzAk",
        "colab_type": "code",
        "colab": {}
      },
      "source": [
        "# function that generates lines and checks if they are present in sonnets\n",
        "def generate_lines(n_gram, num_lines=5):\n",
        "    # create lines, default is 5\n",
        "    for i in range(num_lines):\n",
        "        # create line with padding tokens\n",
        "        sent = random_sentence(n_gram)\n",
        "        s = []\n",
        "        # 'clean' the line\n",
        "        for i in range(len(sent)-1):\n",
        "            s.append(sent[i][-1])\n",
        "        result = ' '.join(s)\n",
        "        # check if it's present in sonnets\n",
        "        flag = result in corpus\n",
        "        print(f\"{flag},   {result}\")   "
      ],
      "execution_count": 0,
      "outputs": []
    },
    {
      "cell_type": "code",
      "metadata": {
        "id": "WnE2VstiPdRI",
        "colab_type": "code",
        "outputId": "7f7d23aa-0ef5-4e31-a8b5-3fa8e1e559cb",
        "colab": {
          "base_uri": "https://localhost:8080/",
          "height": 102
        }
      },
      "source": [
        "generate_lines(n_gram=2)"
      ],
      "execution_count": 9,
      "outputs": [
        {
          "output_type": "stream",
          "text": [
            "False,   Dost thou forged hooks,\n",
            "False,   Nor can lend,\n",
            "False,   All men are nothing that copy what should prepare,\n",
            "False,   Another time and look upon desired change,\n",
            "False,   Shall hate after you,\n"
          ],
          "name": "stdout"
        }
      ]
    },
    {
      "cell_type": "code",
      "metadata": {
        "id": "waUFWFosQQ1N",
        "colab_type": "code",
        "outputId": "f3b5ae6a-7a7c-432e-946e-642066e0f72a",
        "colab": {
          "base_uri": "https://localhost:8080/",
          "height": 102
        }
      },
      "source": [
        "generate_lines(n_gram=3)"
      ],
      "execution_count": 12,
      "outputs": [
        {
          "output_type": "stream",
          "text": [
            "True,   From hence your memory death cannot take,\n",
            "False,   Nor his own vision holds what it was:\n",
            "True,   When yellow leaves, or none, or few, do hang\n",
            "True,   Shall will in others seem right gracious,\n",
            "True,   A maid of Dian's this advantage found,\n"
          ],
          "name": "stdout"
        }
      ]
    },
    {
      "cell_type": "code",
      "metadata": {
        "id": "GVcZdlOgSY0t",
        "colab_type": "code",
        "outputId": "72d84c8a-1a88-480f-dbd1-a17378ad921a",
        "colab": {
          "base_uri": "https://localhost:8080/",
          "height": 102
        }
      },
      "source": [
        "generate_lines(n_gram=4)"
      ],
      "execution_count": 13,
      "outputs": [
        {
          "output_type": "stream",
          "text": [
            "True,   Then being ask'd where all thy beauty lies,\n",
            "True,   She carved thee for her seal, and meant thereby\n",
            "True,   Methinks no face so gracious is as mine,\n",
            "True,   He, nor that affable familiar ghost\n",
            "True,   So that eternal love in love's fresh case\n"
          ],
          "name": "stdout"
        }
      ]
    }
  ]
}