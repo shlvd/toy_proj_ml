{
  "nbformat": 4,
  "nbformat_minor": 0,
  "metadata": {
    "colab": {
      "name": "task.ipynb",
      "provenance": [],
      "collapsed_sections": []
    },
    "kernelspec": {
      "name": "python3",
      "display_name": "Python 3"
    }
  },
  "cells": [
    {
      "cell_type": "code",
      "metadata": {
        "id": "a3iu32PUkMDx",
        "colab_type": "code",
        "colab": {}
      },
      "source": [
        "!unzip ling165_lab3_data.zip"
      ],
      "execution_count": 0,
      "outputs": []
    },
    {
      "cell_type": "code",
      "metadata": {
        "id": "8GE_tZYDg_Ip",
        "colab_type": "code",
        "colab": {}
      },
      "source": [
        "# import numpy library\n",
        "import numpy as np"
      ],
      "execution_count": 0,
      "outputs": []
    },
    {
      "cell_type": "code",
      "metadata": {
        "id": "WS5tOvSJk3cI",
        "colab_type": "code",
        "colab": {
          "base_uri": "https://localhost:8080/",
          "height": 71
        },
        "outputId": "67fc01b8-b3b8-472e-bcf7-322d784759ae"
      },
      "source": [
        "import os\n",
        "# list of our text files \n",
        "# NOTE!!! to run this code on your local machine replace variable PATH below to your local wsj folder path\n",
        "PATH = '/content/ling165_lab3_data/part1/wsj/'\n",
        "files = os.listdir(PATH)\n",
        "print(files)\n",
        "# ensure that we have 840 files\n",
        "print(len(files))"
      ],
      "execution_count": 17,
      "outputs": [
        {
          "output_type": "stream",
          "text": [
            "['WSJ_0464', 'WSJ_1849', 'WSJ_2142', 'WSJ_2113', 'WSJ_0214', 'WSJ_2048', 'WSJ_0391', 'WSJ_0267', 'WSJ_2253', 'WSJ_0385', 'WSJ_0295', 'WSJ_0064', 'WSJ_1843', 'WSJ_2308', 'WSJ_1570', 'WSJ_1844', 'WSJ_0996', 'WSJ_1440', 'WSJ_2338', 'WSJ_0309', 'WSJ_1682', 'WSJ_1870', 'WSJ_1110', 'WSJ_1147', 'WSJ_2387', 'WSJ_1932', 'WSJ_0768', 'WSJ_0114', 'WSJ_2325', 'WSJ_1847', 'WSJ_1140', 'WSJ_2145', 'WSJ_0840', 'WSJ_2165', 'WSJ_1687', 'WSJ_1499', 'WSJ_1201', 'WSJ_0584', 'WSJ_0617', 'WSJ_0771', 'WSJ_0466', 'WSJ_1171', 'WSJ_1249', 'WSJ_1388', 'WSJ_0446', 'WSJ_0283', 'WSJ_1944', 'WSJ_0773', 'WSJ_0595', 'WSJ_0767', 'WSJ_1935', 'WSJ_0632', 'WSJ_0596', 'WSJ_1603', 'WSJ_2379', 'WSJ_0041', 'WSJ_2013', 'WSJ_2169', 'WSJ_2054', 'WSJ_0254', 'WSJ_2356', 'WSJ_2298', 'WSJ_1157', 'WSJ_1986', 'WSJ_1582', 'WSJ_1436', 'WSJ_1825', 'WSJ_0616', 'WSJ_2172', 'WSJ_0761', 'WSJ_0476', 'WSJ_2161', 'WSJ_1036', 'WSJ_0125', 'WSJ_1449', 'WSJ_2061', 'WSJ_1974', 'WSJ_0887', 'WSJ_0606', 'WSJ_0250', 'WSJ_2403', 'WSJ_0416', 'WSJ_1410', 'WSJ_1867', 'WSJ_0693', 'WSJ_1418', 'WSJ_0976', 'WSJ_1623', 'WSJ_2045', 'WSJ_1428', 'WSJ_0301', 'WSJ_1936', 'WSJ_2485', 'WSJ_1208', 'WSJ_0666', 'WSJ_0367', 'WSJ_2320', 'WSJ_0443', 'WSJ_2044', 'WSJ_1419', 'WSJ_1149', 'WSJ_1330', 'WSJ_0105', 'WSJ_0296', 'WSJ_1373', 'WSJ_1264', 'WSJ_0559', 'WSJ_0847', 'WSJ_1184', 'WSJ_0328', 'WSJ_1599', 'WSJ_1640', 'WSJ_0045', 'WSJ_1450', 'WSJ_0089', 'WSJ_0590', 'WSJ_1946', 'WSJ_1809', 'WSJ_2386', 'WSJ_1619', 'WSJ_1302', 'WSJ_0681', 'WSJ_0469', 'WSJ_0293', 'WSJ_2256', 'WSJ_2347', 'WSJ_1187', 'WSJ_1819', 'WSJ_0629', 'WSJ_1691', 'WSJ_0518', 'WSJ_1019', 'WSJ_2163', 'WSJ_0208', 'WSJ_0409', 'WSJ_2110', 'WSJ_2223', 'WSJ_0838', 'WSJ_1391', 'WSJ_1903', 'WSJ_2456', 'WSJ_0384', 'WSJ_1696', 'WSJ_2400', 'WSJ_0426', 'WSJ_0975', 'WSJ_2330', 'WSJ_0748', 'WSJ_1284', 'WSJ_0294', 'WSJ_0209', 'WSJ_2489', 'WSJ_1695', 'WSJ_0725', 'WSJ_0422', 'WSJ_0374', 'WSJ_0314', 'WSJ_1618', 'WSJ_1792', 'WSJ_0592', 'WSJ_1297', 'WSJ_0194', 'WSJ_1447', 'WSJ_1366', 'WSJ_1723', 'WSJ_2343', 'WSJ_2380', 'WSJ_1102', 'WSJ_2376', 'WSJ_1677', 'WSJ_0537', 'WSJ_1470', 'WSJ_1424', 'WSJ_1446', 'WSJ_0473', 'WSJ_1831', 'WSJ_0284', 'WSJ_0927', 'WSJ_2433', 'WSJ_1590', 'WSJ_2432', 'WSJ_0560', 'WSJ_1616', 'WSJ_1213', 'WSJ_1058', 'WSJ_2438', 'WSJ_1705', 'WSJ_1174', 'WSJ_0576', 'WSJ_2170', 'WSJ_0585', 'WSJ_1928', 'WSJ_2446', 'WSJ_1315', 'WSJ_2276', 'WSJ_0857', 'WSJ_2184', 'WSJ_2283', 'WSJ_0766', 'WSJ_1156', 'WSJ_2211', 'WSJ_0839', 'WSJ_1853', 'WSJ_0842', 'WSJ_0745', 'WSJ_0564', 'WSJ_1411', 'WSJ_1014', 'WSJ_1216', 'WSJ_2365', 'WSJ_0877', 'WSJ_0822', 'WSJ_0162', 'WSJ_1554', 'WSJ_0817', 'WSJ_1490', 'WSJ_1397', 'WSJ_1676', 'WSJ_0109', 'WSJ_2021', 'WSJ_2031', 'WSJ_0589', 'WSJ_1017', 'WSJ_0275', 'WSJ_2231', 'WSJ_0899', 'WSJ_1804', 'WSJ_1105', 'WSJ_0142', 'WSJ_1568', 'WSJ_0700', 'WSJ_1423', 'WSJ_2314', 'WSJ_1927', 'WSJ_1952', 'WSJ_0781', 'WSJ_0936', 'WSJ_0347', 'WSJ_1929', 'WSJ_0039', 'WSJ_0671', 'WSJ_1692', 'WSJ_0286', 'WSJ_1525', 'WSJ_2250', 'WSJ_1285', 'WSJ_1800', 'WSJ_1647', 'WSJ_1866', 'WSJ_2239', 'WSJ_2257', 'WSJ_2156', 'WSJ_1469', 'WSJ_2194', 'WSJ_1034', 'WSJ_1564', 'WSJ_1854', 'WSJ_1654', 'WSJ_0207', 'WSJ_0742', 'WSJ_2136', 'WSJ_0602', 'WSJ_1055', 'WSJ_0090', 'WSJ_0398', 'WSJ_0326', 'WSJ_2124', 'WSJ_1146', 'WSJ_0524', 'WSJ_0485', 'WSJ_1655', 'WSJ_1795', 'WSJ_0758', 'WSJ_1957', 'WSJ_0554', 'WSJ_2431', 'WSJ_1203', 'WSJ_1617', 'WSJ_0804', 'WSJ_1037', 'WSJ_1052', 'WSJ_0475', 'WSJ_1657', 'WSJ_1432', 'WSJ_2181', 'WSJ_0870', 'WSJ_1189', 'WSJ_0488', 'WSJ_1007', 'WSJ_0043', 'WSJ_2281', 'WSJ_1120', 'WSJ_0563', 'WSJ_2472', 'WSJ_2153', 'WSJ_1646', 'WSJ_0983', 'WSJ_2032', 'WSJ_1566', 'WSJ_2361', 'WSJ_1712', 'WSJ_2462', 'WSJ_0525', 'WSJ_2358', 'WSJ_1013', 'WSJ_1003', 'WSJ_0530', 'WSJ_2202', 'WSJ_1375', 'WSJ_0946', 'WSJ_1728', 'WSJ_1970', 'WSJ_0361', 'WSJ_1010', 'WSJ_2348', 'WSJ_0447', 'WSJ_1875', 'WSJ_0787', 'WSJ_0047', 'WSJ_1377', 'WSJ_2381', 'WSJ_1312', 'WSJ_2201', 'WSJ_2034', 'WSJ_1569', 'WSJ_1094', 'WSJ_1192', 'WSJ_1246', 'WSJ_0048', 'WSJ_1931', 'WSJ_1253', 'WSJ_0049', 'WSJ_1824', 'WSJ_1572', 'WSJ_2205', 'WSJ_2104', 'WSJ_1924', 'WSJ_2306', 'WSJ_0556', 'WSJ_0080', 'WSJ_0931', 'WSJ_2366', 'WSJ_0765', 'WSJ_0601', 'WSJ_2125', 'WSJ_0961', 'WSJ_0437', 'WSJ_2337', 'WSJ_1474', 'WSJ_0277', 'WSJ_0457', 'WSJ_0749', 'WSJ_0239', 'WSJ_0862', 'WSJ_1606', 'WSJ_0823', 'WSJ_0598', 'WSJ_0788', 'WSJ_1631', 'WSJ_0100', 'WSJ_0937', 'WSJ_1803', 'WSJ_0627', 'WSJ_2059', 'WSJ_1857', 'WSJ_2363', 'WSJ_1131', 'WSJ_1307', 'WSJ_1797', 'WSJ_0764', 'WSJ_1319', 'WSJ_1700', 'WSJ_0690', 'WSJ_0155', 'WSJ_1636', 'WSJ_0455', 'WSJ_1628', 'WSJ_0938', 'WSJ_1226', 'WSJ_2316', 'WSJ_0922', 'WSJ_2043', 'WSJ_0571', 'WSJ_1473', 'WSJ_2474', 'WSJ_0258', 'WSJ_0944', 'WSJ_0120', 'WSJ_2295', 'WSJ_0550', 'WSJ_0148', 'WSJ_1190', 'WSJ_0692', 'WSJ_1041', 'WSJ_1435', 'WSJ_1915', 'WSJ_2282', 'WSJ_0280', 'WSJ_2296', 'WSJ_0648', 'WSJ_0832', 'WSJ_2058', 'WSJ_1314', 'WSJ_1163', 'WSJ_0062', 'WSJ_1761', 'WSJ_0719', 'WSJ_2052', 'WSJ_0098', 'WSJ_1504', 'WSJ_1869', 'WSJ_0305', 'WSJ_0501', 'WSJ_1502', 'WSJ_0633', 'WSJ_0126', 'WSJ_1158', 'WSJ_0810', 'WSJ_1600', 'WSJ_0885', 'WSJ_1735', 'WSJ_1421', 'WSJ_2491', 'WSJ_0886', 'WSJ_0953', 'WSJ_1305', 'WSJ_1121', 'WSJ_2407', 'WSJ_0110', 'WSJ_1562', 'WSJ_0843', 'WSJ_1635', 'WSJ_1916', 'WSJ_1624', 'WSJ_0955', 'WSJ_0989', 'WSJ_2207', 'WSJ_0756', 'WSJ_2019', 'WSJ_0723', 'WSJ_1442', 'WSJ_0795', 'WSJ_0327', 'WSJ_2064', 'WSJ_1335', 'WSJ_1161', 'WSJ_2289', 'WSJ_1789', 'WSJ_2112', 'WSJ_0873', 'WSJ_0044', 'WSJ_0083', 'WSJ_0477', 'WSJ_1272', 'WSJ_0799', 'WSJ_1006', 'WSJ_2451', 'WSJ_0400', 'WSJ_0889', 'WSJ_2377', 'WSJ_2341', 'WSJ_1505', 'WSJ_1860', 'WSJ_1225', 'WSJ_2198', 'WSJ_0591', 'WSJ_0071', 'WSJ_1372', 'WSJ_0359', 'WSJ_1311', 'WSJ_0825', 'WSJ_0436', 'WSJ_0405', 'WSJ_1802', 'WSJ_0883', 'WSJ_0562', 'WSJ_0956', 'WSJ_1629', 'WSJ_2384', 'WSJ_1405', 'WSJ_2140', 'WSJ_1464', 'WSJ_0467', 'WSJ_1659', 'WSJ_0814', 'WSJ_2464', 'WSJ_1269', 'WSJ_2455', 'WSJ_1493', 'WSJ_1022', 'WSJ_1453', 'WSJ_2063', 'WSJ_0395', 'WSJ_0776', 'WSJ_1586', 'WSJ_0037', 'WSJ_1099', 'WSJ_2174', 'WSJ_0128', 'WSJ_2428', 'WSJ_0288', 'WSJ_0755', 'WSJ_0108', 'WSJ_1270', 'WSJ_2190', 'WSJ_0655', 'WSJ_1389', 'WSJ_2160', 'WSJ_0290', 'WSJ_0210', 'WSJ_0884', 'WSJ_2199', 'WSJ_1349', 'WSJ_1495', 'WSJ_0610', 'WSJ_1688', 'WSJ_1876', 'WSJ_0888', 'WSJ_0934', 'WSJ_2151', 'WSJ_1002', 'WSJ_2402', 'WSJ_0583', 'WSJ_1162', 'WSJ_0020', 'WSJ_1455', 'WSJ_0994', 'WSJ_0113', 'WSJ_2093', 'WSJ_1793', 'WSJ_0686', 'WSJ_2482', 'WSJ_1962', 'WSJ_1829', 'WSJ_0836', 'WSJ_2293', 'WSJ_2346', 'WSJ_2100', 'WSJ_1026', 'WSJ_1273', 'WSJ_1760', 'WSJ_0741', 'WSJ_2457', 'WSJ_0423', 'WSJ_0085', 'WSJ_1000', 'WSJ_0664', 'WSJ_1744', 'WSJ_1118', 'WSJ_1142', 'WSJ_2448', 'WSJ_0274', 'WSJ_1390', 'WSJ_2351', 'WSJ_2300', 'WSJ_2155', 'WSJ_0978', 'WSJ_0242', 'WSJ_0561', 'WSJ_0036', 'WSJ_2488', 'WSJ_0552', 'WSJ_0677', 'WSJ_1939', 'WSJ_1601', 'WSJ_1468', 'WSJ_0130', 'WSJ_1328', 'WSJ_2415', 'WSJ_1434', 'WSJ_1250', 'WSJ_0553', 'WSJ_2285', 'WSJ_0137', 'WSJ_1001', 'WSJ_0102', 'WSJ_1467', 'WSJ_1634', 'WSJ_0445', 'WSJ_0192', 'WSJ_0449', 'WSJ_1698', 'WSJ_2284', 'WSJ_0942', 'WSJ_0860', 'WSJ_1699', 'WSJ_0794', 'WSJ_1856', 'WSJ_0568', 'WSJ_0203', 'WSJ_0350', 'WSJ_2490', 'WSJ_1248', 'WSJ_2398', 'WSJ_1092', 'WSJ_2154', 'WSJ_0790', 'WSJ_1984', 'WSJ_2230', 'WSJ_0119', 'WSJ_1506', 'WSJ_0015', 'WSJ_1615', 'WSJ_2492', 'WSJ_2278', 'WSJ_0966', 'WSJ_0984', 'WSJ_1271', 'WSJ_0578', 'WSJ_2222', 'WSJ_0101', 'WSJ_1766', 'WSJ_0779', 'WSJ_2227', 'WSJ_1574', 'WSJ_2173', 'WSJ_0003', 'WSJ_2086', 'WSJ_1765', 'WSJ_0452', 'WSJ_0586', 'WSJ_0059', 'WSJ_1044', 'WSJ_1294', 'WSJ_0404', 'WSJ_0413', 'WSJ_1448', 'WSJ_1667', 'WSJ_1317', 'WSJ_1137', 'WSJ_1996', 'WSJ_2286', 'WSJ_1172', 'WSJ_2232', 'WSJ_0186', 'WSJ_0414', 'WSJ_1583', 'WSJ_0345', 'WSJ_0360', 'WSJ_0830', 'WSJ_2033', 'WSJ_1296', 'WSJ_0231', 'WSJ_1416', 'WSJ_0278', 'WSJ_2229', 'WSJ_0587', 'WSJ_0271', 'WSJ_1331', 'WSJ_2429', 'WSJ_2369', 'WSJ_0730', 'WSJ_2331', 'WSJ_2404', 'WSJ_0778', 'WSJ_1694', 'WSJ_1937', 'WSJ_0769', 'WSJ_1122', 'WSJ_0349', 'WSJ_2149', 'WSJ_1815', 'WSJ_2465', 'WSJ_0526', 'WSJ_1500', 'WSJ_0456', 'WSJ_0096', 'WSJ_2362', 'WSJ_1669', 'WSJ_1367', 'WSJ_1323', 'WSJ_1550', 'WSJ_0856', 'WSJ_0704', 'WSJ_0918', 'WSJ_0351', 'WSJ_2111', 'WSJ_0381', 'WSJ_2444', 'WSJ_1154', 'WSJ_1512', 'WSJ_2177', 'WSJ_1622', 'WSJ_0575', 'WSJ_1445', 'WSJ_0257', 'WSJ_1596', 'WSJ_0093', 'WSJ_1651', 'WSJ_1128', 'WSJ_1531', 'WSJ_0112', 'WSJ_1387', 'WSJ_1368', 'WSJ_0490', 'WSJ_0687', 'WSJ_0998', 'WSJ_1004', 'WSJ_1286', 'WSJ_2413', 'WSJ_0465', 'WSJ_2109', 'WSJ_1337', 'WSJ_0569', 'WSJ_2102', 'WSJ_1874', 'WSJ_1193', 'WSJ_0415', 'WSJ_1671', 'WSJ_1339', 'WSJ_0116', 'WSJ_1567', 'WSJ_2070', 'WSJ_2412', 'WSJ_1743', 'WSJ_1376', 'WSJ_1999', 'WSJ_0335', 'WSJ_0689', 'WSJ_0331', 'WSJ_2189', 'WSJ_2406', 'WSJ_0986', 'WSJ_2182', 'WSJ_1549', 'WSJ_0880', 'WSJ_0088', 'WSJ_0282', 'WSJ_2053', 'WSJ_2234', 'WSJ_1780', 'WSJ_2321', 'WSJ_2443', 'WSJ_1125', 'WSJ_1015', 'WSJ_0819', 'WSJ_1649', 'WSJ_1881', 'WSJ_2057', 'WSJ_0097', 'WSJ_0515', 'WSJ_0224', 'WSJ_0453', 'WSJ_0846', 'WSJ_0082', 'WSJ_0051', 'WSJ_1817', 'WSJ_0439', 'WSJ_2007', 'WSJ_1822', 'WSJ_1101', 'WSJ_1386', 'WSJ_1971', 'WSJ_1394', 'WSJ_0300', 'WSJ_0999', 'WSJ_2225', 'WSJ_2360', 'WSJ_1846', 'WSJ_2017', 'WSJ_0118', 'WSJ_2193', 'WSJ_0972', 'WSJ_1731', 'WSJ_2299', 'WSJ_0851', 'WSJ_1267', 'WSJ_2055', 'WSJ_1730', 'WSJ_0800', 'WSJ_0121', 'WSJ_0396', 'WSJ_1218', 'WSJ_1863', 'WSJ_1950', 'WSJ_1515', 'WSJ_0858', 'WSJ_2040', 'WSJ_2478', 'WSJ_2041', 'WSJ_0297', 'WSJ_2418', 'WSJ_1830', 'WSJ_2454', 'WSJ_1320', 'WSJ_1850', 'WSJ_1778', 'WSJ_1790', 'WSJ_1625', 'WSJ_0818', 'WSJ_0219', 'WSJ_2265', 'WSJ_1480', 'WSJ_2417', 'WSJ_1353', 'WSJ_2106', 'WSJ_0018', 'WSJ_0472', 'WSJ_1556', 'WSJ_1065', 'WSJ_0609', 'WSJ_2397', 'WSJ_1643', 'WSJ_1594', 'WSJ_1547', 'WSJ_1767', 'WSJ_1642', 'WSJ_2372', 'WSJ_1327', 'WSJ_1781', 'WSJ_0628', 'WSJ_0179', 'WSJ_0317', 'WSJ_1160', 'WSJ_1626', 'WSJ_1884', 'WSJ_1206', 'WSJ_0909', 'WSJ_2210', 'WSJ_0034', 'WSJ_0450', 'WSJ_1578', 'WSJ_0304', 'WSJ_2303', 'WSJ_2350', 'WSJ_0174', 'WSJ_1057', 'WSJ_0869', 'WSJ_1852', 'WSJ_1303', 'WSJ_0604', 'WSJ_1059', 'WSJ_1274', 'WSJ_1322', 'WSJ_2187', 'WSJ_1139', 'WSJ_1143', 'WSJ_1457', 'WSJ_0990', 'WSJ_0387']\n",
            "840\n"
          ],
          "name": "stdout"
        }
      ]
    },
    {
      "cell_type": "code",
      "metadata": {
        "id": "AGzTdqlVhEZ8",
        "colab_type": "code",
        "colab": {}
      },
      "source": [
        "# list of all texts\n",
        "texts = []\n",
        "# loop through text files and add them to texts list\n",
        "for file in files:\n",
        "    with open(PATH + file) as f: \n",
        "        line =  f.read().split()\n",
        "        texts.append(line)"
      ],
      "execution_count": 0,
      "outputs": []
    },
    {
      "cell_type": "code",
      "metadata": {
        "id": "o6mLSKvvhEhn",
        "colab_type": "code",
        "colab": {}
      },
      "source": [
        "#lets read given vocab\n",
        "# NOTE!!! replace with your local path to vocab.select\n",
        "vocab = []\n",
        "with open('/content/ling165_lab3_data/part1/vocab.select') as f:\n",
        "    # we use splitlines method to get rid of '\\n' in the end of each word\n",
        "    vocab = f.read().splitlines()    "
      ],
      "execution_count": 0,
      "outputs": []
    },
    {
      "cell_type": "code",
      "metadata": {
        "id": "oko_f4BH6Cim",
        "colab_type": "code",
        "colab": {}
      },
      "source": [
        "word_count = []\n",
        "for text in texts:\n",
        "    text_dict = dict.fromkeys(vocab, 0) \n",
        "    for word in text:\n",
        "        if word in vocab:\n",
        "            text_dict[word]+=1\n",
        "    word_count.append(text_dict)"
      ],
      "execution_count": 0,
      "outputs": []
    },
    {
      "cell_type": "code",
      "metadata": {
        "id": "TyZEKOd9_HHO",
        "colab_type": "code",
        "colab": {}
      },
      "source": [
        "def tf(text_vocab, text):\n",
        "    tf = {}\n",
        "    textcount = len(text)\n",
        "    for word, count in text_vocab.items():\n",
        "        tf[word] = count/float(textcount)\n",
        "    return np.array(list(tf.values()))"
      ],
      "execution_count": 0,
      "outputs": []
    },
    {
      "cell_type": "code",
      "metadata": {
        "id": "8UFlVBCJhExs",
        "colab_type": "code",
        "colab": {
          "base_uri": "https://localhost:8080/",
          "height": 34
        },
        "outputId": "0239509b-8dfa-497a-8c9a-4b321a8ca618"
      },
      "source": [
        "# create zero matrix with shape of our tf matrix \n",
        "TF = np.zeros((len(vocab), len(texts)), dtype=float)\n",
        "TF.shape"
      ],
      "execution_count": 153,
      "outputs": [
        {
          "output_type": "execute_result",
          "data": {
            "text/plain": [
              "(1743, 840)"
            ]
          },
          "metadata": {
            "tags": []
          },
          "execution_count": 153
        }
      ]
    },
    {
      "cell_type": "code",
      "metadata": {
        "id": "w7KQQO55BTPk",
        "colab_type": "code",
        "colab": {}
      },
      "source": [
        "for i in range(TF.shape[1]):\n",
        "    TF[:, i] = tf(word_count[i], texts[i])"
      ],
      "execution_count": 0,
      "outputs": []
    },
    {
      "cell_type": "code",
      "metadata": {
        "id": "YXSQz3vFJKBx",
        "colab_type": "code",
        "colab": {}
      },
      "source": [
        "for i in range(TF.shape[1]):\n",
        "    m = len(TF[i].nonzero()[0])\n",
        "    idf = numpy.log10(TF.shape[1]/m)\n",
        "    TF[i] *= idf "
      ],
      "execution_count": 0,
      "outputs": []
    },
    {
      "cell_type": "code",
      "metadata": {
        "id": "AYROar2LJ1PW",
        "colab_type": "code",
        "colab": {
          "base_uri": "https://localhost:8080/",
          "height": 51
        },
        "outputId": "1b74bfb8-c66f-4f10-e119-e5cc827985cc"
      },
      "source": [
        "TF[:,0][0:10]"
      ],
      "execution_count": 156,
      "outputs": [
        {
          "output_type": "execute_result",
          "data": {
            "text/plain": [
              "array([0.        , 0.        , 0.        , 0.00121925, 0.        ,\n",
              "       0.        , 0.0010605 , 0.        , 0.        , 0.        ])"
            ]
          },
          "metadata": {
            "tags": []
          },
          "execution_count": 156
        }
      ]
    },
    {
      "cell_type": "code",
      "metadata": {
        "id": "phTFYrme-ffS",
        "colab_type": "code",
        "colab": {}
      },
      "source": [
        "oil_index = vocab.index('oil')\n",
        "similarity = []\n",
        "for i in range(TF.shape[0]):\n",
        "    cos_sim = np.dot(TF[oil_index, :], TF[i, :]) / (np.linalg.norm(TF[oil_index, :]) * np.linalg.norm(TF[i, :]))\n",
        "    similarity.append((i, cos_sim))"
      ],
      "execution_count": 0,
      "outputs": []
    },
    {
      "cell_type": "code",
      "metadata": {
        "id": "ED2ya8RvMbV1",
        "colab_type": "code",
        "colab": {
          "base_uri": "https://localhost:8080/",
          "height": 68
        },
        "outputId": "8f8a06e7-f4ac-4a59-cc06-8033b78e023b"
      },
      "source": [
        "sorted_simil = sorted(similarity, key=lambda similarity: similarity[1])\n",
        "sorted_simil[-4:-1]"
      ],
      "execution_count": 178,
      "outputs": [
        {
          "output_type": "execute_result",
          "data": {
            "text/plain": [
              "[(625, 0.4991787969651585),\n",
              " (366, 0.6311344538972767),\n",
              " (1152, 0.6685630802098167)]"
            ]
          },
          "metadata": {
            "tags": []
          },
          "execution_count": 178
        }
      ]
    },
    {
      "cell_type": "code",
      "metadata": {
        "id": "FgDFKTwwOeDn",
        "colab_type": "code",
        "colab": {
          "base_uri": "https://localhost:8080/",
          "height": 68
        },
        "outputId": "8ee5d469-fdd2-40e9-aa71-48b11d54dc68"
      },
      "source": [
        "for idx, sim in sorted_simil[-4:-1]:\n",
        "    print(vocab[idx])"
      ],
      "execution_count": 179,
      "outputs": [
        {
          "output_type": "stream",
          "text": [
            "gas\n",
            "crude\n",
            "petroleum\n"
          ],
          "name": "stdout"
        }
      ]
    }
  ]
}