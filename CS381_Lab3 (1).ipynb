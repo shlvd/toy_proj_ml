{
  "nbformat": 4,
  "nbformat_minor": 0,
  "metadata": {
    "colab": {
      "name": "CS381_Lab3.ipynb",
      "provenance": [],
      "collapsed_sections": [],
      "toc_visible": true
    },
    "kernelspec": {
      "name": "python3",
      "display_name": "Python 3"
    },
    "widgets": {
      "application/vnd.jupyter.widget-state+json": {
        "f5826638f00b4b2fa3eea2bc5f7707fb": {
          "model_module": "@jupyter-widgets/controls",
          "model_name": "HBoxModel",
          "state": {
            "_view_name": "HBoxView",
            "_dom_classes": [],
            "_model_name": "HBoxModel",
            "_view_module": "@jupyter-widgets/controls",
            "_model_module_version": "1.5.0",
            "_view_count": null,
            "_view_module_version": "1.5.0",
            "box_style": "",
            "layout": "IPY_MODEL_58bafc06190041689cecf2a21411794d",
            "_model_module": "@jupyter-widgets/controls",
            "children": [
              "IPY_MODEL_39e8f31feccd4873a11732b7eab4faf6",
              "IPY_MODEL_7daa5cf2b6bc465393b7765b7b17e135"
            ]
          }
        },
        "58bafc06190041689cecf2a21411794d": {
          "model_module": "@jupyter-widgets/base",
          "model_name": "LayoutModel",
          "state": {
            "_view_name": "LayoutView",
            "grid_template_rows": null,
            "right": null,
            "justify_content": null,
            "_view_module": "@jupyter-widgets/base",
            "overflow": null,
            "_model_module_version": "1.2.0",
            "_view_count": null,
            "flex_flow": null,
            "width": null,
            "min_width": null,
            "border": null,
            "align_items": null,
            "bottom": null,
            "_model_module": "@jupyter-widgets/base",
            "top": null,
            "grid_column": null,
            "overflow_y": null,
            "overflow_x": null,
            "grid_auto_flow": null,
            "grid_area": null,
            "grid_template_columns": null,
            "flex": null,
            "_model_name": "LayoutModel",
            "justify_items": null,
            "grid_row": null,
            "max_height": null,
            "align_content": null,
            "visibility": null,
            "align_self": null,
            "height": null,
            "min_height": null,
            "padding": null,
            "grid_auto_rows": null,
            "grid_gap": null,
            "max_width": null,
            "order": null,
            "_view_module_version": "1.2.0",
            "grid_template_areas": null,
            "object_position": null,
            "object_fit": null,
            "grid_auto_columns": null,
            "margin": null,
            "display": null,
            "left": null
          }
        },
        "39e8f31feccd4873a11732b7eab4faf6": {
          "model_module": "@jupyter-widgets/controls",
          "model_name": "FloatProgressModel",
          "state": {
            "_view_name": "ProgressView",
            "style": "IPY_MODEL_af36ca1abe2f45d7946cabf11088f4bb",
            "_dom_classes": [],
            "description": "",
            "_model_name": "FloatProgressModel",
            "bar_style": "info",
            "max": 1,
            "_view_module": "@jupyter-widgets/controls",
            "_model_module_version": "1.5.0",
            "value": 0,
            "_view_count": null,
            "_view_module_version": "1.5.0",
            "orientation": "horizontal",
            "min": 0,
            "description_tooltip": null,
            "_model_module": "@jupyter-widgets/controls",
            "layout": "IPY_MODEL_de2e4e1c23fc424e9c87b5628b976015"
          }
        },
        "7daa5cf2b6bc465393b7765b7b17e135": {
          "model_module": "@jupyter-widgets/controls",
          "model_name": "HTMLModel",
          "state": {
            "_view_name": "HTMLView",
            "style": "IPY_MODEL_cd27a17740aa4fec94b7c202bfa4fa8a",
            "_dom_classes": [],
            "description": "",
            "_model_name": "HTMLModel",
            "placeholder": "​",
            "_view_module": "@jupyter-widgets/controls",
            "_model_module_version": "1.5.0",
            "value": " 0/? [00:00&lt;?, ?it/s]",
            "_view_count": null,
            "_view_module_version": "1.5.0",
            "description_tooltip": null,
            "_model_module": "@jupyter-widgets/controls",
            "layout": "IPY_MODEL_a5a7e4e990cc4895aed6d8b8a672cbe6"
          }
        },
        "af36ca1abe2f45d7946cabf11088f4bb": {
          "model_module": "@jupyter-widgets/controls",
          "model_name": "ProgressStyleModel",
          "state": {
            "_view_name": "StyleView",
            "_model_name": "ProgressStyleModel",
            "description_width": "initial",
            "_view_module": "@jupyter-widgets/base",
            "_model_module_version": "1.5.0",
            "_view_count": null,
            "_view_module_version": "1.2.0",
            "bar_color": null,
            "_model_module": "@jupyter-widgets/controls"
          }
        },
        "de2e4e1c23fc424e9c87b5628b976015": {
          "model_module": "@jupyter-widgets/base",
          "model_name": "LayoutModel",
          "state": {
            "_view_name": "LayoutView",
            "grid_template_rows": null,
            "right": null,
            "justify_content": null,
            "_view_module": "@jupyter-widgets/base",
            "overflow": null,
            "_model_module_version": "1.2.0",
            "_view_count": null,
            "flex_flow": null,
            "width": null,
            "min_width": null,
            "border": null,
            "align_items": null,
            "bottom": null,
            "_model_module": "@jupyter-widgets/base",
            "top": null,
            "grid_column": null,
            "overflow_y": null,
            "overflow_x": null,
            "grid_auto_flow": null,
            "grid_area": null,
            "grid_template_columns": null,
            "flex": null,
            "_model_name": "LayoutModel",
            "justify_items": null,
            "grid_row": null,
            "max_height": null,
            "align_content": null,
            "visibility": null,
            "align_self": null,
            "height": null,
            "min_height": null,
            "padding": null,
            "grid_auto_rows": null,
            "grid_gap": null,
            "max_width": null,
            "order": null,
            "_view_module_version": "1.2.0",
            "grid_template_areas": null,
            "object_position": null,
            "object_fit": null,
            "grid_auto_columns": null,
            "margin": null,
            "display": null,
            "left": null
          }
        },
        "cd27a17740aa4fec94b7c202bfa4fa8a": {
          "model_module": "@jupyter-widgets/controls",
          "model_name": "DescriptionStyleModel",
          "state": {
            "_view_name": "StyleView",
            "_model_name": "DescriptionStyleModel",
            "description_width": "",
            "_view_module": "@jupyter-widgets/base",
            "_model_module_version": "1.5.0",
            "_view_count": null,
            "_view_module_version": "1.2.0",
            "_model_module": "@jupyter-widgets/controls"
          }
        },
        "a5a7e4e990cc4895aed6d8b8a672cbe6": {
          "model_module": "@jupyter-widgets/base",
          "model_name": "LayoutModel",
          "state": {
            "_view_name": "LayoutView",
            "grid_template_rows": null,
            "right": null,
            "justify_content": null,
            "_view_module": "@jupyter-widgets/base",
            "overflow": null,
            "_model_module_version": "1.2.0",
            "_view_count": null,
            "flex_flow": null,
            "width": null,
            "min_width": null,
            "border": null,
            "align_items": null,
            "bottom": null,
            "_model_module": "@jupyter-widgets/base",
            "top": null,
            "grid_column": null,
            "overflow_y": null,
            "overflow_x": null,
            "grid_auto_flow": null,
            "grid_area": null,
            "grid_template_columns": null,
            "flex": null,
            "_model_name": "LayoutModel",
            "justify_items": null,
            "grid_row": null,
            "max_height": null,
            "align_content": null,
            "visibility": null,
            "align_self": null,
            "height": null,
            "min_height": null,
            "padding": null,
            "grid_auto_rows": null,
            "grid_gap": null,
            "max_width": null,
            "order": null,
            "_view_module_version": "1.2.0",
            "grid_template_areas": null,
            "object_position": null,
            "object_fit": null,
            "grid_auto_columns": null,
            "margin": null,
            "display": null,
            "left": null
          }
        },
        "cb4a8feb1cb7499c8b7a859c94d83ad0": {
          "model_module": "@jupyter-widgets/controls",
          "model_name": "HBoxModel",
          "state": {
            "_view_name": "HBoxView",
            "_dom_classes": [],
            "_model_name": "HBoxModel",
            "_view_module": "@jupyter-widgets/controls",
            "_model_module_version": "1.5.0",
            "_view_count": null,
            "_view_module_version": "1.5.0",
            "box_style": "",
            "layout": "IPY_MODEL_ad9ae489c44b48e79d610372ea1719fd",
            "_model_module": "@jupyter-widgets/controls",
            "children": [
              "IPY_MODEL_e5b3fca9f9ac428d8ac938dcb1984c3a",
              "IPY_MODEL_30d8183416d8427dbd5f3df0733d6236"
            ]
          }
        },
        "ad9ae489c44b48e79d610372ea1719fd": {
          "model_module": "@jupyter-widgets/base",
          "model_name": "LayoutModel",
          "state": {
            "_view_name": "LayoutView",
            "grid_template_rows": null,
            "right": null,
            "justify_content": null,
            "_view_module": "@jupyter-widgets/base",
            "overflow": null,
            "_model_module_version": "1.2.0",
            "_view_count": null,
            "flex_flow": null,
            "width": null,
            "min_width": null,
            "border": null,
            "align_items": null,
            "bottom": null,
            "_model_module": "@jupyter-widgets/base",
            "top": null,
            "grid_column": null,
            "overflow_y": null,
            "overflow_x": null,
            "grid_auto_flow": null,
            "grid_area": null,
            "grid_template_columns": null,
            "flex": null,
            "_model_name": "LayoutModel",
            "justify_items": null,
            "grid_row": null,
            "max_height": null,
            "align_content": null,
            "visibility": null,
            "align_self": null,
            "height": null,
            "min_height": null,
            "padding": null,
            "grid_auto_rows": null,
            "grid_gap": null,
            "max_width": null,
            "order": null,
            "_view_module_version": "1.2.0",
            "grid_template_areas": null,
            "object_position": null,
            "object_fit": null,
            "grid_auto_columns": null,
            "margin": null,
            "display": null,
            "left": null
          }
        },
        "e5b3fca9f9ac428d8ac938dcb1984c3a": {
          "model_module": "@jupyter-widgets/controls",
          "model_name": "FloatProgressModel",
          "state": {
            "_view_name": "ProgressView",
            "style": "IPY_MODEL_aac56b75b16c45829c5fa6760f465567",
            "_dom_classes": [],
            "description": "100%",
            "_model_name": "FloatProgressModel",
            "bar_style": "success",
            "max": 13,
            "_view_module": "@jupyter-widgets/controls",
            "_model_module_version": "1.5.0",
            "value": 13,
            "_view_count": null,
            "_view_module_version": "1.5.0",
            "orientation": "horizontal",
            "min": 0,
            "description_tooltip": null,
            "_model_module": "@jupyter-widgets/controls",
            "layout": "IPY_MODEL_783432576c0045fdaa00773042d04f19"
          }
        },
        "30d8183416d8427dbd5f3df0733d6236": {
          "model_module": "@jupyter-widgets/controls",
          "model_name": "HTMLModel",
          "state": {
            "_view_name": "HTMLView",
            "style": "IPY_MODEL_a487092ed6d447068c42f51a888b605b",
            "_dom_classes": [],
            "description": "",
            "_model_name": "HTMLModel",
            "placeholder": "​",
            "_view_module": "@jupyter-widgets/controls",
            "_model_module_version": "1.5.0",
            "value": " 13/13 [00:00&lt;00:00, 221.66it/s]",
            "_view_count": null,
            "_view_module_version": "1.5.0",
            "description_tooltip": null,
            "_model_module": "@jupyter-widgets/controls",
            "layout": "IPY_MODEL_a2927e85164e43e38fd6bc8055580d9d"
          }
        },
        "aac56b75b16c45829c5fa6760f465567": {
          "model_module": "@jupyter-widgets/controls",
          "model_name": "ProgressStyleModel",
          "state": {
            "_view_name": "StyleView",
            "_model_name": "ProgressStyleModel",
            "description_width": "initial",
            "_view_module": "@jupyter-widgets/base",
            "_model_module_version": "1.5.0",
            "_view_count": null,
            "_view_module_version": "1.2.0",
            "bar_color": null,
            "_model_module": "@jupyter-widgets/controls"
          }
        },
        "783432576c0045fdaa00773042d04f19": {
          "model_module": "@jupyter-widgets/base",
          "model_name": "LayoutModel",
          "state": {
            "_view_name": "LayoutView",
            "grid_template_rows": null,
            "right": null,
            "justify_content": null,
            "_view_module": "@jupyter-widgets/base",
            "overflow": null,
            "_model_module_version": "1.2.0",
            "_view_count": null,
            "flex_flow": null,
            "width": null,
            "min_width": null,
            "border": null,
            "align_items": null,
            "bottom": null,
            "_model_module": "@jupyter-widgets/base",
            "top": null,
            "grid_column": null,
            "overflow_y": null,
            "overflow_x": null,
            "grid_auto_flow": null,
            "grid_area": null,
            "grid_template_columns": null,
            "flex": null,
            "_model_name": "LayoutModel",
            "justify_items": null,
            "grid_row": null,
            "max_height": null,
            "align_content": null,
            "visibility": null,
            "align_self": null,
            "height": null,
            "min_height": null,
            "padding": null,
            "grid_auto_rows": null,
            "grid_gap": null,
            "max_width": null,
            "order": null,
            "_view_module_version": "1.2.0",
            "grid_template_areas": null,
            "object_position": null,
            "object_fit": null,
            "grid_auto_columns": null,
            "margin": null,
            "display": null,
            "left": null
          }
        },
        "a487092ed6d447068c42f51a888b605b": {
          "model_module": "@jupyter-widgets/controls",
          "model_name": "DescriptionStyleModel",
          "state": {
            "_view_name": "StyleView",
            "_model_name": "DescriptionStyleModel",
            "description_width": "",
            "_view_module": "@jupyter-widgets/base",
            "_model_module_version": "1.5.0",
            "_view_count": null,
            "_view_module_version": "1.2.0",
            "_model_module": "@jupyter-widgets/controls"
          }
        },
        "a2927e85164e43e38fd6bc8055580d9d": {
          "model_module": "@jupyter-widgets/base",
          "model_name": "LayoutModel",
          "state": {
            "_view_name": "LayoutView",
            "grid_template_rows": null,
            "right": null,
            "justify_content": null,
            "_view_module": "@jupyter-widgets/base",
            "overflow": null,
            "_model_module_version": "1.2.0",
            "_view_count": null,
            "flex_flow": null,
            "width": null,
            "min_width": null,
            "border": null,
            "align_items": null,
            "bottom": null,
            "_model_module": "@jupyter-widgets/base",
            "top": null,
            "grid_column": null,
            "overflow_y": null,
            "overflow_x": null,
            "grid_auto_flow": null,
            "grid_area": null,
            "grid_template_columns": null,
            "flex": null,
            "_model_name": "LayoutModel",
            "justify_items": null,
            "grid_row": null,
            "max_height": null,
            "align_content": null,
            "visibility": null,
            "align_self": null,
            "height": null,
            "min_height": null,
            "padding": null,
            "grid_auto_rows": null,
            "grid_gap": null,
            "max_width": null,
            "order": null,
            "_view_module_version": "1.2.0",
            "grid_template_areas": null,
            "object_position": null,
            "object_fit": null,
            "grid_auto_columns": null,
            "margin": null,
            "display": null,
            "left": null
          }
        }
      }
    }
  },
  "cells": [
    {
      "cell_type": "markdown",
      "metadata": {
        "id": "GZk8sYIViU67",
        "colab_type": "text"
      },
      "source": [
        "# Rock, Paper, Scissors, Lizard, Spock\n",
        "\n",
        "\n"
      ]
    },
    {
      "cell_type": "code",
      "metadata": {
        "id": "Nt2G4glZrN7w",
        "colab_type": "code",
        "colab": {}
      },
      "source": [
        "# Your Name\n",
        "# Your Email Address\n",
        "# Programming Exercise 3\n",
        "# CS 381 PLF Summer 2020"
      ],
      "execution_count": 1,
      "outputs": []
    },
    {
      "cell_type": "markdown",
      "metadata": {
        "colab_type": "text",
        "id": "eGhAsIGHoBcD"
      },
      "source": [
        "# Game Overview"
      ]
    },
    {
      "cell_type": "markdown",
      "metadata": {
        "id": "ZIIoib9tml8-",
        "colab_type": "text"
      },
      "source": [
        "Rock-paper-scissors-lizard-Spock is a five-gesture expansion of the classic game rock-paper-scissors. The game was invented by Sam Kass, but popularized in this clip from the TV show 'Big Bang Theory'.\n",
        "\n",
        "You may also find the Wikipedia page useful: http://en.wikipedia.org/wiki/Rock-paper-scissors-lizard-Spock."
      ]
    },
    {
      "cell_type": "code",
      "metadata": {
        "id": "VKAnFvtSl0aR",
        "colab_type": "code",
        "colab": {
          "base_uri": "https://localhost:8080/",
          "height": 321
        },
        "outputId": "d48ff148-a72e-4c75-b659-4107126c3fa9"
      },
      "source": [
        "from IPython.display import YouTubeVideo\n",
        "YouTubeVideo('x5Q6-wMx-K8')"
      ],
      "execution_count": 2,
      "outputs": [
        {
          "output_type": "execute_result",
          "data": {
            "text/html": [
              "\n",
              "        <iframe\n",
              "            width=\"400\"\n",
              "            height=\"300\"\n",
              "            src=\"https://www.youtube.com/embed/x5Q6-wMx-K8\"\n",
              "            frameborder=\"0\"\n",
              "            allowfullscreen\n",
              "        ></iframe>\n",
              "        "
            ],
            "text/plain": [
              "<IPython.lib.display.YouTubeVideo at 0x7f57571fc588>"
            ],
            "image/jpeg": "[encoded data removed]"
          },
          "metadata": {
            "tags": []
          },
          "execution_count": 2
        }
      ]
    },
    {
      "cell_type": "markdown",
      "metadata": {
        "id": "6RxOYXGinX8J",
        "colab_type": "text"
      },
      "source": [
        "### **Implementation**\n",
        "For this Lab, you will implement the game, in Python, in an object-oriented way. Failure to implement the game using OO paradigms (as described below) will result in significant loss of points."
      ]
    },
    {
      "cell_type": "code",
      "metadata": {
        "id": "YCmlmZVB1LoZ",
        "colab_type": "code",
        "colab": {}
      },
      "source": [
        "# place any import statments here\n",
        "import sys\n",
        "import random\n",
        "# add libraries"
      ],
      "execution_count": 3,
      "outputs": []
    },
    {
      "cell_type": "markdown",
      "metadata": {
        "id": "AZiNI3kVNO_w",
        "colab_type": "text"
      },
      "source": [
        "# Game State"
      ]
    },
    {
      "cell_type": "markdown",
      "metadata": {
        "id": "7Wg8HGMUNV4-",
        "colab_type": "text"
      },
      "source": [
        "This will be passed to the player constructor. Player types that need access to previous game states can then access that information from this object."
      ]
    },
    {
      "cell_type": "code",
      "metadata": {
        "id": "OvTs6WD4miYZ",
        "colab_type": "code",
        "colab": {}
      },
      "source": [
        "# run this; do not edit\n",
        "class GameState:\n",
        "  def __init__ (self):\n",
        "    self.move_history = []\n",
        "    self.win1 = 0\n",
        "    self.win2 = 0\n",
        "  \n",
        "  def add_win1(self):\n",
        "    self.win1 += 1\n",
        "  \n",
        "  def add_win2(self):\n",
        "    self.win2 += 1\n",
        "\n",
        "  def append_history(self, move):\n",
        "    self.move_history.append(move)"
      ],
      "execution_count": 4,
      "outputs": []
    },
    {
      "cell_type": "markdown",
      "metadata": {
        "id": "hnbuosWpkwOO",
        "colab_type": "text"
      },
      "source": [
        "# Element Class"
      ]
    },
    {
      "cell_type": "markdown",
      "metadata": {
        "id": "v6xoopap-TdB",
        "colab_type": "text"
      },
      "source": [
        "### Element"
      ]
    },
    {
      "cell_type": "markdown",
      "metadata": {
        "id": "TuB5anDFoPNT",
        "colab_type": "text"
      },
      "source": [
        "First create a class named `Element`. This class will serve as the superclass to five subclasses: `Rock`, `Paper`, `Scissors`, `Lizard`, `Spock`.\n",
        "\n",
        "The `Element` class has one instance variable name, which will store the name of the `Element` (e.g., 'Rock', 'Lizard', etc). The constructor will take a name as a parameter and will save it to the instance variable name. \n",
        "\n",
        "Next, create a getter method called `name()` that returns the instance variable name. \n",
        "\n",
        "Lastly, create a method `compareTo(.)` that takes an instance of the class `Element` as an argument. In the superclass `Element`, leave this method undefined, using the line `raise NotImplementedError('Not yet implemented')` to throw an exception. You will instantiate the method in the five concrete subclasses."
      ]
    },
    {
      "cell_type": "code",
      "metadata": {
        "id": "GgCd4ElSkxZS",
        "colab_type": "code",
        "colab": {
          "base_uri": "https://localhost:8080/",
          "height": 34
        },
        "outputId": "dc98fb38-4481-4377-dfb7-9a4f88d37122"
      },
      "source": [
        "# Element parent class\n",
        "class Element:\n",
        "  def __init__ (self, name):\n",
        "    self.nam = name\n",
        "\n",
        "  def name(self): \n",
        "    return self.nam\n",
        "\n",
        "  def compareTo(self):\n",
        "    raise NotImplementedError('Not yet implemented')\n",
        "print('your code here')"
      ],
      "execution_count": 5,
      "outputs": [
        {
          "output_type": "stream",
          "text": [
            "your code here\n"
          ],
          "name": "stdout"
        }
      ]
    },
    {
      "cell_type": "markdown",
      "metadata": {
        "id": "rCouW4ijtyyK",
        "colab_type": "text"
      },
      "source": [
        "As the next step, create your five subclasses: `Rock`, `Paper`, `Scissors`, `Lizard`, `Spock`.\n",
        "\n",
        "For each you should only need to implement (override) the `compareTo` method. Python allows multiple return types. Your `compareTo` method will compare the argument against its own name and determine the outcome, returning two strings.\n",
        "\n",
        "The first return value is a string describing one of the following outcomes:\n",
        "\n",
        "*   *Scissors cut Paper*\n",
        "*   *Paper covers Rock*\n",
        "*   *Rock crushes Lizard*\n",
        "*   *Lizard poisons Spock*\n",
        "*   *Spock smashes Scissors*\n",
        "*   *Scissors decapitate Lizard*\n",
        "*   *Lizard eats Paper*\n",
        "*   *Paper disproves Spock*\n",
        "*   *Spock vaporizes Rock*\n",
        "*   *Rock crushes Scissors*\n",
        "\n",
        "For a tie, you should output a string such as '*Rock equals Rock*'.\n",
        "\n",
        "The second return value will return one the following round outcomes:\n",
        "*   Win \n",
        "*   Lose \n",
        "*   Tie"
      ]
    },
    {
      "cell_type": "markdown",
      "metadata": {
        "id": "9eD5uiKs-b2x",
        "colab_type": "text"
      },
      "source": [
        "### Rock"
      ]
    },
    {
      "cell_type": "code",
      "metadata": {
        "id": "0Mt1AAm7pig0",
        "colab_type": "code",
        "colab": {
          "base_uri": "https://localhost:8080/",
          "height": 34
        },
        "outputId": "fa17e379-633d-4c46-a2bb-833b24e37951"
      },
      "source": [
        "# Rock subclass\n",
        "class Rock(Element):\n",
        "  def __init__ (self, name):\n",
        "    super().__init__(name)\n",
        "\n",
        "  def compareTo(self, other):\n",
        "    result = ''\n",
        "    outcome = ''\n",
        "    if other.nam == 'Rock':\n",
        "      result = 'Rock equals Rock'\n",
        "      outcome = 'Tie'\n",
        "    elif other.nam == 'Paper':\n",
        "      result = 'Paper covers Rock'\n",
        "      outcome = 'Lose'\n",
        "    elif other.nam == 'Scissors':\n",
        "      result = 'Rock crushes Scissors'\n",
        "      outcome = 'Win'\n",
        "    elif other.nam == 'Lizard':\n",
        "      result = 'Rock crushes Lizard' \n",
        "      outcome = 'Win'\n",
        "    else:\n",
        "      result = 'Spock vaporizes Rock'\n",
        "      outcome = 'Lose'\n",
        "    return result, outcome  \n",
        "print('your code here')"
      ],
      "execution_count": 6,
      "outputs": [
        {
          "output_type": "stream",
          "text": [
            "your code here\n"
          ],
          "name": "stdout"
        }
      ]
    },
    {
      "cell_type": "markdown",
      "metadata": {
        "id": "Y-5anjly-hnP",
        "colab_type": "text"
      },
      "source": [
        "### Paper"
      ]
    },
    {
      "cell_type": "code",
      "metadata": {
        "id": "KTYZ3eY4pleI",
        "colab_type": "code",
        "colab": {
          "base_uri": "https://localhost:8080/",
          "height": 34
        },
        "outputId": "da25632a-fcc2-499d-ce5d-7017f420122a"
      },
      "source": [
        "# Paper subclass\n",
        "class Paper(Element):\n",
        "  def __init__ (self, name):\n",
        "    super().__init__(name)\n",
        "\n",
        "  def compareTo(self, other):\n",
        "    result = ''\n",
        "    outcome = ''\n",
        "    if other.nam == 'Rock':\n",
        "      result = 'Paper covers Rock'\n",
        "      outcome = 'Win'\n",
        "    elif other.nam == 'Paper':\n",
        "      result = 'Paper equals Paper'\n",
        "      outcome = 'Tie'\n",
        "    elif other.nam == 'Scissors':\n",
        "      result = 'Scissors cuts Paper'\n",
        "      outcome = 'Lose'\n",
        "    elif other.nam == 'Lizard':\n",
        "      result = 'Lizard eats Paper' \n",
        "      outcome = 'Lose'\n",
        "    else:\n",
        "      result = 'Paper disproves Spock'\n",
        "      outcome = 'Win'\n",
        "    return result, outcome\n",
        "print('your code here')"
      ],
      "execution_count": 7,
      "outputs": [
        {
          "output_type": "stream",
          "text": [
            "your code here\n"
          ],
          "name": "stdout"
        }
      ]
    },
    {
      "cell_type": "markdown",
      "metadata": {
        "id": "wZuDe9oo-jEH",
        "colab_type": "text"
      },
      "source": [
        "### Scissors"
      ]
    },
    {
      "cell_type": "code",
      "metadata": {
        "id": "zj3Aox-qpoCM",
        "colab_type": "code",
        "colab": {
          "base_uri": "https://localhost:8080/",
          "height": 34
        },
        "outputId": "48aa2682-d91d-484b-d180-fa62ee5d637a"
      },
      "source": [
        "# Scissors subclass\n",
        "class Scissors(Element):\n",
        "  def __init__ (self, name):\n",
        "    super().__init__(name)\n",
        "\n",
        "  def compareTo(self, other):\n",
        "    result = ''\n",
        "    outcome = ''\n",
        "    if other.nam == 'Rock':\n",
        "      result = 'Rock crushes Scissors'\n",
        "      outcome = 'Lose'\n",
        "    elif other.nam == 'Paper':\n",
        "      result = 'Scissors cuts Paper'\n",
        "      outcome = 'Win'\n",
        "    elif other.nam == 'Scissors':\n",
        "      result = 'Scissors equals Scissors'\n",
        "      outcome = 'Tie'\n",
        "    elif other.nam == 'Lizard':\n",
        "      result = 'Scissors decapitate Lizard' \n",
        "      outcome = 'Win'\n",
        "    else:\n",
        "      result = 'Spock smashes Scissors'\n",
        "      outcome = 'Lose'\n",
        "    return result, outcome  \n",
        "print('your code here')"
      ],
      "execution_count": 8,
      "outputs": [
        {
          "output_type": "stream",
          "text": [
            "your code here\n"
          ],
          "name": "stdout"
        }
      ]
    },
    {
      "cell_type": "markdown",
      "metadata": {
        "id": "jR0Pgais-qKf",
        "colab_type": "text"
      },
      "source": [
        "### Lizard"
      ]
    },
    {
      "cell_type": "code",
      "metadata": {
        "id": "XFDL_wrPpqW1",
        "colab_type": "code",
        "colab": {
          "base_uri": "https://localhost:8080/",
          "height": 34
        },
        "outputId": "0ce3f2cf-5947-442d-eb2f-6de9a7a76593"
      },
      "source": [
        "# Lizard sublclass\n",
        "class Lizard(Element):\n",
        "  def __init__ (self, name):\n",
        "    super().__init__(name)\n",
        "\n",
        "  def compareTo(self, other):\n",
        "    result = ''\n",
        "    outcome = ''\n",
        "    if other.nam == 'Rock':\n",
        "      result = 'Rock crushes Lizard'\n",
        "      outcome = 'Lose'\n",
        "    elif other.nam == 'Paper':\n",
        "      result = 'Lizard eats Paper'\n",
        "      outcome = 'Win'\n",
        "    elif other.nam == 'Scissors':\n",
        "      result = 'Scissors decapitate Lizard'\n",
        "      outcome = 'Lose'\n",
        "    elif other.nam == 'Lizard':\n",
        "      result = 'Lizard equals Lizard' \n",
        "      outcome = 'Tie'\n",
        "    else:\n",
        "      result = 'Lizard poisons Spock'\n",
        "      outcome = 'Win'\n",
        "    return result, outcome  \n",
        "print('your code here')"
      ],
      "execution_count": 9,
      "outputs": [
        {
          "output_type": "stream",
          "text": [
            "your code here\n"
          ],
          "name": "stdout"
        }
      ]
    },
    {
      "cell_type": "markdown",
      "metadata": {
        "id": "HLegjyJ5-sLf",
        "colab_type": "text"
      },
      "source": [
        "### Spock"
      ]
    },
    {
      "cell_type": "code",
      "metadata": {
        "id": "RPeNeOVVptHM",
        "colab_type": "code",
        "colab": {
          "base_uri": "https://localhost:8080/",
          "height": 34
        },
        "outputId": "93e811cf-281f-4f6f-ddd1-92d16edbe9da"
      },
      "source": [
        "# Spock subclass\n",
        "class Spock(Element):\n",
        "  def __init__ (self, name):\n",
        "    super().__init__(name)\n",
        "\n",
        "  def compareTo(self, other):\n",
        "    result = ''\n",
        "    outcome = ''\n",
        "    if other.nam == 'Rock':\n",
        "      result = 'Spock vaporizes Rock'\n",
        "      outcome = 'Win'\n",
        "    elif other.nam == 'Paper':\n",
        "      result = 'Paper disproves Spock'\n",
        "      outcome = 'Lose'\n",
        "    elif other.nam == 'Scissors':\n",
        "      result = 'Spock smashes Scissors'\n",
        "      outcome = 'Win'\n",
        "    elif other.nam == 'Lizard':\n",
        "      result = 'Lizard poisons Spock' \n",
        "      outcome = 'Lose'\n",
        "    else:\n",
        "      result = 'Spock equals Spock'\n",
        "      outcome = 'Tie'\n",
        "    return result, outcome\n",
        "print('your code here')"
      ],
      "execution_count": 10,
      "outputs": [
        {
          "output_type": "stream",
          "text": [
            "your code here\n"
          ],
          "name": "stdout"
        }
      ]
    },
    {
      "cell_type": "markdown",
      "metadata": {
        "id": "hN_u6Wpit3s-",
        "colab_type": "text"
      },
      "source": [
        "Now create one concrete instance of each of the five `Element`s and store these in a global list named `moves`. Throughout the lab, your will reuse these instances of the moves, rather than creating new instances as needed."
      ]
    },
    {
      "cell_type": "code",
      "metadata": {
        "id": "YpDIPK33py9_",
        "colab_type": "code",
        "colab": {
          "base_uri": "https://localhost:8080/",
          "height": 51
        },
        "outputId": "31a70d02-0ef4-4c82-ceae-0106c1deeed4"
      },
      "source": [
        "# Concrete instances saved for reuse\n",
        "rock = Rock('Rock')\n",
        "paper = Paper('Paper')\n",
        "scissors = Scissors('Scissors')\n",
        "lizard = Lizard('Lizard')\n",
        "spock = Spock('Spock')\n",
        "# concrete instances\n",
        "print('your code here')\n",
        "\n",
        "# array of instances for reuse\n",
        "moves = []\n",
        "moves.append(rock)\n",
        "moves.append(paper)\n",
        "moves.append(scissors)\n",
        "moves.append(lizard)\n",
        "moves.append(spock)\n",
        "print('your code here')"
      ],
      "execution_count": 11,
      "outputs": [
        {
          "output_type": "stream",
          "text": [
            "your code here\n",
            "your code here\n"
          ],
          "name": "stdout"
        }
      ]
    },
    {
      "cell_type": "markdown",
      "metadata": {
        "id": "gi2J8hqrpD1C",
        "colab_type": "text"
      },
      "source": [
        "### **Element Self-Check**"
      ]
    },
    {
      "cell_type": "markdown",
      "metadata": {
        "id": "WseRtyWYt78j",
        "colab_type": "text"
      },
      "source": [
        "This self-check should yield the following output:\n",
        "```\n",
        "('Paper covers rock', 'Lose')\n",
        "('Paper covers rock', 'Win')\n",
        "('Rock equals rock', 'Tie')\n",
        "```"
      ]
    },
    {
      "cell_type": "code",
      "metadata": {
        "id": "BIi1Zmb6pCyj",
        "colab_type": "code",
        "colab": {
          "base_uri": "https://localhost:8080/",
          "height": 68
        },
        "outputId": "c405134b-99d6-4739-db1c-5ad35479e1b7"
      },
      "source": [
        "print(rock.compareTo(paper))\n",
        "print(paper.compareTo(rock))\n",
        "print(rock.compareTo(rock))"
      ],
      "execution_count": 12,
      "outputs": [
        {
          "output_type": "stream",
          "text": [
            "('Paper covers Rock', 'Lose')\n",
            "('Paper covers Rock', 'Win')\n",
            "('Rock equals Rock', 'Tie')\n"
          ],
          "name": "stdout"
        }
      ]
    },
    {
      "cell_type": "markdown",
      "metadata": {
        "colab_type": "text",
        "id": "kgT8IzlNu2Lr"
      },
      "source": [
        "# Player Class"
      ]
    },
    {
      "cell_type": "markdown",
      "metadata": {
        "id": "wiSXN93HwELI",
        "colab_type": "text"
      },
      "source": [
        "Next you will create a series of classes for the Players. \n",
        "\n",
        "Begin with a superclass named `Player`. This class has one instance variable `name`. Create a getter method called `name()` that returns the variable name, which is set via the constructor. Also create a method `play()`. In the superclass `Player`, leave this method undefined, using the line raise `NotImplementedError('Not yet implemented')` to throw an exception. You will instantiate the method in the concrete subclasses. Now you are ready to create the concrete Player classes."
      ]
    },
    {
      "cell_type": "markdown",
      "metadata": {
        "id": "9gsH64jt_a-W",
        "colab_type": "text"
      },
      "source": [
        ">***Pro Tip:***\n",
        "> \n",
        ">Constructors in Python explicitly reference self. If you are new to Python, make sure to study the differences between constructors in C++/Java and Python."
      ]
    },
    {
      "cell_type": "code",
      "metadata": {
        "id": "j80daSaBwcSA",
        "colab_type": "code",
        "colab": {
          "base_uri": "https://localhost:8080/",
          "height": 34
        },
        "outputId": "43c07cfb-6378-4ab3-ac2b-39645d403214"
      },
      "source": [
        "# Player parent class\n",
        "class Player():\n",
        "  def __init__ (self, name, game):\n",
        "    self.nam = name\n",
        "    self.game = game\n",
        "\n",
        "  def name(self):\n",
        "    return self.nam\n",
        "\n",
        "  def play(self):\n",
        "    raise NotImplementedError('Not yet implemented')\n",
        "\n",
        "print('your code here')"
      ],
      "execution_count": 13,
      "outputs": [
        {
          "output_type": "stream",
          "text": [
            "your code here\n"
          ],
          "name": "stdout"
        }
      ]
    },
    {
      "cell_type": "markdown",
      "metadata": {
        "id": "-9rJxtdq_eX7",
        "colab_type": "text"
      },
      "source": [
        "### Stupid Bot"
      ]
    },
    {
      "cell_type": "markdown",
      "metadata": {
        "id": "6-HJr4VAxIwZ",
        "colab_type": "text"
      },
      "source": [
        "\n",
        "\n",
        "Begin with a class named `StupidBot`. For this class, define the `play()` method to return the same move every time. Because `StupidBot` is dumber than a box of rocks, have it play `Rock` each and every time."
      ]
    },
    {
      "cell_type": "code",
      "metadata": {
        "id": "0IKtr2mrxnqz",
        "colab_type": "code",
        "colab": {
          "base_uri": "https://localhost:8080/",
          "height": 34
        },
        "outputId": "d14ce54a-3612-4810-bbf3-e07ad917eda9"
      },
      "source": [
        "# Stupid Bot\n",
        "class StupidBot(Player):\n",
        "  def __init__ (self, name, game):\n",
        "    super().__init__(name, game)\n",
        "\n",
        "  def play(self):\n",
        "    move = Rock('Rock')\n",
        "    return move\n",
        "print('your code here')"
      ],
      "execution_count": 14,
      "outputs": [
        {
          "output_type": "stream",
          "text": [
            "your code here\n"
          ],
          "name": "stdout"
        }
      ]
    },
    {
      "cell_type": "markdown",
      "metadata": {
        "id": "1G0QqALn_hD3",
        "colab_type": "text"
      },
      "source": [
        "### Random Bot"
      ]
    },
    {
      "cell_type": "markdown",
      "metadata": {
        "colab_type": "text",
        "id": "-_WRDLY-xzfO"
      },
      "source": [
        "Next, create the class `RandomBot`. This Player will randomly pick and return one of the five possible moves from your moves list."
      ]
    },
    {
      "cell_type": "code",
      "metadata": {
        "colab_type": "code",
        "id": "8Kt07_vWxzfP",
        "colab": {
          "base_uri": "https://localhost:8080/",
          "height": 34
        },
        "outputId": "9631f4b2-0f5b-4bd3-fb7c-8a68b1ae8167"
      },
      "source": [
        "# Random Bot\n",
        "class RandomBot(Player):\n",
        "  def __init__ (self, name, game):\n",
        "    super().__init__(name, game)\n",
        "\n",
        "  def play(self):\n",
        "    move = random.choice(moves)\n",
        "    return move\n",
        "print('your code here')"
      ],
      "execution_count": 15,
      "outputs": [
        {
          "output_type": "stream",
          "text": [
            "your code here\n"
          ],
          "name": "stdout"
        }
      ]
    },
    {
      "cell_type": "markdown",
      "metadata": {
        "id": "xOM88hKL_l-u",
        "colab_type": "text"
      },
      "source": [
        "### Iterative Bot"
      ]
    },
    {
      "cell_type": "markdown",
      "metadata": {
        "colab_type": "text",
        "id": "ozADc057x0ax"
      },
      "source": [
        "\n",
        "\n",
        "Your next Player, `IterativeBot`, begins with one Rock and cycles through all the moves, one by one in order, repeating the sequence only after having played all five moves."
      ]
    },
    {
      "cell_type": "code",
      "metadata": {
        "colab_type": "code",
        "id": "R9rwvbjZx0ay",
        "colab": {
          "base_uri": "https://localhost:8080/",
          "height": 34
        },
        "outputId": "66d13952-e1c2-484c-969d-b1ba75d4737d"
      },
      "source": [
        "# Iterative Bot\n",
        "class IterativeBot(Player):\n",
        "  def __init__ (self, name, game):\n",
        "    super().__init__(name, game)\n",
        "\n",
        "  next = 4\n",
        "\n",
        "  def play(self):\n",
        "    self.next = self.next + 1\n",
        "    if self.next > 4:\n",
        "      self.next = 0\n",
        "    return moves[self.next]\n",
        "    \n",
        "print('your code here')"
      ],
      "execution_count": 16,
      "outputs": [
        {
          "output_type": "stream",
          "text": [
            "your code here\n"
          ],
          "name": "stdout"
        }
      ]
    },
    {
      "cell_type": "markdown",
      "metadata": {
        "id": "qXcI2IbA_7Hi",
        "colab_type": "text"
      },
      "source": [
        "### Last Play Bot"
      ]
    },
    {
      "cell_type": "markdown",
      "metadata": {
        "colab_type": "text",
        "id": "2CP9_J1ux1M7"
      },
      "source": [
        "\n",
        "\n",
        "Player `LastPlayBot` will always play the move that the opponent played on the previous move. If Player 1, use `Rock` for the first move."
      ]
    },
    {
      "cell_type": "code",
      "metadata": {
        "colab_type": "code",
        "id": "4ASzJZ1Tx1M8",
        "colab": {
          "base_uri": "https://localhost:8080/",
          "height": 34
        },
        "outputId": "d6c2b8a3-ee98-4618-bdc6-88ab6f2ae112"
      },
      "source": [
        "# Last Play Bot\n",
        "class LastPlayBot(Player):\n",
        "  def __init__ (self, name, game):\n",
        "    super().__init__(name, game)\n",
        "\n",
        "  def play(self):\n",
        "    if not self.game.move_history:\n",
        "      move = Rock('Rock')\n",
        "    else:\n",
        "      move = self.game.move_history[-1]\n",
        "    return move\n",
        "print('your code here')"
      ],
      "execution_count": 17,
      "outputs": [
        {
          "output_type": "stream",
          "text": [
            "your code here\n"
          ],
          "name": "stdout"
        }
      ]
    },
    {
      "cell_type": "markdown",
      "metadata": {
        "id": "VeACedZff9WF",
        "colab_type": "text"
      },
      "source": [
        "### MyBot"
      ]
    },
    {
      "cell_type": "markdown",
      "metadata": {
        "id": "HtUM77XqgETr",
        "colab_type": "text"
      },
      "source": [
        "As an optional exercise, define a class `MyBot`. This Player can employ any strategy you determine that differs from the other Players described above. \n",
        "\n",
        "You can describe your strategy as a extended length comment (or text box) in your code. What makes your strategy good? Discuss the advantages and disadvantages of your strategy."
      ]
    },
    {
      "cell_type": "code",
      "metadata": {
        "id": "otYJOEXzgOtK",
        "colab_type": "code",
        "colab": {
          "base_uri": "https://localhost:8080/",
          "height": 34
        },
        "outputId": "2319567b-7ee1-4be8-afe8-7071f863dc7a"
      },
      "source": [
        "# MyBot\n",
        "# create helper function that returns most common element in list\n",
        "def most_common(lst):\n",
        "    if lst:\n",
        "      return max(set(lst), key=lst.count)\n",
        "    else:\n",
        "      return random.choice(moves)\n",
        "# mybot will always play the most common move in game if game history\n",
        "# is not empty, otherwise move is random\n",
        "# if the game starts it will play rock\n",
        "# it is impossible to gain an advantage over a truly random opponent\n",
        "# but using this strategy i will lose less in average\n",
        "class MyBot(Player):\n",
        "  def __init__ (self, name, game):\n",
        "    super().__init__(name, game)\n",
        "\n",
        "  def play(self):\n",
        "    if not self.game.move_history:\n",
        "      move = Rock('Rock')\n",
        "    move = most_common(self.game.move_history)\n",
        "    \n",
        "    return move\n",
        "print('your code here')"
      ],
      "execution_count": 18,
      "outputs": [
        {
          "output_type": "stream",
          "text": [
            "your code here\n"
          ],
          "name": "stdout"
        }
      ]
    },
    {
      "cell_type": "markdown",
      "metadata": {
        "id": "ntTTUBhf__jw",
        "colab_type": "text"
      },
      "source": [
        "### Human Player"
      ]
    },
    {
      "cell_type": "markdown",
      "metadata": {
        "colab_type": "text",
        "id": "LU7OBYDcx11l"
      },
      "source": [
        "\n",
        "\n",
        "Next, you will define a `Human` class. This Player will ask the user to determine the move. For each turn, the `play()` method will print the options and request input from the user. Be sure to only accept valid moves from the user."
      ]
    },
    {
      "cell_type": "markdown",
      "metadata": {
        "id": "muGq7iTayjsl",
        "colab_type": "text"
      },
      "source": [
        "***Sample output of a move from Human Player:***\n",
        "\n",
        "(1) : Rock\n",
        "\n",
        "(2) : Paper\n",
        "\n",
        "(3) : Scissors\n",
        "\n",
        "(4) : Lizard\n",
        "\n",
        "(5) : Spock\n",
        "\n",
        "Enter your move: 6\n",
        "\n",
        "Invalid move. Please try again.\n",
        "\n",
        "Enter your move: 2"
      ]
    },
    {
      "cell_type": "markdown",
      "metadata": {
        "id": "7KLKvgVkARjn",
        "colab_type": "text"
      },
      "source": [
        "##### Reading Standard Input\n",
        "Use this `readInput()` function to request user input. This is required in order to work with either human input or the automatic tests.\n",
        "\n",
        "Example usage:\n",
        "`choice = readInput()`"
      ]
    },
    {
      "cell_type": "code",
      "metadata": {
        "id": "xr00-9fAIKf1",
        "colab_type": "code",
        "colab": {}
      },
      "source": [
        "# DO NOT EDIT\n",
        "def readInput():\n",
        "  try:\n",
        "    if sys.stdin == sys.__stdin__:\n",
        "      return int(input())\n",
        "    else:\n",
        "      return int(sys.stdin.readline())  \n",
        "  except:\n",
        "    sys.stderr.write('Enter an integer.\\n')\n",
        "    return -1"
      ],
      "execution_count": 19,
      "outputs": []
    },
    {
      "cell_type": "code",
      "metadata": {
        "colab_type": "code",
        "id": "t20K4nhgx11m",
        "colab": {
          "base_uri": "https://localhost:8080/",
          "height": 34
        },
        "outputId": "5b9f5261-5c6c-43c9-fcaf-aa8dd07b8f9b"
      },
      "source": [
        "# Human Player\n",
        "class Human(Player):\n",
        "  def __init__ (self, name, game):\n",
        "    super().__init__(name, game)\n",
        "\n",
        "  def play(self):\n",
        "    \n",
        "    while True:\n",
        "      print('(1) : Rock')\n",
        "      print('(2) : Paper')\n",
        "      print('(3) : Scissors')\n",
        "      print('(4) : Lizard')\n",
        "      print('(5) : Spock')\n",
        "      print('Enter your move: ')\n",
        "      choice = readInput()\n",
        "      if choice not in range(1,6):\n",
        "        print('Invalid move.  Please try again')\n",
        "        continue\n",
        "      #choice = readInput()\n",
        "      break\n",
        "    move = moves[choice - 1]\n",
        "    return move\n",
        "\n",
        "print('your code here')"
      ],
      "execution_count": 20,
      "outputs": [
        {
          "output_type": "stream",
          "text": [
            "your code here\n"
          ],
          "name": "stdout"
        }
      ]
    },
    {
      "cell_type": "markdown",
      "metadata": {
        "colab_type": "text",
        "id": "Tty9fK20zOc-"
      },
      "source": [
        "### **Player Self-Check**"
      ]
    },
    {
      "cell_type": "markdown",
      "metadata": {
        "colab_type": "text",
        "id": "KU_5MuwhzOc_"
      },
      "source": [
        "This Self-Check *might* yield the following output:\n",
        "```\n",
        "('Rock crushes Scissors', 'Lose')\n",
        "```\n",
        "or something similar (note the random)"
      ]
    },
    {
      "cell_type": "code",
      "metadata": {
        "id": "5fv_BmhwzhdO",
        "colab_type": "code",
        "colab": {
          "base_uri": "https://localhost:8080/",
          "height": 34
        },
        "outputId": "151506d7-204c-4aa3-8710-dac71a763d4d"
      },
      "source": [
        "game = GameState()\n",
        "p1 = StupidBot('StupidBot', game)\n",
        "p2 = RandomBot('RandomBot', game)\n",
        "p1move = p1.play()\n",
        "p2move = p2.play()\n",
        "print(p1move.compareTo(p2move))"
      ],
      "execution_count": 21,
      "outputs": [
        {
          "output_type": "stream",
          "text": [
            "('Rock crushes Scissors', 'Win')\n"
          ],
          "name": "stdout"
        }
      ]
    },
    {
      "cell_type": "markdown",
      "metadata": {
        "colab_type": "text",
        "id": "ylKGaKDRlOho"
      },
      "source": [
        "# Driver Program"
      ]
    },
    {
      "cell_type": "markdown",
      "metadata": {
        "id": "jhAyLkZCiOO2",
        "colab_type": "text"
      },
      "source": [
        "This is the main (driver) program to test your classes above. It plays five rounds of RPSLS."
      ]
    },
    {
      "cell_type": "code",
      "metadata": {
        "id": "pwynsep93ctr",
        "colab_type": "code",
        "colab": {
          "base_uri": "https://localhost:8080/",
          "height": 34
        },
        "outputId": "e5c0bb6b-cc19-47c1-cfbd-5755a46748af"
      },
      "source": [
        "# run this; do not edit\n",
        "def main(): \n",
        "\t# welcome message\n",
        "  print('Welcome to Rock, Paper, Scissors, Lizard, Spock!\\n')\n",
        "  # get user input for player type\n",
        "  print('Please choose two players: ')\n",
        "  print('1 : Human')\n",
        "  print('2 : StupidBot')\n",
        "  print('3 : RandomBot')\n",
        "  print('4 : IterativeBot')\n",
        "  print('5 : LastPlayBot')\n",
        "  print('6 : MyBot')\n",
        "\n",
        "  # select players\n",
        "  while True:\n",
        "    print('Select player 1: ')\n",
        "    selection = readInput()\n",
        "    player1 = player_selection(selection)   \n",
        "    if player1 is not None:\n",
        "      name1 = player1.name()\n",
        "    print('Select player 2: ')\n",
        "    selection = readInput()\n",
        "    player2 = player_selection(selection)\n",
        "    if player2 is not None:\n",
        "      name2 = player2.name()\n",
        "    if player1 is not None and player2 is not None:\n",
        "      break\n",
        "    print('Invalid choice(s). Please start over.\\n')\n",
        "\n",
        "  # declare battle\n",
        "  print(name1 + ' vs. ' + name2 +'. Go!\\n')\n",
        "\n",
        "  # go through each round\n",
        "  for i in range(1, 6):\n",
        "    print('Round', i, ': ')\n",
        "    round(player1, player2)\n",
        "\n",
        "  # calculate final score and champion\n",
        "  print('Final score is ' + str(player1.game.win1) + ' to ' + str(player1.game.win2) + '.')\n",
        "  if player1.game.win1 > player1.game.win2:\n",
        "    print('Player 1 wins.')\n",
        "  elif player1.game.win2 > player1.game.win1:\n",
        "    print('Player 2 wins.')\n",
        "  else:\n",
        "    print('Game was a draw.')\n",
        "\n",
        "# select the players\n",
        "def player_selection(selection):\n",
        "  game = GameState()\n",
        "  if (selection == '1' or selection == 1):\n",
        "    player = Human('Human', game)\n",
        "  elif (selection == '2'  or selection == 2):\n",
        "    player = StupidBot('StupidBot', game)\n",
        "  elif (selection == '3'  or selection == 3):\n",
        "    player = RandomBot('RandomBot', game)\n",
        "  elif (selection == '4'  or selection == 4):\n",
        "    player = IterativeBot('IterativeBot',game)\n",
        "  elif (selection == '5'  or selection == 5):\n",
        "    player = LastPlayBot('LastPlayBot', game)\n",
        "  elif (selection == '6'  or selection == 6):\n",
        "    player = MyBot('MyBot', game)\n",
        "  else:\n",
        "    player = None\n",
        "  return player\n",
        "\n",
        "# play a single round\n",
        "def round(player1, player2):\n",
        "  # each player makes a move and stores in their move history\n",
        "  p1move = player1.play()\n",
        "  p2move = player2.play()\n",
        "  player1.game.append_history(p1move)\n",
        "  player1.game.append_history(p2move)\n",
        "  player2.game.append_history(p2move)\n",
        "  player2.game.append_history(p1move)\n",
        "  print('Player 1 chose ' + p1move.name()) \n",
        "  print('Player 2 chose ' + p2move.name()) \n",
        "  print(p1move.compareTo(p2move)[0])\n",
        "  # calculate and print outcome\n",
        "  if p1move.compareTo(p2move)[1] == 'Win':\n",
        "    print('Player 1 won the round.\\n')\n",
        "    player1.game.add_win1()\n",
        "  elif p1move.compareTo(p2move)[1] == 'Lose':\n",
        "    print('Player 2 won the round.\\n')\n",
        "    player1.game.add_win2()\n",
        "  else:\n",
        "    print('Round was a tie.\\n')\n",
        "print()"
      ],
      "execution_count": 22,
      "outputs": [
        {
          "output_type": "stream",
          "text": [
            "\n"
          ],
          "name": "stdout"
        }
      ]
    },
    {
      "cell_type": "markdown",
      "metadata": {
        "id": "cOTDne0cHj59",
        "colab_type": "text"
      },
      "source": [
        "# Manual Testing"
      ]
    },
    {
      "cell_type": "markdown",
      "metadata": {
        "id": "sgcvGkpegph-",
        "colab_type": "text"
      },
      "source": [
        "> If you've previously run the Automatic Tests below, you will need to `Runtime=>Restart and Run all`. This is necessary to reset the `stdout` (otherwise you might not see any prints). "
      ]
    },
    {
      "cell_type": "code",
      "metadata": {
        "id": "K17L8KSZrHCA",
        "colab_type": "code",
        "colab": {
          "base_uri": "https://localhost:8080/",
          "height": 918
        },
        "outputId": "ab8c3561-fa30-414d-b605-d0857c3a8d5d"
      },
      "source": [
        "# Run a single game to stdout\n",
        "main()"
      ],
      "execution_count": 23,
      "outputs": [
        {
          "output_type": "stream",
          "text": [
            "Welcome to Rock, Paper, Scissors, Lizard, Spock!\n",
            "\n",
            "Please choose two players: \n",
            "1 : Human\n",
            "2 : StupidBot\n",
            "3 : RandomBot\n",
            "4 : IterativeBot\n",
            "5 : LastPlayBot\n",
            "6 : MyBot\n",
            "Select player 1: \n",
            "7\n",
            "Select player 2: \n",
            "2\n",
            "Invalid choice(s). Please start over.\n",
            "\n",
            "Select player 1: \n",
            "6\n",
            "Select player 2: \n",
            "6\n",
            "MyBot vs. MyBot. Go!\n",
            "\n",
            "Round 1 : \n",
            "Player 1 chose Scissors\n",
            "Player 2 chose Spock\n",
            "Spock smashes Scissors\n",
            "Player 2 won the round.\n",
            "\n",
            "Round 2 : \n",
            "Player 1 chose Spock\n",
            "Player 2 chose Spock\n",
            "Spock equals Spock\n",
            "Round was a tie.\n",
            "\n",
            "Round 3 : \n",
            "Player 1 chose Spock\n",
            "Player 2 chose Spock\n",
            "Spock equals Spock\n",
            "Round was a tie.\n",
            "\n",
            "Round 4 : \n",
            "Player 1 chose Spock\n",
            "Player 2 chose Spock\n",
            "Spock equals Spock\n",
            "Round was a tie.\n",
            "\n",
            "Round 5 : \n",
            "Player 1 chose Spock\n",
            "Player 2 chose Spock\n",
            "Spock equals Spock\n",
            "Round was a tie.\n",
            "\n",
            "Final score is 0 to 1.\n",
            "Player 2 wins.\n"
          ],
          "name": "stdout"
        }
      ]
    },
    {
      "cell_type": "markdown",
      "metadata": {
        "id": "XWriOYa8fJJ-",
        "colab_type": "text"
      },
      "source": [
        "# Testing"
      ]
    },
    {
      "cell_type": "markdown",
      "metadata": {
        "id": "ATxxa-GUfKy8",
        "colab_type": "text"
      },
      "source": [
        "### Download Tests"
      ]
    },
    {
      "cell_type": "markdown",
      "metadata": {
        "id": "fSyt4xaNCCTQ",
        "colab_type": "text"
      },
      "source": [
        "Run the following code to download the test set."
      ]
    },
    {
      "cell_type": "code",
      "metadata": {
        "id": "sM_gCOkIn4a7",
        "colab_type": "code",
        "colab": {
          "base_uri": "https://localhost:8080/",
          "height": 289
        },
        "outputId": "59453303-0b82-4748-a8c6-7b5bb0cee551"
      },
      "source": [
        "# run this; do not edit\n",
        "from os import path\n",
        "# url of the data tests archive\n",
        "url = 'https://github.com/Soundbendor/cs381/raw/master/tests.tar'\n",
        "tar_file = 'tests.tar'\n",
        "# download file and untar\n",
        "if (not path.exists(tar_file)):\n",
        "  !rm -rf ./tests\n",
        "  !rm -rf ./myout\n",
        "  !mkdir ./tests\n",
        "  !mkdir ./myout\n",
        "  !wget $url\n",
        "  !tar -xf $tar_file -C ./tests\n",
        "else:\n",
        "  print('Tests have already been downloaded.')"
      ],
      "execution_count": 24,
      "outputs": [
        {
          "output_type": "stream",
          "text": [
            "--2020-07-25 07:28:23--  https://github.com/Soundbendor/cs381/raw/master/tests.tar\n",
            "Resolving github.com (github.com)... 140.82.114.3\n",
            "Connecting to github.com (github.com)|140.82.114.3|:443... connected.\n",
            "HTTP request sent, awaiting response... 302 Found\n",
            "Location: https://raw.githubusercontent.com/Soundbendor/cs381/master/tests.tar [following]\n",
            "--2020-07-25 07:28:23--  https://raw.githubusercontent.com/Soundbendor/cs381/master/tests.tar\n",
            "Resolving raw.githubusercontent.com (raw.githubusercontent.com)... 151.101.0.133, 151.101.64.133, 151.101.128.133, ...\n",
            "Connecting to raw.githubusercontent.com (raw.githubusercontent.com)|151.101.0.133|:443... connected.\n",
            "HTTP request sent, awaiting response... 200 OK\n",
            "Length: 40448 (40K) [application/octet-stream]\n",
            "Saving to: ‘tests.tar’\n",
            "\n",
            "\rtests.tar             0%[                    ]       0  --.-KB/s               \rtests.tar           100%[===================>]  39.50K  --.-KB/s    in 0.01s   \n",
            "\n",
            "2020-07-25 07:28:23 (2.64 MB/s) - ‘tests.tar’ saved [40448/40448]\n",
            "\n"
          ],
          "name": "stdout"
        }
      ]
    },
    {
      "cell_type": "markdown",
      "metadata": {
        "id": "wAzAfDL9fMwI",
        "colab_type": "text"
      },
      "source": [
        "### Run Test Suite"
      ]
    },
    {
      "cell_type": "markdown",
      "metadata": {
        "id": "DTkOZo-PhZAC",
        "colab_type": "text"
      },
      "source": [
        "This code runs the automatic tests. You do not need to edit. "
      ]
    },
    {
      "cell_type": "code",
      "metadata": {
        "id": "p2Ok8baU7jzy",
        "colab_type": "code",
        "colab": {
          "base_uri": "https://localhost:8080/",
          "height": 49,
          "referenced_widgets": [
            "f5826638f00b4b2fa3eea2bc5f7707fb",
            "58bafc06190041689cecf2a21411794d",
            "39e8f31feccd4873a11732b7eab4faf6",
            "7daa5cf2b6bc465393b7765b7b17e135",
            "af36ca1abe2f45d7946cabf11088f4bb",
            "de2e4e1c23fc424e9c87b5628b976015",
            "cd27a17740aa4fec94b7c202bfa4fa8a",
            "a5a7e4e990cc4895aed6d8b8a672cbe6"
          ]
        },
        "outputId": "9a419762-27ff-4b26-f134-94a01f3d1537"
      },
      "source": [
        "# run this; do not edit\n",
        "import os\n",
        "import sys\n",
        "import glob\n",
        "import filecmp \n",
        "import difflib\n",
        "from tqdm.notebook import tqdm\n",
        "tqdm().pandas()\n",
        "\n",
        "# run one test\n",
        "def run_test(test, verbose=False):\n",
        "    outf = '/content/tests/'+test.replace('.in','.out')\n",
        "    myoutf ='/content/myout/'+test.replace('.in','.myout')\n",
        "    if os.path.exists(myoutf):\n",
        "      os.remove(myoutf)\n",
        "\n",
        "    # print header  \n",
        "    sys.stderr.write('***************\\n')\n",
        "    sys.stderr.write('* Test ' + test + '\\n')\n",
        "    sys.stderr.write('***************\\n')\n",
        "\n",
        "    # check if test exists\n",
        "    try:\n",
        "      test_input = open('/content/tests/'+test, 'r')\n",
        "    except:\n",
        "     sys.stderr.write('Test ' + test + ' was not found')\n",
        "     sys.stdout =  sys.__stdout__\n",
        "     return\n",
        "\n",
        "    # run lab \n",
        "    sys.stdin = test_input\n",
        "    test_output = open(myoutf, 'w')\n",
        "    sys.stdout = test_output\n",
        "    main()\n",
        "    test_output.close()\n",
        "    test_input.close()\n",
        "    sys.stdout = sys.__stdout__\n",
        "    sys.stdin = sys.__stdin__\n",
        "    # compare output\n",
        "    comp = filecmp.cmp(outf, myoutf, shallow = False) \n",
        "    with open(outf, 'r') as f1:\n",
        "      f1_text = f1.read()\n",
        "      f1.close()\n",
        "    with open(myoutf) as f2:\n",
        "      f2_text = f2.read()\n",
        "      f2.close()\n",
        "    if verbose:\n",
        "      # print the character differences\n",
        "      for line in difflib.unified_diff(f1_text, f2_text, fromfile='out', tofile='myout', lineterm='\\n'):\n",
        "        sys.stderr.write(line+'\\n')\n",
        "    if comp==True:\n",
        "      sys.stderr.write('  Passed\\n')\n",
        "    else:\n",
        "      sys.stderr.write('  Failed\\n')\n",
        "\n",
        "# run all tests\n",
        "def run_tests(verbose=False):\n",
        "  tests = sorted(map(os.path.basename, glob.glob('./tests/*.in')))\n",
        "  for test in tqdm(tests):\n",
        "    run_test(test,verbose)"
      ],
      "execution_count": 25,
      "outputs": [
        {
          "output_type": "display_data",
          "data": {
            "application/vnd.jupyter.widget-view+json": {
              "model_id": "f5826638f00b4b2fa3eea2bc5f7707fb",
              "version_minor": 0,
              "version_major": 2
            },
            "text/plain": [
              "HBox(children=(FloatProgress(value=1.0, bar_style='info', max=1.0), HTML(value='')))"
            ]
          },
          "metadata": {
            "tags": []
          }
        }
      ]
    },
    {
      "cell_type": "markdown",
      "metadata": {
        "id": "0k-DsAFdB5ET",
        "colab_type": "text"
      },
      "source": [
        "### Run a single test"
      ]
    },
    {
      "cell_type": "markdown",
      "metadata": {
        "id": "opT9dl0Chevy",
        "colab_type": "text"
      },
      "source": [
        "This runs a single test. You can change the test by specifying the argument."
      ]
    },
    {
      "cell_type": "code",
      "metadata": {
        "id": "lfFfYwlOhBpe",
        "colab_type": "code",
        "colab": {
          "base_uri": "https://localhost:8080/",
          "height": 85
        },
        "outputId": "9456aa79-8915-4145-b924-83f6e9fe1fa9"
      },
      "source": [
        "# run a single test, e.g. 't01.in'\n",
        "run_test('t41.in', verbose=True)"
      ],
      "execution_count": 26,
      "outputs": [
        {
          "output_type": "stream",
          "text": [
            "***************\n",
            "* Test t41.in\n",
            "***************\n",
            "  Passed\n"
          ],
          "name": "stderr"
        }
      ]
    },
    {
      "cell_type": "markdown",
      "metadata": {
        "id": "4H9MG2FaB7Mh",
        "colab_type": "text"
      },
      "source": [
        "### Run the test suite"
      ]
    },
    {
      "cell_type": "markdown",
      "metadata": {
        "id": "eRC1_zkNhnK0",
        "colab_type": "text"
      },
      "source": [
        "This will run all the tests."
      ]
    },
    {
      "cell_type": "code",
      "metadata": {
        "id": "6uF0HcKwfn4e",
        "colab_type": "code",
        "colab": {
          "base_uri": "https://localhost:8080/",
          "height": 933,
          "referenced_widgets": [
            "cb4a8feb1cb7499c8b7a859c94d83ad0",
            "ad9ae489c44b48e79d610372ea1719fd",
            "e5b3fca9f9ac428d8ac938dcb1984c3a",
            "30d8183416d8427dbd5f3df0733d6236",
            "aac56b75b16c45829c5fa6760f465567",
            "783432576c0045fdaa00773042d04f19",
            "a487092ed6d447068c42f51a888b605b",
            "a2927e85164e43e38fd6bc8055580d9d"
          ]
        },
        "outputId": "5bafdd15-2a03-4b1e-9472-47b259ae01b4"
      },
      "source": [
        "# run all tests\n",
        "run_tests(verbose=False)"
      ],
      "execution_count": 27,
      "outputs": [
        {
          "output_type": "display_data",
          "data": {
            "application/vnd.jupyter.widget-view+json": {
              "model_id": "cb4a8feb1cb7499c8b7a859c94d83ad0",
              "version_minor": 0,
              "version_major": 2
            },
            "text/plain": [
              "HBox(children=(FloatProgress(value=0.0, max=13.0), HTML(value='')))"
            ]
          },
          "metadata": {
            "tags": []
          }
        },
        {
          "output_type": "stream",
          "text": [
            "***************\n",
            "* Test t01.in\n",
            "***************\n",
            "  Passed\n",
            "***************\n",
            "* Test t02.in\n",
            "***************\n",
            "  Passed\n",
            "***************\n",
            "* Test t03.in\n",
            "***************\n",
            "  Passed\n",
            "***************\n",
            "* Test t04.in\n",
            "***************\n",
            "  Passed\n",
            "***************\n",
            "* Test t21.in\n",
            "***************\n",
            "  Passed\n",
            "***************\n",
            "* Test t22.in\n",
            "***************\n",
            "  Passed\n",
            "***************\n",
            "* Test t41.in\n",
            "***************\n",
            "  Passed\n",
            "***************\n",
            "* Test t42.in\n",
            "***************\n",
            "  Passed\n",
            "***************\n",
            "* Test t44.in\n",
            "***************\n",
            "  Passed\n",
            "***************\n",
            "* Test t51.in\n",
            "***************\n",
            "  Passed\n",
            "***************\n",
            "* Test t52.in\n",
            "***************\n",
            "  Passed\n",
            "***************\n",
            "* Test t54.in\n",
            "***************\n",
            "  Passed\n",
            "***************\n",
            "* Test t55.in\n",
            "***************\n",
            "  Passed\n"
          ],
          "name": "stderr"
        }
      ]
    },
    {
      "cell_type": "markdown",
      "metadata": {
        "id": "m609obD1osvq",
        "colab_type": "text"
      },
      "source": [
        "<img src=\"https://66.media.tumblr.com/dded9d1a2bf2068f92af9f7a9b6b5451/tumblr_p6s3hbPzgV1vd8jsjo1_500.gifv\" width=\"300\">"
      ]
    }
  ]
}