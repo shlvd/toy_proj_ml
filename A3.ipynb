{
 "cells": [
  {
   "cell_type": "code",
   "execution_count": 11,
   "metadata": {
    "colab": {},
    "colab_type": "code",
    "id": "55K9jz9BJ7ji"
   },
   "outputs": [],
   "source": [
    "import pandas as pd\n",
    "import numpy as np\n",
    "import matplotlib.pyplot as plt\n",
    "%matplotlib inline\n",
    "import os"
   ]
  },
  {
   "cell_type": "code",
   "execution_count": 86,
   "metadata": {
    "colab": {},
    "colab_type": "code",
    "id": "nCH4qJ8iU6MM"
   },
   "outputs": [],
   "source": [
    "# list of file names in 2nd_test folder\n",
    "datadir = '/content/drive/My Drive/2nd_test'\n"
   ]
  },
  {
   "cell_type": "code",
   "execution_count": 7,
   "metadata": {
    "colab": {},
    "colab_type": "code",
    "id": "smrTx0okSBLV"
   },
   "outputs": [],
   "source": [
    "# look at one of the files\n",
    "df = pd.read_csv('/content/drive/My Drive/2nd_test/2004.02.12.10.32.39', sep='\\t', header=None)"
   ]
  },
  {
   "cell_type": "code",
   "execution_count": 8,
   "metadata": {
    "colab": {
     "base_uri": "https://localhost:8080/",
     "height": 419
    },
    "colab_type": "code",
    "id": "A4FItGWTSChj",
    "outputId": "9733013b-8c92-4f00-d34a-2d51c68e1aec"
   },
   "outputs": [
    {
     "data": {
      "text/html": [
       "<div>\n",
       "<style scoped>\n",
       "    .dataframe tbody tr th:only-of-type {\n",
       "        vertical-align: middle;\n",
       "    }\n",
       "\n",
       "    .dataframe tbody tr th {\n",
       "        vertical-align: top;\n",
       "    }\n",
       "\n",
       "    .dataframe thead th {\n",
       "        text-align: right;\n",
       "    }\n",
       "</style>\n",
       "<table border=\"1\" class=\"dataframe\">\n",
       "  <thead>\n",
       "    <tr style=\"text-align: right;\">\n",
       "      <th></th>\n",
       "      <th>0</th>\n",
       "      <th>1</th>\n",
       "      <th>2</th>\n",
       "      <th>3</th>\n",
       "    </tr>\n",
       "  </thead>\n",
       "  <tbody>\n",
       "    <tr>\n",
       "      <th>0</th>\n",
       "      <td>-0.049</td>\n",
       "      <td>-0.071</td>\n",
       "      <td>-0.132</td>\n",
       "      <td>-0.010</td>\n",
       "    </tr>\n",
       "    <tr>\n",
       "      <th>1</th>\n",
       "      <td>-0.042</td>\n",
       "      <td>-0.073</td>\n",
       "      <td>-0.007</td>\n",
       "      <td>-0.105</td>\n",
       "    </tr>\n",
       "    <tr>\n",
       "      <th>2</th>\n",
       "      <td>0.015</td>\n",
       "      <td>0.000</td>\n",
       "      <td>0.007</td>\n",
       "      <td>0.000</td>\n",
       "    </tr>\n",
       "    <tr>\n",
       "      <th>3</th>\n",
       "      <td>-0.051</td>\n",
       "      <td>0.020</td>\n",
       "      <td>-0.002</td>\n",
       "      <td>0.100</td>\n",
       "    </tr>\n",
       "    <tr>\n",
       "      <th>4</th>\n",
       "      <td>-0.107</td>\n",
       "      <td>0.010</td>\n",
       "      <td>0.127</td>\n",
       "      <td>0.054</td>\n",
       "    </tr>\n",
       "    <tr>\n",
       "      <th>...</th>\n",
       "      <td>...</td>\n",
       "      <td>...</td>\n",
       "      <td>...</td>\n",
       "      <td>...</td>\n",
       "    </tr>\n",
       "    <tr>\n",
       "      <th>20475</th>\n",
       "      <td>0.049</td>\n",
       "      <td>-0.051</td>\n",
       "      <td>-0.039</td>\n",
       "      <td>-0.044</td>\n",
       "    </tr>\n",
       "    <tr>\n",
       "      <th>20476</th>\n",
       "      <td>0.037</td>\n",
       "      <td>0.061</td>\n",
       "      <td>0.115</td>\n",
       "      <td>0.007</td>\n",
       "    </tr>\n",
       "    <tr>\n",
       "      <th>20477</th>\n",
       "      <td>-0.012</td>\n",
       "      <td>0.007</td>\n",
       "      <td>0.056</td>\n",
       "      <td>-0.007</td>\n",
       "    </tr>\n",
       "    <tr>\n",
       "      <th>20478</th>\n",
       "      <td>-0.012</td>\n",
       "      <td>0.093</td>\n",
       "      <td>0.017</td>\n",
       "      <td>-0.044</td>\n",
       "    </tr>\n",
       "    <tr>\n",
       "      <th>20479</th>\n",
       "      <td>0.020</td>\n",
       "      <td>0.076</td>\n",
       "      <td>-0.042</td>\n",
       "      <td>-0.029</td>\n",
       "    </tr>\n",
       "  </tbody>\n",
       "</table>\n",
       "<p>20480 rows × 4 columns</p>\n",
       "</div>"
      ],
      "text/plain": [
       "           0      1      2      3\n",
       "0     -0.049 -0.071 -0.132 -0.010\n",
       "1     -0.042 -0.073 -0.007 -0.105\n",
       "2      0.015  0.000  0.007  0.000\n",
       "3     -0.051  0.020 -0.002  0.100\n",
       "4     -0.107  0.010  0.127  0.054\n",
       "...      ...    ...    ...    ...\n",
       "20475  0.049 -0.051 -0.039 -0.044\n",
       "20476  0.037  0.061  0.115  0.007\n",
       "20477 -0.012  0.007  0.056 -0.007\n",
       "20478 -0.012  0.093  0.017 -0.044\n",
       "20479  0.020  0.076 -0.042 -0.029\n",
       "\n",
       "[20480 rows x 4 columns]"
      ]
     },
     "execution_count": 8,
     "metadata": {
      "tags": []
     },
     "output_type": "execute_result"
    }
   ],
   "source": [
    "df"
   ]
  },
  {
   "cell_type": "markdown",
   "metadata": {
    "colab_type": "text",
    "id": "7-EFdSVFxHa1"
   },
   "source": [
    "# 1."
   ]
  },
  {
   "cell_type": "code",
   "execution_count": 60,
   "metadata": {
    "colab": {},
    "colab_type": "code",
    "id": "IyZ1s8CMWIGL"
   },
   "outputs": [],
   "source": [
    "# create helper functions\n",
    "def RMS(data):\n",
    "    return (np.sum(data**2) / len(data)) ** 0.5\n",
    "\n",
    "def variance(data):\n",
    "    return (1 / (len(data) - 1)) * np.sum((data - data.mean()) ** 2)\n",
    "\n",
    "def skewness(data):\n",
    "    return (1 / (len(data) - 1)) * np.sum((data - data.mean()) ** 3)\n",
    "\n",
    "def kurtosis(data):\n",
    "    return (1 / (len(data) - 1)) * np.sum((data - data.mean()) ** 4)\n",
    "\n",
    "def SF(data):\n",
    "    return RMS(data) / (np.sum(np.abs(data)) / len(data))\n",
    "\n",
    "def CF(data):\n",
    "    return np.max(np.abs(data)) / RMS(data)"
   ]
  },
  {
   "cell_type": "code",
   "execution_count": 101,
   "metadata": {
    "colab": {},
    "colab_type": "code",
    "id": "0LJGWZYXdZsv"
   },
   "outputs": [],
   "source": [
    "# extract features from each channel of each of the data files of Test set 2 and create dataset\n",
    "RMS_data = pd.DataFrame()\n",
    "for file in os.listdir(datadir):\n",
    "    df = pd.read_csv(os.path.join(datadir, file), sep='\\t', header=None)\n",
    "    df_RMS = df.apply(RMS).values.reshape(1, 4)\n",
    "    df_RMS = pd.DataFrame(df_RMS)\n",
    "    df_RMS.index = [file]\n",
    "    RMS_data = RMS_data.append(df_RMS)\n",
    "RMS_data.columns = ['RMS_1', 'RMS_2', 'RMS_3', 'RMS_4']    "
   ]
  },
  {
   "cell_type": "code",
   "execution_count": 104,
   "metadata": {
    "colab": {},
    "colab_type": "code",
    "id": "FyEsCTVtk6pz"
   },
   "outputs": [],
   "source": [
    "variance_data = pd.DataFrame()\n",
    "for file in os.listdir(datadir):\n",
    "    df = pd.read_csv(os.path.join(datadir, file), sep='\\t', header=None)\n",
    "    df_var = df.apply(variance).values.reshape(1, 4)\n",
    "    df_var = pd.DataFrame(df_var)\n",
    "    df_var.index = [file]\n",
    "    variance_data = variance_data.append(df_var)    \n",
    "variance_data.columns = ['VAR_1', 'VAR_2', 'VAR_3', 'VAR_4']"
   ]
  },
  {
   "cell_type": "code",
   "execution_count": 106,
   "metadata": {
    "colab": {},
    "colab_type": "code",
    "id": "g0Tg542ElZ7q"
   },
   "outputs": [],
   "source": [
    "skewness_data = pd.DataFrame()\n",
    "for file in os.listdir(datadir):\n",
    "    df = pd.read_csv(os.path.join(datadir, file), sep='\\t', header=None)\n",
    "    df_skew = df.apply(skewness).values.reshape(1, 4)\n",
    "    df_skew = pd.DataFrame(df_skew)\n",
    "    df_skew.index = [file]\n",
    "    skewness_data = skewness_data.append(df_skew)   \n",
    "skewness_data.columns = ['SKEW_1', 'SKEW_2', 'SKEW_3', 'SKEW_4'] "
   ]
  },
  {
   "cell_type": "code",
   "execution_count": 108,
   "metadata": {
    "colab": {},
    "colab_type": "code",
    "id": "sLUaaRVxl2G5"
   },
   "outputs": [],
   "source": [
    "kurtosis_data = pd.DataFrame()\n",
    "for file in os.listdir(datadir):\n",
    "    df = pd.read_csv(os.path.join(datadir, file), sep='\\t', header=None)\n",
    "    df_kurt = df.apply(kurtosis).values.reshape(1, 4)\n",
    "    df_kurt = pd.DataFrame(df_kurt)\n",
    "    df_kurt.index = [file]\n",
    "    kurtosis_data = kurtosis_data.append(df_kurt)\n",
    "kurtosis_data.columns = ['KURT_1', 'KURT_2', 'KURT_3', 'KURT_4']    "
   ]
  },
  {
   "cell_type": "code",
   "execution_count": 110,
   "metadata": {
    "colab": {},
    "colab_type": "code",
    "id": "piTDBoa9rqAe"
   },
   "outputs": [],
   "source": [
    "sf_data = pd.DataFrame()\n",
    "for file in os.listdir(datadir):\n",
    "    df = pd.read_csv(os.path.join(datadir, file), sep='\\t', header=None)\n",
    "    df_sf = df.apply(SF).values.reshape(1, 4)\n",
    "    df_sf = pd.DataFrame(df_sf)\n",
    "    df_sf.index = [file]\n",
    "    sf_data = sf_data.append(df_sf)\n",
    "sf_data.columns = ['SF_1', 'SF_2', 'SF_3', 'SF_4']    "
   ]
  },
  {
   "cell_type": "code",
   "execution_count": 112,
   "metadata": {
    "colab": {},
    "colab_type": "code",
    "id": "iLHjPuLNrp-P"
   },
   "outputs": [],
   "source": [
    "cf_data = pd.DataFrame()\n",
    "for file in os.listdir(datadir):\n",
    "    df = pd.read_csv(os.path.join(datadir, file), sep='\\t', header=None)\n",
    "    df_cf = df.apply(CF).values.reshape(1, 4)\n",
    "    df_cf = pd.DataFrame(df_cf)\n",
    "    df_cf.index = [file]\n",
    "    cf_data = cf_data.append(df_cf)\n",
    "cf_data.columns = ['CF_1', 'CF_2', 'CF_3', 'CF_4'] "
   ]
  },
  {
   "cell_type": "code",
   "execution_count": 114,
   "metadata": {
    "colab": {},
    "colab_type": "code",
    "id": "DXEjbbTpum5D"
   },
   "outputs": [],
   "source": [
    "# merge feature datasets into one\n",
    "df_all = RMS_data.join(variance_data).join(skewness_data).join(kurtosis_data).join(sf_data).join(cf_data)"
   ]
  },
  {
   "cell_type": "code",
   "execution_count": 115,
   "metadata": {
    "colab": {
     "base_uri": "https://localhost:8080/",
     "height": 609
    },
    "colab_type": "code",
    "id": "qEOZlcrLum08",
    "outputId": "53ecea5d-534a-4d0d-d4b3-485bd228f546"
   },
   "outputs": [
    {
     "data": {
      "text/html": [
       "<div>\n",
       "<style scoped>\n",
       "    .dataframe tbody tr th:only-of-type {\n",
       "        vertical-align: middle;\n",
       "    }\n",
       "\n",
       "    .dataframe tbody tr th {\n",
       "        vertical-align: top;\n",
       "    }\n",
       "\n",
       "    .dataframe thead th {\n",
       "        text-align: right;\n",
       "    }\n",
       "</style>\n",
       "<table border=\"1\" class=\"dataframe\">\n",
       "  <thead>\n",
       "    <tr style=\"text-align: right;\">\n",
       "      <th></th>\n",
       "      <th>RMS_1</th>\n",
       "      <th>RMS_2</th>\n",
       "      <th>RMS_3</th>\n",
       "      <th>RMS_4</th>\n",
       "      <th>VAR_1</th>\n",
       "      <th>VAR_2</th>\n",
       "      <th>VAR_3</th>\n",
       "      <th>VAR_4</th>\n",
       "      <th>SKEW_1</th>\n",
       "      <th>SKEW_2</th>\n",
       "      <th>SKEW_3</th>\n",
       "      <th>SKEW_4</th>\n",
       "      <th>KURT_1</th>\n",
       "      <th>KURT_2</th>\n",
       "      <th>KURT_3</th>\n",
       "      <th>KURT_4</th>\n",
       "      <th>SF_1</th>\n",
       "      <th>SF_2</th>\n",
       "      <th>SF_3</th>\n",
       "      <th>SF_4</th>\n",
       "      <th>CF_1</th>\n",
       "      <th>CF_2</th>\n",
       "      <th>CF_3</th>\n",
       "      <th>CF_4</th>\n",
       "    </tr>\n",
       "  </thead>\n",
       "  <tbody>\n",
       "    <tr>\n",
       "      <th>2004.02.15.11.22.39</th>\n",
       "      <td>0.076572</td>\n",
       "      <td>0.091672</td>\n",
       "      <td>0.098691</td>\n",
       "      <td>0.054670</td>\n",
       "      <td>0.005861</td>\n",
       "      <td>0.008403</td>\n",
       "      <td>0.009738</td>\n",
       "      <td>0.002981</td>\n",
       "      <td>-0.000002</td>\n",
       "      <td>0.000084</td>\n",
       "      <td>-0.000045</td>\n",
       "      <td>-2.085019e-06</td>\n",
       "      <td>0.000120</td>\n",
       "      <td>0.000219</td>\n",
       "      <td>0.000389</td>\n",
       "      <td>0.000027</td>\n",
       "      <td>1.272373</td>\n",
       "      <td>1.256915</td>\n",
       "      <td>1.287567</td>\n",
       "      <td>1.255719</td>\n",
       "      <td>5.040986</td>\n",
       "      <td>4.897898</td>\n",
       "      <td>7.072547</td>\n",
       "      <td>4.463132</td>\n",
       "    </tr>\n",
       "    <tr>\n",
       "      <th>2004.02.15.11.12.39</th>\n",
       "      <td>0.077173</td>\n",
       "      <td>0.092865</td>\n",
       "      <td>0.101561</td>\n",
       "      <td>0.056888</td>\n",
       "      <td>0.005954</td>\n",
       "      <td>0.008616</td>\n",
       "      <td>0.010309</td>\n",
       "      <td>0.003228</td>\n",
       "      <td>0.000016</td>\n",
       "      <td>0.000083</td>\n",
       "      <td>0.000047</td>\n",
       "      <td>-1.031646e-05</td>\n",
       "      <td>0.000122</td>\n",
       "      <td>0.000236</td>\n",
       "      <td>0.000528</td>\n",
       "      <td>0.000034</td>\n",
       "      <td>1.274078</td>\n",
       "      <td>1.259455</td>\n",
       "      <td>1.296498</td>\n",
       "      <td>1.264448</td>\n",
       "      <td>4.716689</td>\n",
       "      <td>4.361162</td>\n",
       "      <td>10.141719</td>\n",
       "      <td>5.027386</td>\n",
       "    </tr>\n",
       "    <tr>\n",
       "      <th>2004.02.15.11.32.39</th>\n",
       "      <td>0.078226</td>\n",
       "      <td>0.094368</td>\n",
       "      <td>0.097266</td>\n",
       "      <td>0.056169</td>\n",
       "      <td>0.006116</td>\n",
       "      <td>0.008904</td>\n",
       "      <td>0.009460</td>\n",
       "      <td>0.003148</td>\n",
       "      <td>0.000015</td>\n",
       "      <td>0.000057</td>\n",
       "      <td>0.000008</td>\n",
       "      <td>7.049601e-07</td>\n",
       "      <td>0.000129</td>\n",
       "      <td>0.000253</td>\n",
       "      <td>0.000389</td>\n",
       "      <td>0.000031</td>\n",
       "      <td>1.270820</td>\n",
       "      <td>1.258394</td>\n",
       "      <td>1.297935</td>\n",
       "      <td>1.260943</td>\n",
       "      <td>4.959998</td>\n",
       "      <td>5.022910</td>\n",
       "      <td>6.374296</td>\n",
       "      <td>4.468633</td>\n",
       "    </tr>\n",
       "    <tr>\n",
       "      <th>2004.02.15.11.52.39</th>\n",
       "      <td>0.077383</td>\n",
       "      <td>0.093338</td>\n",
       "      <td>0.101264</td>\n",
       "      <td>0.054945</td>\n",
       "      <td>0.005985</td>\n",
       "      <td>0.008712</td>\n",
       "      <td>0.010253</td>\n",
       "      <td>0.003011</td>\n",
       "      <td>0.000010</td>\n",
       "      <td>0.000078</td>\n",
       "      <td>-0.000100</td>\n",
       "      <td>-4.056472e-06</td>\n",
       "      <td>0.000127</td>\n",
       "      <td>0.000242</td>\n",
       "      <td>0.000498</td>\n",
       "      <td>0.000028</td>\n",
       "      <td>1.272415</td>\n",
       "      <td>1.258847</td>\n",
       "      <td>1.294294</td>\n",
       "      <td>1.258964</td>\n",
       "      <td>5.737730</td>\n",
       "      <td>5.228320</td>\n",
       "      <td>8.482789</td>\n",
       "      <td>4.841238</td>\n",
       "    </tr>\n",
       "    <tr>\n",
       "      <th>2004.02.15.11.42.39</th>\n",
       "      <td>0.078215</td>\n",
       "      <td>0.092902</td>\n",
       "      <td>0.098975</td>\n",
       "      <td>0.055415</td>\n",
       "      <td>0.006114</td>\n",
       "      <td>0.008629</td>\n",
       "      <td>0.009793</td>\n",
       "      <td>0.003063</td>\n",
       "      <td>0.000023</td>\n",
       "      <td>0.000133</td>\n",
       "      <td>-0.000083</td>\n",
       "      <td>6.054116e-07</td>\n",
       "      <td>0.000123</td>\n",
       "      <td>0.000237</td>\n",
       "      <td>0.000497</td>\n",
       "      <td>0.000029</td>\n",
       "      <td>1.265850</td>\n",
       "      <td>1.259603</td>\n",
       "      <td>1.299059</td>\n",
       "      <td>1.258006</td>\n",
       "      <td>4.372547</td>\n",
       "      <td>4.542400</td>\n",
       "      <td>10.285443</td>\n",
       "      <td>3.915918</td>\n",
       "    </tr>\n",
       "    <tr>\n",
       "      <th>...</th>\n",
       "      <td>...</td>\n",
       "      <td>...</td>\n",
       "      <td>...</td>\n",
       "      <td>...</td>\n",
       "      <td>...</td>\n",
       "      <td>...</td>\n",
       "      <td>...</td>\n",
       "      <td>...</td>\n",
       "      <td>...</td>\n",
       "      <td>...</td>\n",
       "      <td>...</td>\n",
       "      <td>...</td>\n",
       "      <td>...</td>\n",
       "      <td>...</td>\n",
       "      <td>...</td>\n",
       "      <td>...</td>\n",
       "      <td>...</td>\n",
       "      <td>...</td>\n",
       "      <td>...</td>\n",
       "      <td>...</td>\n",
       "      <td>...</td>\n",
       "      <td>...</td>\n",
       "      <td>...</td>\n",
       "      <td>...</td>\n",
       "    </tr>\n",
       "    <tr>\n",
       "      <th>2004.02.19.01.32.39</th>\n",
       "      <td>0.236143</td>\n",
       "      <td>0.136443</td>\n",
       "      <td>0.144436</td>\n",
       "      <td>0.095437</td>\n",
       "      <td>0.055762</td>\n",
       "      <td>0.018615</td>\n",
       "      <td>0.020861</td>\n",
       "      <td>0.009098</td>\n",
       "      <td>-0.002544</td>\n",
       "      <td>0.000048</td>\n",
       "      <td>0.000198</td>\n",
       "      <td>1.073205e-04</td>\n",
       "      <td>0.011232</td>\n",
       "      <td>0.000984</td>\n",
       "      <td>0.001326</td>\n",
       "      <td>0.000238</td>\n",
       "      <td>1.315970</td>\n",
       "      <td>1.242268</td>\n",
       "      <td>1.249060</td>\n",
       "      <td>1.243800</td>\n",
       "      <td>4.124611</td>\n",
       "      <td>3.701182</td>\n",
       "      <td>4.680280</td>\n",
       "      <td>4.013136</td>\n",
       "    </tr>\n",
       "    <tr>\n",
       "      <th>2004.02.19.01.52.39</th>\n",
       "      <td>0.221042</td>\n",
       "      <td>0.121892</td>\n",
       "      <td>0.126634</td>\n",
       "      <td>0.094005</td>\n",
       "      <td>0.048860</td>\n",
       "      <td>0.014856</td>\n",
       "      <td>0.016034</td>\n",
       "      <td>0.008828</td>\n",
       "      <td>-0.001218</td>\n",
       "      <td>0.000132</td>\n",
       "      <td>0.000111</td>\n",
       "      <td>-3.033009e-05</td>\n",
       "      <td>0.008273</td>\n",
       "      <td>0.000659</td>\n",
       "      <td>0.000802</td>\n",
       "      <td>0.000226</td>\n",
       "      <td>1.286666</td>\n",
       "      <td>1.250878</td>\n",
       "      <td>1.248239</td>\n",
       "      <td>1.247824</td>\n",
       "      <td>4.175679</td>\n",
       "      <td>4.282484</td>\n",
       "      <td>5.606700</td>\n",
       "      <td>4.106186</td>\n",
       "    </tr>\n",
       "    <tr>\n",
       "      <th>2004.02.19.02.12.39</th>\n",
       "      <td>0.261531</td>\n",
       "      <td>0.135034</td>\n",
       "      <td>0.127380</td>\n",
       "      <td>0.099534</td>\n",
       "      <td>0.068396</td>\n",
       "      <td>0.018231</td>\n",
       "      <td>0.016223</td>\n",
       "      <td>0.009901</td>\n",
       "      <td>-0.001835</td>\n",
       "      <td>-0.000092</td>\n",
       "      <td>0.000067</td>\n",
       "      <td>7.999558e-05</td>\n",
       "      <td>0.017869</td>\n",
       "      <td>0.001026</td>\n",
       "      <td>0.000838</td>\n",
       "      <td>0.000294</td>\n",
       "      <td>1.325908</td>\n",
       "      <td>1.256417</td>\n",
       "      <td>1.253686</td>\n",
       "      <td>1.256655</td>\n",
       "      <td>4.068348</td>\n",
       "      <td>4.087855</td>\n",
       "      <td>5.212737</td>\n",
       "      <td>3.677143</td>\n",
       "    </tr>\n",
       "    <tr>\n",
       "      <th>2004.02.19.02.02.39</th>\n",
       "      <td>0.207221</td>\n",
       "      <td>0.120711</td>\n",
       "      <td>0.121656</td>\n",
       "      <td>0.089168</td>\n",
       "      <td>0.042936</td>\n",
       "      <td>0.014570</td>\n",
       "      <td>0.014799</td>\n",
       "      <td>0.007943</td>\n",
       "      <td>-0.001432</td>\n",
       "      <td>0.000071</td>\n",
       "      <td>0.000082</td>\n",
       "      <td>-1.696289e-05</td>\n",
       "      <td>0.005841</td>\n",
       "      <td>0.000635</td>\n",
       "      <td>0.000716</td>\n",
       "      <td>0.000178</td>\n",
       "      <td>1.271692</td>\n",
       "      <td>1.252880</td>\n",
       "      <td>1.255992</td>\n",
       "      <td>1.240904</td>\n",
       "      <td>3.899216</td>\n",
       "      <td>4.912558</td>\n",
       "      <td>6.041621</td>\n",
       "      <td>3.745755</td>\n",
       "    </tr>\n",
       "    <tr>\n",
       "      <th>2004.02.19.02.32.39</th>\n",
       "      <td>0.222899</td>\n",
       "      <td>0.158578</td>\n",
       "      <td>0.148628</td>\n",
       "      <td>0.101791</td>\n",
       "      <td>0.049684</td>\n",
       "      <td>0.025135</td>\n",
       "      <td>0.022079</td>\n",
       "      <td>0.010357</td>\n",
       "      <td>-0.000459</td>\n",
       "      <td>0.000079</td>\n",
       "      <td>0.000052</td>\n",
       "      <td>7.319727e-05</td>\n",
       "      <td>0.008814</td>\n",
       "      <td>0.001901</td>\n",
       "      <td>0.001477</td>\n",
       "      <td>0.000301</td>\n",
       "      <td>1.292732</td>\n",
       "      <td>1.251331</td>\n",
       "      <td>1.241240</td>\n",
       "      <td>1.243283</td>\n",
       "      <td>4.993283</td>\n",
       "      <td>3.953888</td>\n",
       "      <td>6.075554</td>\n",
       "      <td>4.224337</td>\n",
       "    </tr>\n",
       "  </tbody>\n",
       "</table>\n",
       "<p>984 rows × 24 columns</p>\n",
       "</div>"
      ],
      "text/plain": [
       "                        RMS_1     RMS_2  ...       CF_3      CF_4\n",
       "2004.02.15.11.22.39  0.076572  0.091672  ...   7.072547  4.463132\n",
       "2004.02.15.11.12.39  0.077173  0.092865  ...  10.141719  5.027386\n",
       "2004.02.15.11.32.39  0.078226  0.094368  ...   6.374296  4.468633\n",
       "2004.02.15.11.52.39  0.077383  0.093338  ...   8.482789  4.841238\n",
       "2004.02.15.11.42.39  0.078215  0.092902  ...  10.285443  3.915918\n",
       "...                       ...       ...  ...        ...       ...\n",
       "2004.02.19.01.32.39  0.236143  0.136443  ...   4.680280  4.013136\n",
       "2004.02.19.01.52.39  0.221042  0.121892  ...   5.606700  4.106186\n",
       "2004.02.19.02.12.39  0.261531  0.135034  ...   5.212737  3.677143\n",
       "2004.02.19.02.02.39  0.207221  0.120711  ...   6.041621  3.745755\n",
       "2004.02.19.02.32.39  0.222899  0.158578  ...   6.075554  4.224337\n",
       "\n",
       "[984 rows x 24 columns]"
      ]
     },
     "execution_count": 115,
     "metadata": {
      "tags": []
     },
     "output_type": "execute_result"
    }
   ],
   "source": [
    "df_all"
   ]
  },
  {
   "cell_type": "code",
   "execution_count": 117,
   "metadata": {
    "colab": {
     "base_uri": "https://localhost:8080/",
     "height": 394
    },
    "colab_type": "code",
    "id": "i0ASwoRIumxh",
    "outputId": "3c0aa062-2dc5-4bac-ec1f-697993eb0d1b"
   },
   "outputs": [
    {
     "data": {
      "text/html": [
       "<div>\n",
       "<style scoped>\n",
       "    .dataframe tbody tr th:only-of-type {\n",
       "        vertical-align: middle;\n",
       "    }\n",
       "\n",
       "    .dataframe tbody tr th {\n",
       "        vertical-align: top;\n",
       "    }\n",
       "\n",
       "    .dataframe thead th {\n",
       "        text-align: right;\n",
       "    }\n",
       "</style>\n",
       "<table border=\"1\" class=\"dataframe\">\n",
       "  <thead>\n",
       "    <tr style=\"text-align: right;\">\n",
       "      <th></th>\n",
       "      <th>RMS_1</th>\n",
       "      <th>RMS_2</th>\n",
       "      <th>RMS_3</th>\n",
       "      <th>RMS_4</th>\n",
       "      <th>VAR_1</th>\n",
       "      <th>VAR_2</th>\n",
       "      <th>VAR_3</th>\n",
       "      <th>VAR_4</th>\n",
       "      <th>SKEW_1</th>\n",
       "      <th>SKEW_2</th>\n",
       "      <th>SKEW_3</th>\n",
       "      <th>SKEW_4</th>\n",
       "      <th>KURT_1</th>\n",
       "      <th>KURT_2</th>\n",
       "      <th>KURT_3</th>\n",
       "      <th>KURT_4</th>\n",
       "      <th>SF_1</th>\n",
       "      <th>SF_2</th>\n",
       "      <th>SF_3</th>\n",
       "      <th>SF_4</th>\n",
       "      <th>CF_1</th>\n",
       "      <th>CF_2</th>\n",
       "      <th>CF_3</th>\n",
       "      <th>CF_4</th>\n",
       "    </tr>\n",
       "  </thead>\n",
       "  <tbody>\n",
       "    <tr>\n",
       "      <th>2004-02-12 10:32:39</th>\n",
       "      <td>0.074179</td>\n",
       "      <td>0.090944</td>\n",
       "      <td>0.109404</td>\n",
       "      <td>0.054103</td>\n",
       "      <td>0.005399</td>\n",
       "      <td>0.008110</td>\n",
       "      <td>0.011758</td>\n",
       "      <td>0.002827</td>\n",
       "      <td>0.000033</td>\n",
       "      <td>0.000093</td>\n",
       "      <td>0.000261</td>\n",
       "      <td>-3.318425e-06</td>\n",
       "      <td>0.000106</td>\n",
       "      <td>0.000231</td>\n",
       "      <td>0.000859</td>\n",
       "      <td>0.000024</td>\n",
       "      <td>1.271660</td>\n",
       "      <td>1.266071</td>\n",
       "      <td>1.314254</td>\n",
       "      <td>1.256323</td>\n",
       "      <td>6.120331</td>\n",
       "      <td>5.640841</td>\n",
       "      <td>9.350652</td>\n",
       "      <td>4.879539</td>\n",
       "    </tr>\n",
       "    <tr>\n",
       "      <th>2004-02-12 10:42:39</th>\n",
       "      <td>0.075382</td>\n",
       "      <td>0.093419</td>\n",
       "      <td>0.109817</td>\n",
       "      <td>0.056101</td>\n",
       "      <td>0.005676</td>\n",
       "      <td>0.008721</td>\n",
       "      <td>0.012054</td>\n",
       "      <td>0.003133</td>\n",
       "      <td>0.000022</td>\n",
       "      <td>0.000057</td>\n",
       "      <td>-0.000032</td>\n",
       "      <td>2.775109e-07</td>\n",
       "      <td>0.000118</td>\n",
       "      <td>0.000247</td>\n",
       "      <td>0.000639</td>\n",
       "      <td>0.000031</td>\n",
       "      <td>1.277742</td>\n",
       "      <td>1.262276</td>\n",
       "      <td>1.300555</td>\n",
       "      <td>1.259563</td>\n",
       "      <td>5.147086</td>\n",
       "      <td>5.148852</td>\n",
       "      <td>6.847735</td>\n",
       "      <td>4.438435</td>\n",
       "    </tr>\n",
       "    <tr>\n",
       "      <th>2004-02-12 10:52:39</th>\n",
       "      <td>0.076230</td>\n",
       "      <td>0.093718</td>\n",
       "      <td>0.109861</td>\n",
       "      <td>0.056145</td>\n",
       "      <td>0.005805</td>\n",
       "      <td>0.008781</td>\n",
       "      <td>0.012067</td>\n",
       "      <td>0.003140</td>\n",
       "      <td>0.000015</td>\n",
       "      <td>0.000079</td>\n",
       "      <td>0.000075</td>\n",
       "      <td>1.239708e-05</td>\n",
       "      <td>0.000118</td>\n",
       "      <td>0.000255</td>\n",
       "      <td>0.000821</td>\n",
       "      <td>0.000032</td>\n",
       "      <td>1.265456</td>\n",
       "      <td>1.262645</td>\n",
       "      <td>1.309082</td>\n",
       "      <td>1.263337</td>\n",
       "      <td>6.598472</td>\n",
       "      <td>5.367171</td>\n",
       "      <td>8.492546</td>\n",
       "      <td>6.305078</td>\n",
       "    </tr>\n",
       "    <tr>\n",
       "      <th>2004-02-12 11:02:39</th>\n",
       "      <td>0.078724</td>\n",
       "      <td>0.092947</td>\n",
       "      <td>0.110667</td>\n",
       "      <td>0.056807</td>\n",
       "      <td>0.006193</td>\n",
       "      <td>0.008634</td>\n",
       "      <td>0.012238</td>\n",
       "      <td>0.003213</td>\n",
       "      <td>0.000020</td>\n",
       "      <td>0.000085</td>\n",
       "      <td>0.000045</td>\n",
       "      <td>-6.616623e-06</td>\n",
       "      <td>0.000159</td>\n",
       "      <td>0.000241</td>\n",
       "      <td>0.000851</td>\n",
       "      <td>0.000039</td>\n",
       "      <td>1.281033</td>\n",
       "      <td>1.258710</td>\n",
       "      <td>1.310246</td>\n",
       "      <td>1.260116</td>\n",
       "      <td>7.723217</td>\n",
       "      <td>6.121762</td>\n",
       "      <td>9.180734</td>\n",
       "      <td>9.241749</td>\n",
       "    </tr>\n",
       "    <tr>\n",
       "      <th>2004-02-12 11:12:39</th>\n",
       "      <td>0.078474</td>\n",
       "      <td>0.095348</td>\n",
       "      <td>0.107506</td>\n",
       "      <td>0.056841</td>\n",
       "      <td>0.006153</td>\n",
       "      <td>0.009089</td>\n",
       "      <td>0.011557</td>\n",
       "      <td>0.003224</td>\n",
       "      <td>0.000014</td>\n",
       "      <td>0.000085</td>\n",
       "      <td>-0.000004</td>\n",
       "      <td>3.479013e-06</td>\n",
       "      <td>0.000136</td>\n",
       "      <td>0.000267</td>\n",
       "      <td>0.000611</td>\n",
       "      <td>0.000033</td>\n",
       "      <td>1.278896</td>\n",
       "      <td>1.261110</td>\n",
       "      <td>1.297801</td>\n",
       "      <td>1.259820</td>\n",
       "      <td>4.982524</td>\n",
       "      <td>5.097120</td>\n",
       "      <td>7.171719</td>\n",
       "      <td>4.292680</td>\n",
       "    </tr>\n",
       "  </tbody>\n",
       "</table>\n",
       "</div>"
      ],
      "text/plain": [
       "                        RMS_1     RMS_2     RMS_3  ...      CF_2      CF_3      CF_4\n",
       "2004-02-12 10:32:39  0.074179  0.090944  0.109404  ...  5.640841  9.350652  4.879539\n",
       "2004-02-12 10:42:39  0.075382  0.093419  0.109817  ...  5.148852  6.847735  4.438435\n",
       "2004-02-12 10:52:39  0.076230  0.093718  0.109861  ...  5.367171  8.492546  6.305078\n",
       "2004-02-12 11:02:39  0.078724  0.092947  0.110667  ...  6.121762  9.180734  9.241749\n",
       "2004-02-12 11:12:39  0.078474  0.095348  0.107506  ...  5.097120  7.171719  4.292680\n",
       "\n",
       "[5 rows x 24 columns]"
      ]
     },
     "execution_count": 117,
     "metadata": {
      "tags": []
     },
     "output_type": "execute_result"
    }
   ],
   "source": [
    "# transform data file index to datetime and sort by date\n",
    "df_all.index = pd.to_datetime(df_all.index, format='%Y.%m.%d.%H.%M.%S')\n",
    "df_all = df_all.sort_index()\n",
    "df_all.head()"
   ]
  },
  {
   "cell_type": "code",
   "execution_count": 166,
   "metadata": {
    "colab": {
     "base_uri": "https://localhost:8080/",
     "height": 532
    },
    "colab_type": "code",
    "id": "ti8uELuYumtL",
    "outputId": "65a85e9b-417b-488b-a8ea-f6c6b280eda1"
   },
   "outputs": [
    {
     "data": {
      "image/png": "[encoded data removed]",
      "text/plain": [
       "<Figure size 864x648 with 1 Axes>"
      ]
     },
     "metadata": {
      "needs_background": "light",
      "tags": []
     },
     "output_type": "display_data"
    }
   ],
   "source": [
    "df_all.iloc[:, :4].plot(figsize=(12,9))\n",
    "plt.title('RMS vs. time');"
   ]
  },
  {
   "cell_type": "code",
   "execution_count": 167,
   "metadata": {
    "colab": {
     "base_uri": "https://localhost:8080/",
     "height": 532
    },
    "colab_type": "code",
    "id": "JD0vefITSCYi",
    "outputId": "a6e9cc36-95e8-4f59-cc74-2aff19b75863"
   },
   "outputs": [
    {
     "data": {
      "image/png": "[encoded data removed]",
      "text/plain": [
       "<Figure size 864x648 with 1 Axes>"
      ]
     },
     "metadata": {
      "needs_background": "light",
      "tags": []
     },
     "output_type": "display_data"
    }
   ],
   "source": [
    "df_all.iloc[:, 4:8].plot(figsize=(12,9))\n",
    "plt.title('Variance vs. time');"
   ]
  },
  {
   "cell_type": "code",
   "execution_count": 168,
   "metadata": {
    "colab": {
     "base_uri": "https://localhost:8080/",
     "height": 532
    },
    "colab_type": "code",
    "id": "oa-B4sjSSCXK",
    "outputId": "0df2536d-04fd-4e33-f91b-cf045f427556"
   },
   "outputs": [
    {
     "data": {
      "image/png": "[encoded data removed]",
      "text/plain": [
       "<Figure size 864x648 with 1 Axes>"
      ]
     },
     "metadata": {
      "needs_background": "light",
      "tags": []
     },
     "output_type": "display_data"
    }
   ],
   "source": [
    "df_all.iloc[:, 8:12].plot(figsize=(12,9))\n",
    "plt.title('Skewness vs. time');"
   ]
  },
  {
   "cell_type": "code",
   "execution_count": 169,
   "metadata": {
    "colab": {
     "base_uri": "https://localhost:8080/",
     "height": 532
    },
    "colab_type": "code",
    "id": "Bp6YHsD4SCR9",
    "outputId": "88a28621-cde3-4317-f4a2-033f683fe445"
   },
   "outputs": [
    {
     "data": {
      "image/png": "[encoded data removed]",
      "text/plain": [
       "<Figure size 864x648 with 1 Axes>"
      ]
     },
     "metadata": {
      "needs_background": "light",
      "tags": []
     },
     "output_type": "display_data"
    }
   ],
   "source": [
    "df_all.iloc[:, 12:16].plot(figsize=(12,9))\n",
    "plt.title('Kurtosis vs. time');"
   ]
  },
  {
   "cell_type": "code",
   "execution_count": 170,
   "metadata": {
    "colab": {
     "base_uri": "https://localhost:8080/",
     "height": 532
    },
    "colab_type": "code",
    "id": "ajualtyGSCQT",
    "outputId": "2deebcdf-751c-411e-c7e9-6df541a3b8c1"
   },
   "outputs": [
    {
     "data": {
      "image/png": "[encoded data removed]",
      "text/plain": [
       "<Figure size 864x648 with 1 Axes>"
      ]
     },
     "metadata": {
      "needs_background": "light",
      "tags": []
     },
     "output_type": "display_data"
    }
   ],
   "source": [
    "df_all.iloc[:, 16:20].plot(figsize=(12,9))\n",
    "plt.title('SF vs. time');"
   ]
  },
  {
   "cell_type": "code",
   "execution_count": 171,
   "metadata": {
    "colab": {
     "base_uri": "https://localhost:8080/",
     "height": 532
    },
    "colab_type": "code",
    "id": "vBqcpy5zSCOm",
    "outputId": "aaec520f-73be-4e1f-f94d-5980f5729f1f"
   },
   "outputs": [
    {
     "data": {
      "image/png": "[encoded data removed]",
      "text/plain": [
       "<Figure size 864x648 with 1 Axes>"
      ]
     },
     "metadata": {
      "needs_background": "light",
      "tags": []
     },
     "output_type": "display_data"
    }
   ],
   "source": [
    "df_all.iloc[:, 20:24].plot(figsize=(12,9))\n",
    "plt.title('cf vs. time');"
   ]
  },
  {
   "cell_type": "code",
   "execution_count": 164,
   "metadata": {
    "colab": {
     "base_uri": "https://localhost:8080/",
     "height": 746
    },
    "colab_type": "code",
    "id": "D2-8kYyvSCLF",
    "outputId": "8ca413ba-0844-4b44-9e31-4e6c8dc0515a"
   },
   "outputs": [
    {
     "data": {
      "text/plain": [
       "Text(0.5, 0.98, 'Vibration signals histogram')"
      ]
     },
     "execution_count": 164,
     "metadata": {
      "tags": []
     },
     "output_type": "execute_result"
    },
    {
     "data": {
      "image/png": "[encoded data removed]",
      "text/plain": [
       "<Figure size 720x720 with 20 Axes>"
      ]
     },
     "metadata": {
      "needs_background": "light",
      "tags": []
     },
     "output_type": "display_data"
    }
   ],
   "source": [
    "#plot vibration hists for every file\n",
    "# we plot only first 20 files for convenience purpose \n",
    "# it is enough to see the pattern\n",
    "fig=plt.figure(figsize=(10,10))\n",
    "for i, file in enumerate(os.listdir(datadir)[:20]):\n",
    "    df = pd.read_csv(os.path.join(datadir, file), sep='\\t', header=None)\n",
    "    ax=fig.add_subplot(4,5,i+1)\n",
    "    df.plot.hist(bins=10, ax=ax)\n",
    "fig.tight_layout()\n",
    "fig.suptitle('Vibration signals histogram')"
   ]
  },
  {
   "cell_type": "markdown",
   "metadata": {
    "colab_type": "text",
    "id": "7Ksm45l54bvk"
   },
   "source": [
    "## We have plotted two types of images: feature vs. time and histograms of vibration signals. We can see that for each channel signals are normally distributed with different mean and variance. We observe such data: mean3 > mean2 > mean1 > mean4. So the highest vibrations we observe in the third channel annd the lowest in the fourth. Looking at our feature plots we can conclude that for some period of time we see extreme values of these features for channel 1. Plots for other channels are similar. Useful for the RUL prediction task are the first 4 features(RMS, variance, skewness, kurtosis), because we can see well distinguished peaks at these plots. From cf plot we can't get such insights. But I consider that the most useful feature is SF, because we can see some anomalies before the failure (tendency of this feature is closest to the degradation process). Data normalization is almost always useful."
   ]
  },
  {
   "cell_type": "markdown",
   "metadata": {
    "colab_type": "text",
    "id": "QAqr1aSK9I1I"
   },
   "source": [
    "# 2."
   ]
  },
  {
   "cell_type": "markdown",
   "metadata": {
    "colab_type": "text",
    "id": "uED2WdgoD0_V"
   },
   "source": [
    "## We make an assumption that last cycle is a failure cycle. As a target function we will use time to failure in hours.\n"
   ]
  },
  {
   "cell_type": "code",
   "execution_count": 205,
   "metadata": {
    "colab": {},
    "colab_type": "code",
    "id": "BnPLMhqlSCJn"
   },
   "outputs": [],
   "source": [
    "# compute target feature\n",
    "df_all['target'] = np.max((df_all.index - df_all.index[0]) /np.timedelta64(1, 'h')) - (df_all.index - df_all.index[0]) /np.timedelta64(1, 'h')"
   ]
  },
  {
   "cell_type": "code",
   "execution_count": 211,
   "metadata": {
    "colab": {
     "base_uri": "https://localhost:8080/",
     "height": 51
    },
    "colab_type": "code",
    "id": "ezwpiJhONUU8",
    "outputId": "0b059aa2-b318-4834-f674-c924ee87773a"
   },
   "outputs": [
    {
     "name": "stdout",
     "output_type": "stream",
     "text": [
      "MSE =  801.4954810539039\n",
      "Predicted lifetime:  116.2281476343675\n"
     ]
    }
   ],
   "source": [
    "# train the model\n",
    "# we try linear regression\n",
    "from sklearn.linear_model import LinearRegression\n",
    "from sklearn.metrics import mean_squared_error\n",
    "# create model object\n",
    "model = LinearRegression()\n",
    "# fit only channel 1 data\n",
    "model.fit(df_all[['RMS_1', 'VAR_1', 'SKEW_1', 'KURT_1', 'SF_1', 'CF_1']], df_all['target'])\n",
    "# predict lifetime\n",
    "target_pred = model.predict(df_all[['RMS_1', 'VAR_1', 'SKEW_1', 'KURT_1', 'SF_1', 'CF_1']])\n",
    "# compute error\n",
    "error = mean_squared_error(df_all['target'], target_pred)\n",
    "print('MSE = ', error)\n",
    "print('Predicted lifetime: ', target_pred[0])"
   ]
  },
  {
   "cell_type": "markdown",
   "metadata": {
    "colab_type": "text",
    "id": "gVacCpqhRVp3"
   },
   "source": [
    "## We can see that our model predicts lower lifetime for bearing1 than true time. But its ok for such simple model."
   ]
  },
  {
   "cell_type": "code",
   "execution_count": 213,
   "metadata": {
    "colab": {
     "base_uri": "https://localhost:8080/",
     "height": 51
    },
    "colab_type": "code",
    "id": "mQfBgeyPSCB2",
    "outputId": "c0567aab-2451-4180-f572-95cf5ab31dc6"
   },
   "outputs": [
    {
     "name": "stdout",
     "output_type": "stream",
     "text": [
      "MSE =  325.27026995101505\n",
      "Predicted lifetime:  170.4432179631467\n"
     ]
    }
   ],
   "source": [
    "# let's try all channels to predict the lifetime\n",
    "model = LinearRegression()\n",
    "# fit all channels  data\n",
    "model.fit(df_all.iloc[:, :-1], df_all['target'])\n",
    "# predict lifetime\n",
    "target_pred = model.predict(df_all.iloc[:, :-1])\n",
    "# compute error\n",
    "error = mean_squared_error(df_all['target'], target_pred)\n",
    "print('MSE = ', error)\n",
    "print('Predicted lifetime: ', target_pred[0])"
   ]
  },
  {
   "cell_type": "markdown",
   "metadata": {
    "colab_type": "text",
    "id": "EMirRfY5Sa3H"
   },
   "source": [
    "## For info from all channels our model predicts higher lifetime but the error is lower."
   ]
  },
  {
   "cell_type": "code",
   "execution_count": 217,
   "metadata": {
    "colab": {
     "base_uri": "https://localhost:8080/",
     "height": 51
    },
    "colab_type": "code",
    "id": "CrYtn1bFRR3l",
    "outputId": "55fe2b96-5a78-46c6-896a-1f66b5a5ea7c"
   },
   "outputs": [
    {
     "name": "stdout",
     "output_type": "stream",
     "text": [
      "MSE =  512.1464572778028\n",
      "Predicted lifetime:  135.4863267945052\n"
     ]
    }
   ],
   "source": [
    "# use random features subset - we will use every second feature\n",
    "model = LinearRegression()\n",
    "# fit random data\n",
    "model.fit(df_all.iloc[:, [0,2,4,6,8,10,12,14,16,18,20]], df_all['target'])\n",
    "# predict lifetime\n",
    "target_pred = model.predict(df_all.iloc[:, [0,2,4,6,8,10,12,14,16,18,20]])\n",
    "# compute error\n",
    "error = mean_squared_error(df_all['target'], target_pred)\n",
    "print('MSE = ', error)\n",
    "print('Predicted lifetime: ', target_pred[0])"
   ]
  },
  {
   "cell_type": "markdown",
   "metadata": {
    "colab_type": "text",
    "id": "TOTC4LRyRM5h"
   },
   "source": [
    "## This result is better than result for channel1 features only. So we can conclude that info from other channels is valuable."
   ]
  },
  {
   "cell_type": "code",
   "execution_count": 226,
   "metadata": {
    "colab": {
     "base_uri": "https://localhost:8080/",
     "height": 51
    },
    "colab_type": "code",
    "id": "do1QuHGNSB1c",
    "outputId": "c4145ffb-2caa-444b-f004-adc3f70f62d9"
   },
   "outputs": [
    {
     "name": "stdout",
     "output_type": "stream",
     "text": [
      "MSE =  1578.7016516785104\n",
      "Predicted lifetime:  111.2982545365076\n"
     ]
    }
   ],
   "source": [
    "# try Lasso regression, this model penalizes the coefficients of the regression variables shrinking some of them to zero\n",
    "# (some kind of feature selection)\n",
    "from sklearn.linear_model import Lasso\n",
    "\n",
    "model = Lasso()\n",
    "# fit all channels  data\n",
    "model.fit(df_all.iloc[:, :-1], df_all['target'])\n",
    "# predict lifetime\n",
    "target_pred = model.predict(df_all.iloc[:, :-1])\n",
    "# compute error\n",
    "error = mean_squared_error(df_all['target'], target_pred)\n",
    "print('MSE = ', error)\n",
    "print('Predicted lifetime: ', target_pred[0])"
   ]
  },
  {
   "cell_type": "markdown",
   "metadata": {
    "colab_type": "text",
    "id": "tC47jjp4WLDl"
   },
   "source": [
    "## We can observe very poor result and we can conclude that all data is valuable and feature selection leads to bad results."
   ]
  },
  {
   "cell_type": "code",
   "execution_count": 237,
   "metadata": {
    "colab": {},
    "colab_type": "code",
    "id": "65lYeEHKis4L"
   },
   "outputs": [],
   "source": [
    "# create dataset for test set 1\n",
    "datadir1 = '/content/drive/My Drive/1st_test'\n",
    "\n",
    "RMS_data1 = pd.DataFrame()\n",
    "for file in os.listdir(datadir1):\n",
    "    df = pd.read_csv(os.path.join(datadir1, file), sep='\\t', header=None).iloc[:, :4]\n",
    "    df_RMS = df.apply(RMS).values.reshape(1, 4)\n",
    "    df_RMS = pd.DataFrame(df_RMS)\n",
    "    df_RMS.index = [file]\n",
    "    RMS_data1 = RMS_data1.append(df_RMS)\n",
    "RMS_data1.columns = ['RMS1_1', 'RMS1_2', 'RMS1_3', 'RMS1_4']\n"
   ]
  },
  {
   "cell_type": "code",
   "execution_count": 238,
   "metadata": {
    "colab": {
     "base_uri": "https://localhost:8080/",
     "height": 394
    },
    "colab_type": "code",
    "id": "1ZVRQpzv7ai5",
    "outputId": "996ec372-8c26-403b-a7b4-cf945aeae878"
   },
   "outputs": [
    {
     "data": {
      "text/html": [
       "<div>\n",
       "<style scoped>\n",
       "    .dataframe tbody tr th:only-of-type {\n",
       "        vertical-align: middle;\n",
       "    }\n",
       "\n",
       "    .dataframe tbody tr th {\n",
       "        vertical-align: top;\n",
       "    }\n",
       "\n",
       "    .dataframe thead th {\n",
       "        text-align: right;\n",
       "    }\n",
       "</style>\n",
       "<table border=\"1\" class=\"dataframe\">\n",
       "  <thead>\n",
       "    <tr style=\"text-align: right;\">\n",
       "      <th></th>\n",
       "      <th>RMS1_1</th>\n",
       "      <th>RMS1_2</th>\n",
       "      <th>RMS1_3</th>\n",
       "      <th>RMS1_4</th>\n",
       "      <th>VAR1_1</th>\n",
       "      <th>VAR1_2</th>\n",
       "      <th>VAR1_3</th>\n",
       "      <th>VAR1_4</th>\n",
       "      <th>SKEW1_1</th>\n",
       "      <th>SKEW1_2</th>\n",
       "      <th>SKEW1_3</th>\n",
       "      <th>SKEW1_4</th>\n",
       "      <th>KURT1_1</th>\n",
       "      <th>KURT1_2</th>\n",
       "      <th>KURT1_3</th>\n",
       "      <th>KURT1_4</th>\n",
       "      <th>SF1_1</th>\n",
       "      <th>SF1_2</th>\n",
       "      <th>SF1_3</th>\n",
       "      <th>SF1_4</th>\n",
       "      <th>CF1_1</th>\n",
       "      <th>CF1_2</th>\n",
       "      <th>CF1_3</th>\n",
       "      <th>CF1_4</th>\n",
       "      <th>target</th>\n",
       "    </tr>\n",
       "  </thead>\n",
       "  <tbody>\n",
       "    <tr>\n",
       "      <th>2003-10-22 12:06:24</th>\n",
       "      <td>0.124614</td>\n",
       "      <td>0.117493</td>\n",
       "      <td>0.130455</td>\n",
       "      <td>0.121642</td>\n",
       "      <td>0.006581</td>\n",
       "      <td>0.004991</td>\n",
       "      <td>0.008217</td>\n",
       "      <td>0.006008</td>\n",
       "      <td>-0.000016</td>\n",
       "      <td>0.000078</td>\n",
       "      <td>-0.000069</td>\n",
       "      <td>-0.000025</td>\n",
       "      <td>0.000176</td>\n",
       "      <td>0.000151</td>\n",
       "      <td>0.000217</td>\n",
       "      <td>0.000119</td>\n",
       "      <td>1.196555</td>\n",
       "      <td>1.172004</td>\n",
       "      <td>1.217490</td>\n",
       "      <td>1.192549</td>\n",
       "      <td>5.777850</td>\n",
       "      <td>5.966305</td>\n",
       "      <td>5.166521</td>\n",
       "      <td>4.357044</td>\n",
       "      <td>827.558889</td>\n",
       "    </tr>\n",
       "    <tr>\n",
       "      <th>2003-10-22 12:09:13</th>\n",
       "      <td>0.123811</td>\n",
       "      <td>0.116833</td>\n",
       "      <td>0.131490</td>\n",
       "      <td>0.122182</td>\n",
       "      <td>0.006323</td>\n",
       "      <td>0.004835</td>\n",
       "      <td>0.008147</td>\n",
       "      <td>0.005889</td>\n",
       "      <td>-0.000035</td>\n",
       "      <td>0.000043</td>\n",
       "      <td>-0.000075</td>\n",
       "      <td>-0.000015</td>\n",
       "      <td>0.000166</td>\n",
       "      <td>0.000117</td>\n",
       "      <td>0.000214</td>\n",
       "      <td>0.000114</td>\n",
       "      <td>1.194490</td>\n",
       "      <td>1.170047</td>\n",
       "      <td>1.215362</td>\n",
       "      <td>1.187130</td>\n",
       "      <td>5.282236</td>\n",
       "      <td>4.972931</td>\n",
       "      <td>4.905319</td>\n",
       "      <td>5.115330</td>\n",
       "      <td>827.511944</td>\n",
       "    </tr>\n",
       "    <tr>\n",
       "      <th>2003-10-22 12:14:13</th>\n",
       "      <td>0.125246</td>\n",
       "      <td>0.118384</td>\n",
       "      <td>0.131906</td>\n",
       "      <td>0.123572</td>\n",
       "      <td>0.006435</td>\n",
       "      <td>0.004825</td>\n",
       "      <td>0.008143</td>\n",
       "      <td>0.005944</td>\n",
       "      <td>-0.000021</td>\n",
       "      <td>0.000051</td>\n",
       "      <td>-0.000068</td>\n",
       "      <td>-0.000013</td>\n",
       "      <td>0.000165</td>\n",
       "      <td>0.000116</td>\n",
       "      <td>0.000213</td>\n",
       "      <td>0.000112</td>\n",
       "      <td>1.192411</td>\n",
       "      <td>1.165889</td>\n",
       "      <td>1.215179</td>\n",
       "      <td>1.187731</td>\n",
       "      <td>4.974196</td>\n",
       "      <td>4.637434</td>\n",
       "      <td>4.647262</td>\n",
       "      <td>3.495929</td>\n",
       "      <td>827.428611</td>\n",
       "    </tr>\n",
       "    <tr>\n",
       "      <th>2003-10-22 12:19:13</th>\n",
       "      <td>0.125197</td>\n",
       "      <td>0.119005</td>\n",
       "      <td>0.131614</td>\n",
       "      <td>0.122750</td>\n",
       "      <td>0.006533</td>\n",
       "      <td>0.005079</td>\n",
       "      <td>0.008149</td>\n",
       "      <td>0.005857</td>\n",
       "      <td>0.000003</td>\n",
       "      <td>0.000036</td>\n",
       "      <td>-0.000078</td>\n",
       "      <td>-0.000023</td>\n",
       "      <td>0.000172</td>\n",
       "      <td>0.000122</td>\n",
       "      <td>0.000212</td>\n",
       "      <td>0.000114</td>\n",
       "      <td>1.193522</td>\n",
       "      <td>1.171651</td>\n",
       "      <td>1.216958</td>\n",
       "      <td>1.187377</td>\n",
       "      <td>4.776455</td>\n",
       "      <td>4.495626</td>\n",
       "      <td>4.543583</td>\n",
       "      <td>3.934815</td>\n",
       "      <td>827.345278</td>\n",
       "    </tr>\n",
       "    <tr>\n",
       "      <th>2003-10-22 12:24:13</th>\n",
       "      <td>0.125618</td>\n",
       "      <td>0.119688</td>\n",
       "      <td>0.130779</td>\n",
       "      <td>0.121866</td>\n",
       "      <td>0.006730</td>\n",
       "      <td>0.005206</td>\n",
       "      <td>0.007897</td>\n",
       "      <td>0.005783</td>\n",
       "      <td>-0.000033</td>\n",
       "      <td>0.000036</td>\n",
       "      <td>-0.000065</td>\n",
       "      <td>-0.000020</td>\n",
       "      <td>0.000186</td>\n",
       "      <td>0.000113</td>\n",
       "      <td>0.000203</td>\n",
       "      <td>0.000112</td>\n",
       "      <td>1.198924</td>\n",
       "      <td>1.171257</td>\n",
       "      <td>1.211556</td>\n",
       "      <td>1.187478</td>\n",
       "      <td>4.959475</td>\n",
       "      <td>4.486647</td>\n",
       "      <td>5.543711</td>\n",
       "      <td>4.685479</td>\n",
       "      <td>827.261944</td>\n",
       "    </tr>\n",
       "  </tbody>\n",
       "</table>\n",
       "</div>"
      ],
      "text/plain": [
       "                       RMS1_1    RMS1_2  ...     CF1_4      target\n",
       "2003-10-22 12:06:24  0.124614  0.117493  ...  4.357044  827.558889\n",
       "2003-10-22 12:09:13  0.123811  0.116833  ...  5.115330  827.511944\n",
       "2003-10-22 12:14:13  0.125246  0.118384  ...  3.495929  827.428611\n",
       "2003-10-22 12:19:13  0.125197  0.119005  ...  3.934815  827.345278\n",
       "2003-10-22 12:24:13  0.125618  0.119688  ...  4.685479  827.261944\n",
       "\n",
       "[5 rows x 25 columns]"
      ]
     },
     "execution_count": 238,
     "metadata": {
      "tags": []
     },
     "output_type": "execute_result"
    }
   ],
   "source": [
    "\n",
    "variance_data1 = pd.DataFrame()\n",
    "for file in os.listdir(datadir1):\n",
    "    df = pd.read_csv(os.path.join(datadir1, file), sep='\\t', header=None).iloc[:, :4]\n",
    "    df_var = df.apply(variance).values.reshape(1, 4)\n",
    "    df_var = pd.DataFrame(df_var)\n",
    "    df_var.index = [file]\n",
    "    variance_data1 = variance_data1.append(df_var)    \n",
    "variance_data1.columns = ['VAR1_1', 'VAR1_2', 'VAR1_3', 'VAR1_4']\n",
    "\n",
    "skewness_data1 = pd.DataFrame()\n",
    "for file in os.listdir(datadir1):\n",
    "    df = pd.read_csv(os.path.join(datadir1, file), sep='\\t', header=None).iloc[:, :4]\n",
    "    df_skew = df.apply(skewness).values.reshape(1, 4)\n",
    "    df_skew = pd.DataFrame(df_skew)\n",
    "    df_skew.index = [file]\n",
    "    skewness_data1 = skewness_data1.append(df_skew)   \n",
    "skewness_data1.columns = ['SKEW1_1', 'SKEW1_2', 'SKEW1_3', 'SKEW1_4']\n",
    "\n",
    "kurtosis_data1 = pd.DataFrame()\n",
    "for file in os.listdir(datadir1):\n",
    "    df = pd.read_csv(os.path.join(datadir1, file), sep='\\t', header=None).iloc[:, :4]\n",
    "    df_kurt = df.apply(kurtosis).values.reshape(1, 4)\n",
    "    df_kurt = pd.DataFrame(df_kurt)\n",
    "    df_kurt.index = [file]\n",
    "    kurtosis_data1 = kurtosis_data1.append(df_kurt)\n",
    "kurtosis_data1.columns = ['KURT1_1', 'KURT1_2', 'KURT1_3', 'KURT1_4']\n",
    "\n",
    "sf_data1 = pd.DataFrame()\n",
    "for file in os.listdir(datadir1):\n",
    "    df = pd.read_csv(os.path.join(datadir1, file), sep='\\t', header=None).iloc[:, :4]\n",
    "    df_sf = df.apply(SF).values.reshape(1, 4)\n",
    "    df_sf = pd.DataFrame(df_sf)\n",
    "    df_sf.index = [file]\n",
    "    sf_data1 = sf_data1.append(df_sf)\n",
    "sf_data1.columns = ['SF1_1', 'SF1_2', 'SF1_3', 'SF1_4']\n",
    "\n",
    "cf_data1 = pd.DataFrame()\n",
    "for file in os.listdir(datadir1):\n",
    "    df = pd.read_csv(os.path.join(datadir1, file), sep='\\t', header=None).iloc[:, :4]\n",
    "    df_cf = df.apply(CF).values.reshape(1, 4)\n",
    "    df_cf = pd.DataFrame(df_cf)\n",
    "    df_cf.index = [file]\n",
    "    cf_data1 = cf_data1.append(df_cf)\n",
    "cf_data1.columns = ['CF1_1', 'CF1_2', 'CF1_3', 'CF1_4']    \n",
    "\n",
    "df_all1 = RMS_data1.join(variance_data1).join(skewness_data1).join(kurtosis_data1).join(sf_data1).join(cf_data1)\n",
    "\n",
    "df_all1.index = pd.to_datetime(df_all1.index, format='%Y.%m.%d.%H.%M.%S')\n",
    "df_all1 = df_all1.sort_index()\n",
    "\n",
    "df_all1['target'] = np.max((df_all1.index - df_all1.index[0]) /np.timedelta64(1, 'h')) - (df_all1.index - df_all1.index[0]) /np.timedelta64(1, 'h')\n",
    "df_all1.head()"
   ]
  },
  {
   "cell_type": "code",
   "execution_count": 247,
   "metadata": {
    "colab": {
     "base_uri": "https://localhost:8080/",
     "height": 51
    },
    "colab_type": "code",
    "id": "PnAwHWiESBwL",
    "outputId": "5f77e25d-a39f-489c-a82a-2bb80a3bff09"
   },
   "outputs": [
    {
     "name": "stdout",
     "output_type": "stream",
     "text": [
      "MSE =  109829.0082767701\n",
      "Predicted lifetime for test set 1:  120.74413844400243\n"
     ]
    }
   ],
   "source": [
    "# retrain the best model and evaluate it on test set 1\n",
    "model = Lasso(alpha=0.1)\n",
    "# fit all channels  data\n",
    "model.fit(df_all.iloc[:, :-1], df_all['target'])\n",
    "# predict lifetime\n",
    "target_pred = model.predict(df_all1.iloc[:, :-1])\n",
    "# compute error\n",
    "error = mean_squared_error(df_all1['target'], target_pred)\n",
    "print('MSE = ', error)\n",
    "print('Predicted lifetime for test set 1: ', target_pred[0])"
   ]
  },
  {
   "cell_type": "markdown",
   "metadata": {
    "colab_type": "text",
    "id": "Emnckd-KCmm8"
   },
   "source": [
    "## Our model performs very poor on test data from set1. This can happen due to the another distribution of data."
   ]
  },
  {
   "cell_type": "markdown",
   "metadata": {
    "colab_type": "text",
    "id": "bdxn0upiDgoJ"
   },
   "source": [
    "# 3."
   ]
  },
  {
   "cell_type": "code",
   "execution_count": 252,
   "metadata": {
    "colab": {},
    "colab_type": "code",
    "id": "lKK1paARSBsK"
   },
   "outputs": [],
   "source": [
    "# create dataset 0.1s window\n",
    "\n",
    "RMS_data = pd.DataFrame()\n",
    "for file in os.listdir(datadir):\n",
    "    df = pd.read_csv(os.path.join(datadir, file), sep='\\t', header=None).iloc[:2000, :]\n",
    "    df_RMS = df.apply(RMS).values.reshape(1, 4)\n",
    "    df_RMS = pd.DataFrame(df_RMS)\n",
    "    df_RMS.index = [file]\n",
    "    RMS_data = RMS_data.append(df_RMS)\n",
    "RMS_data.columns = ['RMS1_1', 'RMS1_2', 'RMS1_3', 'RMS1_4']\n",
    "\n"
   ]
  },
  {
   "cell_type": "code",
   "execution_count": 255,
   "metadata": {
    "colab": {
     "base_uri": "https://localhost:8080/",
     "height": 394
    },
    "colab_type": "code",
    "id": "ke2Ai7lqHzPf",
    "outputId": "ad872ced-1175-48b0-a97c-578222b902a8"
   },
   "outputs": [
    {
     "data": {
      "text/html": [
       "<div>\n",
       "<style scoped>\n",
       "    .dataframe tbody tr th:only-of-type {\n",
       "        vertical-align: middle;\n",
       "    }\n",
       "\n",
       "    .dataframe tbody tr th {\n",
       "        vertical-align: top;\n",
       "    }\n",
       "\n",
       "    .dataframe thead th {\n",
       "        text-align: right;\n",
       "    }\n",
       "</style>\n",
       "<table border=\"1\" class=\"dataframe\">\n",
       "  <thead>\n",
       "    <tr style=\"text-align: right;\">\n",
       "      <th></th>\n",
       "      <th>RMS1_1</th>\n",
       "      <th>RMS1_2</th>\n",
       "      <th>RMS1_3</th>\n",
       "      <th>RMS1_4</th>\n",
       "      <th>VAR1_1</th>\n",
       "      <th>VAR1_2</th>\n",
       "      <th>VAR1_3</th>\n",
       "      <th>VAR1_4</th>\n",
       "      <th>SKEW1_1</th>\n",
       "      <th>SKEW1_2</th>\n",
       "      <th>SKEW1_3</th>\n",
       "      <th>SKEW1_4</th>\n",
       "      <th>KURT1_1</th>\n",
       "      <th>KURT1_2</th>\n",
       "      <th>KURT1_3</th>\n",
       "      <th>KURT1_4</th>\n",
       "      <th>SF1_1</th>\n",
       "      <th>SF1_2</th>\n",
       "      <th>SF1_3</th>\n",
       "      <th>SF1_4</th>\n",
       "      <th>CF1_1</th>\n",
       "      <th>CF1_2</th>\n",
       "      <th>CF1_3</th>\n",
       "      <th>CF1_4</th>\n",
       "      <th>target</th>\n",
       "    </tr>\n",
       "  </thead>\n",
       "  <tbody>\n",
       "    <tr>\n",
       "      <th>2004-02-12 10:32:39</th>\n",
       "      <td>0.072375</td>\n",
       "      <td>0.086653</td>\n",
       "      <td>0.108378</td>\n",
       "      <td>0.054291</td>\n",
       "      <td>0.005158</td>\n",
       "      <td>0.007281</td>\n",
       "      <td>0.011504</td>\n",
       "      <td>0.002883</td>\n",
       "      <td>0.000028</td>\n",
       "      <td>0.000101</td>\n",
       "      <td>0.000143</td>\n",
       "      <td>0.000015</td>\n",
       "      <td>0.000091</td>\n",
       "      <td>0.000173</td>\n",
       "      <td>0.000639</td>\n",
       "      <td>0.000024</td>\n",
       "      <td>1.266718</td>\n",
       "      <td>1.265061</td>\n",
       "      <td>1.289223</td>\n",
       "      <td>1.254084</td>\n",
       "      <td>4.186553</td>\n",
       "      <td>3.496709</td>\n",
       "      <td>6.578796</td>\n",
       "      <td>3.241780</td>\n",
       "      <td>163.833333</td>\n",
       "    </tr>\n",
       "    <tr>\n",
       "      <th>2004-02-12 10:42:39</th>\n",
       "      <td>0.076045</td>\n",
       "      <td>0.092152</td>\n",
       "      <td>0.108599</td>\n",
       "      <td>0.056977</td>\n",
       "      <td>0.005774</td>\n",
       "      <td>0.008491</td>\n",
       "      <td>0.011800</td>\n",
       "      <td>0.003239</td>\n",
       "      <td>-0.000079</td>\n",
       "      <td>0.000029</td>\n",
       "      <td>-0.000194</td>\n",
       "      <td>0.000005</td>\n",
       "      <td>0.000127</td>\n",
       "      <td>0.000249</td>\n",
       "      <td>0.000531</td>\n",
       "      <td>0.000036</td>\n",
       "      <td>1.288743</td>\n",
       "      <td>1.272086</td>\n",
       "      <td>1.295380</td>\n",
       "      <td>1.267024</td>\n",
       "      <td>4.812908</td>\n",
       "      <td>4.481703</td>\n",
       "      <td>4.631699</td>\n",
       "      <td>4.370151</td>\n",
       "      <td>163.666667</td>\n",
       "    </tr>\n",
       "    <tr>\n",
       "      <th>2004-02-12 10:52:39</th>\n",
       "      <td>0.077274</td>\n",
       "      <td>0.095000</td>\n",
       "      <td>0.108428</td>\n",
       "      <td>0.053292</td>\n",
       "      <td>0.005973</td>\n",
       "      <td>0.009025</td>\n",
       "      <td>0.011761</td>\n",
       "      <td>0.002832</td>\n",
       "      <td>0.000054</td>\n",
       "      <td>0.000206</td>\n",
       "      <td>-0.000101</td>\n",
       "      <td>0.000005</td>\n",
       "      <td>0.000130</td>\n",
       "      <td>0.000276</td>\n",
       "      <td>0.000711</td>\n",
       "      <td>0.000024</td>\n",
       "      <td>1.263840</td>\n",
       "      <td>1.268397</td>\n",
       "      <td>1.305587</td>\n",
       "      <td>1.242849</td>\n",
       "      <td>5.150523</td>\n",
       "      <td>5.168433</td>\n",
       "      <td>6.778712</td>\n",
       "      <td>3.490198</td>\n",
       "      <td>163.500000</td>\n",
       "    </tr>\n",
       "    <tr>\n",
       "      <th>2004-02-12 11:02:39</th>\n",
       "      <td>0.080506</td>\n",
       "      <td>0.095960</td>\n",
       "      <td>0.106084</td>\n",
       "      <td>0.059185</td>\n",
       "      <td>0.006478</td>\n",
       "      <td>0.009206</td>\n",
       "      <td>0.011255</td>\n",
       "      <td>0.003499</td>\n",
       "      <td>0.000088</td>\n",
       "      <td>0.000196</td>\n",
       "      <td>-0.000047</td>\n",
       "      <td>-0.000017</td>\n",
       "      <td>0.000159</td>\n",
       "      <td>0.000274</td>\n",
       "      <td>0.000522</td>\n",
       "      <td>0.000037</td>\n",
       "      <td>1.279666</td>\n",
       "      <td>1.260429</td>\n",
       "      <td>1.305862</td>\n",
       "      <td>1.255882</td>\n",
       "      <td>4.546226</td>\n",
       "      <td>4.376811</td>\n",
       "      <td>4.307896</td>\n",
       "      <td>3.666450</td>\n",
       "      <td>163.333333</td>\n",
       "    </tr>\n",
       "    <tr>\n",
       "      <th>2004-02-12 11:12:39</th>\n",
       "      <td>0.077908</td>\n",
       "      <td>0.090167</td>\n",
       "      <td>0.103279</td>\n",
       "      <td>0.056849</td>\n",
       "      <td>0.006073</td>\n",
       "      <td>0.008122</td>\n",
       "      <td>0.010668</td>\n",
       "      <td>0.003233</td>\n",
       "      <td>-0.000069</td>\n",
       "      <td>0.000091</td>\n",
       "      <td>0.000030</td>\n",
       "      <td>0.000014</td>\n",
       "      <td>0.000123</td>\n",
       "      <td>0.000213</td>\n",
       "      <td>0.000425</td>\n",
       "      <td>0.000036</td>\n",
       "      <td>1.270398</td>\n",
       "      <td>1.259265</td>\n",
       "      <td>1.276747</td>\n",
       "      <td>1.267015</td>\n",
       "      <td>4.800546</td>\n",
       "      <td>3.926042</td>\n",
       "      <td>4.754101</td>\n",
       "      <td>4.256888</td>\n",
       "      <td>163.166667</td>\n",
       "    </tr>\n",
       "  </tbody>\n",
       "</table>\n",
       "</div>"
      ],
      "text/plain": [
       "                       RMS1_1    RMS1_2  ...     CF1_4      target\n",
       "2004-02-12 10:32:39  0.072375  0.086653  ...  3.241780  163.833333\n",
       "2004-02-12 10:42:39  0.076045  0.092152  ...  4.370151  163.666667\n",
       "2004-02-12 10:52:39  0.077274  0.095000  ...  3.490198  163.500000\n",
       "2004-02-12 11:02:39  0.080506  0.095960  ...  3.666450  163.333333\n",
       "2004-02-12 11:12:39  0.077908  0.090167  ...  4.256888  163.166667\n",
       "\n",
       "[5 rows x 25 columns]"
      ]
     },
     "execution_count": 255,
     "metadata": {
      "tags": []
     },
     "output_type": "execute_result"
    }
   ],
   "source": [
    "\n",
    "variance_data = pd.DataFrame()\n",
    "for file in os.listdir(datadir):\n",
    "    df = pd.read_csv(os.path.join(datadir, file), sep='\\t', header=None).iloc[:2000, :]\n",
    "    df_var = df.apply(variance).values.reshape(1, 4)\n",
    "    df_var = pd.DataFrame(df_var)\n",
    "    df_var.index = [file]\n",
    "    variance_data = variance_data.append(df_var)    \n",
    "variance_data.columns = ['VAR1_1', 'VAR1_2', 'VAR1_3', 'VAR1_4']\n",
    "\n",
    "skewness_data = pd.DataFrame()\n",
    "for file in os.listdir(datadir):\n",
    "    df = pd.read_csv(os.path.join(datadir, file), sep='\\t', header=None).iloc[:2000, :]\n",
    "    df_skew = df.apply(skewness).values.reshape(1, 4)\n",
    "    df_skew = pd.DataFrame(df_skew)\n",
    "    df_skew.index = [file]\n",
    "    skewness_data = skewness_data.append(df_skew)   \n",
    "skewness_data.columns = ['SKEW1_1', 'SKEW1_2', 'SKEW1_3', 'SKEW1_4']\n",
    "\n",
    "kurtosis_data = pd.DataFrame()\n",
    "for file in os.listdir(datadir):\n",
    "    df = pd.read_csv(os.path.join(datadir, file), sep='\\t', header=None).iloc[:2000, :]\n",
    "    df_kurt = df.apply(kurtosis).values.reshape(1, 4)\n",
    "    df_kurt = pd.DataFrame(df_kurt)\n",
    "    df_kurt.index = [file]\n",
    "    kurtosis_data = kurtosis_data.append(df_kurt)\n",
    "kurtosis_data.columns = ['KURT1_1', 'KURT1_2', 'KURT1_3', 'KURT1_4']\n",
    "\n",
    "sf_data = pd.DataFrame()\n",
    "for file in os.listdir(datadir):\n",
    "    df = pd.read_csv(os.path.join(datadir, file), sep='\\t', header=None).iloc[:2000, :]\n",
    "    df_sf = df.apply(SF).values.reshape(1, 4)\n",
    "    df_sf = pd.DataFrame(df_sf)\n",
    "    df_sf.index = [file]\n",
    "    sf_data = sf_data.append(df_sf)\n",
    "sf_data.columns = ['SF1_1', 'SF1_2', 'SF1_3', 'SF1_4']\n",
    "\n",
    "cf_data = pd.DataFrame()\n",
    "for file in os.listdir(datadir):\n",
    "    df = pd.read_csv(os.path.join(datadir, file), sep='\\t', header=None).iloc[:2000, :]\n",
    "    df_cf = df.apply(CF).values.reshape(1, 4)\n",
    "    df_cf = pd.DataFrame(df_cf)\n",
    "    df_cf.index = [file]\n",
    "    cf_data = cf_data.append(df_cf)\n",
    "cf_data.columns = ['CF1_1', 'CF1_2', 'CF1_3', 'CF1_4']    \n",
    "\n",
    "df_all01 = RMS_data.join(variance_data).join(skewness_data).join(kurtosis_data).join(sf_data).join(cf_data)\n",
    "\n",
    "df_all01.index = pd.to_datetime(df_all01.index, format='%Y.%m.%d.%H.%M.%S')\n",
    "df_all01 = df_all01.sort_index()\n",
    "\n",
    "df_all01['target'] = np.max((df_all01.index - df_all01.index[0]) /np.timedelta64(1, 'h')) - (df_all01.index - df_all01.index[0]) /np.timedelta64(1, 'h')\n",
    "df_all01.head()"
   ]
  },
  {
   "cell_type": "code",
   "execution_count": 258,
   "metadata": {
    "colab": {
     "base_uri": "https://localhost:8080/",
     "height": 221
    },
    "colab_type": "code",
    "id": "DEErf_UfIt15",
    "outputId": "af8fafaa-0ebe-406b-bd82-ef756b83787a"
   },
   "outputs": [
    {
     "name": "stdout",
     "output_type": "stream",
     "text": [
      "0.1s window \n",
      "Channel 1 data\n",
      "MSE =  798.9938214444835\n",
      "Predicted lifetime:  113.84396255454357\n",
      "0.1s window \n",
      "All channels data\n",
      "MSE =  503.201458733534\n",
      "Predicted lifetime:  135.81318232723578\n",
      "0.1s window \n",
      "Random data\n",
      "MSE =  574.2536918086038\n",
      "Predicted lifetime:  139.62349573113045\n"
     ]
    }
   ],
   "source": [
    "# train the model\n",
    "# we try linear regression\n",
    "from sklearn.linear_model import LinearRegression\n",
    "from sklearn.metrics import mean_squared_error\n",
    "# create model object\n",
    "model = LinearRegression()\n",
    "# fit only channel 1 data\n",
    "model.fit(df_all01[['RMS1_1', 'VAR1_1', 'SKEW1_1', 'KURT1_1', 'SF1_1', 'CF1_1']], df_all01['target'])\n",
    "# predict lifetime\n",
    "target_pred = model.predict(df_all01[['RMS1_1', 'VAR1_1', 'SKEW1_1', 'KURT1_1', 'SF1_1', 'CF1_1']])\n",
    "# compute error\n",
    "error = mean_squared_error(df_all01['target'], target_pred)\n",
    "print('0.1s window ')\n",
    "print('Channel 1 data')\n",
    "print('MSE = ', error)\n",
    "print('Predicted lifetime: ', target_pred[0])\n",
    "\n",
    "# let's try all channels to predict the lifetime\n",
    "model = LinearRegression()\n",
    "# fit all channels  data\n",
    "model.fit(df_all01.iloc[:, :-1], df_all01['target'])\n",
    "# predict lifetime\n",
    "target_pred = model.predict(df_all01.iloc[:, :-1])\n",
    "# compute error\n",
    "error = mean_squared_error(df_all01['target'], target_pred)\n",
    "print('0.1s window ')\n",
    "print('All channels data')\n",
    "print('MSE = ', error)\n",
    "print('Predicted lifetime: ', target_pred[0])\n",
    "\n",
    "# use random features subset - we will use every second feature\n",
    "model = LinearRegression()\n",
    "# fit random data\n",
    "model.fit(df_all01.iloc[:, [0,2,4,6,8,10,12,14,16,18,20]], df_all01['target'])\n",
    "# predict lifetime\n",
    "target_pred = model.predict(df_all01.iloc[:, [0,2,4,6,8,10,12,14,16,18,20]])\n",
    "# compute error\n",
    "error = mean_squared_error(df_all01['target'], target_pred)\n",
    "print('0.1s window ')\n",
    "print('Random data')\n",
    "print('MSE = ', error)\n",
    "print('Predicted lifetime: ', target_pred[0])"
   ]
  },
  {
   "cell_type": "code",
   "execution_count": 259,
   "metadata": {
    "colab": {
     "base_uri": "https://localhost:8080/",
     "height": 394
    },
    "colab_type": "code",
    "id": "nPyHraaqKKrh",
    "outputId": "a43a5f12-e0bc-4b4c-ffc1-af2779787375"
   },
   "outputs": [
    {
     "data": {
      "text/html": [
       "<div>\n",
       "<style scoped>\n",
       "    .dataframe tbody tr th:only-of-type {\n",
       "        vertical-align: middle;\n",
       "    }\n",
       "\n",
       "    .dataframe tbody tr th {\n",
       "        vertical-align: top;\n",
       "    }\n",
       "\n",
       "    .dataframe thead th {\n",
       "        text-align: right;\n",
       "    }\n",
       "</style>\n",
       "<table border=\"1\" class=\"dataframe\">\n",
       "  <thead>\n",
       "    <tr style=\"text-align: right;\">\n",
       "      <th></th>\n",
       "      <th>RMS1_1</th>\n",
       "      <th>RMS1_2</th>\n",
       "      <th>RMS1_3</th>\n",
       "      <th>RMS1_4</th>\n",
       "      <th>VAR1_1</th>\n",
       "      <th>VAR1_2</th>\n",
       "      <th>VAR1_3</th>\n",
       "      <th>VAR1_4</th>\n",
       "      <th>SKEW1_1</th>\n",
       "      <th>SKEW1_2</th>\n",
       "      <th>SKEW1_3</th>\n",
       "      <th>SKEW1_4</th>\n",
       "      <th>KURT1_1</th>\n",
       "      <th>KURT1_2</th>\n",
       "      <th>KURT1_3</th>\n",
       "      <th>KURT1_4</th>\n",
       "      <th>SF1_1</th>\n",
       "      <th>SF1_2</th>\n",
       "      <th>SF1_3</th>\n",
       "      <th>SF1_4</th>\n",
       "      <th>CF1_1</th>\n",
       "      <th>CF1_2</th>\n",
       "      <th>CF1_3</th>\n",
       "      <th>CF1_4</th>\n",
       "      <th>target</th>\n",
       "    </tr>\n",
       "  </thead>\n",
       "  <tbody>\n",
       "    <tr>\n",
       "      <th>2004-02-15 11:22:39</th>\n",
       "      <td>0.075827</td>\n",
       "      <td>0.091618</td>\n",
       "      <td>0.097348</td>\n",
       "      <td>0.054749</td>\n",
       "      <td>0.005748</td>\n",
       "      <td>0.008392</td>\n",
       "      <td>0.009473</td>\n",
       "      <td>0.002992</td>\n",
       "      <td>-0.000012</td>\n",
       "      <td>0.000097</td>\n",
       "      <td>-0.000035</td>\n",
       "      <td>-4.050503e-06</td>\n",
       "      <td>0.000116</td>\n",
       "      <td>0.000222</td>\n",
       "      <td>0.000371</td>\n",
       "      <td>0.000027</td>\n",
       "      <td>1.270325</td>\n",
       "      <td>1.261089</td>\n",
       "      <td>1.287965</td>\n",
       "      <td>1.253849</td>\n",
       "      <td>4.668509</td>\n",
       "      <td>4.660681</td>\n",
       "      <td>6.266156</td>\n",
       "      <td>4.054873</td>\n",
       "      <td>91.000000</td>\n",
       "    </tr>\n",
       "    <tr>\n",
       "      <th>2004-02-15 11:12:39</th>\n",
       "      <td>0.077997</td>\n",
       "      <td>0.093897</td>\n",
       "      <td>0.101473</td>\n",
       "      <td>0.055937</td>\n",
       "      <td>0.006082</td>\n",
       "      <td>0.008809</td>\n",
       "      <td>0.010295</td>\n",
       "      <td>0.003124</td>\n",
       "      <td>0.000011</td>\n",
       "      <td>0.000084</td>\n",
       "      <td>0.000174</td>\n",
       "      <td>-3.502510e-06</td>\n",
       "      <td>0.000127</td>\n",
       "      <td>0.000249</td>\n",
       "      <td>0.000563</td>\n",
       "      <td>0.000031</td>\n",
       "      <td>1.271274</td>\n",
       "      <td>1.264484</td>\n",
       "      <td>1.297600</td>\n",
       "      <td>1.262016</td>\n",
       "      <td>4.666870</td>\n",
       "      <td>4.004408</td>\n",
       "      <td>10.150522</td>\n",
       "      <td>5.112911</td>\n",
       "      <td>91.166667</td>\n",
       "    </tr>\n",
       "    <tr>\n",
       "      <th>2004-02-15 11:32:39</th>\n",
       "      <td>0.078570</td>\n",
       "      <td>0.094628</td>\n",
       "      <td>0.097093</td>\n",
       "      <td>0.056017</td>\n",
       "      <td>0.006171</td>\n",
       "      <td>0.008953</td>\n",
       "      <td>0.009427</td>\n",
       "      <td>0.003135</td>\n",
       "      <td>0.000026</td>\n",
       "      <td>0.000075</td>\n",
       "      <td>0.000007</td>\n",
       "      <td>2.943556e-07</td>\n",
       "      <td>0.000132</td>\n",
       "      <td>0.000253</td>\n",
       "      <td>0.000386</td>\n",
       "      <td>0.000031</td>\n",
       "      <td>1.273239</td>\n",
       "      <td>1.256448</td>\n",
       "      <td>1.295909</td>\n",
       "      <td>1.259066</td>\n",
       "      <td>4.480087</td>\n",
       "      <td>5.009102</td>\n",
       "      <td>6.385649</td>\n",
       "      <td>4.230861</td>\n",
       "      <td>90.833333</td>\n",
       "    </tr>\n",
       "    <tr>\n",
       "      <th>2004-02-15 11:52:39</th>\n",
       "      <td>0.076018</td>\n",
       "      <td>0.094140</td>\n",
       "      <td>0.103773</td>\n",
       "      <td>0.054378</td>\n",
       "      <td>0.005775</td>\n",
       "      <td>0.008862</td>\n",
       "      <td>0.010769</td>\n",
       "      <td>0.002953</td>\n",
       "      <td>0.000010</td>\n",
       "      <td>0.000081</td>\n",
       "      <td>-0.000086</td>\n",
       "      <td>-1.031449e-06</td>\n",
       "      <td>0.000115</td>\n",
       "      <td>0.000250</td>\n",
       "      <td>0.000585</td>\n",
       "      <td>0.000028</td>\n",
       "      <td>1.272076</td>\n",
       "      <td>1.261528</td>\n",
       "      <td>1.299617</td>\n",
       "      <td>1.261133</td>\n",
       "      <td>5.038275</td>\n",
       "      <td>4.482686</td>\n",
       "      <td>7.930800</td>\n",
       "      <td>4.891692</td>\n",
       "      <td>90.500000</td>\n",
       "    </tr>\n",
       "    <tr>\n",
       "      <th>2004-02-15 11:42:39</th>\n",
       "      <td>0.077468</td>\n",
       "      <td>0.093144</td>\n",
       "      <td>0.096529</td>\n",
       "      <td>0.055780</td>\n",
       "      <td>0.005999</td>\n",
       "      <td>0.008672</td>\n",
       "      <td>0.009316</td>\n",
       "      <td>0.003105</td>\n",
       "      <td>0.000002</td>\n",
       "      <td>0.000130</td>\n",
       "      <td>0.000058</td>\n",
       "      <td>4.309011e-07</td>\n",
       "      <td>0.000118</td>\n",
       "      <td>0.000240</td>\n",
       "      <td>0.000381</td>\n",
       "      <td>0.000030</td>\n",
       "      <td>1.265762</td>\n",
       "      <td>1.260482</td>\n",
       "      <td>1.292789</td>\n",
       "      <td>1.259869</td>\n",
       "      <td>4.027448</td>\n",
       "      <td>4.036774</td>\n",
       "      <td>7.355280</td>\n",
       "      <td>3.890252</td>\n",
       "      <td>90.666667</td>\n",
       "    </tr>\n",
       "  </tbody>\n",
       "</table>\n",
       "</div>"
      ],
      "text/plain": [
       "                       RMS1_1    RMS1_2  ...     CF1_4     target\n",
       "2004-02-15 11:22:39  0.075827  0.091618  ...  4.054873  91.000000\n",
       "2004-02-15 11:12:39  0.077997  0.093897  ...  5.112911  91.166667\n",
       "2004-02-15 11:32:39  0.078570  0.094628  ...  4.230861  90.833333\n",
       "2004-02-15 11:52:39  0.076018  0.094140  ...  4.891692  90.500000\n",
       "2004-02-15 11:42:39  0.077468  0.093144  ...  3.890252  90.666667\n",
       "\n",
       "[5 rows x 25 columns]"
      ]
     },
     "execution_count": 259,
     "metadata": {
      "tags": []
     },
     "output_type": "execute_result"
    }
   ],
   "source": [
    "# create dataset 0.5s window\n",
    "\n",
    "RMS_data = pd.DataFrame()\n",
    "for file in os.listdir(datadir):\n",
    "    df = pd.read_csv(os.path.join(datadir, file), sep='\\t', header=None).iloc[:10000, :]\n",
    "    df_RMS = df.apply(RMS).values.reshape(1, 4)\n",
    "    df_RMS = pd.DataFrame(df_RMS)\n",
    "    df_RMS.index = [file]\n",
    "    RMS_data = RMS_data.append(df_RMS)\n",
    "RMS_data.columns = ['RMS1_1', 'RMS1_2', 'RMS1_3', 'RMS1_4']\n",
    "\n",
    "\n",
    "variance_data = pd.DataFrame()\n",
    "for file in os.listdir(datadir):\n",
    "    df = pd.read_csv(os.path.join(datadir, file), sep='\\t', header=None).iloc[:10000, :]\n",
    "    df_var = df.apply(variance).values.reshape(1, 4)\n",
    "    df_var = pd.DataFrame(df_var)\n",
    "    df_var.index = [file]\n",
    "    variance_data = variance_data.append(df_var)    \n",
    "variance_data.columns = ['VAR1_1', 'VAR1_2', 'VAR1_3', 'VAR1_4']\n",
    "\n",
    "skewness_data = pd.DataFrame()\n",
    "for file in os.listdir(datadir):\n",
    "    df = pd.read_csv(os.path.join(datadir, file), sep='\\t', header=None).iloc[:10000, :]\n",
    "    df_skew = df.apply(skewness).values.reshape(1, 4)\n",
    "    df_skew = pd.DataFrame(df_skew)\n",
    "    df_skew.index = [file]\n",
    "    skewness_data = skewness_data.append(df_skew)   \n",
    "skewness_data.columns = ['SKEW1_1', 'SKEW1_2', 'SKEW1_3', 'SKEW1_4']\n",
    "\n",
    "kurtosis_data = pd.DataFrame()\n",
    "for file in os.listdir(datadir):\n",
    "    df = pd.read_csv(os.path.join(datadir, file), sep='\\t', header=None).iloc[:10000, :]\n",
    "    df_kurt = df.apply(kurtosis).values.reshape(1, 4)\n",
    "    df_kurt = pd.DataFrame(df_kurt)\n",
    "    df_kurt.index = [file]\n",
    "    kurtosis_data = kurtosis_data.append(df_kurt)\n",
    "kurtosis_data.columns = ['KURT1_1', 'KURT1_2', 'KURT1_3', 'KURT1_4']\n",
    "\n",
    "sf_data = pd.DataFrame()\n",
    "for file in os.listdir(datadir):\n",
    "    df = pd.read_csv(os.path.join(datadir, file), sep='\\t', header=None).iloc[:10000, :]\n",
    "    df_sf = df.apply(SF).values.reshape(1, 4)\n",
    "    df_sf = pd.DataFrame(df_sf)\n",
    "    df_sf.index = [file]\n",
    "    sf_data = sf_data.append(df_sf)\n",
    "sf_data.columns = ['SF1_1', 'SF1_2', 'SF1_3', 'SF1_4']\n",
    "\n",
    "cf_data = pd.DataFrame()\n",
    "for file in os.listdir(datadir):\n",
    "    df = pd.read_csv(os.path.join(datadir, file), sep='\\t', header=None).iloc[:10000, :]\n",
    "    df_cf = df.apply(CF).values.reshape(1, 4)\n",
    "    df_cf = pd.DataFrame(df_cf)\n",
    "    df_cf.index = [file]\n",
    "    cf_data = cf_data.append(df_cf)\n",
    "cf_data.columns = ['CF1_1', 'CF1_2', 'CF1_3', 'CF1_4']    \n",
    "\n",
    "df_all02 = RMS_data.join(variance_data).join(skewness_data).join(kurtosis_data).join(sf_data).join(cf_data)\n",
    "\n",
    "df_all02.index = pd.to_datetime(df_all02.index, format='%Y.%m.%d.%H.%M.%S')\n",
    "df_all01 = df_all02.sort_index()\n",
    "\n",
    "df_all02['target'] = np.max((df_all02.index - df_all02.index[0]) /np.timedelta64(1, 'h')) - (df_all02.index - df_all02.index[0]) /np.timedelta64(1, 'h')\n",
    "df_all02.head()"
   ]
  },
  {
   "cell_type": "code",
   "execution_count": 260,
   "metadata": {
    "colab": {
     "base_uri": "https://localhost:8080/",
     "height": 221
    },
    "colab_type": "code",
    "id": "Weu_G1-TKKhR",
    "outputId": "8da42392-b027-48c5-eeda-d972612fb2b7"
   },
   "outputs": [
    {
     "name": "stdout",
     "output_type": "stream",
     "text": [
      "0.5s window \n",
      "Channel 1 data\n",
      "MSE =  799.6666880775526\n",
      "Predicted lifetime:  108.37992250594736\n",
      "0.5s window \n",
      "All channels data\n",
      "MSE =  386.70172394693446\n",
      "Predicted lifetime:  104.19350475735712\n",
      "0.5s window \n",
      "Random data\n",
      "MSE =  534.2815973734955\n",
      "Predicted lifetime:  109.9808848743138\n"
     ]
    }
   ],
   "source": [
    "# train the model\n",
    "# we try linear regression\n",
    "from sklearn.linear_model import LinearRegression\n",
    "from sklearn.metrics import mean_squared_error\n",
    "# create model object\n",
    "model = LinearRegression()\n",
    "# fit only channel 1 data\n",
    "model.fit(df_all02[['RMS1_1', 'VAR1_1', 'SKEW1_1', 'KURT1_1', 'SF1_1', 'CF1_1']], df_all02['target'])\n",
    "# predict lifetime\n",
    "target_pred = model.predict(df_all02[['RMS1_1', 'VAR1_1', 'SKEW1_1', 'KURT1_1', 'SF1_1', 'CF1_1']])\n",
    "# compute error\n",
    "error = mean_squared_error(df_all02['target'], target_pred)\n",
    "print('0.5s window ')\n",
    "print('Channel 1 data')\n",
    "print('MSE = ', error)\n",
    "print('Predicted lifetime: ', target_pred[0])\n",
    "\n",
    "# let's try all channels to predict the lifetime\n",
    "model = LinearRegression()\n",
    "# fit all channels  data\n",
    "model.fit(df_all02.iloc[:, :-1], df_all02['target'])\n",
    "# predict lifetime\n",
    "target_pred = model.predict(df_all02.iloc[:, :-1])\n",
    "# compute error\n",
    "error = mean_squared_error(df_all02['target'], target_pred)\n",
    "print('0.5s window ')\n",
    "print('All channels data')\n",
    "print('MSE = ', error)\n",
    "print('Predicted lifetime: ', target_pred[0])\n",
    "\n",
    "# use random features subset - we will use every second feature\n",
    "model = LinearRegression()\n",
    "# fit random data\n",
    "model.fit(df_all02.iloc[:, [0,2,4,6,8,10,12,14,16,18,20]], df_all02['target'])\n",
    "# predict lifetime\n",
    "target_pred = model.predict(df_all02.iloc[:, [0,2,4,6,8,10,12,14,16,18,20]])\n",
    "# compute error\n",
    "error = mean_squared_error(df_all02['target'], target_pred)\n",
    "print('0.5s window ')\n",
    "print('Random data')\n",
    "print('MSE = ', error)\n",
    "print('Predicted lifetime: ', target_pred[0])"
   ]
  },
  {
   "cell_type": "markdown",
   "metadata": {
    "colab_type": "text",
    "id": "XS6038lvLYwO"
   },
   "source": [
    "## We have experimented with two different smaller windows: 0.1s and 0.5s. We observe that the model performs worse in both cases. Computing features over 0.1s window we get slightly better results than over 0.5s window. We can conclude that if we use all features we get the best result, this trend is observed for all windows. So in this case if we have more features we get better results."
   ]
  },
  {
   "cell_type": "markdown",
   "metadata": {
    "colab_type": "text",
    "id": "R7dOSuFhP4g0"
   },
   "source": [
    "# 4."
   ]
  },
  {
   "cell_type": "code",
   "execution_count": 290,
   "metadata": {
    "colab": {},
    "colab_type": "code",
    "id": "gPMDgefVKKe4"
   },
   "outputs": [],
   "source": [
    "# use abrupt change method to detect possible concept drift\n",
    "# we split the data into train and test sets\n",
    "# then we compare loss on the test set with\n",
    "# the loss of multiple test sets of the same size obtained\n",
    "# by random shuffling of the examples\n",
    "train = df_all.iloc[:884, :-1]\n",
    "train_target = df_all.iloc[:884, -1]\n",
    "test = df_all.iloc[884:, :-1]\n",
    "test_target = df_all.iloc[884:, -1]\n",
    "# create several test sets\n",
    "# 1\n",
    "set1 = df_all.sample(frac=1) # shuffle data\n",
    "train1 = set1.iloc[:884, :-1]\n",
    "train_target1 = set1.iloc[:884, -1]\n",
    "test1 = set1.iloc[884:, :-1]\n",
    "test_target1 = set1.iloc[884:, -1]\n",
    "\n",
    "# 2\n",
    "set2 = df_all.sample(frac=1) # shuffle data\n",
    "train2 = set2.iloc[:884, :-1]\n",
    "train_target2 = set2.iloc[:884, -1]\n",
    "test2 = set2.iloc[884:, :-1]\n",
    "test_target2 = set2.iloc[884:, -1]\n",
    "\n",
    "# 3\n",
    "set3 = df_all.sample(frac=1) # shuffle data\n",
    "train3 = set3.iloc[:884, :-1]\n",
    "train_target3 = set3.iloc[:884, -1]\n",
    "test3 = set3.iloc[884:, :-1]\n",
    "test_target3 = set3.iloc[884:, -1]\n"
   ]
  },
  {
   "cell_type": "code",
   "execution_count": 291,
   "metadata": {
    "colab": {
     "base_uri": "https://localhost:8080/",
     "height": 204
    },
    "colab_type": "code",
    "id": "Z9Idu-yDKKa-",
    "outputId": "09e80a51-0674-4350-859b-4b4c2480ba38"
   },
   "outputs": [
    {
     "name": "stdout",
     "output_type": "stream",
     "text": [
      "MSE =  1106545.200935231\n",
      "Predicted lifetime:  13.245232221162496\n",
      "test1\n",
      "MSE =  696.267961291762\n",
      "Predicted lifetime:  95.71022568836179\n",
      "test2\n",
      "MSE =  541260.6242858804\n",
      "Predicted lifetime:  115.58976847399299\n",
      "test3\n",
      "MSE =  466557.643978093\n",
      "Predicted lifetime:  119.9028419677079\n"
     ]
    }
   ],
   "source": [
    "model = LinearRegression()\n",
    "# fit all channels  data\n",
    "model.fit(train, train_target)\n",
    "# predict lifetime\n",
    "target_pred = model.predict(test)\n",
    "# compute error\n",
    "error = mean_squared_error(test_target, target_pred)\n",
    "print('MSE = ', error)\n",
    "print('Predicted lifetime: ', target_pred[0])\n",
    "\n",
    "target_pred1 = model.predict(test1)\n",
    "# compute error\n",
    "error1 = mean_squared_error(test_target1, target_pred1)\n",
    "print('test1')\n",
    "print('MSE = ', error1)\n",
    "print('Predicted lifetime: ', target_pred1[0])\n",
    "\n",
    "target_pred2 = model.predict(test2)\n",
    "# compute error\n",
    "error2 = mean_squared_error(test_target2, target_pred2)\n",
    "print('test2')\n",
    "print('MSE = ', error2)\n",
    "print('Predicted lifetime: ', target_pred2[0])\n",
    "\n",
    "target_pred3 = model.predict(test3)\n",
    "# compute error\n",
    "error3 = mean_squared_error(test_target2, target_pred3)\n",
    "print('test3')\n",
    "print('MSE = ', error3)\n",
    "print('Predicted lifetime: ', target_pred3[0])"
   ]
  },
  {
   "cell_type": "markdown",
   "metadata": {
    "colab_type": "text",
    "id": "BKd-vTMhcoKV"
   },
   "source": [
    "##  The intuition behind this scheme is that if no concept change has occurred, the prediction on the ordered split should not deviate too much from that of the shuffled splits. In our case we can observe huge difference between losses. This simple method shows us that we have drift in the data. This method works if the model has algorithmic stability. Drift in the data could be the reason of so poor results of the best model, because so simple model as linear regression can't take into account  this drift."
   ]
  }
 ],
 "metadata": {
  "colab": {
   "collapsed_sections": [],
   "name": "A3.ipynb",
   "provenance": []
  },
  "kernelspec": {
   "display_name": "Python 3",
   "language": "python",
   "name": "python3"
  },
  "language_info": {
   "codemirror_mode": {
    "name": "ipython",
    "version": 3
   },
   "file_extension": ".py",
   "mimetype": "text/x-python",
   "name": "python",
   "nbconvert_exporter": "python",
   "pygments_lexer": "ipython3",
   "version": "3.7.4"
  }
 },
 "nbformat": 4,
 "nbformat_minor": 1
}
