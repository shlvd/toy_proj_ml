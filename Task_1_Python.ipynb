{
  "nbformat": 4,
  "nbformat_minor": 0,
  "metadata": {
    "colab": {
      "name": "Task 1_Python.ipynb",
      "provenance": [],
      "collapsed_sections": []
    },
    "kernelspec": {
      "display_name": "Python 3",
      "language": "python",
      "name": "python3"
    },
    "language_info": {
      "codemirror_mode": {
        "name": "ipython",
        "version": 3
      },
      "file_extension": ".py",
      "mimetype": "text/x-python",
      "name": "python",
      "nbconvert_exporter": "python",
      "pygments_lexer": "ipython3",
      "version": "3.7.3"
    }
  },
  "cells": [
    {
      "cell_type": "markdown",
      "metadata": {
        "colab_type": "text",
        "id": "5bg0KSxtt-On"
      },
      "source": [
        "**1.1:** Create a list of randomly selected 200 integers between 0 and 1000 and print in ascending order all the odd numbers that are divisible by 7."
      ]
    },
    {
      "cell_type": "code",
      "metadata": {
        "id": "4-53M_9wAYgl",
        "colab_type": "code",
        "colab": {
          "base_uri": "https://localhost:8080/",
          "height": 289
        },
        "outputId": "1b78d07b-a4af-4fbb-a4b3-a33d78354c12"
      },
      "source": [
        "import random\n",
        "#initialize internal state of the random number generator\n",
        "random.seed(13)\n",
        "#create list of random integers\n",
        "random_list = [random.randint(0, 1000) for i in range(200)]\n",
        "#sort list in ascending order\n",
        "random_list_sorted = sorted(random_list, reverse=False)\n",
        "#loop through list and print the odd numbers that are divisible by 7\n",
        "for element in random_list_sorted:\n",
        "    if (element % 2 == 1) & (element % 7 == 0):\n",
        "        print(element)  "
      ],
      "execution_count": 8,
      "outputs": [
        {
          "output_type": "stream",
          "text": [
            "133\n",
            "133\n",
            "259\n",
            "259\n",
            "301\n",
            "399\n",
            "441\n",
            "455\n",
            "539\n",
            "567\n",
            "609\n",
            "623\n",
            "693\n",
            "707\n",
            "889\n",
            "931\n"
          ],
          "name": "stdout"
        }
      ]
    },
    {
      "cell_type": "markdown",
      "metadata": {
        "colab_type": "text",
        "id": "wnfX2NjuuZ1s"
      },
      "source": [
        "**1.2:** Write a python code to calculate Body Mass Index (the ratio of weight in kilograms (kg) divided by height in metres-squared (m2)). Write the initial input commands to enter \"weight\" and \"height\", round Body Mass Index to 1 decimal place and print."
      ]
    },
    {
      "cell_type": "code",
      "metadata": {
        "id": "LsYSGV73AYgt",
        "colab_type": "code",
        "colab": {}
      },
      "source": [
        "#enter weight in kg\n",
        "weight = int(input('Please, enter your weight in kg. Round to the nearest whole number!'))\n",
        "#enter height in cm\n",
        "height = int(input('Please, enter your height in cm. Round to the nearest whole number!'))\n",
        "#calculate body mass index\n",
        "bmi = weight / (height * 0.01)**2\n",
        "print(round(bmi, 1))"
      ],
      "execution_count": 0,
      "outputs": []
    },
    {
      "cell_type": "markdown",
      "metadata": {
        "colab_type": "text",
        "id": "PQvEgsBEu603"
      },
      "source": [
        "**1.3:** Equilateral triangle all sides are equal. Scalene triangle none of the sides are equal. Isosceles triangle atleast two sides are equal.\n",
        "Set the vertices A, B and C as below. "
      ]
    },
    {
      "cell_type": "markdown",
      "metadata": {
        "id": "rm3dbwmmAYgz",
        "colab_type": "raw"
      },
      "source": [
        "A = np.random.randint(low=2, high=100, size=2)\n",
        "B = np.random.randint(low=2, high=100, size=2)\n",
        "C = np.random.randint(low=2, high=100, size=2)\n",
        "print(A,B,C)"
      ]
    },
    {
      "cell_type": "markdown",
      "metadata": {
        "id": "z1vHrtNPAYgz",
        "colab_type": "text"
      },
      "source": [
        "**i):** Write a python program to calculate and print the sides (use 2 decimal) a = |CB|, b = |AC| and c = |AB| and check if the triangle is equilateral/isosceles/scalene. \n",
        "\n",
        "**ii):** Calculate and print the area of the triangle by the following formula: \n",
        "$s = (a+b+c)/2;$  \n",
        "Area = $\\sqrt(s(s-a)*(s-b)*(s-c))$."
      ]
    },
    {
      "cell_type": "code",
      "metadata": {
        "id": "WSGdJ18DAYg0",
        "colab_type": "code",
        "colab": {
          "base_uri": "https://localhost:8080/",
          "height": 119
        },
        "outputId": "61bd12c1-d7af-474e-8975-7327a121c043"
      },
      "source": [
        "import numpy as np\n",
        "#set vertices\n",
        "A = np.random.randint(low=2, high=100, size=2)\n",
        "B = np.random.randint(low=2, high=100, size=2)\n",
        "C = np.random.randint(low=2, high=100, size=2)\n",
        "print(A,B,C)\n",
        "\n",
        "import math\n",
        "#calculate distance between two points  \n",
        "def calculateDistance(a, b):  \n",
        "     dist = math.sqrt((b[0] - a[0])**2 + (b[1] - a[1])**2)  \n",
        "     return round(dist, 2)\n",
        "#check the type of triangle\n",
        "def check_triangle(side1, side2, side3):\n",
        "    if side1 == side2 == side3:\n",
        "        print('Triangle is equilateral')\n",
        "    elif side1 == side2 or side2 == side3 or side1 == side3:\n",
        "        print('Triangle is isosceles')\n",
        "    else:\n",
        "        print('Triangle is scalene')  \n",
        "#calculate sides\n",
        "a = calculateDistance(C, B)\n",
        "b = calculateDistance(A, C)\n",
        "c = calculateDistance(A, B)\n",
        "#print sides\n",
        "print('Side CB is: ', a)\n",
        "print('Side AC is: ', b)\n",
        "print('Side AB is: ', c)\n",
        "#check if the triangle is equilateral/isosceles/scalene\n",
        "check_triangle(a, b, c)\n",
        "#calculate area\n",
        "def triangle_area(a, b, c):\n",
        "    s = (a + b + c) / 2\n",
        "    area = (s * (s - a) * (s - b) * (s - c)) ** 0.5\n",
        "    print('Area of the triangle is: ', round(area, 2))\n",
        "#print area\n",
        "triangle_area(a, b, c)"
      ],
      "execution_count": 55,
      "outputs": [
        {
          "output_type": "stream",
          "text": [
            "[21 64] [87 12] [93 78]\n",
            "Side CB is:  66.27\n",
            "Side AC is:  73.35\n",
            "Side AB is:  84.02\n",
            "Triangle is scalene\n",
            "Area of the triangle is:  2333.93\n"
          ],
          "name": "stdout"
        }
      ]
    },
    {
      "cell_type": "markdown",
      "metadata": {
        "colab_type": "text",
        "id": "NzY39Ah8x5vm"
      },
      "source": [
        "![alt text](https://)**1.4:** In a Dataframe create an array in range(10-3000) in one column and a true or false column adjacent to this column which would be true if the number is a palindrome else false. Also print the total number of true values in this column. \n",
        "\n",
        "(A palindromic number is a number that remains the same when its digits are reversed; e.g. 5360635 or 7997)."
      ]
    },
    {
      "cell_type": "code",
      "metadata": {
        "colab_type": "code",
        "id": "jmDS4rkiyzBj",
        "colab": {
          "base_uri": "https://localhost:8080/",
          "height": 34
        },
        "outputId": "98bb1a71-bea0-44c4-bb8d-ef9277e7bb32"
      },
      "source": [
        "import pandas as pd\n",
        "#create an array of size 100 for instance\n",
        "num_list = np.random.randint(10, 3000, size=100)\n",
        "#create pandas dataframe\n",
        "df = pd.DataFrame(num_list, columns=['Number'])\n",
        "#check if number is a palindrome\n",
        "def is_Palindrome(num):\n",
        "    return str(num) == str(num)[::-1]\n",
        "#create boolean column\n",
        "df['is_Palindrome'] = df['Number'].apply(is_Palindrome)\n",
        "#print number of palindromic numbers\n",
        "print('Number of palindromes: ', df['is_Palindrome'].sum())"
      ],
      "execution_count": 67,
      "outputs": [
        {
          "output_type": "stream",
          "text": [
            "Number of palindromes:  7\n"
          ],
          "name": "stdout"
        }
      ]
    }
  ]
}