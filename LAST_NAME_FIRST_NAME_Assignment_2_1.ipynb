{
  "nbformat": 4,
  "nbformat_minor": 0,
  "metadata": {
    "colab": {
      "name": "LAST_NAME-FIRST_NAME-Assignment-2-1.ipynb",
      "provenance": []
    },
    "kernelspec": {
      "name": "python3",
      "display_name": "Python 3"
    }
  },
  "cells": [
    {
      "cell_type": "code",
      "metadata": {
        "id": "r0ICLYzHuPkL",
        "colab_type": "code",
        "colab": {}
      },
      "source": [
        "import pandas as pd\n",
        "import numpy as np\n",
        "from scipy import stats\n",
        "from sklearn.model_selection import train_test_split\n",
        "from sklearn.preprocessing import StandardScaler\n",
        "from sklearn.linear_model import LogisticRegression\n",
        "from sklearn.metrics import roc_curve"
      ],
      "execution_count": 0,
      "outputs": []
    },
    {
      "cell_type": "code",
      "metadata": {
        "id": "0TwOfFpAuzcT",
        "colab_type": "code",
        "colab": {
          "base_uri": "https://localhost:8080/",
          "height": 204
        },
        "outputId": "95b0a045-781d-402f-b90e-8b0f30780574"
      },
      "source": [
        "# load dataset\n",
        "df = pd.read_csv('diabetes.csv')\n",
        "# display first 5 rows\n",
        "df.head()"
      ],
      "execution_count": 234,
      "outputs": [
        {
          "output_type": "execute_result",
          "data": {
            "text/html": [
              "<div>\n",
              "<style scoped>\n",
              "    .dataframe tbody tr th:only-of-type {\n",
              "        vertical-align: middle;\n",
              "    }\n",
              "\n",
              "    .dataframe tbody tr th {\n",
              "        vertical-align: top;\n",
              "    }\n",
              "\n",
              "    .dataframe thead th {\n",
              "        text-align: right;\n",
              "    }\n",
              "</style>\n",
              "<table border=\"1\" class=\"dataframe\">\n",
              "  <thead>\n",
              "    <tr style=\"text-align: right;\">\n",
              "      <th></th>\n",
              "      <th>Pregnancies</th>\n",
              "      <th>Glucose</th>\n",
              "      <th>BloodPressure</th>\n",
              "      <th>SkinThickness</th>\n",
              "      <th>Insulin</th>\n",
              "      <th>BMI</th>\n",
              "      <th>DiabetesPedigreeFunction</th>\n",
              "      <th>Age</th>\n",
              "      <th>Outcome</th>\n",
              "    </tr>\n",
              "  </thead>\n",
              "  <tbody>\n",
              "    <tr>\n",
              "      <th>0</th>\n",
              "      <td>6</td>\n",
              "      <td>148</td>\n",
              "      <td>72</td>\n",
              "      <td>35</td>\n",
              "      <td>0</td>\n",
              "      <td>33.6</td>\n",
              "      <td>0.627</td>\n",
              "      <td>50</td>\n",
              "      <td>1</td>\n",
              "    </tr>\n",
              "    <tr>\n",
              "      <th>1</th>\n",
              "      <td>1</td>\n",
              "      <td>85</td>\n",
              "      <td>66</td>\n",
              "      <td>29</td>\n",
              "      <td>0</td>\n",
              "      <td>26.6</td>\n",
              "      <td>0.351</td>\n",
              "      <td>31</td>\n",
              "      <td>0</td>\n",
              "    </tr>\n",
              "    <tr>\n",
              "      <th>2</th>\n",
              "      <td>8</td>\n",
              "      <td>183</td>\n",
              "      <td>64</td>\n",
              "      <td>0</td>\n",
              "      <td>0</td>\n",
              "      <td>23.3</td>\n",
              "      <td>0.672</td>\n",
              "      <td>32</td>\n",
              "      <td>1</td>\n",
              "    </tr>\n",
              "    <tr>\n",
              "      <th>3</th>\n",
              "      <td>1</td>\n",
              "      <td>89</td>\n",
              "      <td>66</td>\n",
              "      <td>23</td>\n",
              "      <td>94</td>\n",
              "      <td>28.1</td>\n",
              "      <td>0.167</td>\n",
              "      <td>21</td>\n",
              "      <td>0</td>\n",
              "    </tr>\n",
              "    <tr>\n",
              "      <th>4</th>\n",
              "      <td>0</td>\n",
              "      <td>137</td>\n",
              "      <td>40</td>\n",
              "      <td>35</td>\n",
              "      <td>168</td>\n",
              "      <td>43.1</td>\n",
              "      <td>2.288</td>\n",
              "      <td>33</td>\n",
              "      <td>1</td>\n",
              "    </tr>\n",
              "  </tbody>\n",
              "</table>\n",
              "</div>"
            ],
            "text/plain": [
              "   Pregnancies  Glucose  BloodPressure  ...  DiabetesPedigreeFunction  Age  Outcome\n",
              "0            6      148             72  ...                     0.627   50        1\n",
              "1            1       85             66  ...                     0.351   31        0\n",
              "2            8      183             64  ...                     0.672   32        1\n",
              "3            1       89             66  ...                     0.167   21        0\n",
              "4            0      137             40  ...                     2.288   33        1\n",
              "\n",
              "[5 rows x 9 columns]"
            ]
          },
          "metadata": {
            "tags": []
          },
          "execution_count": 234
        }
      ]
    },
    {
      "cell_type": "code",
      "metadata": {
        "id": "0p83_q7QOnus",
        "colab_type": "code",
        "colab": {
          "base_uri": "https://localhost:8080/",
          "height": 419
        },
        "outputId": "852ce422-7a61-47c8-86fb-87a793987304"
      },
      "source": [
        "# standardize data\n",
        "df.iloc[:, :-1] = StandardScaler().fit_transform(df.iloc[:, :-1])\n",
        "df"
      ],
      "execution_count": 235,
      "outputs": [
        {
          "output_type": "execute_result",
          "data": {
            "text/html": [
              "<div>\n",
              "<style scoped>\n",
              "    .dataframe tbody tr th:only-of-type {\n",
              "        vertical-align: middle;\n",
              "    }\n",
              "\n",
              "    .dataframe tbody tr th {\n",
              "        vertical-align: top;\n",
              "    }\n",
              "\n",
              "    .dataframe thead th {\n",
              "        text-align: right;\n",
              "    }\n",
              "</style>\n",
              "<table border=\"1\" class=\"dataframe\">\n",
              "  <thead>\n",
              "    <tr style=\"text-align: right;\">\n",
              "      <th></th>\n",
              "      <th>Pregnancies</th>\n",
              "      <th>Glucose</th>\n",
              "      <th>BloodPressure</th>\n",
              "      <th>SkinThickness</th>\n",
              "      <th>Insulin</th>\n",
              "      <th>BMI</th>\n",
              "      <th>DiabetesPedigreeFunction</th>\n",
              "      <th>Age</th>\n",
              "      <th>Outcome</th>\n",
              "    </tr>\n",
              "  </thead>\n",
              "  <tbody>\n",
              "    <tr>\n",
              "      <th>0</th>\n",
              "      <td>0.639947</td>\n",
              "      <td>0.848324</td>\n",
              "      <td>0.149641</td>\n",
              "      <td>0.907270</td>\n",
              "      <td>-0.692891</td>\n",
              "      <td>0.204013</td>\n",
              "      <td>0.468492</td>\n",
              "      <td>1.425995</td>\n",
              "      <td>1</td>\n",
              "    </tr>\n",
              "    <tr>\n",
              "      <th>1</th>\n",
              "      <td>-0.844885</td>\n",
              "      <td>-1.123396</td>\n",
              "      <td>-0.160546</td>\n",
              "      <td>0.530902</td>\n",
              "      <td>-0.692891</td>\n",
              "      <td>-0.684422</td>\n",
              "      <td>-0.365061</td>\n",
              "      <td>-0.190672</td>\n",
              "      <td>0</td>\n",
              "    </tr>\n",
              "    <tr>\n",
              "      <th>2</th>\n",
              "      <td>1.233880</td>\n",
              "      <td>1.943724</td>\n",
              "      <td>-0.263941</td>\n",
              "      <td>-1.288212</td>\n",
              "      <td>-0.692891</td>\n",
              "      <td>-1.103255</td>\n",
              "      <td>0.604397</td>\n",
              "      <td>-0.105584</td>\n",
              "      <td>1</td>\n",
              "    </tr>\n",
              "    <tr>\n",
              "      <th>3</th>\n",
              "      <td>-0.844885</td>\n",
              "      <td>-0.998208</td>\n",
              "      <td>-0.160546</td>\n",
              "      <td>0.154533</td>\n",
              "      <td>0.123302</td>\n",
              "      <td>-0.494043</td>\n",
              "      <td>-0.920763</td>\n",
              "      <td>-1.041549</td>\n",
              "      <td>0</td>\n",
              "    </tr>\n",
              "    <tr>\n",
              "      <th>4</th>\n",
              "      <td>-1.141852</td>\n",
              "      <td>0.504055</td>\n",
              "      <td>-1.504687</td>\n",
              "      <td>0.907270</td>\n",
              "      <td>0.765836</td>\n",
              "      <td>1.409746</td>\n",
              "      <td>5.484909</td>\n",
              "      <td>-0.020496</td>\n",
              "      <td>1</td>\n",
              "    </tr>\n",
              "    <tr>\n",
              "      <th>...</th>\n",
              "      <td>...</td>\n",
              "      <td>...</td>\n",
              "      <td>...</td>\n",
              "      <td>...</td>\n",
              "      <td>...</td>\n",
              "      <td>...</td>\n",
              "      <td>...</td>\n",
              "      <td>...</td>\n",
              "      <td>...</td>\n",
              "    </tr>\n",
              "    <tr>\n",
              "      <th>763</th>\n",
              "      <td>1.827813</td>\n",
              "      <td>-0.622642</td>\n",
              "      <td>0.356432</td>\n",
              "      <td>1.722735</td>\n",
              "      <td>0.870031</td>\n",
              "      <td>0.115169</td>\n",
              "      <td>-0.908682</td>\n",
              "      <td>2.532136</td>\n",
              "      <td>0</td>\n",
              "    </tr>\n",
              "    <tr>\n",
              "      <th>764</th>\n",
              "      <td>-0.547919</td>\n",
              "      <td>0.034598</td>\n",
              "      <td>0.046245</td>\n",
              "      <td>0.405445</td>\n",
              "      <td>-0.692891</td>\n",
              "      <td>0.610154</td>\n",
              "      <td>-0.398282</td>\n",
              "      <td>-0.531023</td>\n",
              "      <td>0</td>\n",
              "    </tr>\n",
              "    <tr>\n",
              "      <th>765</th>\n",
              "      <td>0.342981</td>\n",
              "      <td>0.003301</td>\n",
              "      <td>0.149641</td>\n",
              "      <td>0.154533</td>\n",
              "      <td>0.279594</td>\n",
              "      <td>-0.735190</td>\n",
              "      <td>-0.685193</td>\n",
              "      <td>-0.275760</td>\n",
              "      <td>0</td>\n",
              "    </tr>\n",
              "    <tr>\n",
              "      <th>766</th>\n",
              "      <td>-0.844885</td>\n",
              "      <td>0.159787</td>\n",
              "      <td>-0.470732</td>\n",
              "      <td>-1.288212</td>\n",
              "      <td>-0.692891</td>\n",
              "      <td>-0.240205</td>\n",
              "      <td>-0.371101</td>\n",
              "      <td>1.170732</td>\n",
              "      <td>1</td>\n",
              "    </tr>\n",
              "    <tr>\n",
              "      <th>767</th>\n",
              "      <td>-0.844885</td>\n",
              "      <td>-0.873019</td>\n",
              "      <td>0.046245</td>\n",
              "      <td>0.656358</td>\n",
              "      <td>-0.692891</td>\n",
              "      <td>-0.202129</td>\n",
              "      <td>-0.473785</td>\n",
              "      <td>-0.871374</td>\n",
              "      <td>0</td>\n",
              "    </tr>\n",
              "  </tbody>\n",
              "</table>\n",
              "<p>768 rows × 9 columns</p>\n",
              "</div>"
            ],
            "text/plain": [
              "     Pregnancies   Glucose  ...       Age  Outcome\n",
              "0       0.639947  0.848324  ...  1.425995        1\n",
              "1      -0.844885 -1.123396  ... -0.190672        0\n",
              "2       1.233880  1.943724  ... -0.105584        1\n",
              "3      -0.844885 -0.998208  ... -1.041549        0\n",
              "4      -1.141852  0.504055  ... -0.020496        1\n",
              "..           ...       ...  ...       ...      ...\n",
              "763     1.827813 -0.622642  ...  2.532136        0\n",
              "764    -0.547919  0.034598  ... -0.531023        0\n",
              "765     0.342981  0.003301  ... -0.275760        0\n",
              "766    -0.844885  0.159787  ...  1.170732        1\n",
              "767    -0.844885 -0.873019  ... -0.871374        0\n",
              "\n",
              "[768 rows x 9 columns]"
            ]
          },
          "metadata": {
            "tags": []
          },
          "execution_count": 235
        }
      ]
    },
    {
      "cell_type": "code",
      "metadata": {
        "id": "284vye_VuzZc",
        "colab_type": "code",
        "colab": {}
      },
      "source": [
        "# split data into test and val sets\n",
        "X, y = df.iloc[:, :-1], df.iloc[: ,-1]\n",
        "X_train, X_val, y_trn, y_vl = train_test_split(X, y, test_size=0.2, random_state=0)\n",
        "# reshape features\n",
        "X_trn = X_train.values.reshape(X_train.shape[1],X_train.shape[0])\n",
        "X_vl = X_val.values.reshape(X_val.shape[1],X_val.shape[0])\n",
        "# reshape targets\n",
        "y_train = y_trn.values.reshape(1,-1)\n",
        "y_val = y_vl.values.reshape(1,-1)"
      ],
      "execution_count": 0,
      "outputs": []
    },
    {
      "cell_type": "code",
      "metadata": {
        "id": "t9Z5gJ99uzUT",
        "colab_type": "code",
        "colab": {
          "base_uri": "https://localhost:8080/",
          "height": 362
        },
        "outputId": "f3499560-ced5-4f26-d832-1d9cf0d5a7ca"
      },
      "source": [
        "# compute correlation matrix first method using pandas\n",
        "correlations = df.corr(method = 'pearson') \n",
        "print(\"Correlations of attributes in the data:\\n\") \n",
        "correlations"
      ],
      "execution_count": 237,
      "outputs": [
        {
          "output_type": "stream",
          "text": [
            "Correlations of attributes in the data:\n",
            "\n"
          ],
          "name": "stdout"
        },
        {
          "output_type": "execute_result",
          "data": {
            "text/html": [
              "<div>\n",
              "<style scoped>\n",
              "    .dataframe tbody tr th:only-of-type {\n",
              "        vertical-align: middle;\n",
              "    }\n",
              "\n",
              "    .dataframe tbody tr th {\n",
              "        vertical-align: top;\n",
              "    }\n",
              "\n",
              "    .dataframe thead th {\n",
              "        text-align: right;\n",
              "    }\n",
              "</style>\n",
              "<table border=\"1\" class=\"dataframe\">\n",
              "  <thead>\n",
              "    <tr style=\"text-align: right;\">\n",
              "      <th></th>\n",
              "      <th>Pregnancies</th>\n",
              "      <th>Glucose</th>\n",
              "      <th>BloodPressure</th>\n",
              "      <th>SkinThickness</th>\n",
              "      <th>Insulin</th>\n",
              "      <th>BMI</th>\n",
              "      <th>DiabetesPedigreeFunction</th>\n",
              "      <th>Age</th>\n",
              "      <th>Outcome</th>\n",
              "    </tr>\n",
              "  </thead>\n",
              "  <tbody>\n",
              "    <tr>\n",
              "      <th>Pregnancies</th>\n",
              "      <td>1.000000</td>\n",
              "      <td>0.129459</td>\n",
              "      <td>0.141282</td>\n",
              "      <td>-0.081672</td>\n",
              "      <td>-0.073535</td>\n",
              "      <td>0.017683</td>\n",
              "      <td>-0.033523</td>\n",
              "      <td>0.544341</td>\n",
              "      <td>0.221898</td>\n",
              "    </tr>\n",
              "    <tr>\n",
              "      <th>Glucose</th>\n",
              "      <td>0.129459</td>\n",
              "      <td>1.000000</td>\n",
              "      <td>0.152590</td>\n",
              "      <td>0.057328</td>\n",
              "      <td>0.331357</td>\n",
              "      <td>0.221071</td>\n",
              "      <td>0.137337</td>\n",
              "      <td>0.263514</td>\n",
              "      <td>0.466581</td>\n",
              "    </tr>\n",
              "    <tr>\n",
              "      <th>BloodPressure</th>\n",
              "      <td>0.141282</td>\n",
              "      <td>0.152590</td>\n",
              "      <td>1.000000</td>\n",
              "      <td>0.207371</td>\n",
              "      <td>0.088933</td>\n",
              "      <td>0.281805</td>\n",
              "      <td>0.041265</td>\n",
              "      <td>0.239528</td>\n",
              "      <td>0.065068</td>\n",
              "    </tr>\n",
              "    <tr>\n",
              "      <th>SkinThickness</th>\n",
              "      <td>-0.081672</td>\n",
              "      <td>0.057328</td>\n",
              "      <td>0.207371</td>\n",
              "      <td>1.000000</td>\n",
              "      <td>0.436783</td>\n",
              "      <td>0.392573</td>\n",
              "      <td>0.183928</td>\n",
              "      <td>-0.113970</td>\n",
              "      <td>0.074752</td>\n",
              "    </tr>\n",
              "    <tr>\n",
              "      <th>Insulin</th>\n",
              "      <td>-0.073535</td>\n",
              "      <td>0.331357</td>\n",
              "      <td>0.088933</td>\n",
              "      <td>0.436783</td>\n",
              "      <td>1.000000</td>\n",
              "      <td>0.197859</td>\n",
              "      <td>0.185071</td>\n",
              "      <td>-0.042163</td>\n",
              "      <td>0.130548</td>\n",
              "    </tr>\n",
              "    <tr>\n",
              "      <th>BMI</th>\n",
              "      <td>0.017683</td>\n",
              "      <td>0.221071</td>\n",
              "      <td>0.281805</td>\n",
              "      <td>0.392573</td>\n",
              "      <td>0.197859</td>\n",
              "      <td>1.000000</td>\n",
              "      <td>0.140647</td>\n",
              "      <td>0.036242</td>\n",
              "      <td>0.292695</td>\n",
              "    </tr>\n",
              "    <tr>\n",
              "      <th>DiabetesPedigreeFunction</th>\n",
              "      <td>-0.033523</td>\n",
              "      <td>0.137337</td>\n",
              "      <td>0.041265</td>\n",
              "      <td>0.183928</td>\n",
              "      <td>0.185071</td>\n",
              "      <td>0.140647</td>\n",
              "      <td>1.000000</td>\n",
              "      <td>0.033561</td>\n",
              "      <td>0.173844</td>\n",
              "    </tr>\n",
              "    <tr>\n",
              "      <th>Age</th>\n",
              "      <td>0.544341</td>\n",
              "      <td>0.263514</td>\n",
              "      <td>0.239528</td>\n",
              "      <td>-0.113970</td>\n",
              "      <td>-0.042163</td>\n",
              "      <td>0.036242</td>\n",
              "      <td>0.033561</td>\n",
              "      <td>1.000000</td>\n",
              "      <td>0.238356</td>\n",
              "    </tr>\n",
              "    <tr>\n",
              "      <th>Outcome</th>\n",
              "      <td>0.221898</td>\n",
              "      <td>0.466581</td>\n",
              "      <td>0.065068</td>\n",
              "      <td>0.074752</td>\n",
              "      <td>0.130548</td>\n",
              "      <td>0.292695</td>\n",
              "      <td>0.173844</td>\n",
              "      <td>0.238356</td>\n",
              "      <td>1.000000</td>\n",
              "    </tr>\n",
              "  </tbody>\n",
              "</table>\n",
              "</div>"
            ],
            "text/plain": [
              "                          Pregnancies   Glucose  ...       Age   Outcome\n",
              "Pregnancies                  1.000000  0.129459  ...  0.544341  0.221898\n",
              "Glucose                      0.129459  1.000000  ...  0.263514  0.466581\n",
              "BloodPressure                0.141282  0.152590  ...  0.239528  0.065068\n",
              "SkinThickness               -0.081672  0.057328  ... -0.113970  0.074752\n",
              "Insulin                     -0.073535  0.331357  ... -0.042163  0.130548\n",
              "BMI                          0.017683  0.221071  ...  0.036242  0.292695\n",
              "DiabetesPedigreeFunction    -0.033523  0.137337  ...  0.033561  0.173844\n",
              "Age                          0.544341  0.263514  ...  1.000000  0.238356\n",
              "Outcome                      0.221898  0.466581  ...  0.238356  1.000000\n",
              "\n",
              "[9 rows x 9 columns]"
            ]
          },
          "metadata": {
            "tags": []
          },
          "execution_count": 237
        }
      ]
    },
    {
      "cell_type": "code",
      "metadata": {
        "id": "j5RiRTDXuzOq",
        "colab_type": "code",
        "colab": {
          "base_uri": "https://localhost:8080/",
          "height": 153
        },
        "outputId": "44f36d33-b0f3-43b3-c388-990c58a05ede"
      },
      "source": [
        "# second method using scipy\n",
        "from scipy import stats\n",
        "for i in X.columns:\n",
        "    pearson_coef, _ = stats.pearsonr(X[i], y) #define the columns to perform calculations on\n",
        "    print(\"Pearson Correlation Coefficient: \", pearson_coef, \"and a feature:\", i) # Results "
      ],
      "execution_count": 238,
      "outputs": [
        {
          "output_type": "stream",
          "text": [
            "Pearson Correlation Coefficient:  0.2218981530339868 and a feature: Pregnancies\n",
            "Pearson Correlation Coefficient:  0.46658139830687406 and a feature: Glucose\n",
            "Pearson Correlation Coefficient:  0.06506835955033283 and a feature: BloodPressure\n",
            "Pearson Correlation Coefficient:  0.0747522319183194 and a feature: SkinThickness\n",
            "Pearson Correlation Coefficient:  0.13054795488404775 and a feature: Insulin\n",
            "Pearson Correlation Coefficient:  0.29269466264444544 and a feature: BMI\n",
            "Pearson Correlation Coefficient:  0.17384406565296004 and a feature: DiabetesPedigreeFunction\n",
            "Pearson Correlation Coefficient:  0.23835598302719768 and a feature: Age\n"
          ],
          "name": "stdout"
        }
      ]
    },
    {
      "cell_type": "markdown",
      "metadata": {
        "id": "ATUhLbI_zEUn",
        "colab_type": "text"
      },
      "source": [
        "## the top two most important features are Glucose(0.47) and BMI(0.29)\n"
      ]
    },
    {
      "cell_type": "code",
      "metadata": {
        "id": "umgTK0N35d9c",
        "colab_type": "code",
        "colab": {}
      },
      "source": [
        "X_2feat_train = X_train[['Glucose', 'BMI']].values.reshape(X_train[['Glucose', 'BMI']].shape[1],X_train[['Glucose', 'BMI']].shape[0])\n",
        "X_2feat_val = X_val[['Glucose', 'BMI']].values.reshape(X_val[['Glucose', 'BMI']].shape[1],X_val[['Glucose', 'BMI']].shape[0])"
      ],
      "execution_count": 0,
      "outputs": []
    },
    {
      "cell_type": "code",
      "metadata": {
        "id": "1bfCH97DuzS-",
        "colab_type": "code",
        "colab": {}
      },
      "source": [
        "# helper functions\n",
        "# sigmoid function\n",
        "def sigmoid(z):\n",
        "    s = 1 / (1 + np.exp(-z))\n",
        "    \n",
        "    return s\n",
        "\n",
        "# function creates a vector of zeros of shape (dim, 1) for w and initializes b to 0\n",
        "def initialize_with_zeros(dim):\n",
        "    w = np.zeros((dim, 1))\n",
        "    b = 1\n",
        "\n",
        "    return w, b\n",
        "\n",
        "# propagation function\n",
        "def propagate(w, b, X, Y):\n",
        "    \n",
        "    m = X.shape[1]\n",
        "    \n",
        "    A = sigmoid(np.dot(w.T,X) + b)     # compute activation\n",
        "    cost = -1/m * (np.dot(Y,np.log(A).T) + np.dot((1-Y),np.log(1 - A).T))  # compute cost\n",
        "\n",
        "    dw = (1/m)*np.dot(X,(A-Y).T)\n",
        "    db = (1/m)*np.sum(A-Y)\n",
        "    \n",
        "    cost = np.squeeze(cost)\n",
        "    \n",
        "    grads = {\"dw\": dw,\n",
        "             \"db\": db}\n",
        "    \n",
        "    return grads, cost\n",
        "\n",
        "# function predicts whether the label is 0 or 1 using learned logistic regression parameters (w, b)\n",
        "def predict(w, b, X):\n",
        "    m = X.shape[1]\n",
        "    Y_prediction = np.zeros((1,m))\n",
        "    # predict proba\n",
        "    A = sigmoid(np.dot(w.T,X) + b)\n",
        "    # convert probabilities to actual predictions\n",
        "    for i in range(A.shape[1]):\n",
        "      if(A[0][i] <= 0.43):\n",
        "        Y_prediction[0][i] = 0\n",
        "      else:\n",
        "        Y_prediction[0][i] = 1\n",
        "    \n",
        "    return Y_prediction"
      ],
      "execution_count": 0,
      "outputs": []
    },
    {
      "cell_type": "code",
      "metadata": {
        "id": "i-iygDx5uzHB",
        "colab_type": "code",
        "colab": {}
      },
      "source": [
        "def LRGradDesc(init_weight, init_bias, X_train, Y_train, X_val, Y_val, num_iterations, learning_rate, is_print=False):\n",
        "    w = init_weight\n",
        "    b = init_bias\n",
        "    costs = []\n",
        "    train_acc = []\n",
        "    val_acc = []\n",
        "    \n",
        "    for i in range(num_iterations):\n",
        "        grads, cost = propagate(w, b, X_train, Y_train)\n",
        "        \n",
        "        # Retrieve derivatives from grads\n",
        "        dw = grads[\"dw\"]\n",
        "        db = grads[\"db\"]\n",
        "        \n",
        "        # update\n",
        "        w = w - learning_rate*dw\n",
        "        b = b - learning_rate*db\n",
        "        \n",
        "        # Record the costs\n",
        "        costs.append(cost)\n",
        "\n",
        "        # predict val/train set examples\n",
        "        Y_prediction_val = predict(w, b, X_val)\n",
        "        Y_prediction_train = predict(w, b, X_train)\n",
        "\n",
        "        \n",
        "        train_acc.append(100 - np.mean(np.abs(Y_prediction_train - Y_train)) * 100)\n",
        "        val_acc.append(100 - np.mean(np.abs(Y_prediction_val - Y_val)) * 100)\n",
        "        \n",
        "        # Print the cost every 100 training iterations\n",
        "        if is_print:\n",
        "            #print (\"Cost after iteration %i: %f\" %(i, cost))\n",
        "            if i == 0:\n",
        "                print(f\"Iteration {i}:  initial_train cost {costs[i]}, train accuracy  {train_acc[i]}, validation accuracy {val_acc[i]}\")\n",
        "            elif i == 1:\n",
        "                print(f\"Iteration {i}:  train cost {costs[i]}, train accuracy  {train_acc[i]}, validation accuracy {val_acc[i]}\")\n",
        "            elif i % 100 == 0:\n",
        "                print(f\"Iteration {i}:  weights {w} bias {b} initial_train cost {costs[i]}, train accuracy  {train_acc[i]}, validation accuracy {val_acc[i]}\")\n",
        "\n",
        "\n",
        "    print(f\"Final weights: bias = {b}, w_0 = {w[0]}, w_1 = {w[1]}\")\n",
        "    \n",
        "    return w, b, costs\n",
        "    "
      ],
      "execution_count": 0,
      "outputs": []
    },
    {
      "cell_type": "markdown",
      "metadata": {
        "id": "YVFFgeexSWdn",
        "colab_type": "text"
      },
      "source": [
        "## LRGradDesc for 2 features"
      ]
    },
    {
      "cell_type": "code",
      "metadata": {
        "id": "ki-ZDnZbBZwa",
        "colab_type": "code",
        "colab": {
          "base_uri": "https://localhost:8080/",
          "height": 272
        },
        "outputId": "62cbcfed-b823-4c5e-ebf3-f889ef8603a0"
      },
      "source": [
        "# model converges after 500 iterations\n",
        "max_iter = 600\n",
        "lr = 0.01\n",
        "w, b = initialize_with_zeros(X_2feat_train.shape[0])\n",
        "w2, b2, _ = LRGradDesc(w, b, X_2feat_train, y_train, X_2feat_val, y_val, num_iterations=max_iter + 1, learning_rate=lr, is_print=True);"
      ],
      "execution_count": 242,
      "outputs": [
        {
          "output_type": "stream",
          "text": [
            "Iteration 0:  initial_train cost 0.9533268340980275, train accuracy  35.993485342019554, validation accuracy 30.519480519480524\n",
            "Iteration 1:  train cost 0.9519378426889158, train accuracy  35.993485342019554, validation accuracy 30.519480519480524\n",
            "Iteration 100:  weights [[-0.01702113]\n",
            " [ 0.02637108]] bias 0.6615350263348806 initial_train cost 0.8395112241637501, train accuracy  35.993485342019554, validation accuracy 30.519480519480524\n",
            "Iteration 200:  weights [[-0.02742934]\n",
            " [ 0.04560475]] bias 0.394016102690168 initial_train cost 0.7668778011553999, train accuracy  35.993485342019554, validation accuracy 30.519480519480524\n",
            "Iteration 300:  weights [[-0.03304588]\n",
            " [ 0.0593662 ]] bias 0.1836940409337465 initial_train cost 0.7220309957416998, train accuracy  35.993485342019554, validation accuracy 30.519480519480524\n",
            "Iteration 400:  weights [[-0.03545768]\n",
            " [ 0.06917465]] bias 0.01956757814878729 initial_train cost 0.69474802550123, train accuracy  35.83061889250814, validation accuracy 29.870129870129873\n",
            "Iteration 500:  weights [[-0.03587775]\n",
            " [ 0.07625608]] bias -0.10825297026289557 initial_train cost 0.6782121071193784, train accuracy  36.15635179153095, validation accuracy 30.519480519480524\n",
            "Iteration 600:  weights [[-0.03513216]\n",
            " [ 0.08147692]] bias -0.20788249440521575 initial_train cost 0.6681697372004094, train accuracy  44.78827361563518, validation accuracy 36.36363636363637\n",
            "Final weights: bias = -0.20788249440521575, w_0 = [-0.03513216], w_1 = [0.08147692]\n"
          ],
          "name": "stdout"
        }
      ]
    },
    {
      "cell_type": "markdown",
      "metadata": {
        "id": "ZkOv53SpStdI",
        "colab_type": "text"
      },
      "source": [
        "## Consider different lr"
      ]
    },
    {
      "cell_type": "code",
      "metadata": {
        "id": "wkTtVl8HBZuG",
        "colab_type": "code",
        "colab": {
          "base_uri": "https://localhost:8080/",
          "height": 221
        },
        "outputId": "4a83361a-badb-4eac-c8af-d1c2c19ba78a"
      },
      "source": [
        "# examine wide range of learning rates\n",
        "lr_list = [0.0001, 0.001, 0.01, 0.1, 1, 10]\n",
        "costs_list = []\n",
        "# loop through lr list\n",
        "for lr in lr_list:\n",
        "    max_iter = 600\n",
        "    w, b = initialize_with_zeros(X_2feat_train.shape[0])\n",
        "    _, _, costs = LRGradDesc(w, b, X_2feat_train, y_train, X_2feat_val, y_val, num_iterations=max_iter + 1, learning_rate=lr)\n",
        "    costs_list.append(costs[-1])\n",
        "    print(f\"Learning rate = {lr}, cost: {costs[-1]}\")"
      ],
      "execution_count": 243,
      "outputs": [
        {
          "output_type": "stream",
          "text": [
            "Final weights: bias = 0.9778274436059388, w_0 = [-0.00121559], w_1 = [0.00177585]\n",
            "Learning rate = 0.0001, cost: 0.9450832618501441\n",
            "Final weights: bias = 0.7900502284546528, w_0 = [-0.0109755], w_1 = [0.01656781]\n",
            "Learning rate = 0.001, cost: 0.8793467351388052\n",
            "Final weights: bias = -0.20788249440521575, w_0 = [-0.03513216], w_1 = [0.08147692]\n",
            "Learning rate = 0.01, cost: 0.6681697372004094\n",
            "Final weights: bias = -0.5748440610121127, w_0 = [-0.01537923], w_1 = [0.1016691]\n",
            "Learning rate = 0.1, cost: 0.6521440313314969\n",
            "Final weights: bias = -0.5748454950046173, w_0 = [-0.01537835], w_1 = [0.10166954]\n",
            "Learning rate = 1, cost: 0.6521440313311522\n",
            "Final weights: bias = -1.972446238313562, w_0 = [-0.22866819], w_1 = [0.01433109]\n",
            "Learning rate = 10, cost: 0.7687821891069685\n"
          ],
          "name": "stdout"
        }
      ]
    },
    {
      "cell_type": "code",
      "metadata": {
        "id": "YabEL9LaBbGf",
        "colab_type": "code",
        "colab": {
          "base_uri": "https://localhost:8080/",
          "height": 283
        },
        "outputId": "bdf5494c-215d-4861-c1d8-2e4ae24c0c20"
      },
      "source": [
        "import matplotlib.pyplot as plt\n",
        "plt.plot(lr_list, costs_list)\n",
        "plt.xscale(\"log\")\n",
        "plt.ylabel('cost')\n",
        "plt.xlabel('learning rate');"
      ],
      "execution_count": 244,
      "outputs": [
        {
          "output_type": "display_data",
          "data": {
            "image/png": "[encoded data removed]",
            "text/plain": [
              "<Figure size 432x288 with 1 Axes>"
            ]
          },
          "metadata": {
            "tags": [],
            "needs_background": "light"
          }
        }
      ]
    },
    {
      "cell_type": "markdown",
      "metadata": {
        "id": "EslYRStochUS",
        "colab_type": "text"
      },
      "source": [
        "## From the above plot we can see that we should select learning rate 0.1. \n",
        "- Different learning rates give different costs .\n",
        "- If the learning rate is too large (10), the cost may oscillate up and down. Using 1 still eventually ends up at a good value for the cost.\n",
        "- A lower cost doesn't mean a better model. You have to check if there is possibly over-fitting. It happens when the training accuracy is a lot higher than the test accuracy."
      ]
    },
    {
      "cell_type": "markdown",
      "metadata": {
        "id": "kkr-PqP8dogv",
        "colab_type": "text"
      },
      "source": [
        "# Compare your model with one using a machine learning library to compute logistic regression"
      ]
    },
    {
      "cell_type": "code",
      "metadata": {
        "id": "7UpfnP-xBbCp",
        "colab_type": "code",
        "colab": {
          "base_uri": "https://localhost:8080/",
          "height": 34
        },
        "outputId": "020bbf38-15bb-4703-c653-9f74c18278ad"
      },
      "source": [
        "# create logistic regression object\n",
        "log_reg = LogisticRegression()\n",
        "log_reg.fit(X_train[['Glucose', 'BMI']], y_trn)\n",
        "log_reg.score(X_val[['Glucose', 'BMI']], y_vl)"
      ],
      "execution_count": 245,
      "outputs": [
        {
          "output_type": "execute_result",
          "data": {
            "text/plain": [
              "0.7857142857142857"
            ]
          },
          "metadata": {
            "tags": []
          },
          "execution_count": 245
        }
      ]
    },
    {
      "cell_type": "markdown",
      "metadata": {
        "id": "qbzT80bafakY",
        "colab_type": "text"
      },
      "source": [
        "Sklearn model performs better than my model, because it has optimized solver."
      ]
    },
    {
      "cell_type": "markdown",
      "metadata": {
        "id": "Y8xsseOJtIzx",
        "colab_type": "text"
      },
      "source": [
        "# Retrain your model using three features of your choice"
      ]
    },
    {
      "cell_type": "code",
      "metadata": {
        "id": "HcwFt5NhBbAq",
        "colab_type": "code",
        "colab": {}
      },
      "source": [
        "X_3feat_train = X_train[['Age', 'Insulin', 'BloodPressure']].values.reshape(X_train[['Age', 'Insulin', 'BloodPressure']].shape[1],X_train[['Age', 'Insulin', 'BloodPressure']].shape[0])\n",
        "X_3feat_val = X_val[['Age', 'Insulin', 'BloodPressure']].values.reshape(X_val[['Age', 'Insulin', 'BloodPressure']].shape[1],X_val[['Age', 'Insulin', 'BloodPressure']].shape[0])"
      ],
      "execution_count": 0,
      "outputs": []
    },
    {
      "cell_type": "code",
      "metadata": {
        "id": "Zbs2W1FxBa8z",
        "colab_type": "code",
        "colab": {
          "base_uri": "https://localhost:8080/",
          "height": 374
        },
        "outputId": "dae9f65a-273c-4682-e9f1-c6dad9d1d7a1"
      },
      "source": [
        "max_iter = 600\n",
        "lr = 0.01\n",
        "w, b = initialize_with_zeros(X_3feat_train.shape[0])\n",
        "w3, b3, _ = LRGradDesc(w, b, X_3feat_train, y_train, X_3feat_val, y_val, num_iterations=max_iter + 1, learning_rate=lr, is_print=True);"
      ],
      "execution_count": 247,
      "outputs": [
        {
          "output_type": "stream",
          "text": [
            "Iteration 0:  initial_train cost 0.9533268340980275, train accuracy  35.993485342019554, validation accuracy 30.519480519480524\n",
            "Iteration 1:  train cost 0.9519503394044824, train accuracy  35.993485342019554, validation accuracy 30.519480519480524\n",
            "Iteration 100:  weights [[ 0.00309175]\n",
            " [ 0.00310383]\n",
            " [-0.00203471]] bias 0.6614235027981578 initial_train cost 0.8403892544265985, train accuracy  35.993485342019554, validation accuracy 30.519480519480524\n",
            "Iteration 200:  weights [[0.00249044]\n",
            " [0.0080017 ]\n",
            " [0.00027505]] bias 0.3935454503104045 initial_train cost 0.7680221343874647, train accuracy  35.993485342019554, validation accuracy 30.519480519480524\n",
            "Iteration 300:  weights [[-0.00054454]\n",
            " [ 0.01385195]\n",
            " [ 0.00538028]] bias 0.18266758369034147 initial_train cost 0.7230980983214663, train accuracy  35.993485342019554, validation accuracy 30.519480519480524\n",
            "Iteration 400:  weights [[-0.00497501]\n",
            " [ 0.02001417]\n",
            " [ 0.0120182 ]] bias 0.01786797276562958 initial_train cost 0.6955964597042764, train accuracy  35.993485342019554, validation accuracy 30.519480519480524\n",
            "Iteration 500:  weights [[-0.01005854]\n",
            " [ 0.02608071]\n",
            " [ 0.01929848]] bias -0.11068756755857113 initial_train cost 0.6788076224642945, train accuracy  35.993485342019554, validation accuracy 30.519480519480524\n",
            "Iteration 600:  weights [[-0.01531354]\n",
            " [ 0.03181685]\n",
            " [ 0.02664977]] bias -0.21108362623442384 initial_train cost 0.6685253219628162, train accuracy  36.31921824104235, validation accuracy 32.467532467532465\n",
            "Final weights: bias = -0.21108362623442384, w_0 = [-0.01531354], w_1 = [0.03181685]\n"
          ],
          "name": "stdout"
        }
      ]
    },
    {
      "cell_type": "code",
      "metadata": {
        "id": "Xk0-8-TABa7E",
        "colab_type": "code",
        "colab": {
          "base_uri": "https://localhost:8080/",
          "height": 295
        },
        "outputId": "328ed145-6109-462f-ff35-b2808529a916"
      },
      "source": [
        "log_reg.fit(X_train[['Glucose', 'BMI']], y_trn)\n",
        "y_pred_2 = log_reg.predict_proba(X_val[['Glucose', 'BMI']])\n",
        "\n",
        "log_reg.fit(X_train[['Age', 'Insulin', 'BloodPressure']], y_trn)\n",
        "y_pred_3 = log_reg.predict_proba(X_val[['Age', 'Insulin', 'BloodPressure']])\n",
        "\n",
        "fpr_2, tpr_2, _ = roc_curve(y_vl.values, y_pred_2[:,1])\n",
        "fpr_3, tpr_3, _ = roc_curve(y_vl.values, y_pred_3[:,1])\n",
        "\n",
        "plt.plot(fpr_2, tpr_2, label='2 features')\n",
        "plt.plot(fpr_3, tpr_3, label='3 features')\n",
        "plt.xlabel('False positive rate')\n",
        "plt.ylabel('True positive rate')\n",
        "plt.title('ROC curve')\n",
        "plt.legend(loc='best')\n",
        "plt.show();"
      ],
      "execution_count": 248,
      "outputs": [
        {
          "output_type": "display_data",
          "data": {
            "image/png": "[encoded data removed]",
            "text/plain": [
              "<Figure size 432x288 with 1 Axes>"
            ]
          },
          "metadata": {
            "tags": [],
            "needs_background": "light"
          }
        }
      ]
    },
    {
      "cell_type": "markdown",
      "metadata": {
        "id": "caxJremI25P8",
        "colab_type": "text"
      },
      "source": [
        "## We can see that 2 features model is better. It is obvious, because for this model we used more important features."
      ]
    }
  ]
}