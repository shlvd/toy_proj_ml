{
 "cells": [
  {
   "cell_type": "markdown",
   "metadata": {
    "colab_type": "text",
    "id": "jKEJzmOFE7A7"
   },
   "source": [
    "**Exercise 4.1**\n",
    "\n",
    "i) Generate an array of random integer numbers in range [10,1000] with size 100;\n",
    " \n",
    "ii) Discretize this array into k= 10 bins, such that each bin is of equal width using (delta = xmax - xmin/k);\n",
    "\n",
    "iii) Plot the histogram;\n",
    "\n",
    "iv) Reapet i)-iii) by generating an array of random numbers by normal distribution with (loc=0.0, scale=1.0, size = 100);\n",
    "\n",
    "v) Generate an array of random numbers by lognormal distribution with (mean=2.0, sigma=2.0, size=100) and plot the histogram by setting bins as [0, 1, 2, 5, 10, 20, 30, 40, 50, 60, 70, 80,90, 100]."
   ]
  },
  {
   "cell_type": "code",
   "execution_count": 5,
   "metadata": {
    "colab": {
     "base_uri": "https://localhost:8080/",
     "height": 265
    },
    "colab_type": "code",
    "id": "E2UssT_5E7A7",
    "outputId": "c25f801f-9d26-4320-98a7-5e448ec50787"
   },
   "outputs": [
    {
     "data": {
      "image/png": "[encoded data removed]",
      "text/plain": [
       "<Figure size 432x288 with 1 Axes>"
      ]
     },
     "metadata": {
      "needs_background": "light"
     },
     "output_type": "display_data"
    }
   ],
   "source": [
    "import numpy as np\n",
    "#Generate an array of random integer numbers in range [10,1000] with size 100;\n",
    "int_list = np.random.randint(low=10, high=1000, size=100)\n",
    "\n",
    "#Discretize this array into k= 10 bins, such that each bin is of equal width using (delta = xmax - xmin/k)\n",
    "bins = np.linspace(min(int_list), max(int_list), 10)\n",
    "digitized = np.digitize(int_list, bins)\n",
    "#Plot the histogram;\n",
    "import matplotlib.pyplot as plt\n",
    "plt.hist(digitized);"
   ]
  },
  {
   "cell_type": "code",
   "execution_count": 7,
   "metadata": {
    "colab": {
     "base_uri": "https://localhost:8080/",
     "height": 265
    },
    "colab_type": "code",
    "id": "fz9tQ3HFE7BK",
    "outputId": "8ab4cb1d-e494-4a59-d271-0f4ab6ff709b"
   },
   "outputs": [
    {
     "data": {
      "image/png": "[encoded data removed]",
      "text/plain": [
       "<Figure size 432x288 with 1 Axes>"
      ]
     },
     "metadata": {
      "needs_background": "light"
     },
     "output_type": "display_data"
    }
   ],
   "source": [
    "#Repeat i)-iii) by generating an array of random numbers by normal distribution with (loc=0.0, scale=1.0, size = 100)\n",
    "norm_list = np.random.normal(loc=0, scale=1, size=100)\n",
    "bins = np.linspace(min(norm_list), max(norm_list), 10)\n",
    "digitized = np.digitize(norm_list, bins)\n",
    "plt.hist(digitized);"
   ]
  },
  {
   "cell_type": "code",
   "execution_count": 9,
   "metadata": {
    "colab": {
     "base_uri": "https://localhost:8080/",
     "height": 265
    },
    "colab_type": "code",
    "id": "N6PCzeyCLAIT",
    "outputId": "1c1e578d-b971-4ca1-e80e-8fcecb06005d"
   },
   "outputs": [
    {
     "data": {
      "image/png": "[encoded data removed]",
      "text/plain": [
       "<Figure size 432x288 with 1 Axes>"
      ]
     },
     "metadata": {
      "needs_background": "light"
     },
     "output_type": "display_data"
    }
   ],
   "source": [
    "#Generate an array of random numbers by lognormal distribution with (mean=2.0, sigma=2.0, size=100) and plot the histogram by setting bins as [0, 1, 2, 5, 10, 20, 30, 40, 50, 60, 70, 80,90, 100]\n",
    "log_list = np.random.lognormal(mean=2, sigma=2, size=100)\n",
    "bins = [0, 1, 2, 5, 10, 20, 30, 40, 50, 60, 70, 80, 90, 100]\n",
    "plt.hist(log_list, bins=bins);"
   ]
  },
  {
   "cell_type": "markdown",
   "metadata": {
    "colab_type": "text",
    "id": "U16HflJfE7BK"
   },
   "source": [
    "**Exercise 4.2**\n",
    "\n",
    "Generate a data frame with 3 columns and 200 rows by selecting randomly selected numers: use for the first column the \"normal\" distribution with (loc=0.0, scale=1.0, size=200) and for the last 2 columns the \"lognormal\" distribution with (mean=0.0, sigma=2.0, size=200) and (mean=1.0, sigma=3.0, size=200).\n",
    "\n",
    "Find any outlier with a z-value > 3 or z-value < -3 and replace that with the mean of the values, eg perform Mean substitution for outliers.\n",
    "\n",
    "Write a report about cells with outliers, thier z-scores and substituted values. \n"
   ]
  },
  {
   "cell_type": "code",
   "execution_count": 63,
   "metadata": {
    "colab": {
     "base_uri": "https://localhost:8080/",
     "height": 419
    },
    "colab_type": "code",
    "id": "8xeFAwgyE7BK",
    "outputId": "8eb65533-f7e6-4c84-c502-7e4c91b058f6"
   },
   "outputs": [
    {
     "data": {
      "text/html": [
       "<div>\n",
       "<style scoped>\n",
       "    .dataframe tbody tr th:only-of-type {\n",
       "        vertical-align: middle;\n",
       "    }\n",
       "\n",
       "    .dataframe tbody tr th {\n",
       "        vertical-align: top;\n",
       "    }\n",
       "\n",
       "    .dataframe thead th {\n",
       "        text-align: right;\n",
       "    }\n",
       "</style>\n",
       "<table border=\"1\" class=\"dataframe\">\n",
       "  <thead>\n",
       "    <tr style=\"text-align: right;\">\n",
       "      <th></th>\n",
       "      <th>norm</th>\n",
       "      <th>log1</th>\n",
       "      <th>log2</th>\n",
       "    </tr>\n",
       "  </thead>\n",
       "  <tbody>\n",
       "    <tr>\n",
       "      <td>0</td>\n",
       "      <td>0.642040</td>\n",
       "      <td>0.155066</td>\n",
       "      <td>0.233522</td>\n",
       "    </tr>\n",
       "    <tr>\n",
       "      <td>1</td>\n",
       "      <td>0.412962</td>\n",
       "      <td>0.095013</td>\n",
       "      <td>7.621451</td>\n",
       "    </tr>\n",
       "    <tr>\n",
       "      <td>2</td>\n",
       "      <td>-2.234176</td>\n",
       "      <td>0.588720</td>\n",
       "      <td>8.603647</td>\n",
       "    </tr>\n",
       "    <tr>\n",
       "      <td>3</td>\n",
       "      <td>1.584047</td>\n",
       "      <td>0.997167</td>\n",
       "      <td>0.178414</td>\n",
       "    </tr>\n",
       "    <tr>\n",
       "      <td>4</td>\n",
       "      <td>-0.480033</td>\n",
       "      <td>1.392511</td>\n",
       "      <td>0.319754</td>\n",
       "    </tr>\n",
       "  </tbody>\n",
       "</table>\n",
       "</div>"
      ],
      "text/plain": [
       "       norm      log1      log2\n",
       "0  0.642040  0.155066  0.233522\n",
       "1  0.412962  0.095013  7.621451\n",
       "2 -2.234176  0.588720  8.603647\n",
       "3  1.584047  0.997167  0.178414\n",
       "4 -0.480033  1.392511  0.319754"
      ]
     },
     "execution_count": 63,
     "metadata": {},
     "output_type": "execute_result"
    }
   ],
   "source": [
    "import numpy as np\n",
    "import pandas as pd\n",
    "data = pd.DataFrame(columns=['norm', 'log1', 'log2'])\n",
    "data.iloc[:,0] = np.random.normal(loc=0, scale=1, size=200)\n",
    "data.iloc[:,1] = np.random.lognormal(mean=0, sigma=2, size=200)\n",
    "data.iloc[:,2] = np.random.lognormal(mean=1, sigma=3, size=200)\n",
    "data.head()"
   ]
  },
  {
   "cell_type": "code",
   "execution_count": 64,
   "metadata": {
    "scrolled": true
   },
   "outputs": [
    {
     "data": {
      "text/html": [
       "<div>\n",
       "<style scoped>\n",
       "    .dataframe tbody tr th:only-of-type {\n",
       "        vertical-align: middle;\n",
       "    }\n",
       "\n",
       "    .dataframe tbody tr th {\n",
       "        vertical-align: top;\n",
       "    }\n",
       "\n",
       "    .dataframe thead th {\n",
       "        text-align: right;\n",
       "    }\n",
       "</style>\n",
       "<table border=\"1\" class=\"dataframe\">\n",
       "  <thead>\n",
       "    <tr style=\"text-align: right;\">\n",
       "      <th></th>\n",
       "      <th>norm_zscore</th>\n",
       "      <th>log1_zscore</th>\n",
       "      <th>log2_zscore</th>\n",
       "    </tr>\n",
       "  </thead>\n",
       "  <tbody>\n",
       "    <tr>\n",
       "      <td>0</td>\n",
       "      <td>0.600909</td>\n",
       "      <td>-0.341494</td>\n",
       "      <td>-0.146368</td>\n",
       "    </tr>\n",
       "    <tr>\n",
       "      <td>1</td>\n",
       "      <td>0.379500</td>\n",
       "      <td>-0.344880</td>\n",
       "      <td>-0.136488</td>\n",
       "    </tr>\n",
       "    <tr>\n",
       "      <td>2</td>\n",
       "      <td>-2.179018</td>\n",
       "      <td>-0.317040</td>\n",
       "      <td>-0.135174</td>\n",
       "    </tr>\n",
       "    <tr>\n",
       "      <td>3</td>\n",
       "      <td>1.511381</td>\n",
       "      <td>-0.294007</td>\n",
       "      <td>-0.146442</td>\n",
       "    </tr>\n",
       "    <tr>\n",
       "      <td>4</td>\n",
       "      <td>-0.483599</td>\n",
       "      <td>-0.271713</td>\n",
       "      <td>-0.146253</td>\n",
       "    </tr>\n",
       "    <tr>\n",
       "      <td>...</td>\n",
       "      <td>...</td>\n",
       "      <td>...</td>\n",
       "      <td>...</td>\n",
       "    </tr>\n",
       "    <tr>\n",
       "      <td>195</td>\n",
       "      <td>-0.554722</td>\n",
       "      <td>-0.279792</td>\n",
       "      <td>-0.142973</td>\n",
       "    </tr>\n",
       "    <tr>\n",
       "      <td>196</td>\n",
       "      <td>1.487063</td>\n",
       "      <td>-0.283799</td>\n",
       "      <td>-0.140394</td>\n",
       "    </tr>\n",
       "    <tr>\n",
       "      <td>197</td>\n",
       "      <td>2.295204</td>\n",
       "      <td>-0.163377</td>\n",
       "      <td>0.055019</td>\n",
       "    </tr>\n",
       "    <tr>\n",
       "      <td>198</td>\n",
       "      <td>-0.865268</td>\n",
       "      <td>-0.253939</td>\n",
       "      <td>-0.029356</td>\n",
       "    </tr>\n",
       "    <tr>\n",
       "      <td>199</td>\n",
       "      <td>-1.069692</td>\n",
       "      <td>-0.336352</td>\n",
       "      <td>-0.123587</td>\n",
       "    </tr>\n",
       "  </tbody>\n",
       "</table>\n",
       "<p>200 rows × 3 columns</p>\n",
       "</div>"
      ],
      "text/plain": [
       "     norm_zscore  log1_zscore  log2_zscore\n",
       "0       0.600909    -0.341494    -0.146368\n",
       "1       0.379500    -0.344880    -0.136488\n",
       "2      -2.179018    -0.317040    -0.135174\n",
       "3       1.511381    -0.294007    -0.146442\n",
       "4      -0.483599    -0.271713    -0.146253\n",
       "..           ...          ...          ...\n",
       "195    -0.554722    -0.279792    -0.142973\n",
       "196     1.487063    -0.283799    -0.140394\n",
       "197     2.295204    -0.163377     0.055019\n",
       "198    -0.865268    -0.253939    -0.029356\n",
       "199    -1.069692    -0.336352    -0.123587\n",
       "\n",
       "[200 rows x 3 columns]"
      ]
     },
     "execution_count": 64,
     "metadata": {},
     "output_type": "execute_result"
    }
   ],
   "source": [
    "#create dataframe for z-scores\n",
    "dataz = pd.DataFrame(columns=['norm', 'log1', 'log2'])\n",
    "#compute z scores\n",
    "for col in list(dataz.columns):\n",
    "    col_zscore = col + '_zscore'\n",
    "    dataz[col_zscore] = (data[col] - data[col].mean())/data[col].std(ddof=0)\n",
    "#drop redundant columns\n",
    "dataz = dataz.drop(['norm', 'log1', 'log2'], axis=1)\n",
    "dataz"
   ]
  },
  {
   "cell_type": "code",
   "execution_count": 65,
   "metadata": {},
   "outputs": [
    {
     "data": {
      "text/html": [
       "<div>\n",
       "<style scoped>\n",
       "    .dataframe tbody tr th:only-of-type {\n",
       "        vertical-align: middle;\n",
       "    }\n",
       "\n",
       "    .dataframe tbody tr th {\n",
       "        vertical-align: top;\n",
       "    }\n",
       "\n",
       "    .dataframe thead th {\n",
       "        text-align: right;\n",
       "    }\n",
       "</style>\n",
       "<table border=\"1\" class=\"dataframe\">\n",
       "  <thead>\n",
       "    <tr style=\"text-align: right;\">\n",
       "      <th></th>\n",
       "      <th>norm</th>\n",
       "      <th>log1</th>\n",
       "      <th>log2</th>\n",
       "    </tr>\n",
       "  </thead>\n",
       "  <tbody>\n",
       "    <tr>\n",
       "      <td>9</td>\n",
       "      <td>-0.526588</td>\n",
       "      <td>155.019945</td>\n",
       "      <td>1.440383</td>\n",
       "    </tr>\n",
       "    <tr>\n",
       "      <td>103</td>\n",
       "      <td>0.461634</td>\n",
       "      <td>0.761700</td>\n",
       "      <td>3982.833815</td>\n",
       "    </tr>\n",
       "    <tr>\n",
       "      <td>113</td>\n",
       "      <td>-1.124514</td>\n",
       "      <td>88.137945</td>\n",
       "      <td>0.566005</td>\n",
       "    </tr>\n",
       "    <tr>\n",
       "      <td>123</td>\n",
       "      <td>0.182450</td>\n",
       "      <td>118.702145</td>\n",
       "      <td>0.003268</td>\n",
       "    </tr>\n",
       "    <tr>\n",
       "      <td>134</td>\n",
       "      <td>0.775608</td>\n",
       "      <td>71.858343</td>\n",
       "      <td>19.931678</td>\n",
       "    </tr>\n",
       "    <tr>\n",
       "      <td>165</td>\n",
       "      <td>-0.525572</td>\n",
       "      <td>0.639257</td>\n",
       "      <td>9720.161175</td>\n",
       "    </tr>\n",
       "  </tbody>\n",
       "</table>\n",
       "</div>"
      ],
      "text/plain": [
       "         norm        log1         log2\n",
       "9   -0.526588  155.019945     1.440383\n",
       "103  0.461634    0.761700  3982.833815\n",
       "113 -1.124514   88.137945     0.566005\n",
       "123  0.182450  118.702145     0.003268\n",
       "134  0.775608   71.858343    19.931678\n",
       "165 -0.525572    0.639257  9720.161175"
      ]
     },
     "execution_count": 65,
     "metadata": {},
     "output_type": "execute_result"
    }
   ],
   "source": [
    "#outliers\n",
    "m = np.abs(dataz) > 3\n",
    "data[m.values]"
   ]
  },
  {
   "cell_type": "code",
   "execution_count": 66,
   "metadata": {},
   "outputs": [
    {
     "data": {
      "text/html": [
       "<div>\n",
       "<style scoped>\n",
       "    .dataframe tbody tr th:only-of-type {\n",
       "        vertical-align: middle;\n",
       "    }\n",
       "\n",
       "    .dataframe tbody tr th {\n",
       "        vertical-align: top;\n",
       "    }\n",
       "\n",
       "    .dataframe thead th {\n",
       "        text-align: right;\n",
       "    }\n",
       "</style>\n",
       "<table border=\"1\" class=\"dataframe\">\n",
       "  <thead>\n",
       "    <tr style=\"text-align: right;\">\n",
       "      <th></th>\n",
       "      <th>norm</th>\n",
       "      <th>log1</th>\n",
       "      <th>log2</th>\n",
       "    </tr>\n",
       "  </thead>\n",
       "  <tbody>\n",
       "    <tr>\n",
       "      <td>0</td>\n",
       "      <td>0.642040</td>\n",
       "      <td>0.155066</td>\n",
       "      <td>0.233522</td>\n",
       "    </tr>\n",
       "    <tr>\n",
       "      <td>1</td>\n",
       "      <td>0.412962</td>\n",
       "      <td>0.095013</td>\n",
       "      <td>7.621451</td>\n",
       "    </tr>\n",
       "    <tr>\n",
       "      <td>2</td>\n",
       "      <td>-2.234176</td>\n",
       "      <td>0.588720</td>\n",
       "      <td>8.603647</td>\n",
       "    </tr>\n",
       "    <tr>\n",
       "      <td>3</td>\n",
       "      <td>1.584047</td>\n",
       "      <td>0.997167</td>\n",
       "      <td>0.178414</td>\n",
       "    </tr>\n",
       "    <tr>\n",
       "      <td>4</td>\n",
       "      <td>-0.480033</td>\n",
       "      <td>1.392511</td>\n",
       "      <td>0.319754</td>\n",
       "    </tr>\n",
       "    <tr>\n",
       "      <td>...</td>\n",
       "      <td>...</td>\n",
       "      <td>...</td>\n",
       "      <td>...</td>\n",
       "    </tr>\n",
       "    <tr>\n",
       "      <td>195</td>\n",
       "      <td>-0.553620</td>\n",
       "      <td>1.249242</td>\n",
       "      <td>2.772058</td>\n",
       "    </tr>\n",
       "    <tr>\n",
       "      <td>196</td>\n",
       "      <td>1.558887</td>\n",
       "      <td>1.178185</td>\n",
       "      <td>4.700311</td>\n",
       "    </tr>\n",
       "    <tr>\n",
       "      <td>197</td>\n",
       "      <td>2.395020</td>\n",
       "      <td>3.313653</td>\n",
       "      <td>150.823956</td>\n",
       "    </tr>\n",
       "    <tr>\n",
       "      <td>198</td>\n",
       "      <td>-0.874922</td>\n",
       "      <td>1.707704</td>\n",
       "      <td>87.731315</td>\n",
       "    </tr>\n",
       "    <tr>\n",
       "      <td>199</td>\n",
       "      <td>-1.086427</td>\n",
       "      <td>0.246244</td>\n",
       "      <td>17.268612</td>\n",
       "    </tr>\n",
       "  </tbody>\n",
       "</table>\n",
       "<p>200 rows × 3 columns</p>\n",
       "</div>"
      ],
      "text/plain": [
       "         norm      log1        log2\n",
       "0    0.642040  0.155066    0.233522\n",
       "1    0.412962  0.095013    7.621451\n",
       "2   -2.234176  0.588720    8.603647\n",
       "3    1.584047  0.997167    0.178414\n",
       "4   -0.480033  1.392511    0.319754\n",
       "..        ...       ...         ...\n",
       "195 -0.553620  1.249242    2.772058\n",
       "196  1.558887  1.178185    4.700311\n",
       "197  2.395020  3.313653  150.823956\n",
       "198 -0.874922  1.707704   87.731315\n",
       "199 -1.086427  0.246244   17.268612\n",
       "\n",
       "[200 rows x 3 columns]"
      ]
     },
     "execution_count": 66,
     "metadata": {},
     "output_type": "execute_result"
    }
   ],
   "source": [
    "#create mask\n",
    "m = np.abs(dataz) > 3\n",
    "#replace |z|>3 --> NaN\n",
    "data = data.mask(m.values, np.nan)\n",
    "#replace NaN --> column mean\n",
    "data = data.fillna(data.mean())\n",
    "data"
   ]
  },
  {
   "cell_type": "markdown",
   "metadata": {
    "colab_type": "text",
    "id": "vNdQHkE6dAvj"
   },
   "source": [
    "I created mask for dfz dataframe(|z|>3 -->True, otherwise - False). Then I applied this mask to original dataframe df and replaced all outliers with nans. Finally I replaced nans with column mean. I printed outliers and we can see that they are present only in log1 and log2 columns"
   ]
  },
  {
   "cell_type": "markdown",
   "metadata": {
    "colab_type": "text",
    "id": "inWHPha4E7Ba"
   },
   "source": [
    "**Exercise 4.3: PCA**\n",
    "\n",
    "1) Apply PCA to the data - output of **Exercise 4.2** (where all outliers are with substituted values) in order to reduce the dimension from 3 to 2 (use \"PCA(n_components = 2)\". \n",
    "\n",
    "2) Transform your data (3 dimensional) to a new data (2 dimensional) by applying \"pca.transform\", then print the shapes and the first 5 rows of your data and new/transformed data."
   ]
  },
  {
   "cell_type": "code",
   "execution_count": 67,
   "metadata": {
    "colab": {
     "base_uri": "https://localhost:8080/",
     "height": 221
    },
    "colab_type": "code",
    "id": "eOi4BCZnE7Ba",
    "outputId": "d6ff58c8-b33a-47d4-a6c5-ea95a04737f4"
   },
   "outputs": [
    {
     "name": "stdout",
     "output_type": "stream",
     "text": [
      "Initial data \n",
      "        norm      log1      log2\n",
      "0  0.642040  0.155066  0.233522\n",
      "1  0.412962  0.095013  7.621451\n",
      "2 -2.234176  0.588720  8.603647\n",
      "3  1.584047  0.997167  0.178414\n",
      "4 -0.480033  1.392511  0.319754\n",
      "\n",
      "Transformed data \n",
      "            0         1\n",
      "0 -41.355653 -3.911254\n",
      "1 -33.967830 -3.981202\n",
      "2 -32.985005 -3.476905\n",
      "3 -41.409478 -3.073368\n",
      "4 -41.267632 -2.668843\n"
     ]
    }
   ],
   "source": [
    "from sklearn.decomposition import PCA\n",
    "#create pca object\n",
    "pca = PCA(n_components=2)\n",
    "#fit and transform data\n",
    "data_pca = pca.fit_transform(data)\n",
    "#create dataframe for transformed data\n",
    "data_pca = pd.DataFrame(data_pca)\n",
    "print('Initial data', '\\n', data.head())\n",
    "print()\n",
    "print('Transformed data', '\\n', data_pca.head())"
   ]
  }
 ],
 "metadata": {
  "colab": {
   "collapsed_sections": [],
   "name": "yourstudentID_Task 4_Python.ipynb",
   "provenance": []
  },
  "kernelspec": {
   "display_name": "Python 3",
   "language": "python",
   "name": "python3"
  },
  "language_info": {
   "codemirror_mode": {
    "name": "ipython",
    "version": 3
   },
   "file_extension": ".py",
   "mimetype": "text/x-python",
   "name": "python",
   "nbconvert_exporter": "python",
   "pygments_lexer": "ipython3",
   "version": "3.7.4"
  }
 },
 "nbformat": 4,
 "nbformat_minor": 1
}
