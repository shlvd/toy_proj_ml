{
 "cells": [
  {
   "cell_type": "markdown",
   "metadata": {},
   "source": [
    "# HW-6 - XML Queries In Python\n",
    "## CSCI 3287 <IMG SRC=\"https://www.colorado.edu/cs/profiles/express/themes/cuspirit/logo.png\" WIDTH=50 ALIGN=\"right\">"
   ]
  },
  {
   "cell_type": "markdown",
   "metadata": {},
   "source": [
    "### Enter your name here:\n",
    "#### Name:\n",
    "#### Identikey:"
   ]
  },
  {
   "cell_type": "markdown",
   "metadata": {},
   "source": [
    "If you haven't already reviewed the LXML tutorial and played with the LXML notebook, you're encouraged to do so.\n",
    "\n",
    "We're going to use to [lxml](https://lxml.de/) library to access and manipulate XML data. Some of this material is an adaptation of the [lxml tutorial](https://lxml.de/tutorial.html).\n",
    "\n",
    "The LXML library doesn't provide an XQuery interface, so we're going to use a tool called XQilla as a commandline interface.\n"
   ]
  },
  {
   "cell_type": "code",
   "execution_count": 1,
   "metadata": {},
   "outputs": [],
   "source": [
    "import lxml\n",
    "import lxml.etree as etree\n",
    "import lxml.html"
   ]
  },
  {
   "cell_type": "markdown",
   "metadata": {},
   "source": [
    "All of the problems (XPath, Xquery, XSLT) will use the **products** XML document below. I've created an LXML ElementTree for that document. I've also created a copy of the document in the file `/tmp/products.xml` that can be used for the XQuery exercise."
   ]
  },
  {
   "cell_type": "code",
   "execution_count": 2,
   "metadata": {},
   "outputs": [],
   "source": [
    "products_text = \"\"\"<Products>\n",
    "  <Maker name=\"A\">\n",
    "    <PC model=\"1001\" price=\"2114\">\n",
    "      <Speed>2.66</Speed>\n",
    "      <RAM>1024</RAM>\n",
    "      <HardDisk>250</HardDisk>\n",
    "    </PC>\n",
    "    <PC model=\"1002\" price=\"995\">\n",
    "      <Speed>2.10</Speed>\n",
    "      <RAM>512</RAM>\n",
    "      <HardDisk>250</HardDisk>\n",
    "    </PC>\n",
    "    <Laptop model=\"2004\" price=\"1150\">\n",
    "      <Speed>2.00</Speed>\n",
    "      <RAM>512</RAM>\n",
    "      <HardDisk>60</HardDisk>\n",
    "      <Screen>13.3</Screen>\n",
    "    </Laptop>\n",
    "    <Laptop model=\"2005\" price=\"2500\">\n",
    "      <Speed>2.16</Speed>\n",
    "      <RAM>1024</RAM>\n",
    "      <HardDisk>120</HardDisk>\n",
    "      <Screen>17.0</Screen>\n",
    "    </Laptop>\n",
    "  </Maker>\n",
    "  <Maker name=\"E\">\n",
    "    <PC model=\"1011\" price=\"959\">\n",
    "      <Speed>1.86</Speed>\n",
    "      <RAM>2048</RAM>\n",
    "      <HardDisk>160</HardDisk>\n",
    "    </PC>\n",
    "    <PC model=\"1012\" price=\"649\">\n",
    "      <Speed>2.80</Speed>\n",
    "      <RAM>1024</RAM>\n",
    "      <HardDisk>160</HardDisk>\n",
    "    </PC>\n",
    "    <Laptop model=\"2001\" price=\"3673\">\n",
    "      <Speed>2.00</Speed>\n",
    "      <RAM>2048</RAM>\n",
    "      <HardDisk>240</HardDisk>\n",
    "      <Screen>20.1</Screen>\n",
    "    </Laptop>\n",
    "    <Printer model=\"3002\" price=\"239\">\n",
    "      <Color>false</Color>\n",
    "      <Type>laser</Type>\n",
    "    </Printer>\n",
    "  </Maker>\n",
    "  <Maker name=\"H\">\n",
    "    <Printer model=\"3006\" price=\"100\">\n",
    "      <Color>true</Color>\n",
    "      <Type>ink-jet</Type>\n",
    "    </Printer>\n",
    "    <Printer model=\"3007\" price=\"200\">\n",
    "      <Color>true</Color>\n",
    "      <Type>laser</Type>\n",
    "    </Printer>\n",
    "  </Maker>\n",
    "</Products>\n",
    "\"\"\""
   ]
  },
  {
   "cell_type": "code",
   "execution_count": 3,
   "metadata": {},
   "outputs": [],
   "source": [
    "products = etree.XML(products_text)\n",
    "\n",
    "with open(\"/tmp/products.xml\",\"w\") as f:\n",
    "    f.write(products_text)"
   ]
  },
  {
   "cell_type": "markdown",
   "metadata": {},
   "source": [
    "## 1) XPath [ 45 points total ] \n",
    "\n",
    "To do the XPath homework, you'll need to use the Product XML file."
   ]
  },
  {
   "cell_type": "markdown",
   "metadata": {},
   "source": [
    "#### 1a) Find the amount of RAM on each PC [ 5 pts ]\n",
    "\n",
    "Your output should look like `['1024', '512', '2048', '1024']`"
   ]
  },
  {
   "cell_type": "code",
   "execution_count": 12,
   "metadata": {},
   "outputs": [],
   "source": [
    "### BEGIN SOLUTION\n",
    "### END SOLUTION"
   ]
  },
  {
   "cell_type": "markdown",
   "metadata": {},
   "source": [
    "#### 1b) Find the price of each product of any kind. [ 5 pts ]\n",
    "\n",
    "Your solution doesn't need to restrict itself to a PC or Printer -- it should report the price of *any* product."
   ]
  },
  {
   "cell_type": "code",
   "execution_count": null,
   "metadata": {},
   "outputs": [],
   "source": [
    "### BEGIN SOLUTION\n",
    "### END SOLUTION"
   ]
  },
  {
   "cell_type": "markdown",
   "metadata": {},
   "source": [
    "#### 1c) Find the text of all the printer elements. [5 pts ]\n",
    "\n",
    "This should reduce the text of each element within a **Printer** element (e.g. 'false', 'laser', *etc*)"
   ]
  },
  {
   "cell_type": "code",
   "execution_count": null,
   "metadata": {},
   "outputs": [],
   "source": [
    "### BEGIN SOLUTION\n",
    "### END SOLUTION"
   ]
  },
  {
   "cell_type": "markdown",
   "metadata": {},
   "source": [
    "#### 1d) Find the makers of laser printers. [ 5 pts ]\n",
    "\n",
    "There are two makers of printers, 'E' and 'H'"
   ]
  },
  {
   "cell_type": "code",
   "execution_count": null,
   "metadata": {},
   "outputs": [],
   "source": [
    "### BEGIN SOLUTION\n",
    "### END SOLUTION"
   ]
  },
  {
   "cell_type": "markdown",
   "metadata": {},
   "source": [
    "#### 1e) Find the makers of PC’s and/or laptops. [ 5 pts ]\n",
    "\n",
    "There are two makers of PC and Laptops. Although your query could check for just one of PC or Laptop and be correct, you must construct your query to work even if one Maker only makes one or the other kind of product."
   ]
  },
  {
   "cell_type": "code",
   "execution_count": null,
   "metadata": {},
   "outputs": [],
   "source": [
    "### BEGIN SOLUTION\n",
    "### END SOLUTION"
   ]
  },
  {
   "cell_type": "markdown",
   "metadata": {},
   "source": [
    "#### 1f) Find the model numbers of PC’s with a hard disk of at least 200 gigabytes [ 10 pts ]"
   ]
  },
  {
   "cell_type": "code",
   "execution_count": null,
   "metadata": {},
   "outputs": [],
   "source": [
    "### BEGIN SOLUTION\n",
    "### END SOLUTION"
   ]
  },
  {
   "cell_type": "markdown",
   "metadata": {},
   "source": [
    "#### 1g) Find the makers that make at least two PC's [ 10 pts ]\n",
    "\n",
    "This means that there are two PC's that are *siblings* in the element tree."
   ]
  },
  {
   "cell_type": "code",
   "execution_count": null,
   "metadata": {},
   "outputs": [],
   "source": [
    "### BEGIN SOLUTION\n",
    "### END SOLUTION"
   ]
  },
  {
   "cell_type": "markdown",
   "metadata": {},
   "source": [
    "## XQuery [ 45 Pts Total ]\n",
    "\n",
    "As mentioned, we need a completely different library and interface for XQuery and the [Python Binding for that library](https://pypi.org/project/python-simplexquery/) is not very robust.\n",
    "\n",
    "So, we're using to use the command line tool \"[xqilla](http://xqilla.sourceforge.net/HomePage)\" to run our queries.\n",
    "\n",
    "Let's use an [XQuery tutorial](https://www.w3schools.com/xml/xquery_intro.asp) that appears at the W3Schools website. That tutorial uses a **books.xml** dataset. As before, we'll include here as a string so you can see dataset."
   ]
  },
  {
   "cell_type": "markdown",
   "metadata": {},
   "source": [
    "#### 2a) Find the Printers models with a price less than 1000. [ 5 pts ]\n",
    "\n",
    "Your output should look like `['3002', '3006', '3007']`"
   ]
  },
  {
   "cell_type": "code",
   "execution_count": null,
   "metadata": {},
   "outputs": [],
   "source": [
    "### BEGIN SOLUTION\n",
    "with open(\"/tmp/query.xq\",\"w\") as q:\n",
    "    q.write('''\\\n",
    "## Your code here\n",
    "''')\n",
    "### END SOLUTION\n",
    "%system xqilla /tmp/query.xq"
   ]
  },
  {
   "cell_type": "markdown",
   "metadata": {},
   "source": [
    "#### 2b) Find the Printer...[ 5 pts ]\n",
    "\n",
    "Find the Printer elements with a price <=200, and produce the sequence of the elements of these printers surrounded by a tag `<CheapPrinters>`\n",
    "\n",
    "Your output should look like\n",
    "```\n",
    "['<CheapPrinters><Printer model=\"3006\" price=\"100\">',\n",
    " '      <Color>true</Color>',\n",
    " '      <Type>ink-jet</Type>',\n",
    " '    </Printer><Printer model=\"3007\" price=\"200\">',\n",
    " '      <Color>true</Color>',\n",
    " '      <Type>laser</Type>',\n",
    " '    </Printer></CheapPrinters>']\n",
    " ```"
   ]
  },
  {
   "cell_type": "code",
   "execution_count": null,
   "metadata": {},
   "outputs": [],
   "source": [
    "### BEGIN SOLUTION\n",
    "with open(\"/tmp/query.xq\",\"w\") as q:\n",
    "    q.write('''\\\n",
    "### Your code here\n",
    "''')\n",
    "### END SOLUTION\n",
    "%system xqilla /tmp/query.xq"
   ]
  },
  {
   "cell_type": "markdown",
   "metadata": {},
   "source": [
    "#### 2c) Find the names of the makers of both printers and laptops. [ 5 pts ]\n",
    "\n",
    "You may want to read about quantification in XQuery"
   ]
  },
  {
   "cell_type": "code",
   "execution_count": null,
   "metadata": {},
   "outputs": [],
   "source": [
    "### BEGIN SOLUTION\n",
    "with open(\"/tmp/query.xq\",\"w\") as q:\n",
    "    q.write('''\\\n",
    "### Your code here\n",
    "''')\n",
    "### END SOLUTION\n",
    "%system xqilla /tmp/query.xq"
   ]
  },
  {
   "cell_type": "markdown",
   "metadata": {},
   "source": [
    "#### 2d) Find the names of the makers that produce at least two PC’s with a speed of 2.00 or more. [ 10 pts ]\n",
    "\n",
    "There's only one such maker (`A`). This problem exercises the Axes."
   ]
  },
  {
   "cell_type": "code",
   "execution_count": null,
   "metadata": {},
   "outputs": [],
   "source": [
    "### BEGIN SOLUTION\n",
    "with open(\"/tmp/query.xq\",\"w\") as q:\n",
    "    q.write('''\\\n",
    "### Your code here\n",
    "''')\n",
    "### END SOLUTION\n",
    "%system xqilla /tmp/query.xq"
   ]
  },
  {
   "cell_type": "markdown",
   "metadata": {},
   "source": [
    "#### 2e) Find the makers such that every PC they produce has a price no more than 1000. [ 10 pts ]\n",
    "\n",
    "Note that a maker that does not make PC's might statisfy a constraint that every PC make by that maker is less than $1000...."
   ]
  },
  {
   "cell_type": "code",
   "execution_count": null,
   "metadata": {},
   "outputs": [],
   "source": [
    "### BEGIN SOLUTION\n",
    "with open(\"/tmp/query.xq\",\"w\") as q:\n",
    "    q.write('''\\\n",
    "### Your code here\n",
    "''')\n",
    "### END SOLUTION\n",
    "%system xqilla /tmp/query.xq"
   ]
  },
  {
   "cell_type": "markdown",
   "metadata": {},
   "source": [
    "#### 2f) Produce a sequence of elements of the form.. [ 10 pts ]\n",
    "\n",
    "`<Laptop> <Model>x</Model> <Maker>y</Maker> </Laptop>`\n",
    "where x is the model number and y is the name of the maker of the laptop.\n",
    "\n",
    "Your output should look like\n",
    "```\n",
    "['<Laptop><Model>2004</Model><Maker>A</Maker></Laptop>',\n",
    " '<Laptop><Model>2005</Model><Maker>A</Maker></Laptop>',\n",
    " '<Laptop><Model>2001</Model><Maker>E</Maker></Laptop>']\n",
    "```"
   ]
  },
  {
   "cell_type": "code",
   "execution_count": null,
   "metadata": {},
   "outputs": [],
   "source": [
    "### BEGIN SOLUTION\n",
    "with open(\"/tmp/query.xq\",\"w\") as q:\n",
    "    q.write('''\\\n",
    "### Your code here\n",
    "''')\n",
    "### END SOLUTION\n",
    "%system xqilla /tmp/query.xq"
   ]
  },
  {
   "cell_type": "markdown",
   "metadata": {},
   "source": [
    "## XSLT [ 10 pts total ]\n",
    "\n",
    "You'll use LXML to perform the XSLT transformations. Most of the problems will ask you to present e.g. an HTML table. Rather than just look at the HTML, we'll use some Jupyter notebook tricks to enable us to display formatted HTML."
   ]
  },
  {
   "cell_type": "code",
   "execution_count": null,
   "metadata": {},
   "outputs": [],
   "source": [
    "from IPython.core.display import display, HTML"
   ]
  },
  {
   "cell_type": "code",
   "execution_count": null,
   "metadata": {},
   "outputs": [],
   "source": [
    "table_data = '''<table> \n",
    "             <tr> <th> A Table </th> <th> w/2 headers </th> </tr>\n",
    "             <tr> <td> Some Data </td> <td> More Data </td> </tr>\n",
    "             </table>'''\n",
    "display(HTML(table_data))"
   ]
  },
  {
   "cell_type": "markdown",
   "metadata": {},
   "source": [
    "### 3a) An HTML Table [ 5 pts ]\n",
    "\n",
    "The table should have a header “Manufacturers” followed by an enumerated list of the names of all the makers of products listed in the input."
   ]
  },
  {
   "cell_type": "code",
   "execution_count": null,
   "metadata": {},
   "outputs": [],
   "source": [
    "### BEGIN SOLUTION\n",
    "p3a_xslt = etree.XML('''\\\n",
    "<xsl:stylesheet xmlns:xsl = \"http://www.w3.org/1999/XSL/Transform\">\n",
    "<xsl:output method=\"text\"/>\n",
    "### Your code here\n",
    "</xsl:stylesheet>\n",
    "''')\n",
    "### END SOLUTION\n",
    "p3a_xform = etree.XSLT(p3a_xslt)\n",
    "p3a_out=p3b_xform(products)\n",
    "\n",
    "#print(\"Output is\", etree.tostring(p3a_out, encoding=str))\n",
    "display(HTML(etree.tostring(p3a_out, encoding=str)))"
   ]
  },
  {
   "cell_type": "markdown",
   "metadata": {},
   "source": [
    "### 3b) An HTML table [ 5 pts ]\n",
    "\n",
    "The table should include a row labeled Laptops, then print the model and price for each laptop. After that, it should print a row labeled PC and the model and price for each.\n",
    "\n",
    "Your output should look like the following, but in HTML.\n",
    "\n",
    "```\n",
    "Laptops\n",
    "Model\tPrice\n",
    "2004\t1150\n",
    "2005\t2500\n",
    "2001\t3673\n",
    "PC\n",
    "Model\tPrice\n",
    "1001\t2114\n",
    "1002\t995\n",
    "1011\t959\n",
    "1012\t649\n",
    "```\n"
   ]
  },
  {
   "cell_type": "code",
   "execution_count": null,
   "metadata": {},
   "outputs": [],
   "source": [
    "### BEGIN SOLUTION\n",
    "p3b_xslt = etree.XML('''\\\n",
    "<xsl:stylesheet xmlns:xsl = \"http://www.w3.org/1999/XSL/Transform\">\n",
    "<xsl:output method=\"text\"/>\n",
    "### Your code here\n",
    "</xsl:stylesheet>\n",
    "''')\n",
    "### END SOLUTION\n",
    "p3b_xform = etree.XSLT(p3b_xslt)\n",
    "p3b_out=p3b_xform(products)\n",
    "\n",
    "#print(\"Output is\", etree.tostring(p3b_out, encoding=str))\n",
    "display(HTML(etree.tostring(p3b_out, encoding=str)))"
   ]
  }
 ],
 "metadata": {
  "kernelspec": {
   "display_name": "Python 3",
   "language": "python",
   "name": "python3"
  },
  "language_info": {
   "codemirror_mode": {
    "name": "ipython",
    "version": 3
   },
   "file_extension": ".py",
   "mimetype": "text/x-python",
   "name": "python",
   "nbconvert_exporter": "python",
   "pygments_lexer": "ipython3",
   "version": "3.7.3"
  }
 },
 "nbformat": 4,
 "nbformat_minor": 4
}
