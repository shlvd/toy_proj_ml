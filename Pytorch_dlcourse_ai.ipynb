{
  "nbformat": 4,
  "nbformat_minor": 0,
  "metadata": {
    "colab": {
      "name": "Pytorch_dlcourse_ai.ipynb",
      "provenance": [],
      "collapsed_sections": []
    },
    "kernelspec": {
      "name": "python3",
      "display_name": "Python 3"
    },
    "accelerator": "GPU"
  },
  "cells": [
    {
      "cell_type": "code",
      "metadata": {
        "id": "jV52XfyPEv6D",
        "colab_type": "code",
        "colab": {}
      },
      "source": [
        "import torch\n",
        "import torch.nn as nn\n",
        "import torch.optim as optim\n",
        "import torchvision.datasets as dset\n",
        "from torch.utils.data.sampler import SubsetRandomSampler, Sampler\n",
        "\n",
        "from torchvision import transforms\n",
        "\n",
        "import matplotlib.pyplot as plt\n",
        "%matplotlib inline\n",
        "\n",
        "import numpy as np"
      ],
      "execution_count": 0,
      "outputs": []
    },
    {
      "cell_type": "code",
      "metadata": {
        "id": "kDk0pCWfMoWZ",
        "colab_type": "code",
        "outputId": "03f50de1-fddb-4ba6-9b26-f0a881647cec",
        "colab": {
          "base_uri": "https://localhost:8080/",
          "height": 918
        }
      },
      "source": [
        "# First, lets load the dataset\n",
        "transform=transforms.Compose([transforms.ToTensor(), transforms.Normalize(mean=[0.43,0.44,0.47],std=[0.20,0.20,0.20])])                          \n",
        "data_train = dset.SVHN('./data/', split='train',transform=transform,download=True)\n",
        "data_test = dset.SVHN('./data/', split='test', transform=transform,download=True)"
      ],
      "execution_count": 0,
      "outputs": [
        {
          "output_type": "stream",
          "text": [
            "\r0it [00:00, ?it/s]"
          ],
          "name": "stderr"
        },
        {
          "output_type": "stream",
          "text": [
            "Downloading http://ufldl.stanford.edu/housenumbers/train_32x32.mat to ./data/train_32x32.mat\n"
          ],
          "name": "stdout"
        },
        {
          "output_type": "stream",
          "text": [
            "100%|█████████▉| 181141504/182040794 [00:12<00:00, 22756023.20it/s]\n",
            "0it [00:00, ?it/s]\u001b[A"
          ],
          "name": "stderr"
        },
        {
          "output_type": "stream",
          "text": [
            "Downloading http://ufldl.stanford.edu/housenumbers/test_32x32.mat to ./data/test_32x32.mat\n"
          ],
          "name": "stdout"
        },
        {
          "output_type": "stream",
          "text": [
            "\n",
            "  0%|          | 0/64275384 [00:00<?, ?it/s]\u001b[A\n",
            "  0%|          | 16384/64275384 [00:00<09:01, 118676.24it/s]\u001b[A\n",
            "  0%|          | 40960/64275384 [00:00<08:09, 131356.42it/s]\u001b[A\n",
            "  0%|          | 57344/64275384 [00:00<08:22, 127672.45it/s]\u001b[A\n",
            "  0%|          | 98304/64275384 [00:00<06:57, 153880.61it/s]\u001b[A\n",
            "  0%|          | 139264/64275384 [00:00<05:56, 179760.61it/s]\u001b[A\n",
            "  0%|          | 204800/64275384 [00:01<04:50, 220854.15it/s]\u001b[A\n",
            "  0%|          | 270336/64275384 [00:01<04:03, 262838.82it/s]\u001b[A\n",
            "  1%|          | 344064/64275384 [00:01<03:26, 309882.70it/s]\u001b[A\n",
            "  1%|          | 434176/64275384 [00:01<02:53, 367635.99it/s]\u001b[A\n",
            "  1%|          | 532480/64275384 [00:01<02:28, 429769.57it/s]\u001b[A\n",
            "  1%|          | 647168/64275384 [00:01<02:06, 502185.70it/s]\u001b[A\n",
            "  1%|          | 778240/64275384 [00:01<01:48, 584422.16it/s]\u001b[A\n",
            "  1%|▏         | 925696/64275384 [00:02<01:33, 675752.90it/s]\u001b[A\n",
            "  2%|▏         | 1114112/64275384 [00:02<01:19, 795873.84it/s]\u001b[A\n",
            "  2%|▏         | 1327104/64275384 [00:02<01:07, 930437.52it/s]\u001b[A\n",
            "  2%|▏         | 1605632/64275384 [00:02<00:56, 1109103.09it/s]\u001b[A\n",
            "  3%|▎         | 1941504/64275384 [00:02<00:47, 1324653.79it/s]\u001b[A\n",
            "  4%|▎         | 2334720/64275384 [00:02<00:39, 1577275.96it/s]\u001b[A\n",
            "  4%|▍         | 2818048/64275384 [00:02<00:32, 1886531.22it/s]\u001b[A\n",
            "  5%|▌         | 3407872/64275384 [00:03<00:26, 2264939.18it/s]\u001b[A\n",
            "  6%|▋         | 4104192/64275384 [00:03<00:22, 2700472.13it/s]\u001b[A\n",
            "  8%|▊         | 4898816/64275384 [00:03<00:18, 3223802.68it/s]\u001b[A\n",
            "  9%|▉         | 5726208/64275384 [00:03<00:15, 3739601.91it/s]\u001b[A\n",
            " 10%|█         | 6733824/64275384 [00:03<00:13, 4376960.33it/s]\u001b[A\n",
            " 12%|█▏        | 7872512/64275384 [00:03<00:11, 5089901.78it/s]\u001b[A\n",
            " 14%|█▍        | 9158656/64275384 [00:03<00:09, 5886794.84it/s]\u001b[A\n",
            " 17%|█▋        | 10633216/64275384 [00:04<00:07, 6799287.79it/s]\u001b[A\n",
            " 19%|█▉        | 12361728/64275384 [00:04<00:06, 7874380.98it/s]\u001b[A\n",
            " 22%|██▏       | 14376960/64275384 [00:04<00:05, 9037810.36it/s]\u001b[A\n",
            " 26%|██▌       | 16695296/64275384 [00:04<00:04, 10594545.17it/s]\u001b[A\n",
            " 30%|██▉       | 19021824/64275384 [00:04<00:03, 11915924.47it/s]\u001b[A\n",
            " 34%|███▎      | 21676032/64275384 [00:04<00:03, 13441516.99it/s]\u001b[A\n",
            " 38%|███▊      | 24600576/64275384 [00:04<00:02, 15086588.49it/s]\u001b[A\n",
            " 43%|████▎     | 27697152/64275384 [00:04<00:02, 16717659.51it/s]\u001b[A\n",
            " 48%|████▊     | 30842880/64275384 [00:05<00:01, 18153288.23it/s]\u001b[A\n",
            " 52%|█████▏    | 33628160/64275384 [00:05<00:01, 20270703.12it/s]\u001b[A\n",
            " 56%|█████▌    | 35864576/64275384 [00:05<00:01, 19394699.37it/s]\u001b[A\n",
            " 59%|█████▉    | 37961728/64275384 [00:05<00:01, 18169678.68it/s]\u001b[A\n",
            " 64%|██████▎   | 40845312/64275384 [00:05<00:01, 19927639.31it/s]\u001b[A\n",
            " 67%|██████▋   | 43384832/64275384 [00:05<00:00, 21128638.88it/s]\u001b[A\n",
            " 71%|███████   | 45613056/64275384 [00:05<00:00, 20448649.91it/s]\u001b[A\n",
            " 74%|███████▍  | 47751168/64275384 [00:05<00:00, 19329112.21it/s]\u001b[A\n",
            " 78%|███████▊  | 50282496/64275384 [00:06<00:00, 19938292.15it/s]\u001b[A\n",
            " 83%|████████▎ | 53346304/64275384 [00:06<00:00, 22053505.73it/s]\u001b[A\n",
            " 87%|████████▋ | 55664640/64275384 [00:06<00:00, 22372808.20it/s]\u001b[A\n",
            " 90%|█████████ | 57982976/64275384 [00:06<00:00, 20500079.56it/s]\u001b[A\n",
            " 94%|█████████▎| 60121088/64275384 [00:06<00:00, 20624538.32it/s]\u001b[A\n",
            " 98%|█████████▊| 62734336/64275384 [00:06<00:00, 20340711.82it/s]\u001b[A"
          ],
          "name": "stderr"
        }
      ]
    },
    {
      "cell_type": "code",
      "metadata": {
        "id": "jfa4OHg2Mob6",
        "colab_type": "code",
        "outputId": "c1b5ca34-3eb8-4f8e-db49-70702ca10cef",
        "colab": {
          "base_uri": "https://localhost:8080/",
          "height": 283
        }
      },
      "source": [
        "data_train[0][0][0].shape\n",
        "plt.imshow(data_train[0][0][0])"
      ],
      "execution_count": 0,
      "outputs": [
        {
          "output_type": "execute_result",
          "data": {
            "text/plain": [
              "<matplotlib.image.AxesImage at 0x7fb4a6740748>"
            ]
          },
          "metadata": {
            "tags": []
          },
          "execution_count": 3
        },
        {
          "output_type": "display_data",
          "data": {
            "image/png": "[encoded data removed]",
            "text/plain": [
              "<Figure size 432x288 with 1 Axes>"
            ]
          },
          "metadata": {
            "tags": []
          }
        }
      ]
    },
    {
      "cell_type": "code",
      "metadata": {
        "id": "QwqCU1CVJ4Tm",
        "colab_type": "code",
        "outputId": "a28545c7-9dfc-407d-98b6-b921d946ea2b",
        "colab": {
          "base_uri": "https://localhost:8080/",
          "height": 34
        }
      },
      "source": [
        "data_train.data.shape"
      ],
      "execution_count": 0,
      "outputs": [
        {
          "output_type": "execute_result",
          "data": {
            "text/plain": [
              "(73257, 3, 32, 32)"
            ]
          },
          "metadata": {
            "tags": []
          },
          "execution_count": 4
        }
      ]
    },
    {
      "cell_type": "code",
      "metadata": {
        "id": "vroQy5sqMogh",
        "colab_type": "code",
        "colab": {}
      },
      "source": [
        "batch_size = 64\n",
        "\n",
        "data_size = data_train.data.shape[0]\n",
        "validation_split = .2\n",
        "split = int(np.floor(validation_split * data_size))\n",
        "indices = list(range(data_size))\n",
        "np.random.shuffle(indices)\n",
        "\n",
        "train_indices, val_indices = indices[split:], indices[:split]\n",
        "\n",
        "train_sampler = SubsetRandomSampler(train_indices)\n",
        "val_sampler = SubsetRandomSampler(val_indices)\n",
        "\n",
        "train_loader = torch.utils.data.DataLoader(data_train, batch_size=batch_size, \n",
        "                                           sampler=train_sampler)\n",
        "val_loader = torch.utils.data.DataLoader(data_train, batch_size=batch_size,\n",
        "                                         sampler=val_sampler)"
      ],
      "execution_count": 0,
      "outputs": []
    },
    {
      "cell_type": "code",
      "metadata": {
        "id": "oUn5fONHMojW",
        "colab_type": "code",
        "outputId": "d4a64e8c-dddb-4575-d0b7-1dde13cdab7b",
        "colab": {
          "base_uri": "https://localhost:8080/",
          "height": 34
        }
      },
      "source": [
        "sample, label = data_train[0]\n",
        "print(\"SVHN data sample shape: \", sample.shape)\n",
        "# As you can see, the data is shaped like an image\n",
        "\n",
        "# We'll use a special helper module to shape it into a tensor\n",
        "class Flattener(nn.Module):\n",
        "    def forward(self, x):\n",
        "        batch_size, *_ = x.shape\n",
        "        return x.view(batch_size, -1)"
      ],
      "execution_count": 0,
      "outputs": [
        {
          "output_type": "stream",
          "text": [
            "SVHN data sample shape:  torch.Size([3, 32, 32])\n"
          ],
          "name": "stdout"
        }
      ]
    },
    {
      "cell_type": "code",
      "metadata": {
        "id": "BL1qhEiaNavm",
        "colab_type": "code",
        "colab": {}
      },
      "source": [
        "nn_model = nn.Sequential(\n",
        "            Flattener(),\n",
        "            nn.Linear(3*32*32, 100),\n",
        "            nn.ReLU(inplace=True),\n",
        "            nn.Linear(100, 10), \n",
        "         )\n",
        "nn_model.type(torch.FloatTensor)\n",
        "\n",
        "# We will minimize cross-entropy between the ground truth and\n",
        "# network predictions using an SGD optimizer\n",
        "loss = nn.CrossEntropyLoss().type(torch.FloatTensor)\n",
        "optimizer = optim.SGD(nn_model.parameters(), lr=1e-2, weight_decay=1e-1)"
      ],
      "execution_count": 0,
      "outputs": []
    },
    {
      "cell_type": "code",
      "metadata": {
        "id": "kQw5NDAhMomA",
        "colab_type": "code",
        "colab": {}
      },
      "source": [
        "# This is how to implement the same main train loop in PyTorch. Pretty easy, right?\n",
        "\n",
        "def train_model(model, train_loader, val_loader, loss, optimizer, num_epochs, scheduler=None):    \n",
        "    loss_history = []\n",
        "    train_history = []\n",
        "    val_history = []\n",
        "    for epoch in range(num_epochs):\n",
        "        model.train() # Enter train mode\n",
        "        \n",
        "        \n",
        "        loss_accum = 0\n",
        "        correct_samples = 0\n",
        "        total_samples = 0\n",
        "        for i_step, (x, y) in enumerate(train_loader):\n",
        "            prediction = model(x)    \n",
        "            loss_value = loss(prediction, y)\n",
        "            optimizer.zero_grad()\n",
        "            loss_value.backward()\n",
        "            optimizer.step()\n",
        "            _, indices = torch.max(prediction, 1)\n",
        "            correct_samples += torch.sum(indices == y)\n",
        "            total_samples += y.shape[0]\n",
        "            \n",
        "            loss_accum += loss_value\n",
        "\n",
        "        ave_loss = loss_accum / (i_step + 1)\n",
        "        train_accuracy = float(correct_samples) / total_samples\n",
        "        val_accuracy = compute_accuracy(model, val_loader)\n",
        "        if scheduler is not None:\n",
        "            scheduler.step()\n",
        "        loss_history.append(float(ave_loss))\n",
        "        train_history.append(train_accuracy)\n",
        "        val_history.append(val_accuracy)\n",
        "        \n",
        "        print(\"Average loss: %f, Train accuracy: %f, Val accuracy: %f\" % (ave_loss, train_accuracy, val_accuracy))\n",
        "        \n",
        "    return loss_history, train_history, val_history\n",
        "        \n",
        "def compute_accuracy(model, loader):\n",
        "    \"\"\"\n",
        "    Computes accuracy on the dataset wrapped in a loader\n",
        "    \n",
        "    Returns: accuracy as a float value between 0 and 1\n",
        "    \"\"\"\n",
        "    model.eval() # Evaluation mode\n",
        "    # TODO: Implement the inference of the model on all of the batches from loader,\n",
        "    #       and compute the overall accuracy.\n",
        "    # Hint: PyTorch has the argmax function!\n",
        "    correct_samples = 0\n",
        "    total_samples = 0\n",
        "    for i, (x, y) in enumerate(loader):\n",
        "        prediction = model(x)\n",
        "        _, indices = torch.max(prediction, 1)\n",
        "        correct_samples += torch.sum(indices == y)\n",
        "        total_samples += y.shape[0]\n",
        "\n",
        "    return float(correct_samples) / total_samples\n",
        "\n",
        "#loss_history, train_history, val_history = train_model(nn_model, train_loader, val_loader, loss, optimizer, 3)"
      ],
      "execution_count": 0,
      "outputs": []
    },
    {
      "cell_type": "code",
      "metadata": {
        "id": "ZraldaA1Morf",
        "colab_type": "code",
        "outputId": "dcdba66b-6fc3-4889-890f-6f854e071d44",
        "colab": {
          "base_uri": "https://localhost:8080/",
          "height": 119
        }
      },
      "source": [
        "# Since it's so easy to add layers, let's add some!\n",
        "\n",
        "# TODO: Implement a model with 2 hidden layers of the size 100\n",
        "nn_model = nn.Sequential(\n",
        "            Flattener(),\n",
        "            nn.Linear(3*32*32, 100),\n",
        "            nn.ReLU(),\n",
        "            nn.Linear(100, 100),\n",
        "            nn.ReLU(),\n",
        "            nn.Linear(100, 10),\n",
        "       )\n",
        "nn_model.type(torch.FloatTensor)\n",
        "\n",
        "optimizer = optim.SGD(nn_model.parameters(), lr=1e-2, weight_decay=1e-1)\n",
        "loss_history, train_history, val_history = train_model(nn_model, train_loader, val_loader, loss, optimizer, 5)"
      ],
      "execution_count": 0,
      "outputs": [
        {
          "output_type": "stream",
          "text": [
            "182042624it [00:30, 22756023.20it/s]                               \n",
            "64282624it [00:25, 20340711.82it/s]                              \u001b[A"
          ],
          "name": "stderr"
        },
        {
          "output_type": "stream",
          "text": [
            "Average loss: 2.184056, Train accuracy: 0.198802, Val accuracy: 0.236366\n",
            "Average loss: 2.006230, Train accuracy: 0.270672, Val accuracy: 0.327964\n",
            "Average loss: 1.801126, Train accuracy: 0.378920, Val accuracy: 0.401338\n",
            "Average loss: 1.704909, Train accuracy: 0.420640, Val accuracy: 0.429732\n",
            "Average loss: 1.677852, Train accuracy: 0.435075, Val accuracy: 0.432530\n"
          ],
          "name": "stdout"
        }
      ]
    },
    {
      "cell_type": "code",
      "metadata": {
        "id": "qIPiBP93Mowx",
        "colab_type": "code",
        "outputId": "7ce74b7e-3cb8-4010-81f0-d5bc168ff8b6",
        "colab": {
          "base_uri": "https://localhost:8080/",
          "height": 102
        }
      },
      "source": [
        "# We heard batch normalization is powerful, let's use it!\n",
        "# TODO: Add batch normalization after each of the hidden layers of the network, before or after non-linearity\n",
        "# Hint: check out torch.nn.BatchNorm1d\n",
        "\n",
        "nn_model = nn.Sequential(\n",
        "            Flattener(),\n",
        "            nn.Linear(3*32*32, 100),\n",
        "            nn.ReLU(),\n",
        "            nn.BatchNorm1d(100),\n",
        "            nn.Linear(100, 100),\n",
        "            nn.ReLU(),\n",
        "            nn.BatchNorm1d(100),\n",
        "            nn.Linear(100, 10),\n",
        "         )\n",
        "\n",
        "optimizer = optim.SGD(nn_model.parameters(), lr=1e-3, weight_decay=1e-1)\n",
        "loss_history, train_history, val_history = train_model(nn_model, train_loader, val_loader, loss, optimizer, 5)"
      ],
      "execution_count": 0,
      "outputs": [
        {
          "output_type": "stream",
          "text": [
            "Average loss: 1.920230, Train accuracy: 0.379023, Val accuracy: 0.549928\n",
            "Average loss: 1.476825, Train accuracy: 0.594478, Val accuracy: 0.641458\n",
            "Average loss: 1.306699, Train accuracy: 0.653704, Val accuracy: 0.673947\n",
            "Average loss: 1.214027, Train accuracy: 0.681893, Val accuracy: 0.711283\n",
            "Average loss: 1.156646, Train accuracy: 0.698632, Val accuracy: 0.719883\n"
          ],
          "name": "stdout"
        }
      ]
    },
    {
      "cell_type": "code",
      "metadata": {
        "id": "ft4cvZHeMofB",
        "colab_type": "code",
        "outputId": "cdeab50b-8caa-4de3-f3d1-8da2329bcc88",
        "colab": {
          "base_uri": "https://localhost:8080/",
          "height": 102
        }
      },
      "source": [
        "# Learning rate annealing\n",
        "# Reduce your learning rate 2x every 2 epochs\n",
        "# Hint: look up learning rate schedulers in PyTorch. You might need to extend train_model function a little bit too!\n",
        "\n",
        "nn_model = nn.Sequential(\n",
        "            Flattener(),\n",
        "            nn.Linear(3*32*32, 100),\n",
        "            nn.ReLU(),\n",
        "            nn.BatchNorm1d(100),\n",
        "            nn.Linear(100, 100),\n",
        "            nn.ReLU(),\n",
        "            nn.BatchNorm1d(100),\n",
        "            nn.Linear(100, 10),\n",
        "         )\n",
        "optimizer = optim.SGD(nn_model.parameters(), lr=1e-2, weight_decay=1e-1)\n",
        "scheduler = optim.lr_scheduler.StepLR(optimizer, step_size=2, gamma=0.5)\n",
        "loss_history, train_history, val_history = train_model(nn_model, train_loader, val_loader, loss, optimizer, 5, scheduler)"
      ],
      "execution_count": 0,
      "outputs": [
        {
          "output_type": "stream",
          "text": [
            "Average loss: 1.594373, Train accuracy: 0.518769, Val accuracy: 0.551225\n",
            "Average loss: 1.435015, Train accuracy: 0.607515, Val accuracy: 0.622210\n",
            "Average loss: 1.392833, Train accuracy: 0.652834, Val accuracy: 0.659887\n",
            "Average loss: 1.394356, Train accuracy: 0.653653, Val accuracy: 0.613405\n",
            "Average loss: 1.318091, Train accuracy: 0.698717, Val accuracy: 0.668077\n"
          ],
          "name": "stdout"
        }
      ]
    },
    {
      "cell_type": "code",
      "metadata": {
        "id": "qEV1t4yAMoY3",
        "colab_type": "code",
        "colab": {}
      },
      "source": [
        ""
      ],
      "execution_count": 0,
      "outputs": []
    },
    {
      "cell_type": "code",
      "metadata": {
        "id": "MlHpikgtMoT7",
        "colab_type": "code",
        "colab": {}
      },
      "source": [
        ""
      ],
      "execution_count": 0,
      "outputs": []
    },
    {
      "cell_type": "code",
      "metadata": {
        "id": "wL0t2i4zEvwu",
        "colab_type": "code",
        "colab": {}
      },
      "source": [
        ""
      ],
      "execution_count": 0,
      "outputs": []
    },
    {
      "cell_type": "code",
      "metadata": {
        "id": "ev20N50MEvu9",
        "colab_type": "code",
        "colab": {}
      },
      "source": [
        ""
      ],
      "execution_count": 0,
      "outputs": []
    },
    {
      "cell_type": "code",
      "metadata": {
        "id": "144Z7f-PEvsc",
        "colab_type": "code",
        "colab": {}
      },
      "source": [
        ""
      ],
      "execution_count": 0,
      "outputs": []
    }
  ]
}