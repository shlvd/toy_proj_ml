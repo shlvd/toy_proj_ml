{
 "cells": [
  {
   "cell_type": "markdown",
   "metadata": {
    "colab_type": "text",
    "id": "5bg0KSxtt-On"
   },
   "source": [
    "**1.1:** Create a list of randomly selected 200 integers between 0 and 1000 and print in ascending order all the odd numbers that are divisible by 7."
   ]
  },
  {
   "cell_type": "code",
   "execution_count": 1,
   "metadata": {
    "colab": {
     "base_uri": "https://localhost:8080/",
     "height": 289
    },
    "colab_type": "code",
    "id": "4-53M_9wAYgl",
    "outputId": "1b78d07b-a4af-4fbb-a4b3-a33d78354c12"
   },
   "outputs": [
    {
     "name": "stdout",
     "output_type": "stream",
     "text": [
      "[49, 147, 161, 259, 371, 525, 567, 679, 693, 693, 721, 777, 875, 973]\n"
     ]
    }
   ],
   "source": [
    "import numpy as np\n",
    "#Create a list of randomly selected 200 integers between 0 and 1000\n",
    "int_list = np.random.randint(low=0, high=1000, size=200)\n",
    "#print in ascending order all the odd numbers that are divisible by 7\n",
    "odd_div_7_list = []\n",
    "for i in int_list:\n",
    "    if (i % 2 == 1) and (i % 7 == 0):\n",
    "        odd_div_7_list.append(i)  \n",
    "print(sorted(odd_div_7_list, reverse=False))"
   ]
  },
  {
   "cell_type": "markdown",
   "metadata": {
    "colab_type": "text",
    "id": "wnfX2NjuuZ1s"
   },
   "source": [
    "**1.2:** Write a python code to calculate Body Mass Index (the ratio of weight in kilograms (kg) divided by height in metres-squared (m2)). Write the initial input commands to enter \"weight\" and \"height\", round Body Mass Index to 1 decimal place and print."
   ]
  },
  {
   "cell_type": "code",
   "execution_count": 2,
   "metadata": {
    "colab": {},
    "colab_type": "code",
    "id": "LsYSGV73AYgt"
   },
   "outputs": [
    {
     "name": "stdout",
     "output_type": "stream",
     "text": [
      "Enter your weight(kg): 60\n",
      "Enter your height(cm): 160\n",
      "23.4\n"
     ]
    }
   ],
   "source": [
    "#enter \"weight\"\n",
    "w = int(input('Enter your weight(kg): '))\n",
    "#enter \"height\"\n",
    "h = int(input('Enter your height(cm): '))\n",
    "#compute BMI\n",
    "bmi = w / np.power(h/100, 2)\n",
    "print(round(bmi, 1))"
   ]
  },
  {
   "cell_type": "markdown",
   "metadata": {
    "colab_type": "text",
    "id": "PQvEgsBEu603"
   },
   "source": [
    "**1.3:** Equilateral triangle all sides are equal. Scalene triangle none of the sides are equal. Isosceles triangle atleast two sides are equal.\n",
    "Set the vertices A, B and C as below. "
   ]
  },
  {
   "cell_type": "markdown",
   "metadata": {
    "colab_type": "raw",
    "id": "rm3dbwmmAYgz"
   },
   "source": [
    "A = np.random.randint(low=2, high=100, size=2)\n",
    "B = np.random.randint(low=2, high=100, size=2)\n",
    "C = np.random.randint(low=2, high=100, size=2)\n",
    "print(A,B,C)"
   ]
  },
  {
   "cell_type": "markdown",
   "metadata": {
    "colab_type": "text",
    "id": "z1vHrtNPAYgz"
   },
   "source": [
    "**i):** Write a python program to calculate and print the sides (use 2 decimal) a = |CB|, b = |AC| and c = |AB| and check if the triangle is equilateral/isosceles/scalene. \n",
    "\n",
    "**ii):** Calculate and print the area of the triangle by the following formula: \n",
    "$s = (a+b+c)/2;$  \n",
    "Area = $\\sqrt(s(s-a)*(s-b)*(s-c))$."
   ]
  },
  {
   "cell_type": "code",
   "execution_count": 12,
   "metadata": {
    "colab": {
     "base_uri": "https://localhost:8080/",
     "height": 119
    },
    "colab_type": "code",
    "id": "WSGdJ18DAYg0",
    "outputId": "61bd12c1-d7af-474e-8975-7327a121c043"
   },
   "outputs": [
    {
     "name": "stdout",
     "output_type": "stream",
     "text": [
      "Vertices:  [48 39] [66 57] [83 50]\n",
      "xxxxxxxxxxxxxxxxxxxxxxxxxxxxxxxxxx\n",
      "CB:  18.38\n",
      "AC:  36.69\n",
      "AB:  25.46\n",
      "xxxxxxxxxx\n",
      "Triangle is scalene\n",
      "xxxxxxxxxxxxxxxxxxx\n",
      "Area of ABC triangle:  215.96\n"
     ]
    }
   ],
   "source": [
    "import numpy as np\n",
    "#set vertices\n",
    "A = np.random.randint(low=2, high=100, size=2)\n",
    "B = np.random.randint(low=2, high=100, size=2)\n",
    "C = np.random.randint(low=2, high=100, size=2)\n",
    "print('Vertices: ', A, B, C)\n",
    "print('x' * 34)\n",
    "\n",
    "#check if the triangle is equilateral/isosceles/scalene\n",
    "def triangle_type(x, y, z):\n",
    "    if x == y == z:\n",
    "        print('Triangle is equilateral')\n",
    "    elif x == y or x == z or y == z:\n",
    "        print('Triangle is isosceles')\n",
    "    else:\n",
    "        print('Triangle is scalene')  \n",
    "\n",
    "#calculate and print the sides (use 2 decimal) \n",
    "def side(x, y):  \n",
    "    l = np.power((np.power((x[0] - y[0]), 2) + np.power((x[1] - y[1]), 2)), 0.5)  \n",
    "    rounded_l = round(l, 2)\n",
    "    return rounded_l\n",
    "        \n",
    "#compute sides\n",
    "CB = side(C, B)\n",
    "AC = side(A, C)\n",
    "AB = side(A, B)\n",
    "\n",
    "#print sides\n",
    "print('CB: ', CB)\n",
    "print('AC: ', AC)\n",
    "print('AB: ', AB)\n",
    "print('x' * 10)\n",
    "\n",
    "#check if the triangle is equilateral/isosceles/scalene\n",
    "triangle_type(CB, AC, AB)\n",
    "print('x' * 19)\n",
    "\n",
    "#compute area\n",
    "def area(x, y, z):\n",
    "    s = (x + y + z) / 2\n",
    "    area = np.power((s * (s - x) * (s - y) * (s - z)), 0.5)\n",
    "    return round(area, 2)\n",
    "    \n",
    "#print area\n",
    "print('Area of ABC triangle: ', area(CB, AC, AB))"
   ]
  },
  {
   "cell_type": "markdown",
   "metadata": {
    "colab_type": "text",
    "id": "NzY39Ah8x5vm"
   },
   "source": [
    "![alt text](https://)**1.4:** In a Dataframe create an array in range(10-3000) in one column and a true or false column adjacent to this column which would be true if the number is a palindrome else false. Also print the total number of true values in this column. \n",
    "\n",
    "(A palindromic number is a number that remains the same when its digits are reversed; e.g. 5360635 or 7997)."
   ]
  },
  {
   "cell_type": "code",
   "execution_count": 13,
   "metadata": {
    "colab": {
     "base_uri": "https://localhost:8080/",
     "height": 34
    },
    "colab_type": "code",
    "id": "jmDS4rkiyzBj",
    "outputId": "98bb1a71-bea0-44c4-bb8d-ef9277e7bb32"
   },
   "outputs": [
    {
     "name": "stdout",
     "output_type": "stream",
     "text": [
      "Number of true values:  3\n"
     ]
    }
   ],
   "source": [
    "import pandas as pd\n",
    "#create an array in range(10-3000) \n",
    "int_list = np.random.randint(low=10, high=3000, size=200)\n",
    "\n",
    "#init dataframe\n",
    "data = pd.DataFrame(int_list, columns=['Int'])\n",
    "\n",
    "#true/false list\n",
    "bool_list = [str(i) == str(i)[::-1] for i in data.Int]\n",
    "\n",
    "#true/false column\n",
    "data['Boolean'] = bool_list\n",
    "\n",
    "# print the total number of true values in boolean column\n",
    "print('Number of true values: ', data['Boolean'].sum())"
   ]
  }
 ],
 "metadata": {
  "colab": {
   "collapsed_sections": [],
   "name": "Task 1_Python.ipynb",
   "provenance": []
  },
  "kernelspec": {
   "display_name": "Python 3",
   "language": "python",
   "name": "python3"
  },
  "language_info": {
   "codemirror_mode": {
    "name": "ipython",
    "version": 3
   },
   "file_extension": ".py",
   "mimetype": "text/x-python",
   "name": "python",
   "nbconvert_exporter": "python",
   "pygments_lexer": "ipython3",
   "version": "3.7.4"
  }
 },
 "nbformat": 4,
 "nbformat_minor": 1
}
