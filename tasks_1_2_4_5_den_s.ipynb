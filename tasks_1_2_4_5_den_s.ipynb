{
 "cells": [
  {
   "cell_type": "code",
   "execution_count": 0,
   "metadata": {
    "colab": {},
    "colab_type": "code",
    "id": "UgarzhLMhl9S"
   },
   "outputs": [],
   "source": [
    "import pandas as pd\n",
    "import numpy as np"
   ]
  },
  {
   "cell_type": "markdown",
   "metadata": {
    "colab_type": "text",
    "id": "izmsZBfqiSbG"
   },
   "source": [
    "# Task 1. Working with data"
   ]
  },
  {
   "cell_type": "markdown",
   "metadata": {
    "colab_type": "text",
    "id": "fLZouBtlislx"
   },
   "source": [
    "### 1.1. Download the data set movie_metadata.csv, which contains data about films from IMDb (Internet Movie Database)"
   ]
  },
  {
   "cell_type": "code",
   "execution_count": 0,
   "metadata": {
    "colab": {
     "base_uri": "https://localhost:8080/",
     "height": 360
    },
    "colab_type": "code",
    "id": "B0HdBoDMi_oe",
    "outputId": "07fe4504-de8e-41c4-8bf6-d71ea02fde32"
   },
   "outputs": [
    {
     "data": {
      "text/html": [
       "<div>\n",
       "<style scoped>\n",
       "    .dataframe tbody tr th:only-of-type {\n",
       "        vertical-align: middle;\n",
       "    }\n",
       "\n",
       "    .dataframe tbody tr th {\n",
       "        vertical-align: top;\n",
       "    }\n",
       "\n",
       "    .dataframe thead th {\n",
       "        text-align: right;\n",
       "    }\n",
       "</style>\n",
       "<table border=\"1\" class=\"dataframe\">\n",
       "  <thead>\n",
       "    <tr style=\"text-align: right;\">\n",
       "      <th></th>\n",
       "      <th>color</th>\n",
       "      <th>director_name</th>\n",
       "      <th>num_critic_for_reviews</th>\n",
       "      <th>duration</th>\n",
       "      <th>director_facebook_likes</th>\n",
       "      <th>actor_3_facebook_likes</th>\n",
       "      <th>actor_2_name</th>\n",
       "      <th>actor_1_facebook_likes</th>\n",
       "      <th>gross</th>\n",
       "      <th>genres</th>\n",
       "      <th>actor_1_name</th>\n",
       "      <th>movie_title</th>\n",
       "      <th>num_voted_users</th>\n",
       "      <th>cast_total_facebook_likes</th>\n",
       "      <th>actor_3_name</th>\n",
       "      <th>facenumber_in_poster</th>\n",
       "      <th>plot_keywords</th>\n",
       "      <th>movie_imdb_link</th>\n",
       "      <th>num_user_for_reviews</th>\n",
       "      <th>language</th>\n",
       "      <th>country</th>\n",
       "      <th>content_rating</th>\n",
       "      <th>budget</th>\n",
       "      <th>title_year</th>\n",
       "      <th>actor_2_facebook_likes</th>\n",
       "      <th>imdb_score</th>\n",
       "      <th>aspect_ratio</th>\n",
       "      <th>movie_facebook_likes</th>\n",
       "    </tr>\n",
       "  </thead>\n",
       "  <tbody>\n",
       "    <tr>\n",
       "      <th>0</th>\n",
       "      <td>Color</td>\n",
       "      <td>James Cameron</td>\n",
       "      <td>723.0</td>\n",
       "      <td>178.0</td>\n",
       "      <td>0.0</td>\n",
       "      <td>855.0</td>\n",
       "      <td>Joel David Moore</td>\n",
       "      <td>1000.0</td>\n",
       "      <td>760505847.0</td>\n",
       "      <td>Action|Adventure|Fantasy|Sci-Fi</td>\n",
       "      <td>CCH Pounder</td>\n",
       "      <td>Avatar</td>\n",
       "      <td>886204</td>\n",
       "      <td>4834</td>\n",
       "      <td>Wes Studi</td>\n",
       "      <td>0.0</td>\n",
       "      <td>avatar|future|marine|native|paraplegic</td>\n",
       "      <td>http://www.imdb.com/title/tt0499549/?ref_=fn_t...</td>\n",
       "      <td>3054.0</td>\n",
       "      <td>English</td>\n",
       "      <td>USA</td>\n",
       "      <td>PG-13</td>\n",
       "      <td>237000000.0$</td>\n",
       "      <td>2009.0</td>\n",
       "      <td>936.0</td>\n",
       "      <td>7.9</td>\n",
       "      <td>1.78</td>\n",
       "      <td>33000</td>\n",
       "    </tr>\n",
       "    <tr>\n",
       "      <th>1</th>\n",
       "      <td>Color</td>\n",
       "      <td>Gore Verbinski</td>\n",
       "      <td>302.0</td>\n",
       "      <td>169.0</td>\n",
       "      <td>563.0</td>\n",
       "      <td>1000.0</td>\n",
       "      <td>Orlando Bloom</td>\n",
       "      <td>40000.0</td>\n",
       "      <td>309404152.0</td>\n",
       "      <td>Action|Adventure|Fantasy</td>\n",
       "      <td>Johnny Depp</td>\n",
       "      <td>Pirates of the Caribbean: At World's End</td>\n",
       "      <td>471220</td>\n",
       "      <td>48350</td>\n",
       "      <td>Jack Davenport</td>\n",
       "      <td>0.0</td>\n",
       "      <td>goddess|marriage ceremony|marriage proposal|pi...</td>\n",
       "      <td>http://www.imdb.com/title/tt0449088/?ref_=fn_t...</td>\n",
       "      <td>1238.0</td>\n",
       "      <td>English</td>\n",
       "      <td>USA</td>\n",
       "      <td>PG-13</td>\n",
       "      <td>300000000.0$</td>\n",
       "      <td>2007.0</td>\n",
       "      <td>5000.0</td>\n",
       "      <td>7.1</td>\n",
       "      <td>2.35</td>\n",
       "      <td>0</td>\n",
       "    </tr>\n",
       "    <tr>\n",
       "      <th>2</th>\n",
       "      <td>Color</td>\n",
       "      <td>Sam Mendes</td>\n",
       "      <td>602.0</td>\n",
       "      <td>148.0</td>\n",
       "      <td>0.0</td>\n",
       "      <td>161.0</td>\n",
       "      <td>Rory Kinnear</td>\n",
       "      <td>11000.0</td>\n",
       "      <td>200074175.0</td>\n",
       "      <td>Action|Adventure|Thriller</td>\n",
       "      <td>Christoph Waltz</td>\n",
       "      <td>Spectre</td>\n",
       "      <td>275868</td>\n",
       "      <td>11700</td>\n",
       "      <td>Stephanie Sigman</td>\n",
       "      <td>1.0</td>\n",
       "      <td>bomb|espionage|sequel|spy|terrorist</td>\n",
       "      <td>http://www.imdb.com/title/tt2379713/?ref_=fn_t...</td>\n",
       "      <td>994.0</td>\n",
       "      <td>English</td>\n",
       "      <td>UK</td>\n",
       "      <td>PG-13</td>\n",
       "      <td>245000000.0$</td>\n",
       "      <td>2015.0</td>\n",
       "      <td>393.0</td>\n",
       "      <td>6.8</td>\n",
       "      <td>2.35</td>\n",
       "      <td>85000</td>\n",
       "    </tr>\n",
       "    <tr>\n",
       "      <th>3</th>\n",
       "      <td>Color</td>\n",
       "      <td>Christopher Nolan</td>\n",
       "      <td>813.0</td>\n",
       "      <td>164.0</td>\n",
       "      <td>22000.0</td>\n",
       "      <td>23000.0</td>\n",
       "      <td>Christian Bale</td>\n",
       "      <td>27000.0</td>\n",
       "      <td>448130642.0</td>\n",
       "      <td>Action|Thriller</td>\n",
       "      <td>Tom Hardy</td>\n",
       "      <td>The Dark Knight Rises</td>\n",
       "      <td>1144337</td>\n",
       "      <td>106759</td>\n",
       "      <td>Joseph Gordon-Levitt</td>\n",
       "      <td>0.0</td>\n",
       "      <td>deception|imprisonment|lawlessness|police offi...</td>\n",
       "      <td>http://www.imdb.com/title/tt1345836/?ref_=fn_t...</td>\n",
       "      <td>2701.0</td>\n",
       "      <td>English</td>\n",
       "      <td>USA</td>\n",
       "      <td>PG-13</td>\n",
       "      <td>250000000.0$</td>\n",
       "      <td>2012.0</td>\n",
       "      <td>23000.0</td>\n",
       "      <td>8.5</td>\n",
       "      <td>2.35</td>\n",
       "      <td>164000</td>\n",
       "    </tr>\n",
       "    <tr>\n",
       "      <th>4</th>\n",
       "      <td>NaN</td>\n",
       "      <td>Doug Walker</td>\n",
       "      <td>NaN</td>\n",
       "      <td>NaN</td>\n",
       "      <td>131.0</td>\n",
       "      <td>NaN</td>\n",
       "      <td>Rob Walker</td>\n",
       "      <td>131.0</td>\n",
       "      <td>NaN</td>\n",
       "      <td>Documentary</td>\n",
       "      <td>Doug Walker</td>\n",
       "      <td>Star Wars: Episode VII - The Force Awakens    ...</td>\n",
       "      <td>8</td>\n",
       "      <td>143</td>\n",
       "      <td>NaN</td>\n",
       "      <td>0.0</td>\n",
       "      <td>NaN</td>\n",
       "      <td>http://www.imdb.com/title/tt5289954/?ref_=fn_t...</td>\n",
       "      <td>NaN</td>\n",
       "      <td>NaN</td>\n",
       "      <td>NaN</td>\n",
       "      <td>NaN</td>\n",
       "      <td>0.0$</td>\n",
       "      <td>NaN</td>\n",
       "      <td>12.0</td>\n",
       "      <td>7.1</td>\n",
       "      <td>NaN</td>\n",
       "      <td>0</td>\n",
       "    </tr>\n",
       "  </tbody>\n",
       "</table>\n",
       "</div>"
      ],
      "text/plain": [
       "   color      director_name  ...  aspect_ratio  movie_facebook_likes\n",
       "0  Color      James Cameron  ...          1.78                 33000\n",
       "1  Color     Gore Verbinski  ...          2.35                     0\n",
       "2  Color         Sam Mendes  ...          2.35                 85000\n",
       "3  Color  Christopher Nolan  ...          2.35                164000\n",
       "4    NaN        Doug Walker  ...           NaN                     0\n",
       "\n",
       "[5 rows x 28 columns]"
      ]
     },
     "execution_count": 2,
     "metadata": {
      "tags": []
     },
     "output_type": "execute_result"
    }
   ],
   "source": [
    "# load data\n",
    "df = pd.read_csv('movie_metadata.csv')\n",
    "# get the first 5 rows\n",
    "df.head()"
   ]
  },
  {
   "cell_type": "markdown",
   "metadata": {
    "colab_type": "text",
    "id": "3lKz-YgqjmUm"
   },
   "source": [
    "### 1.2. The duration column contains data on the film length. How many missing values are there in this column?"
   ]
  },
  {
   "cell_type": "code",
   "execution_count": 0,
   "metadata": {
    "colab": {
     "base_uri": "https://localhost:8080/",
     "height": 34
    },
    "colab_type": "code",
    "id": "mXHjBbNejuDF",
    "outputId": "abaa2a92-72fe-4f72-b983-058f8887da78"
   },
   "outputs": [
    {
     "data": {
      "text/plain": [
       "15"
      ]
     },
     "execution_count": 3,
     "metadata": {
      "tags": []
     },
     "output_type": "execute_result"
    }
   ],
   "source": [
    "df['duration'].isna().sum()"
   ]
  },
  {
   "cell_type": "markdown",
   "metadata": {
    "colab_type": "text",
    "id": "oOFQp49Okhyc"
   },
   "source": [
    "### 1.3. Replace the missing values in the duration column with the median value for this column."
   ]
  },
  {
   "cell_type": "code",
   "execution_count": 0,
   "metadata": {
    "colab": {},
    "colab_type": "code",
    "id": "zBu8b-ICkl7K"
   },
   "outputs": [],
   "source": [
    "df['duration'] = df['duration'].fillna(df['duration'].median())"
   ]
  },
  {
   "cell_type": "markdown",
   "metadata": {
    "colab_type": "text",
    "id": "4PCeqFi4lSbT"
   },
   "source": [
    "### 1.4. What is the average film length? Give the answer as a floating-point figure rounded to two decimal places."
   ]
  },
  {
   "cell_type": "code",
   "execution_count": 0,
   "metadata": {
    "colab": {
     "base_uri": "https://localhost:8080/",
     "height": 34
    },
    "colab_type": "code",
    "id": "enExMqVMlXea",
    "outputId": "5f1bc0e2-fca9-4129-a6be-54df1682685e"
   },
   "outputs": [
    {
     "name": "stdout",
     "output_type": "stream",
     "text": [
      "Average film length is: 107.19 mins\n"
     ]
    }
   ],
   "source": [
    "avg_film_length = df['duration'].mean()\n",
    "print(f'Average film length is: {round(avg_film_length, 2)} mins')"
   ]
  },
  {
   "cell_type": "markdown",
   "metadata": {
    "colab_type": "text",
    "id": "9oZbwuSmmACm"
   },
   "source": [
    "### 1.5. Create a movie_duration_category column, which will contain three categories depending on the film length:\n",
    "### • Category \"1. <90\" if the film is less than 90 minutes long\n",
    "\n",
    "### • Category \"2. 90–120\" if the film is between 90 minutes and two hours long (inclusively)\n",
    "\n",
    "### • Category \"3. >120\" if the film is more than two hours long\n",
    "\n",
    "\n",
    "\n"
   ]
  },
  {
   "cell_type": "code",
   "execution_count": 0,
   "metadata": {
    "colab": {
     "base_uri": "https://localhost:8080/",
     "height": 204
    },
    "colab_type": "code",
    "id": "2NtfuzqlmAdW",
    "outputId": "ff53aca9-83b6-4440-e6e4-53ffc28ae9a4"
   },
   "outputs": [
    {
     "data": {
      "text/html": [
       "<div>\n",
       "<style scoped>\n",
       "    .dataframe tbody tr th:only-of-type {\n",
       "        vertical-align: middle;\n",
       "    }\n",
       "\n",
       "    .dataframe tbody tr th {\n",
       "        vertical-align: top;\n",
       "    }\n",
       "\n",
       "    .dataframe thead th {\n",
       "        text-align: right;\n",
       "    }\n",
       "</style>\n",
       "<table border=\"1\" class=\"dataframe\">\n",
       "  <thead>\n",
       "    <tr style=\"text-align: right;\">\n",
       "      <th></th>\n",
       "      <th>duration</th>\n",
       "      <th>movie_duration_category</th>\n",
       "    </tr>\n",
       "  </thead>\n",
       "  <tbody>\n",
       "    <tr>\n",
       "      <th>0</th>\n",
       "      <td>178.0</td>\n",
       "      <td>3. &gt;120</td>\n",
       "    </tr>\n",
       "    <tr>\n",
       "      <th>1</th>\n",
       "      <td>169.0</td>\n",
       "      <td>3. &gt;120</td>\n",
       "    </tr>\n",
       "    <tr>\n",
       "      <th>2</th>\n",
       "      <td>148.0</td>\n",
       "      <td>3. &gt;120</td>\n",
       "    </tr>\n",
       "    <tr>\n",
       "      <th>3</th>\n",
       "      <td>164.0</td>\n",
       "      <td>3. &gt;120</td>\n",
       "    </tr>\n",
       "    <tr>\n",
       "      <th>4</th>\n",
       "      <td>103.0</td>\n",
       "      <td>2. 90-120</td>\n",
       "    </tr>\n",
       "  </tbody>\n",
       "</table>\n",
       "</div>"
      ],
      "text/plain": [
       "   duration movie_duration_category\n",
       "0     178.0                 3. >120\n",
       "1     169.0                 3. >120\n",
       "2     148.0                 3. >120\n",
       "3     164.0                 3. >120\n",
       "4     103.0               2. 90-120"
      ]
     },
     "execution_count": 6,
     "metadata": {
      "tags": []
     },
     "output_type": "execute_result"
    }
   ],
   "source": [
    "# function that maps duration to one of the three categories\n",
    "def num_to_category(x):\n",
    "    if x < 90:\n",
    "        return '1. <90'\n",
    "    elif 90 <= x <= 120:\n",
    "        return '2. 90-120'\n",
    "    return '3. >120'\n",
    "# apply our function to the whole duration column\n",
    "df['movie_duration_category'] = df['duration'].apply(num_to_category)\n",
    "# look at first 5 values\n",
    "df[['duration', 'movie_duration_category']][:5]"
   ]
  },
  {
   "cell_type": "markdown",
   "metadata": {
    "colab_type": "text",
    "id": "1_9OWdJCpOQO"
   },
   "source": [
    "### 1.6. Build a summary table for films released after 2000 (inclusively), to list the numbers of films:\n",
    "### • Table rows: year\n",
    "### • Table columns: movie duration category (\"<90\", \"90–120\", \">120\")\n",
    "### • The year of release should be displayed in the YYYY format."
   ]
  },
  {
   "cell_type": "code",
   "execution_count": 0,
   "metadata": {
    "colab": {
     "base_uri": "https://localhost:8080/",
     "height": 607
    },
    "colab_type": "code",
    "id": "bDsKexakphFe",
    "outputId": "9e518d6b-9124-433d-831e-8fd635c63035"
   },
   "outputs": [
    {
     "data": {
      "text/html": [
       "<div>\n",
       "<style scoped>\n",
       "    .dataframe tbody tr th:only-of-type {\n",
       "        vertical-align: middle;\n",
       "    }\n",
       "\n",
       "    .dataframe tbody tr th {\n",
       "        vertical-align: top;\n",
       "    }\n",
       "\n",
       "    .dataframe thead th {\n",
       "        text-align: right;\n",
       "    }\n",
       "</style>\n",
       "<table border=\"1\" class=\"dataframe\">\n",
       "  <thead>\n",
       "    <tr style=\"text-align: right;\">\n",
       "      <th>movie_duration_category</th>\n",
       "      <th>1. &lt;90</th>\n",
       "      <th>2. 90-120</th>\n",
       "      <th>3. &gt;120</th>\n",
       "    </tr>\n",
       "    <tr>\n",
       "      <th>title_year</th>\n",
       "      <th></th>\n",
       "      <th></th>\n",
       "      <th></th>\n",
       "    </tr>\n",
       "  </thead>\n",
       "  <tbody>\n",
       "    <tr>\n",
       "      <th>2000</th>\n",
       "      <td>25</td>\n",
       "      <td>112</td>\n",
       "      <td>34</td>\n",
       "    </tr>\n",
       "    <tr>\n",
       "      <th>2001</th>\n",
       "      <td>29</td>\n",
       "      <td>120</td>\n",
       "      <td>39</td>\n",
       "    </tr>\n",
       "    <tr>\n",
       "      <th>2002</th>\n",
       "      <td>36</td>\n",
       "      <td>146</td>\n",
       "      <td>27</td>\n",
       "    </tr>\n",
       "    <tr>\n",
       "      <th>2003</th>\n",
       "      <td>31</td>\n",
       "      <td>108</td>\n",
       "      <td>30</td>\n",
       "    </tr>\n",
       "    <tr>\n",
       "      <th>2004</th>\n",
       "      <td>30</td>\n",
       "      <td>142</td>\n",
       "      <td>42</td>\n",
       "    </tr>\n",
       "    <tr>\n",
       "      <th>2005</th>\n",
       "      <td>31</td>\n",
       "      <td>142</td>\n",
       "      <td>48</td>\n",
       "    </tr>\n",
       "    <tr>\n",
       "      <th>2006</th>\n",
       "      <td>40</td>\n",
       "      <td>146</td>\n",
       "      <td>53</td>\n",
       "    </tr>\n",
       "    <tr>\n",
       "      <th>2007</th>\n",
       "      <td>31</td>\n",
       "      <td>130</td>\n",
       "      <td>43</td>\n",
       "    </tr>\n",
       "    <tr>\n",
       "      <th>2008</th>\n",
       "      <td>29</td>\n",
       "      <td>160</td>\n",
       "      <td>36</td>\n",
       "    </tr>\n",
       "    <tr>\n",
       "      <th>2009</th>\n",
       "      <td>42</td>\n",
       "      <td>178</td>\n",
       "      <td>40</td>\n",
       "    </tr>\n",
       "    <tr>\n",
       "      <th>2010</th>\n",
       "      <td>26</td>\n",
       "      <td>171</td>\n",
       "      <td>33</td>\n",
       "    </tr>\n",
       "    <tr>\n",
       "      <th>2011</th>\n",
       "      <td>36</td>\n",
       "      <td>150</td>\n",
       "      <td>39</td>\n",
       "    </tr>\n",
       "    <tr>\n",
       "      <th>2012</th>\n",
       "      <td>41</td>\n",
       "      <td>139</td>\n",
       "      <td>41</td>\n",
       "    </tr>\n",
       "    <tr>\n",
       "      <th>2013</th>\n",
       "      <td>38</td>\n",
       "      <td>145</td>\n",
       "      <td>54</td>\n",
       "    </tr>\n",
       "    <tr>\n",
       "      <th>2014</th>\n",
       "      <td>36</td>\n",
       "      <td>171</td>\n",
       "      <td>45</td>\n",
       "    </tr>\n",
       "    <tr>\n",
       "      <th>2015</th>\n",
       "      <td>34</td>\n",
       "      <td>145</td>\n",
       "      <td>47</td>\n",
       "    </tr>\n",
       "    <tr>\n",
       "      <th>2016</th>\n",
       "      <td>8</td>\n",
       "      <td>79</td>\n",
       "      <td>19</td>\n",
       "    </tr>\n",
       "  </tbody>\n",
       "</table>\n",
       "</div>"
      ],
      "text/plain": [
       "movie_duration_category  1. <90  2. 90-120  3. >120\n",
       "title_year                                         \n",
       "2000                         25        112       34\n",
       "2001                         29        120       39\n",
       "2002                         36        146       27\n",
       "2003                         31        108       30\n",
       "2004                         30        142       42\n",
       "2005                         31        142       48\n",
       "2006                         40        146       53\n",
       "2007                         31        130       43\n",
       "2008                         29        160       36\n",
       "2009                         42        178       40\n",
       "2010                         26        171       33\n",
       "2011                         36        150       39\n",
       "2012                         41        139       41\n",
       "2013                         38        145       54\n",
       "2014                         36        171       45\n",
       "2015                         34        145       47\n",
       "2016                          8         79       19"
      ]
     },
     "execution_count": 7,
     "metadata": {
      "tags": []
     },
     "output_type": "execute_result"
    }
   ],
   "source": [
    "df_year = df[df['title_year'] >= 2000].groupby(['title_year', 'movie_duration_category'])['movie_duration_category'].count().unstack()\n",
    "# change index type from float to int\n",
    "df_year.index = df_year.index.map(int)\n",
    "# show summary table\n",
    "df_year"
   ]
  },
  {
   "cell_type": "markdown",
   "metadata": {
    "colab_type": "text",
    "id": "dNeUpLMQ1uS6"
   },
   "source": [
    "### 1.7. How many films between 90 minutes and two hours long were released in 2008?"
   ]
  },
  {
   "cell_type": "code",
   "execution_count": 0,
   "metadata": {
    "colab": {
     "base_uri": "https://localhost:8080/",
     "height": 34
    },
    "colab_type": "code",
    "id": "UB1myWbK1zDP",
    "outputId": "7a9a7962-0558-4c14-c854-f2ee9f532a8a"
   },
   "outputs": [
    {
     "data": {
      "text/plain": [
       "160"
      ]
     },
     "execution_count": 8,
     "metadata": {
      "tags": []
     },
     "output_type": "execute_result"
    }
   ],
   "source": [
    "df_year.loc[2008, '2. 90-120']"
   ]
  },
  {
   "cell_type": "markdown",
   "metadata": {
    "colab_type": "text",
    "id": "Hre9o8CN2Wjc"
   },
   "source": [
    "### 1.8. The plot_keywords column holds keywords characterizing the film's plot. Using the data in this column, create a column called movie_plot_category, to contain four categories depending on the key words in the column:\n",
    "### • Category \"love_and_death\" if the keywords include both \"love\" and \"death\"\n",
    "### • Category \"love\" if the keywords include the word \"love\"\n",
    "### • Category \"death\" if the keywords include the word \"death\"\n",
    "### • Category \"other\" if the keywords do not meet the conditions above"
   ]
  },
  {
   "cell_type": "code",
   "execution_count": 0,
   "metadata": {
    "colab": {
     "base_uri": "https://localhost:8080/",
     "height": 102
    },
    "colab_type": "code",
    "id": "38qTdhnE2kNO",
    "outputId": "81988b92-f621-4542-939c-726649e7e435"
   },
   "outputs": [
    {
     "data": {
      "text/plain": [
       "other             4722\n",
       "love               189\n",
       "death              123\n",
       "love_and_death       9\n",
       "Name: movie_plot_category, dtype: int64"
      ]
     },
     "execution_count": 9,
     "metadata": {
      "tags": []
     },
     "output_type": "execute_result"
    }
   ],
   "source": [
    "# function that maps keywords to category\n",
    "def keyword_to_category(lst):\n",
    "    if ('love' in lst) and ('death' in lst):\n",
    "        return 'love_and_death'\n",
    "    elif 'love' in lst:\n",
    "        return 'love'\n",
    "    elif 'death' in lst:\n",
    "        return 'death'\n",
    "    return 'other'\n",
    "\n",
    "df['movie_plot_category'] = df['plot_keywords'].str.split('|').fillna('NaN').apply(keyword_to_category)   \n",
    "df['movie_plot_category'].value_counts()"
   ]
  },
  {
   "cell_type": "markdown",
   "metadata": {
    "colab_type": "text",
    "id": "BL2iJcCG_BAh"
   },
   "source": [
    "### 1.9. The imdb_score column shows a viewer rating for the film. Build a table to reflect the average rating of films depending on which movie_plot_category category they belong to."
   ]
  },
  {
   "cell_type": "code",
   "execution_count": 0,
   "metadata": {
    "colab": {
     "base_uri": "https://localhost:8080/",
     "height": 204
    },
    "colab_type": "code",
    "id": "267l74JI_GYN",
    "outputId": "e97e2288-d815-4e64-947d-9ae79e0b075d"
   },
   "outputs": [
    {
     "data": {
      "text/html": [
       "<div>\n",
       "<style scoped>\n",
       "    .dataframe tbody tr th:only-of-type {\n",
       "        vertical-align: middle;\n",
       "    }\n",
       "\n",
       "    .dataframe tbody tr th {\n",
       "        vertical-align: top;\n",
       "    }\n",
       "\n",
       "    .dataframe thead th {\n",
       "        text-align: right;\n",
       "    }\n",
       "</style>\n",
       "<table border=\"1\" class=\"dataframe\">\n",
       "  <thead>\n",
       "    <tr style=\"text-align: right;\">\n",
       "      <th></th>\n",
       "      <th>Average_rating</th>\n",
       "    </tr>\n",
       "    <tr>\n",
       "      <th>movie_plot_category</th>\n",
       "      <th></th>\n",
       "    </tr>\n",
       "  </thead>\n",
       "  <tbody>\n",
       "    <tr>\n",
       "      <th>death</th>\n",
       "      <td>6.508130</td>\n",
       "    </tr>\n",
       "    <tr>\n",
       "      <th>love</th>\n",
       "      <td>6.533862</td>\n",
       "    </tr>\n",
       "    <tr>\n",
       "      <th>love_and_death</th>\n",
       "      <td>6.677778</td>\n",
       "    </tr>\n",
       "    <tr>\n",
       "      <th>other</th>\n",
       "      <td>6.436298</td>\n",
       "    </tr>\n",
       "  </tbody>\n",
       "</table>\n",
       "</div>"
      ],
      "text/plain": [
       "                     Average_rating\n",
       "movie_plot_category                \n",
       "death                      6.508130\n",
       "love                       6.533862\n",
       "love_and_death             6.677778\n",
       "other                      6.436298"
      ]
     },
     "execution_count": 10,
     "metadata": {
      "tags": []
     },
     "output_type": "execute_result"
    }
   ],
   "source": [
    "avg_rating = df.groupby('movie_plot_category')['imdb_score'].mean().to_frame('Average_rating')\n",
    "avg_rating"
   ]
  },
  {
   "cell_type": "markdown",
   "metadata": {
    "colab_type": "text",
    "id": "ma7qKjKYAuwW"
   },
   "source": [
    "### 1.10. What is the average rating of films in the \"love\" category? Give the answer as a floatingpoint figure rounded to two decimal places."
   ]
  },
  {
   "cell_type": "code",
   "execution_count": 0,
   "metadata": {
    "colab": {
     "base_uri": "https://localhost:8080/",
     "height": 34
    },
    "colab_type": "code",
    "id": "oaOsGmfJArEy",
    "outputId": "bc9a2b87-aa8d-4ace-9c37-f79c79627de5"
   },
   "outputs": [
    {
     "data": {
      "text/plain": [
       "6.53"
      ]
     },
     "execution_count": 11,
     "metadata": {
      "tags": []
     },
     "output_type": "execute_result"
    }
   ],
   "source": [
    "round(avg_rating.loc['love', 'Average_rating'], 2)"
   ]
  },
  {
   "cell_type": "markdown",
   "metadata": {
    "colab_type": "text",
    "id": "42wmCyAcEB98"
   },
   "source": [
    "### 1.11. The budget column contains the film's budget. What is the median budget for all the films listed? Give the answer as an integer."
   ]
  },
  {
   "cell_type": "code",
   "execution_count": 0,
   "metadata": {
    "colab": {
     "base_uri": "https://localhost:8080/",
     "height": 34
    },
    "colab_type": "code",
    "id": "XW6u9OIWEHlr",
    "outputId": "40760017-cac7-423d-bca8-9bf5a7b0469b"
   },
   "outputs": [
    {
     "data": {
      "text/plain": [
       "15000000"
      ]
     },
     "execution_count": 12,
     "metadata": {
      "tags": []
     },
     "output_type": "execute_result"
    }
   ],
   "source": [
    "# strip $ sign and convert string to int\n",
    "df['budget'] = df['budget'].map(lambda x: x.rstrip('$')).astype(float).astype(int)\n",
    "int(df['budget'].median())"
   ]
  },
  {
   "cell_type": "markdown",
   "metadata": {
    "colab_type": "text",
    "id": "kxi7SNDfjtgq"
   },
   "source": [
    "## Please indicate how long it took you to complete this task.\n",
    "**~ 1h**"
   ]
  },
  {
   "cell_type": "markdown",
   "metadata": {
    "colab_type": "text",
    "id": "Zc2er5F9LAty"
   },
   "source": [
    "# Task 2. Problem solving"
   ]
  },
  {
   "cell_type": "markdown",
   "metadata": {
    "colab_type": "text",
    "id": "hzARVoQJLMg4"
   },
   "source": [
    "### 1. Download the event_data.csv dataset, which contains data on the use of the mobile application of users who registered from July 29 to September 1, 2019:\n",
    "### • user_id - user identifier;\n",
    "### • event_date - time of the event;\n",
    "### • event_type - type of event: registration - registration in the application; simple_event - click event in the application; purchase - an event of purchase within the application;\n",
    "### purchase_amount - purchase amount."
   ]
  },
  {
   "cell_type": "code",
   "execution_count": 0,
   "metadata": {
    "colab": {
     "base_uri": "https://localhost:8080/",
     "height": 204
    },
    "colab_type": "code",
    "id": "HVvoI5iXLCDI",
    "outputId": "f05a00b5-2262-4734-e0f8-58cfab6b63ec"
   },
   "outputs": [
    {
     "data": {
      "text/html": [
       "<div>\n",
       "<style scoped>\n",
       "    .dataframe tbody tr th:only-of-type {\n",
       "        vertical-align: middle;\n",
       "    }\n",
       "\n",
       "    .dataframe tbody tr th {\n",
       "        vertical-align: top;\n",
       "    }\n",
       "\n",
       "    .dataframe thead th {\n",
       "        text-align: right;\n",
       "    }\n",
       "</style>\n",
       "<table border=\"1\" class=\"dataframe\">\n",
       "  <thead>\n",
       "    <tr style=\"text-align: right;\">\n",
       "      <th></th>\n",
       "      <th>user_id</th>\n",
       "      <th>event_date</th>\n",
       "      <th>event_type</th>\n",
       "      <th>purchase_amount</th>\n",
       "    </tr>\n",
       "  </thead>\n",
       "  <tbody>\n",
       "    <tr>\n",
       "      <th>0</th>\n",
       "      <td>c40e6a</td>\n",
       "      <td>2019-07-29 00:02:15</td>\n",
       "      <td>registration</td>\n",
       "      <td>NaN</td>\n",
       "    </tr>\n",
       "    <tr>\n",
       "      <th>1</th>\n",
       "      <td>a2b682</td>\n",
       "      <td>2019-07-29 00:04:46</td>\n",
       "      <td>registration</td>\n",
       "      <td>NaN</td>\n",
       "    </tr>\n",
       "    <tr>\n",
       "      <th>2</th>\n",
       "      <td>9ac888</td>\n",
       "      <td>2019-07-29 00:13:22</td>\n",
       "      <td>registration</td>\n",
       "      <td>NaN</td>\n",
       "    </tr>\n",
       "    <tr>\n",
       "      <th>3</th>\n",
       "      <td>93ff22</td>\n",
       "      <td>2019-07-29 00:16:47</td>\n",
       "      <td>registration</td>\n",
       "      <td>NaN</td>\n",
       "    </tr>\n",
       "    <tr>\n",
       "      <th>4</th>\n",
       "      <td>65ef85</td>\n",
       "      <td>2019-07-29 00:19:23</td>\n",
       "      <td>registration</td>\n",
       "      <td>NaN</td>\n",
       "    </tr>\n",
       "  </tbody>\n",
       "</table>\n",
       "</div>"
      ],
      "text/plain": [
       "  user_id           event_date    event_type  purchase_amount\n",
       "0  c40e6a  2019-07-29 00:02:15  registration              NaN\n",
       "1  a2b682  2019-07-29 00:04:46  registration              NaN\n",
       "2  9ac888  2019-07-29 00:13:22  registration              NaN\n",
       "3  93ff22  2019-07-29 00:16:47  registration              NaN\n",
       "4  65ef85  2019-07-29 00:19:23  registration              NaN"
      ]
     },
     "execution_count": 13,
     "metadata": {
      "tags": []
     },
     "output_type": "execute_result"
    }
   ],
   "source": [
    "event_df = pd.read_csv('event_data.csv')\n",
    "event_df.head()"
   ]
  },
  {
   "cell_type": "markdown",
   "metadata": {
    "colab_type": "text",
    "id": "56VqSDSlL7j-"
   },
   "source": [
    "### 2. Highlight user cohorts based on the week of registration in the application. The cohort identifier should be the week ordinal (for example, the week from July 29 to August 4 should have identifier 31)."
   ]
  },
  {
   "cell_type": "code",
   "execution_count": 0,
   "metadata": {
    "colab": {
     "base_uri": "https://localhost:8080/",
     "height": 204
    },
    "colab_type": "code",
    "id": "43U38NfbMF9E",
    "outputId": "542d0c55-0ec5-44be-fccc-7229c8d4eace"
   },
   "outputs": [
    {
     "data": {
      "text/html": [
       "<div>\n",
       "<style scoped>\n",
       "    .dataframe tbody tr th:only-of-type {\n",
       "        vertical-align: middle;\n",
       "    }\n",
       "\n",
       "    .dataframe tbody tr th {\n",
       "        vertical-align: top;\n",
       "    }\n",
       "\n",
       "    .dataframe thead th {\n",
       "        text-align: right;\n",
       "    }\n",
       "</style>\n",
       "<table border=\"1\" class=\"dataframe\">\n",
       "  <thead>\n",
       "    <tr style=\"text-align: right;\">\n",
       "      <th></th>\n",
       "      <th>user_id</th>\n",
       "      <th>event_date</th>\n",
       "      <th>event_type</th>\n",
       "      <th>purchase_amount</th>\n",
       "      <th>cohort_id</th>\n",
       "    </tr>\n",
       "  </thead>\n",
       "  <tbody>\n",
       "    <tr>\n",
       "      <th>0</th>\n",
       "      <td>c40e6a</td>\n",
       "      <td>2019-07-29 00:02:15</td>\n",
       "      <td>registration</td>\n",
       "      <td>NaN</td>\n",
       "      <td>31</td>\n",
       "    </tr>\n",
       "    <tr>\n",
       "      <th>1</th>\n",
       "      <td>a2b682</td>\n",
       "      <td>2019-07-29 00:04:46</td>\n",
       "      <td>registration</td>\n",
       "      <td>NaN</td>\n",
       "      <td>31</td>\n",
       "    </tr>\n",
       "    <tr>\n",
       "      <th>2</th>\n",
       "      <td>9ac888</td>\n",
       "      <td>2019-07-29 00:13:22</td>\n",
       "      <td>registration</td>\n",
       "      <td>NaN</td>\n",
       "      <td>31</td>\n",
       "    </tr>\n",
       "    <tr>\n",
       "      <th>3</th>\n",
       "      <td>93ff22</td>\n",
       "      <td>2019-07-29 00:16:47</td>\n",
       "      <td>registration</td>\n",
       "      <td>NaN</td>\n",
       "      <td>31</td>\n",
       "    </tr>\n",
       "    <tr>\n",
       "      <th>4</th>\n",
       "      <td>65ef85</td>\n",
       "      <td>2019-07-29 00:19:23</td>\n",
       "      <td>registration</td>\n",
       "      <td>NaN</td>\n",
       "      <td>31</td>\n",
       "    </tr>\n",
       "  </tbody>\n",
       "</table>\n",
       "</div>"
      ],
      "text/plain": [
       "  user_id          event_date    event_type  purchase_amount  cohort_id\n",
       "0  c40e6a 2019-07-29 00:02:15  registration              NaN         31\n",
       "1  a2b682 2019-07-29 00:04:46  registration              NaN         31\n",
       "2  9ac888 2019-07-29 00:13:22  registration              NaN         31\n",
       "3  93ff22 2019-07-29 00:16:47  registration              NaN         31\n",
       "4  65ef85 2019-07-29 00:19:23  registration              NaN         31"
      ]
     },
     "execution_count": 14,
     "metadata": {
      "tags": []
     },
     "output_type": "execute_result"
    }
   ],
   "source": [
    "# convert event_date column to datetime type\n",
    "event_df['event_date'] = pd.to_datetime(event_df['event_date'])\n",
    "# create cohort_id column\n",
    "event_df['cohort_id'] = event_df['event_date'].dt.week\n",
    "event_df.head()"
   ]
  },
  {
   "cell_type": "markdown",
   "metadata": {
    "colab_type": "text",
    "id": "Ek9P3H7MOmkg"
   },
   "source": [
    "### 3. How many unique users in the cohort with ID 33?"
   ]
  },
  {
   "cell_type": "code",
   "execution_count": 0,
   "metadata": {
    "colab": {
     "base_uri": "https://localhost:8080/",
     "height": 34
    },
    "colab_type": "code",
    "id": "_Qqb8APxOqpv",
    "outputId": "aa0176d4-f772-4f4a-a255-7a4a5960a416"
   },
   "outputs": [
    {
     "data": {
      "text/plain": [
       "5102"
      ]
     },
     "execution_count": 15,
     "metadata": {
      "tags": []
     },
     "output_type": "execute_result"
    }
   ],
   "source": [
    "event_df[event_df['cohort_id'] == 33]['user_id'].nunique()"
   ]
  },
  {
   "cell_type": "markdown",
   "metadata": {
    "colab_type": "text",
    "id": "m47qsVzNPG-j"
   },
   "source": [
    "### 4. For each event, highlight the indicator lifetime - the weekly lifetime of the cohort. The lifetime indicator is calculated based on the serial number of the week in which the event is committed, relative to the week of registration. For example, an event committed on August 3 by a user from a cohort of registrants at 31 weeks will be committed on the zero week of lifetime, and an event committed by the same user on August 5 will be committed on the first week of lifetime)."
   ]
  },
  {
   "cell_type": "code",
   "execution_count": 0,
   "metadata": {
    "colab": {
     "base_uri": "https://localhost:8080/",
     "height": 204
    },
    "colab_type": "code",
    "id": "FeeZd1nQzdiX",
    "outputId": "4fe73b6e-9c4f-407d-b451-fe86dcbd54af"
   },
   "outputs": [
    {
     "data": {
      "text/html": [
       "<div>\n",
       "<style scoped>\n",
       "    .dataframe tbody tr th:only-of-type {\n",
       "        vertical-align: middle;\n",
       "    }\n",
       "\n",
       "    .dataframe tbody tr th {\n",
       "        vertical-align: top;\n",
       "    }\n",
       "\n",
       "    .dataframe thead th {\n",
       "        text-align: right;\n",
       "    }\n",
       "</style>\n",
       "<table border=\"1\" class=\"dataframe\">\n",
       "  <thead>\n",
       "    <tr style=\"text-align: right;\">\n",
       "      <th></th>\n",
       "      <th>user_id</th>\n",
       "      <th>event_date</th>\n",
       "      <th>event_type</th>\n",
       "      <th>purchase_amount</th>\n",
       "      <th>cohort_id</th>\n",
       "      <th>first_visit</th>\n",
       "      <th>lifetime</th>\n",
       "    </tr>\n",
       "  </thead>\n",
       "  <tbody>\n",
       "    <tr>\n",
       "      <th>0</th>\n",
       "      <td>c40e6a</td>\n",
       "      <td>2019-07-29 00:02:15</td>\n",
       "      <td>registration</td>\n",
       "      <td>NaN</td>\n",
       "      <td>31</td>\n",
       "      <td>31</td>\n",
       "      <td>0</td>\n",
       "    </tr>\n",
       "    <tr>\n",
       "      <th>1</th>\n",
       "      <td>c40e6a</td>\n",
       "      <td>2019-07-29 21:13:24</td>\n",
       "      <td>simple_event</td>\n",
       "      <td>NaN</td>\n",
       "      <td>31</td>\n",
       "      <td>31</td>\n",
       "      <td>0</td>\n",
       "    </tr>\n",
       "    <tr>\n",
       "      <th>2</th>\n",
       "      <td>c40e6a</td>\n",
       "      <td>2019-07-30 22:20:50</td>\n",
       "      <td>simple_event</td>\n",
       "      <td>NaN</td>\n",
       "      <td>31</td>\n",
       "      <td>31</td>\n",
       "      <td>0</td>\n",
       "    </tr>\n",
       "    <tr>\n",
       "      <th>3</th>\n",
       "      <td>c40e6a</td>\n",
       "      <td>2019-08-01 13:13:01</td>\n",
       "      <td>simple_event</td>\n",
       "      <td>NaN</td>\n",
       "      <td>31</td>\n",
       "      <td>31</td>\n",
       "      <td>0</td>\n",
       "    </tr>\n",
       "    <tr>\n",
       "      <th>4</th>\n",
       "      <td>c40e6a</td>\n",
       "      <td>2019-08-02 11:19:11</td>\n",
       "      <td>simple_event</td>\n",
       "      <td>NaN</td>\n",
       "      <td>31</td>\n",
       "      <td>31</td>\n",
       "      <td>0</td>\n",
       "    </tr>\n",
       "  </tbody>\n",
       "</table>\n",
       "</div>"
      ],
      "text/plain": [
       "  user_id          event_date    event_type  ...  cohort_id  first_visit  lifetime\n",
       "0  c40e6a 2019-07-29 00:02:15  registration  ...         31           31         0\n",
       "1  c40e6a 2019-07-29 21:13:24  simple_event  ...         31           31         0\n",
       "2  c40e6a 2019-07-30 22:20:50  simple_event  ...         31           31         0\n",
       "3  c40e6a 2019-08-01 13:13:01  simple_event  ...         31           31         0\n",
       "4  c40e6a 2019-08-02 11:19:11  simple_event  ...         31           31         0\n",
       "\n",
       "[5 rows x 7 columns]"
      ]
     },
     "execution_count": 16,
     "metadata": {
      "tags": []
     },
     "output_type": "execute_result"
    }
   ],
   "source": [
    "# compute registration week id\n",
    "reg_id = event_df.groupby('user_id')['cohort_id'].min()\n",
    "# set column name\n",
    "reg_id = reg_id.to_frame('first_visit')\n",
    "# add column to event_df\n",
    "event_df = pd.merge(event_df, reg_id, on='user_id')\n",
    "# compute lifetime indicator\n",
    "event_df['lifetime'] = event_df['cohort_id'] - event_df['first_visit']\n",
    "event_df.head()"
   ]
  },
  {
   "cell_type": "markdown",
   "metadata": {
    "colab_type": "text",
    "id": "sUo__bUC3ood"
   },
   "source": [
    "### 5. Build a summary table of changes in the Retention Rate for cohorts depending on lifetime."
   ]
  },
  {
   "cell_type": "code",
   "execution_count": 0,
   "metadata": {
    "colab": {
     "base_uri": "https://localhost:8080/",
     "height": 235
    },
    "colab_type": "code",
    "id": "ct2hoqfp3t2s",
    "outputId": "440f1490-a468-4843-b334-67ad3d5022c7"
   },
   "outputs": [
    {
     "data": {
      "text/html": [
       "<div>\n",
       "<style scoped>\n",
       "    .dataframe tbody tr th:only-of-type {\n",
       "        vertical-align: middle;\n",
       "    }\n",
       "\n",
       "    .dataframe tbody tr th {\n",
       "        vertical-align: top;\n",
       "    }\n",
       "\n",
       "    .dataframe thead th {\n",
       "        text-align: right;\n",
       "    }\n",
       "</style>\n",
       "<table border=\"1\" class=\"dataframe\">\n",
       "  <thead>\n",
       "    <tr style=\"text-align: right;\">\n",
       "      <th>lifetime</th>\n",
       "      <th>0</th>\n",
       "      <th>1</th>\n",
       "      <th>2</th>\n",
       "      <th>3</th>\n",
       "      <th>4</th>\n",
       "    </tr>\n",
       "    <tr>\n",
       "      <th>first_visit</th>\n",
       "      <th></th>\n",
       "      <th></th>\n",
       "      <th></th>\n",
       "      <th></th>\n",
       "      <th></th>\n",
       "    </tr>\n",
       "  </thead>\n",
       "  <tbody>\n",
       "    <tr>\n",
       "      <th>31</th>\n",
       "      <td>1.0</td>\n",
       "      <td>0.927595</td>\n",
       "      <td>0.629367</td>\n",
       "      <td>0.356962</td>\n",
       "      <td>0.15038</td>\n",
       "    </tr>\n",
       "    <tr>\n",
       "      <th>32</th>\n",
       "      <td>1.0</td>\n",
       "      <td>0.929303</td>\n",
       "      <td>0.648053</td>\n",
       "      <td>0.361168</td>\n",
       "      <td>NaN</td>\n",
       "    </tr>\n",
       "    <tr>\n",
       "      <th>33</th>\n",
       "      <td>1.0</td>\n",
       "      <td>0.924205</td>\n",
       "      <td>0.661125</td>\n",
       "      <td>NaN</td>\n",
       "      <td>NaN</td>\n",
       "    </tr>\n",
       "    <tr>\n",
       "      <th>34</th>\n",
       "      <td>1.0</td>\n",
       "      <td>0.929078</td>\n",
       "      <td>NaN</td>\n",
       "      <td>NaN</td>\n",
       "      <td>NaN</td>\n",
       "    </tr>\n",
       "    <tr>\n",
       "      <th>35</th>\n",
       "      <td>1.0</td>\n",
       "      <td>NaN</td>\n",
       "      <td>NaN</td>\n",
       "      <td>NaN</td>\n",
       "      <td>NaN</td>\n",
       "    </tr>\n",
       "  </tbody>\n",
       "</table>\n",
       "</div>"
      ],
      "text/plain": [
       "lifetime       0         1         2         3        4\n",
       "first_visit                                            \n",
       "31           1.0  0.927595  0.629367  0.356962  0.15038\n",
       "32           1.0  0.929303  0.648053  0.361168      NaN\n",
       "33           1.0  0.924205  0.661125       NaN      NaN\n",
       "34           1.0  0.929078       NaN       NaN      NaN\n",
       "35           1.0       NaN       NaN       NaN      NaN"
      ]
     },
     "execution_count": 17,
     "metadata": {
      "tags": []
     },
     "output_type": "execute_result"
    }
   ],
   "source": [
    "visits = event_df.groupby(['first_visit', 'lifetime']).agg({'user_id': 'nunique'}).reset_index()\n",
    "# new users\n",
    "start_users = visits[visits['lifetime'] == 0][['first_visit', 'user_id']]\n",
    "# set column names\n",
    "start_users.columns = ['first_visit', 'start_users']\n",
    "# merge two tables\n",
    "visits = visits.merge(start_users)\n",
    "# compute retention\n",
    "visits['retention'] = visits['user_id'] / visits['start_users']\n",
    "# create pivot table\n",
    "retention_pivot = visits.pivot_table(index = 'first_visit', \n",
    "                                            columns = 'lifetime', values = 'retention', aggfunc = 'sum')\n",
    "retention_pivot"
   ]
  },
  {
   "cell_type": "markdown",
   "metadata": {
    "colab_type": "text",
    "id": "FHdGt2V55cdw"
   },
   "source": [
    "### 6. What is the 3 week retention rate for a cohort with ID 32? Give the answer in percent, rounded to 2 decimal places, inclusive."
   ]
  },
  {
   "cell_type": "code",
   "execution_count": 0,
   "metadata": {
    "colab": {
     "base_uri": "https://localhost:8080/",
     "height": 34
    },
    "colab_type": "code",
    "id": "izs1sClb5pK9",
    "outputId": "62d753be-e89e-4934-9945-3e7de6be5066"
   },
   "outputs": [
    {
     "data": {
      "text/plain": [
       "36.12"
      ]
     },
     "execution_count": 18,
     "metadata": {
      "tags": []
     },
     "output_type": "execute_result"
    }
   ],
   "source": [
    "round(retention_pivot[3][32] * 100, 2)"
   ]
  },
  {
   "cell_type": "markdown",
   "metadata": {
    "colab_type": "text",
    "id": "S1Nw7SGp5v3l"
   },
   "source": [
    "### 7. Build a summary table of changes in the indicator ARPPU (Average Revenue Per Paying User) for cohorts depending on lifetime."
   ]
  },
  {
   "cell_type": "code",
   "execution_count": 0,
   "metadata": {
    "colab": {
     "base_uri": "https://localhost:8080/",
     "height": 235
    },
    "colab_type": "code",
    "id": "2CWa6yD85y_m",
    "outputId": "1e33422b-64a5-414f-a7fd-e8ea5ddca699"
   },
   "outputs": [
    {
     "data": {
      "text/html": [
       "<div>\n",
       "<style scoped>\n",
       "    .dataframe tbody tr th:only-of-type {\n",
       "        vertical-align: middle;\n",
       "    }\n",
       "\n",
       "    .dataframe tbody tr th {\n",
       "        vertical-align: top;\n",
       "    }\n",
       "\n",
       "    .dataframe thead th {\n",
       "        text-align: right;\n",
       "    }\n",
       "</style>\n",
       "<table border=\"1\" class=\"dataframe\">\n",
       "  <thead>\n",
       "    <tr style=\"text-align: right;\">\n",
       "      <th>lifetime</th>\n",
       "      <th>0</th>\n",
       "      <th>1</th>\n",
       "      <th>2</th>\n",
       "      <th>3</th>\n",
       "      <th>4</th>\n",
       "    </tr>\n",
       "    <tr>\n",
       "      <th>first_visit</th>\n",
       "      <th></th>\n",
       "      <th></th>\n",
       "      <th></th>\n",
       "      <th></th>\n",
       "      <th></th>\n",
       "    </tr>\n",
       "  </thead>\n",
       "  <tbody>\n",
       "    <tr>\n",
       "      <th>31</th>\n",
       "      <td>28.132911</td>\n",
       "      <td>29.511494</td>\n",
       "      <td>30.525000</td>\n",
       "      <td>29.142857</td>\n",
       "      <td>30.454545</td>\n",
       "    </tr>\n",
       "    <tr>\n",
       "      <th>32</th>\n",
       "      <td>30.222841</td>\n",
       "      <td>29.773692</td>\n",
       "      <td>29.928741</td>\n",
       "      <td>29.528302</td>\n",
       "      <td>NaN</td>\n",
       "    </tr>\n",
       "    <tr>\n",
       "      <th>33</th>\n",
       "      <td>30.689655</td>\n",
       "      <td>30.519663</td>\n",
       "      <td>29.171975</td>\n",
       "      <td>NaN</td>\n",
       "      <td>NaN</td>\n",
       "    </tr>\n",
       "    <tr>\n",
       "      <th>34</th>\n",
       "      <td>30.776699</td>\n",
       "      <td>30.929134</td>\n",
       "      <td>NaN</td>\n",
       "      <td>NaN</td>\n",
       "      <td>NaN</td>\n",
       "    </tr>\n",
       "    <tr>\n",
       "      <th>35</th>\n",
       "      <td>30.721925</td>\n",
       "      <td>NaN</td>\n",
       "      <td>NaN</td>\n",
       "      <td>NaN</td>\n",
       "      <td>NaN</td>\n",
       "    </tr>\n",
       "  </tbody>\n",
       "</table>\n",
       "</div>"
      ],
      "text/plain": [
       "lifetime             0          1          2          3          4\n",
       "first_visit                                                       \n",
       "31           28.132911  29.511494  30.525000  29.142857  30.454545\n",
       "32           30.222841  29.773692  29.928741  29.528302        NaN\n",
       "33           30.689655  30.519663  29.171975        NaN        NaN\n",
       "34           30.776699  30.929134        NaN        NaN        NaN\n",
       "35           30.721925        NaN        NaN        NaN        NaN"
      ]
     },
     "execution_count": 19,
     "metadata": {
      "tags": []
     },
     "output_type": "execute_result"
    }
   ],
   "source": [
    "# number of users and amount paid for each group\n",
    "arppu = event_df[event_df['purchase_amount'] > 0].groupby(['first_visit', 'lifetime']).agg({'purchase_amount': 'sum', 'user_id': 'count'}).reset_index()\n",
    "# compute arppu\n",
    "arppu['ARPPU'] = arppu['purchase_amount'] / arppu['user_id']\n",
    "# create pivot table\n",
    "arppu_pivot = arppu.pivot_table(index = 'first_visit', \n",
    "                                            columns = 'lifetime', values = 'ARPPU', aggfunc = 'sum')\n",
    "arppu_pivot"
   ]
  },
  {
   "cell_type": "markdown",
   "metadata": {
    "colab_type": "text",
    "id": "L_Goj8rD5zog"
   },
   "source": [
    "### 8. What is the 3-week ARPPU of a cohort with ID 31? Give the answer with a floating point number, rounded to 2 decimal places, inclusive."
   ]
  },
  {
   "cell_type": "code",
   "execution_count": 0,
   "metadata": {
    "colab": {
     "base_uri": "https://localhost:8080/",
     "height": 34
    },
    "colab_type": "code",
    "id": "fKMGri5254fH",
    "outputId": "5d4ab4ef-a198-4600-e16f-50a3ed922401"
   },
   "outputs": [
    {
     "data": {
      "text/plain": [
       "29.14"
      ]
     },
     "execution_count": 20,
     "metadata": {
      "tags": []
     },
     "output_type": "execute_result"
    }
   ],
   "source": [
    "round(arppu_pivot[3][31], 2)"
   ]
  },
  {
   "cell_type": "markdown",
   "metadata": {
    "colab_type": "text",
    "id": "Jj2AwFvh57B3"
   },
   "source": [
    "### 9. What is the median time between user registration and first purchase? Give the answer in seconds (!) As an integer."
   ]
  },
  {
   "cell_type": "code",
   "execution_count": 0,
   "metadata": {
    "colab": {
     "base_uri": "https://localhost:8080/",
     "height": 204
    },
    "colab_type": "code",
    "id": "LGCFmHiI59mY",
    "outputId": "4f9afbe9-1f48-4992-b0f3-ae627fb81b24"
   },
   "outputs": [
    {
     "data": {
      "text/html": [
       "<div>\n",
       "<style scoped>\n",
       "    .dataframe tbody tr th:only-of-type {\n",
       "        vertical-align: middle;\n",
       "    }\n",
       "\n",
       "    .dataframe tbody tr th {\n",
       "        vertical-align: top;\n",
       "    }\n",
       "\n",
       "    .dataframe thead th {\n",
       "        text-align: right;\n",
       "    }\n",
       "</style>\n",
       "<table border=\"1\" class=\"dataframe\">\n",
       "  <thead>\n",
       "    <tr style=\"text-align: right;\">\n",
       "      <th></th>\n",
       "      <th>user_id</th>\n",
       "      <th>event_date</th>\n",
       "      <th>event_type</th>\n",
       "      <th>purchase_amount</th>\n",
       "      <th>cohort_id</th>\n",
       "      <th>first_visit</th>\n",
       "      <th>lifetime</th>\n",
       "      <th>first_visit_date</th>\n",
       "    </tr>\n",
       "  </thead>\n",
       "  <tbody>\n",
       "    <tr>\n",
       "      <th>0</th>\n",
       "      <td>c40e6a</td>\n",
       "      <td>2019-07-29 00:02:15</td>\n",
       "      <td>registration</td>\n",
       "      <td>NaN</td>\n",
       "      <td>31</td>\n",
       "      <td>31</td>\n",
       "      <td>0</td>\n",
       "      <td>2019-07-29 00:02:15</td>\n",
       "    </tr>\n",
       "    <tr>\n",
       "      <th>1</th>\n",
       "      <td>c40e6a</td>\n",
       "      <td>2019-07-29 21:13:24</td>\n",
       "      <td>simple_event</td>\n",
       "      <td>NaN</td>\n",
       "      <td>31</td>\n",
       "      <td>31</td>\n",
       "      <td>0</td>\n",
       "      <td>2019-07-29 00:02:15</td>\n",
       "    </tr>\n",
       "    <tr>\n",
       "      <th>2</th>\n",
       "      <td>c40e6a</td>\n",
       "      <td>2019-07-30 22:20:50</td>\n",
       "      <td>simple_event</td>\n",
       "      <td>NaN</td>\n",
       "      <td>31</td>\n",
       "      <td>31</td>\n",
       "      <td>0</td>\n",
       "      <td>2019-07-29 00:02:15</td>\n",
       "    </tr>\n",
       "    <tr>\n",
       "      <th>3</th>\n",
       "      <td>c40e6a</td>\n",
       "      <td>2019-08-01 13:13:01</td>\n",
       "      <td>simple_event</td>\n",
       "      <td>NaN</td>\n",
       "      <td>31</td>\n",
       "      <td>31</td>\n",
       "      <td>0</td>\n",
       "      <td>2019-07-29 00:02:15</td>\n",
       "    </tr>\n",
       "    <tr>\n",
       "      <th>4</th>\n",
       "      <td>c40e6a</td>\n",
       "      <td>2019-08-02 11:19:11</td>\n",
       "      <td>simple_event</td>\n",
       "      <td>NaN</td>\n",
       "      <td>31</td>\n",
       "      <td>31</td>\n",
       "      <td>0</td>\n",
       "      <td>2019-07-29 00:02:15</td>\n",
       "    </tr>\n",
       "  </tbody>\n",
       "</table>\n",
       "</div>"
      ],
      "text/plain": [
       "  user_id          event_date  ... lifetime    first_visit_date\n",
       "0  c40e6a 2019-07-29 00:02:15  ...        0 2019-07-29 00:02:15\n",
       "1  c40e6a 2019-07-29 21:13:24  ...        0 2019-07-29 00:02:15\n",
       "2  c40e6a 2019-07-30 22:20:50  ...        0 2019-07-29 00:02:15\n",
       "3  c40e6a 2019-08-01 13:13:01  ...        0 2019-07-29 00:02:15\n",
       "4  c40e6a 2019-08-02 11:19:11  ...        0 2019-07-29 00:02:15\n",
       "\n",
       "[5 rows x 8 columns]"
      ]
     },
     "execution_count": 21,
     "metadata": {
      "tags": []
     },
     "output_type": "execute_result"
    }
   ],
   "source": [
    "# first visit date\n",
    "first_visit = event_df.groupby('user_id')['event_date'].min()\n",
    "# set column name\n",
    "first_visit = first_visit.to_frame('first_visit_date')\n",
    "# add new column to dataset\n",
    "event_df = pd.merge(event_df, first_visit, on='user_id')\n",
    "event_df.head()"
   ]
  },
  {
   "cell_type": "code",
   "execution_count": 0,
   "metadata": {
    "colab": {
     "base_uri": "https://localhost:8080/",
     "height": 204
    },
    "colab_type": "code",
    "id": "uf8sKjaRdj_Z",
    "outputId": "7567f41a-1029-47cd-8016-5413cb3522da"
   },
   "outputs": [
    {
     "data": {
      "text/html": [
       "<div>\n",
       "<style scoped>\n",
       "    .dataframe tbody tr th:only-of-type {\n",
       "        vertical-align: middle;\n",
       "    }\n",
       "\n",
       "    .dataframe tbody tr th {\n",
       "        vertical-align: top;\n",
       "    }\n",
       "\n",
       "    .dataframe thead th {\n",
       "        text-align: right;\n",
       "    }\n",
       "</style>\n",
       "<table border=\"1\" class=\"dataframe\">\n",
       "  <thead>\n",
       "    <tr style=\"text-align: right;\">\n",
       "      <th></th>\n",
       "      <th>user_id</th>\n",
       "      <th>event_date</th>\n",
       "      <th>event_type</th>\n",
       "      <th>purchase_amount</th>\n",
       "      <th>cohort_id</th>\n",
       "      <th>first_visit</th>\n",
       "      <th>lifetime</th>\n",
       "      <th>first_visit_date</th>\n",
       "      <th>first_purchase_date</th>\n",
       "    </tr>\n",
       "  </thead>\n",
       "  <tbody>\n",
       "    <tr>\n",
       "      <th>0</th>\n",
       "      <td>c40e6a</td>\n",
       "      <td>2019-07-29 00:02:15</td>\n",
       "      <td>registration</td>\n",
       "      <td>NaN</td>\n",
       "      <td>31</td>\n",
       "      <td>31</td>\n",
       "      <td>0</td>\n",
       "      <td>2019-07-29 00:02:15</td>\n",
       "      <td>2019-08-10 11:40:06</td>\n",
       "    </tr>\n",
       "    <tr>\n",
       "      <th>1</th>\n",
       "      <td>c40e6a</td>\n",
       "      <td>2019-07-29 21:13:24</td>\n",
       "      <td>simple_event</td>\n",
       "      <td>NaN</td>\n",
       "      <td>31</td>\n",
       "      <td>31</td>\n",
       "      <td>0</td>\n",
       "      <td>2019-07-29 00:02:15</td>\n",
       "      <td>2019-08-10 11:40:06</td>\n",
       "    </tr>\n",
       "    <tr>\n",
       "      <th>2</th>\n",
       "      <td>c40e6a</td>\n",
       "      <td>2019-07-30 22:20:50</td>\n",
       "      <td>simple_event</td>\n",
       "      <td>NaN</td>\n",
       "      <td>31</td>\n",
       "      <td>31</td>\n",
       "      <td>0</td>\n",
       "      <td>2019-07-29 00:02:15</td>\n",
       "      <td>2019-08-10 11:40:06</td>\n",
       "    </tr>\n",
       "    <tr>\n",
       "      <th>3</th>\n",
       "      <td>c40e6a</td>\n",
       "      <td>2019-08-01 13:13:01</td>\n",
       "      <td>simple_event</td>\n",
       "      <td>NaN</td>\n",
       "      <td>31</td>\n",
       "      <td>31</td>\n",
       "      <td>0</td>\n",
       "      <td>2019-07-29 00:02:15</td>\n",
       "      <td>2019-08-10 11:40:06</td>\n",
       "    </tr>\n",
       "    <tr>\n",
       "      <th>4</th>\n",
       "      <td>c40e6a</td>\n",
       "      <td>2019-08-02 11:19:11</td>\n",
       "      <td>simple_event</td>\n",
       "      <td>NaN</td>\n",
       "      <td>31</td>\n",
       "      <td>31</td>\n",
       "      <td>0</td>\n",
       "      <td>2019-07-29 00:02:15</td>\n",
       "      <td>2019-08-10 11:40:06</td>\n",
       "    </tr>\n",
       "  </tbody>\n",
       "</table>\n",
       "</div>"
      ],
      "text/plain": [
       "  user_id          event_date  ...    first_visit_date  first_purchase_date\n",
       "0  c40e6a 2019-07-29 00:02:15  ... 2019-07-29 00:02:15  2019-08-10 11:40:06\n",
       "1  c40e6a 2019-07-29 21:13:24  ... 2019-07-29 00:02:15  2019-08-10 11:40:06\n",
       "2  c40e6a 2019-07-30 22:20:50  ... 2019-07-29 00:02:15  2019-08-10 11:40:06\n",
       "3  c40e6a 2019-08-01 13:13:01  ... 2019-07-29 00:02:15  2019-08-10 11:40:06\n",
       "4  c40e6a 2019-08-02 11:19:11  ... 2019-07-29 00:02:15  2019-08-10 11:40:06\n",
       "\n",
       "[5 rows x 9 columns]"
      ]
     },
     "execution_count": 22,
     "metadata": {
      "tags": []
     },
     "output_type": "execute_result"
    }
   ],
   "source": [
    "#first purchse date\n",
    "first_purchase = event_df[event_df['purchase_amount'] > 0].groupby('user_id')['event_date'].first()\n",
    "# set column name\n",
    "first_purchase = first_purchase.to_frame('first_purchase_date')\n",
    "# add new column to dataset\n",
    "event_df = pd.merge(event_df, first_purchase, on='user_id')\n",
    "event_df.head()"
   ]
  },
  {
   "cell_type": "code",
   "execution_count": 0,
   "metadata": {
    "colab": {
     "base_uri": "https://localhost:8080/",
     "height": 34
    },
    "colab_type": "code",
    "id": "7DvP_1whfclx",
    "outputId": "69fd293b-46fa-4a93-eee6-f9ef3718f050"
   },
   "outputs": [
    {
     "data": {
      "text/plain": [
       "516788"
      ]
     },
     "execution_count": 23,
     "metadata": {
      "tags": []
     },
     "output_type": "execute_result"
    }
   ],
   "source": [
    "# compute differense\n",
    "diff = event_df['first_purchase_date'] - event_df['first_visit_date']\n",
    "# convert difference to seconds and compute median\n",
    "median_diff = int(diff.dt.total_seconds().median())\n",
    "median_diff"
   ]
  },
  {
   "cell_type": "markdown",
   "metadata": {
    "colab_type": "text",
    "id": "nX9Q-NQVkJgM"
   },
   "source": [
    "## Please indicate how long it took you to complete this task.\n",
    "**~ 2.5h**"
   ]
  },
  {
   "cell_type": "markdown",
   "metadata": {
    "colab_type": "text",
    "id": "2mr_vC1S7VY2"
   },
   "source": [
    "# Task 4.\n",
    "### You are given two random variables X and Y.\n",
    "### E(X) = 0.5, Var(X) = 2\n",
    "### E(Y) = 7, Var(Y) = 3.5\n",
    "### cov (X, Y) = -0.8\n",
    "### Find the variance of the random variable Z = 2X - 3Y"
   ]
  },
  {
   "cell_type": "markdown",
   "metadata": {
    "colab_type": "text",
    "id": "vel-gCxZ7ew1"
   },
   "source": [
    "## **Solution:**\n",
    "Var[X + Y] = E[(X + Y - E[X + Y])^2] = E[((X - E[X]) + (Y - E[Y]))^2] = \n",
    "= E[(X - E[X])^2 + (Y - E[Y])^2 + 2 * (X - E[X])* (Y - E[Y])] = \n",
    "\n",
    "= Var[X] + Var[Y] + 2 * cov(X,Y)\n",
    "\n",
    "Recall that: Var[aX] = a^2 * Var[X] and cov(aX,bY) = a * b * cov(X,Y)\n",
    "\n",
    "Var[2X-3Y] = Var[2X] + Var[-3Y] + cov(2X,-3Y) = 4 * Var[X] + 9 * Var[Y] -  2 *  2 * 3 * cov(X,Y) = 4 * 2 + 9 * 3.5 - 12 * (- 0.8) = 49.1\n",
    "\n",
    "**Answer: 49.1**"
   ]
  },
  {
   "cell_type": "markdown",
   "metadata": {
    "colab_type": "text",
    "id": "wI09IZoQC7GG"
   },
   "source": [
    "# Task 5.\n",
    "Omer trained a linear regression model and tested its performance on a test sample of 500\n",
    "objects. On 400 of those, the model returned a prediction higher than expected by 0.5, and on\n",
    "the remaining 100, the model returned a prediction lower than expected by 0.7.\n",
    "What is the MSE for his model?\n",
    "Limor claims that the linear regression model wasn't trained correctly, and we can do improve it\n",
    "by changing all the answers by a constant value. What will be her MSE?\n",
    "You can assume that Limor found the smallest error under her constraints.\n",
    "Return two values - Omer's and Limor's MSE."
   ]
  },
  {
   "cell_type": "markdown",
   "metadata": {
    "colab_type": "text",
    "id": "VqGNZdjlSX5f"
   },
   "source": [
    "## **Solution:**\n",
    "MSE(Omer) = 1/500 * ( 400 * (0.5)^2 + 100 * (0.7)^2) = 1/500 * 149 = 0.298\n",
    "\n",
    "MSE(Limor) = 1/500 * ( 400 * (0.5 + c)^2 + 100 * (0.7 + c)^2)\n",
    "\n",
    "Let's find c tham minimize MSE(Limor):\n",
    "\n",
    "2 * 400 * (0.5 + c) + 2 * 100 * (0.7 + c) = 0\n",
    "\n",
    "400 + 800 * c + 140 + 200 * c = 0\n",
    "\n",
    "c = - 0.54\n",
    "\n",
    "MSE(Limor) = 1/500 * ( 400 * (0.5 - 0.54)^2 + 100 * (0.7 - 0.54)^2) = \n",
    "1/500 * 3.2 = 0.0064\n",
    "\n",
    "**Answer: MSE(Omer) = 0.298, MSE(Limor) = 0.0064**"
   ]
  }
 ],
 "metadata": {
  "colab": {
   "collapsed_sections": [],
   "name": "tasks_1_2_4_5_den_s.ipynb",
   "provenance": []
  },
  "kernelspec": {
   "display_name": "Python 3",
   "language": "python",
   "name": "python3"
  },
  "language_info": {
   "codemirror_mode": {
    "name": "ipython",
    "version": 3
   },
   "file_extension": ".py",
   "mimetype": "text/x-python",
   "name": "python",
   "nbconvert_exporter": "python",
   "pygments_lexer": "ipython3",
   "version": "3.7.4"
  }
 },
 "nbformat": 4,
 "nbformat_minor": 1
}
